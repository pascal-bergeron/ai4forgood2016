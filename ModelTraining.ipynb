{
  "nbformat": 4,
  "nbformat_minor": 0,
  "metadata": {
    "colab": {
      "name": "ModelTraining.ipynb",
      "provenance": [],
      "authorship_tag": "ABX9TyMrDl2/2q4Ghde355Roei4N",
      "include_colab_link": true
    },
    "kernelspec": {
      "name": "python3",
      "display_name": "Python 3"
    }
  },
  "cells": [
    {
      "cell_type": "markdown",
      "metadata": {
        "id": "view-in-github",
        "colab_type": "text"
      },
      "source": [
        "<a href=\"https://colab.research.google.com/github/pascal-bergeron/ai4forgood2016/blob/main/ModelTraining.ipynb\" target=\"_parent\"><img src=\"https://colab.research.google.com/assets/colab-badge.svg\" alt=\"Open In Colab\"/></a>"
      ]
    },
    {
      "cell_type": "code",
      "metadata": {
        "id": "pSu40SpuKeBx"
      },
      "source": [
        "import pandas as pd\n",
        "import numpy as np\n",
        "from google.colab import drive\n",
        "\n"
      ],
      "execution_count": 3,
      "outputs": []
    },
    {
      "cell_type": "code",
      "metadata": {
        "id": "y_iXCQOjKlYw",
        "outputId": "913762ff-1967-42b1-e870-c0e87ab58fcc",
        "colab": {
          "base_uri": "https://localhost:8080/"
        }
      },
      "source": [
        "drive.mount('/content/drive/')"
      ],
      "execution_count": 4,
      "outputs": [
        {
          "output_type": "stream",
          "text": [
            "Mounted at /content/drive/\n"
          ],
          "name": "stdout"
        }
      ]
    },
    {
      "cell_type": "code",
      "metadata": {
        "id": "_Mz6pxbELBPJ"
      },
      "source": [
        "cp 'drive/My Drive/Projects/AIForGood2020/features.json' ."
      ],
      "execution_count": 5,
      "outputs": []
    },
    {
      "cell_type": "code",
      "metadata": {
        "id": "wuR0zp7FLIHJ"
      },
      "source": [
        "features = pd.read_json('features.json')"
      ],
      "execution_count": 6,
      "outputs": []
    },
    {
      "cell_type": "code",
      "metadata": {
        "id": "XZ9UQ3RaLPv6",
        "outputId": "745c82f9-23f0-46a3-b505-654e829da91b",
        "colab": {
          "base_uri": "https://localhost:8080/",
          "height": 419
        }
      },
      "source": [
        "features"
      ],
      "execution_count": 7,
      "outputs": [
        {
          "output_type": "execute_result",
          "data": {
            "text/html": [
              "<div>\n",
              "<style scoped>\n",
              "    .dataframe tbody tr th:only-of-type {\n",
              "        vertical-align: middle;\n",
              "    }\n",
              "\n",
              "    .dataframe tbody tr th {\n",
              "        vertical-align: top;\n",
              "    }\n",
              "\n",
              "    .dataframe thead th {\n",
              "        text-align: right;\n",
              "    }\n",
              "</style>\n",
              "<table border=\"1\" class=\"dataframe\">\n",
              "  <thead>\n",
              "    <tr style=\"text-align: right;\">\n",
              "      <th></th>\n",
              "      <th>ResourceAgencyNum</th>\n",
              "      <th>StateProvince</th>\n",
              "      <th>Code postal court</th>\n",
              "      <th>Municipalité_Code</th>\n",
              "      <th>Âge</th>\n",
              "      <th>Genre</th>\n",
              "      <th>Mode De Communication</th>\n",
              "      <th>level2_needs</th>\n",
              "    </tr>\n",
              "  </thead>\n",
              "  <tbody>\n",
              "    <tr>\n",
              "      <th>1971-08-23 14:32:34</th>\n",
              "      <td>[18760351, 18762550]</td>\n",
              "      <td>QC</td>\n",
              "      <td>H1T</td>\n",
              "      <td>66213</td>\n",
              "      <td>35</td>\n",
              "      <td>Homme</td>\n",
              "      <td>Appels</td>\n",
              "      <td>[BD]</td>\n",
              "    </tr>\n",
              "    <tr>\n",
              "      <th>1971-08-23 14:39:37</th>\n",
              "      <td>[18763063, 18761510, 18765819, 18765819]</td>\n",
              "      <td>QC</td>\n",
              "      <td>H1J</td>\n",
              "      <td>66201</td>\n",
              "      <td>40</td>\n",
              "      <td>Homme</td>\n",
              "      <td>Appels</td>\n",
              "      <td>[BD, BD]</td>\n",
              "    </tr>\n",
              "    <tr>\n",
              "      <th>1971-08-23 15:00:33</th>\n",
              "      <td>[18762080, 18763449, 18765728]</td>\n",
              "      <td>QC</td>\n",
              "      <td>H4N</td>\n",
              "      <td>66214</td>\n",
              "      <td>50</td>\n",
              "      <td>Homme</td>\n",
              "      <td>Appels</td>\n",
              "      <td>[PS, TC, PL]</td>\n",
              "    </tr>\n",
              "    <tr>\n",
              "      <th>1971-08-23 18:54:40</th>\n",
              "      <td>[18767637, 18767637, 18767637, 18766010, 18765...</td>\n",
              "      <td>QC</td>\n",
              "      <td>H2X</td>\n",
              "      <td>66205</td>\n",
              "      <td>30</td>\n",
              "      <td>Homme</td>\n",
              "      <td>Appels</td>\n",
              "      <td>[BH, BH, BH]</td>\n",
              "    </tr>\n",
              "    <tr>\n",
              "      <th>1971-08-23 18:56:01</th>\n",
              "      <td>[34458497, 34766952, 34025281]</td>\n",
              "      <td>QC</td>\n",
              "      <td>H7N</td>\n",
              "      <td>65105</td>\n",
              "      <td>88</td>\n",
              "      <td>Femme</td>\n",
              "      <td>Appels</td>\n",
              "      <td>[DT]</td>\n",
              "    </tr>\n",
              "    <tr>\n",
              "      <th>...</th>\n",
              "      <td>...</td>\n",
              "      <td>...</td>\n",
              "      <td>...</td>\n",
              "      <td>...</td>\n",
              "      <td>...</td>\n",
              "      <td>...</td>\n",
              "      <td>...</td>\n",
              "      <td>...</td>\n",
              "    </tr>\n",
              "    <tr>\n",
              "      <th>1972-06-23 10:05:54</th>\n",
              "      <td>[18761799, 18760242, 18761005]</td>\n",
              "      <td>QC</td>\n",
              "      <td>J4J</td>\n",
              "      <td>58227</td>\n",
              "      <td>30</td>\n",
              "      <td>Homme</td>\n",
              "      <td>Appels</td>\n",
              "      <td>[BH]</td>\n",
              "    </tr>\n",
              "    <tr>\n",
              "      <th>1972-06-23 10:18:36</th>\n",
              "      <td>[18760559, 18760047, 18765786]</td>\n",
              "      <td>QC</td>\n",
              "      <td>H1N</td>\n",
              "      <td>66208</td>\n",
              "      <td>72</td>\n",
              "      <td>Femme</td>\n",
              "      <td>Appels</td>\n",
              "      <td>[BD, BD, BD]</td>\n",
              "    </tr>\n",
              "    <tr>\n",
              "      <th>1972-06-23 10:43:10</th>\n",
              "      <td>[18764548]</td>\n",
              "      <td>QC</td>\n",
              "      <td>J3L</td>\n",
              "      <td>57005</td>\n",
              "      <td>2</td>\n",
              "      <td>Femme</td>\n",
              "      <td>Appels</td>\n",
              "      <td>[TJ]</td>\n",
              "    </tr>\n",
              "    <tr>\n",
              "      <th>1972-06-23 11:09:22</th>\n",
              "      <td>[23968841, 47514235, 18761245]</td>\n",
              "      <td>QC</td>\n",
              "      <td>H7N</td>\n",
              "      <td>65105</td>\n",
              "      <td>85</td>\n",
              "      <td>Femme</td>\n",
              "      <td>Appels</td>\n",
              "      <td>[TI]</td>\n",
              "    </tr>\n",
              "    <tr>\n",
              "      <th>1972-06-23 11:14:05</th>\n",
              "      <td>[18762631, 18762631, 18762631, 18760262, 18762...</td>\n",
              "      <td>QC</td>\n",
              "      <td>J4Y</td>\n",
              "      <td>58007</td>\n",
              "      <td>4</td>\n",
              "      <td>Homme</td>\n",
              "      <td>Appels</td>\n",
              "      <td>[NL, PH, PH, PH]</td>\n",
              "    </tr>\n",
              "  </tbody>\n",
              "</table>\n",
              "<p>65245 rows × 8 columns</p>\n",
              "</div>"
            ],
            "text/plain": [
              "                                                     ResourceAgencyNum  ...      level2_needs\n",
              "1971-08-23 14:32:34                               [18760351, 18762550]  ...              [BD]\n",
              "1971-08-23 14:39:37           [18763063, 18761510, 18765819, 18765819]  ...          [BD, BD]\n",
              "1971-08-23 15:00:33                     [18762080, 18763449, 18765728]  ...      [PS, TC, PL]\n",
              "1971-08-23 18:54:40  [18767637, 18767637, 18767637, 18766010, 18765...  ...      [BH, BH, BH]\n",
              "1971-08-23 18:56:01                     [34458497, 34766952, 34025281]  ...              [DT]\n",
              "...                                                                ...  ...               ...\n",
              "1972-06-23 10:05:54                     [18761799, 18760242, 18761005]  ...              [BH]\n",
              "1972-06-23 10:18:36                     [18760559, 18760047, 18765786]  ...      [BD, BD, BD]\n",
              "1972-06-23 10:43:10                                         [18764548]  ...              [TJ]\n",
              "1972-06-23 11:09:22                     [23968841, 47514235, 18761245]  ...              [TI]\n",
              "1972-06-23 11:14:05  [18762631, 18762631, 18762631, 18760262, 18762...  ...  [NL, PH, PH, PH]\n",
              "\n",
              "[65245 rows x 8 columns]"
            ]
          },
          "metadata": {
            "tags": []
          },
          "execution_count": 7
        }
      ]
    },
    {
      "cell_type": "markdown",
      "metadata": {
        "id": "yjlI4tAgMDxD"
      },
      "source": [
        "# Features preprocessing"
      ]
    },
    {
      "cell_type": "code",
      "metadata": {
        "id": "X4vM-OjcKjZ5"
      },
      "source": [
        "from sklearn.preprocessing import MultiLabelBinarizer"
      ],
      "execution_count": 8,
      "outputs": []
    },
    {
      "cell_type": "code",
      "metadata": {
        "id": "BUCFdOkKLexV"
      },
      "source": [
        "y = MultiLabelBinarizer().fit_transform(features.iloc[:,0])"
      ],
      "execution_count": 9,
      "outputs": []
    },
    {
      "cell_type": "code",
      "metadata": {
        "id": "SvPXSqzaLfwS",
        "outputId": "a01d66c0-4d1d-4031-ad4d-5645195f1a09",
        "colab": {
          "base_uri": "https://localhost:8080/"
        }
      },
      "source": [
        "print(y.shape)\n",
        "y"
      ],
      "execution_count": 10,
      "outputs": [
        {
          "output_type": "stream",
          "text": [
            "(65245, 4396)\n"
          ],
          "name": "stdout"
        },
        {
          "output_type": "execute_result",
          "data": {
            "text/plain": [
              "array([[0, 0, 0, ..., 0, 0, 0],\n",
              "       [0, 0, 0, ..., 0, 0, 0],\n",
              "       [0, 0, 0, ..., 0, 0, 0],\n",
              "       ...,\n",
              "       [0, 0, 0, ..., 0, 0, 0],\n",
              "       [0, 0, 0, ..., 0, 0, 0],\n",
              "       [0, 0, 0, ..., 0, 0, 0]])"
            ]
          },
          "metadata": {
            "tags": []
          },
          "execution_count": 10
        }
      ]
    },
    {
      "cell_type": "code",
      "metadata": {
        "id": "9s8N4LQhLiqx"
      },
      "source": [
        "from sklearn.preprocessing import OneHotEncoder\n",
        "enc = OneHotEncoder(handle_unknown='ignore')"
      ],
      "execution_count": 11,
      "outputs": []
    },
    {
      "cell_type": "code",
      "metadata": {
        "id": "KeehaL3bLlMZ"
      },
      "source": [
        "categorical_features = features[['StateProvince','Code postal court', 'Genre',\t'Mode De Communication']]"
      ],
      "execution_count": 12,
      "outputs": []
    },
    {
      "cell_type": "code",
      "metadata": {
        "id": "W7vRWRmrLrbQ",
        "outputId": "009827f2-bb18-44da-b7ca-542bbd728c2c",
        "colab": {
          "base_uri": "https://localhost:8080/"
        }
      },
      "source": [
        "enc.fit(categorical_features)"
      ],
      "execution_count": 13,
      "outputs": [
        {
          "output_type": "execute_result",
          "data": {
            "text/plain": [
              "OneHotEncoder(categories='auto', drop=None, dtype=<class 'numpy.float64'>,\n",
              "              handle_unknown='ignore', sparse=True)"
            ]
          },
          "metadata": {
            "tags": []
          },
          "execution_count": 13
        }
      ]
    },
    {
      "cell_type": "code",
      "metadata": {
        "id": "rqIkdpDvLv4Z",
        "outputId": "c24f3b28-6119-4704-c887-bb6162375ddf",
        "colab": {
          "base_uri": "https://localhost:8080/"
        }
      },
      "source": [
        "enc.categories_"
      ],
      "execution_count": 14,
      "outputs": [
        {
          "output_type": "execute_result",
          "data": {
            "text/plain": [
              "[array(['BC', 'ON', 'QC'], dtype=object),\n",
              " array(['G0A', 'G0C', 'G0L', 'G0M', 'G0R', 'G0S', 'G0V', 'G1C', 'G1E',\n",
              "        'G1H', 'G1J', 'G1K', 'G1L', 'G1M', 'G1N', 'G1P', 'G1R', 'G1S',\n",
              "        'G1T', 'G1V', 'G1W', 'G1X', 'G1Y', 'G2A', 'G2B', 'G2G', 'G2J',\n",
              "        'G2K', 'G2M', 'G3B', 'G3J', 'G3M', 'G3N', 'G4V', 'G4Z', 'G5A',\n",
              "        'G5L', 'G5R', 'G5V', 'G5Y', 'G6E', 'G6G', 'G6H', 'G6P', 'G6T',\n",
              "        'G6V', 'G7S', 'G7X', 'G8L', 'G8Y', 'G9A', 'G9H', 'G9N', 'G9P',\n",
              "        'H1A', 'H1B', 'H1C', 'H1E', 'H1G', 'H1H', 'H1J', 'H1K', 'H1L',\n",
              "        'H1M', 'H1N', 'H1P', 'H1R', 'H1S', 'H1T', 'H1V', 'H1W', 'H1X',\n",
              "        'H1Y', 'H1Z', 'H2A', 'H2B', 'H2C', 'H2E', 'H2G', 'H2H', 'H2J',\n",
              "        'H2K', 'H2L', 'H2M', 'H2N', 'H2P', 'H2R', 'H2S', 'H2T', 'H2V',\n",
              "        'H2W', 'H2X', 'H2Y', 'H2Z', 'H3A', 'H3B', 'H3C', 'H3E', 'H3G',\n",
              "        'H3H', 'H3J', 'H3K', 'H3L', 'H3M', 'H3N', 'H3P', 'H3R', 'H3S',\n",
              "        'H3T', 'H3V', 'H3W', 'H3X', 'H3Y', 'H3Z', 'H4A', 'H4B', 'H4C',\n",
              "        'H4E', 'H4G', 'H4H', 'H4J', 'H4K', 'H4L', 'H4M', 'H4N', 'H4P',\n",
              "        'H4R', 'H4S', 'H4T', 'H4V', 'H4W', 'H4X', 'H4Y', 'H4Z', 'H5B',\n",
              "        'H7A', 'H7B', 'H7C', 'H7E', 'H7G', 'H7H', 'H7J', 'H7K', 'H7L',\n",
              "        'H7M', 'H7N', 'H7P', 'H7R', 'H7S', 'H7T', 'H7V', 'H7W', 'H7X',\n",
              "        'H7Y', 'H8N', 'H8P', 'H8R', 'H8S', 'H8T', 'H8Y', 'H8Z', 'H9A',\n",
              "        'H9B', 'H9C', 'H9E', 'H9G', 'H9H', 'H9J', 'H9K', 'H9P', 'H9R',\n",
              "        'H9S', 'H9W', 'H9X', 'J0B', 'J0E', 'J0G', 'J0H', 'J0J', 'J0K',\n",
              "        'J0L', 'J0M', 'J0N', 'J0P', 'J0R', 'J0S', 'J0T', 'J0V', 'J0W',\n",
              "        'J0X', 'J0Y', 'J0Z', 'J1G', 'J1H', 'J1K', 'J1N', 'J2B', 'J2C',\n",
              "        'J2G', 'J2K', 'J2L', 'J2M', 'J2N', 'J2S', 'J2T', 'J2W', 'J2X',\n",
              "        'J3A', 'J3B', 'J3E', 'J3G', 'J3H', 'J3L', 'J3M', 'J3N', 'J3P',\n",
              "        'J3R', 'J3T', 'J3V', 'J3X', 'J3Y', 'J3Z', 'J4B', 'J4G', 'J4H',\n",
              "        'J4J', 'J4K', 'J4L', 'J4M', 'J4N', 'J4P', 'J4R', 'J4S', 'J4T',\n",
              "        'J4V', 'J4W', 'J4X', 'J4Y', 'J4Z', 'J5A', 'J5B', 'J5C', 'J5J',\n",
              "        'J5K', 'J5L', 'J5M', 'J5R', 'J5T', 'J5W', 'J5X', 'J5Y', 'J5Z',\n",
              "        'J6A', 'J6E', 'J6J', 'J6K', 'J6N', 'J6R', 'J6S', 'J6T', 'J6V',\n",
              "        'J6W', 'J6X', 'J6Y', 'J6Z', 'J7A', 'J7B', 'J7C', 'J7E', 'J7G',\n",
              "        'J7H', 'J7J', 'J7K', 'J7L', 'J7M', 'J7N', 'J7P', 'J7R', 'J7T',\n",
              "        'J7V', 'J7W', 'J7X', 'J7Y', 'J7Z', 'J8A', 'J8B', 'J8C', 'J8E',\n",
              "        'J8H', 'J8M', 'J8N', 'J8P', 'J8R', 'J8T', 'J9H', 'J9P', 'J9T',\n",
              "        'L7E', 'N9A', 'V6X'], dtype=object),\n",
              " array(['Autre', 'Femme', 'Homme'], dtype=object),\n",
              " array(['Appels', 'Courriels', 'Entrevues / Office interviews',\n",
              "        'Lettres - Fax / Letters - Fax'], dtype=object)]"
            ]
          },
          "metadata": {
            "tags": []
          },
          "execution_count": 14
        }
      ]
    },
    {
      "cell_type": "code",
      "metadata": {
        "id": "KdVCA1whL0xB"
      },
      "source": [
        "X = enc.transform(categorical_features)"
      ],
      "execution_count": 15,
      "outputs": []
    },
    {
      "cell_type": "code",
      "metadata": {
        "id": "-z5BMENGL4JQ"
      },
      "source": [
        "from sklearn.model_selection import train_test_split\n",
        "X_train, X_test, y_train, y_test = train_test_split(X, y, test_size=0.33, random_state=42)"
      ],
      "execution_count": 16,
      "outputs": []
    },
    {
      "cell_type": "markdown",
      "metadata": {
        "id": "hXeFajCPMMAC"
      },
      "source": [
        "# K nearest neighbor classification"
      ]
    },
    {
      "cell_type": "code",
      "metadata": {
        "id": "bVgh3e93L8Qp"
      },
      "source": [
        "from sklearn.neighbors import KNeighborsClassifier\n",
        "kc.fit(X_train, y_train)\n",
        "# kc_predictions = kc.predict(X_test)"
      ],
      "execution_count": null,
      "outputs": []
    },
    {
      "cell_type": "markdown",
      "metadata": {
        "id": "ECgCLsBnMTlE"
      },
      "source": [
        "# Decision Trees"
      ]
    },
    {
      "cell_type": "code",
      "metadata": {
        "id": "uoWujdBEMWmR"
      },
      "source": [
        "from sklearn.tree import DecisionTreeClassifier"
      ],
      "execution_count": 18,
      "outputs": []
    },
    {
      "cell_type": "code",
      "metadata": {
        "id": "AX683YYuMn6B"
      },
      "source": [
        "classifier = DecisionTreeClassifier()"
      ],
      "execution_count": 19,
      "outputs": []
    },
    {
      "cell_type": "code",
      "metadata": {
        "id": "QREpiuiuMtKs"
      },
      "source": [
        "classifier.fit(X_train, y_train)"
      ],
      "execution_count": null,
      "outputs": []
    }
  ]
}