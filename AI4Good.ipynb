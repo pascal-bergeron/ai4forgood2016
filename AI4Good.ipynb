{
  "nbformat": 4,
  "nbformat_minor": 0,
  "metadata": {
    "colab": {
      "name": "AI4Good.ipynb",
      "provenance": [],
      "authorship_tag": "ABX9TyNIswRtGxvI3dFAOmsw1QR5",
      "include_colab_link": true
    },
    "kernelspec": {
      "name": "python3",
      "display_name": "Python 3"
    }
  },
  "cells": [
    {
      "cell_type": "markdown",
      "metadata": {
        "id": "view-in-github",
        "colab_type": "text"
      },
      "source": [
        "<a href=\"https://colab.research.google.com/github/pascal-bergeron/ai4forgood2016/blob/main/AI4Good.ipynb\" target=\"_parent\"><img src=\"https://colab.research.google.com/assets/colab-badge.svg\" alt=\"Open In Colab\"/></a>"
      ]
    },
    {
      "cell_type": "code",
      "metadata": {
        "id": "8riN9GCDOUuh"
      },
      "source": [
        "import pandas as pd\n",
        "import numpy as np"
      ],
      "execution_count": null,
      "outputs": []
    },
    {
      "cell_type": "code",
      "metadata": {
        "id": "or6ITCjKOcqr",
        "outputId": "77ea72df-b8d5-4e3d-ab27-c85fe364fdc6",
        "colab": {
          "base_uri": "https://localhost:8080/"
        }
      },
      "source": [
        "from google.colab import drive\n",
        "drive.mount('/content/drive/')"
      ],
      "execution_count": null,
      "outputs": [
        {
          "output_type": "stream",
          "text": [
            "Mounted at /content/drive/\n"
          ],
          "name": "stdout"
        }
      ]
    },
    {
      "cell_type": "code",
      "metadata": {
        "id": "e0pOLf1BOucZ"
      },
      "source": [
        "cp '/content/drive/My Drive/projects/AIForGood2020' . -r   "
      ],
      "execution_count": null,
      "outputs": []
    },
    {
      "cell_type": "code",
      "metadata": {
        "id": "Cg2f-hE6PHKf",
        "outputId": "72cb7bd9-ca48-42ac-9341-5630f4690d6b",
        "colab": {
          "base_uri": "https://localhost:8080/"
        }
      },
      "source": [
        "cd AIForGood2020/"
      ],
      "execution_count": null,
      "outputs": [
        {
          "output_type": "stream",
          "text": [
            "/content/drive/.shortcut-targets-by-id/192dLwBRwwmU3N6MwfW-KhVBUraQoLmTq/AIForGood2020\n"
          ],
          "name": "stdout"
        }
      ]
    },
    {
      "cell_type": "code",
      "metadata": {
        "id": "xKw1LAEbe7EW",
        "outputId": "7bca33b6-94a1-4bb8-f048-cb278718d602",
        "colab": {
          "base_uri": "https://localhost:8080/"
        }
      },
      "source": [
        "!unrar e -p*hack20 211GrandMontreal_DataPack.rar"
      ],
      "execution_count": null,
      "outputs": [
        {
          "output_type": "stream",
          "text": [
            "\n",
            "UNRAR 5.50 freeware      Copyright (c) 1993-2017 Alexander Roshal\n",
            "\n",
            "\n",
            "Extracting from 211GrandMontreal_DataPack.rar\n",
            "\n",
            "\n",
            "Would you like to replace the existing file Références.xlsx\n",
            "7966092 bytes, modified on 2020-11-14 16:00\n",
            "with a new one\n",
            "7966092 bytes, modified on 2020-09-04 16:05\n",
            "\n",
            "[Y]es, [N]o, [A]ll, n[E]ver, [R]ename, [Q]uit A\n",
            "\n",
            "Extracting  Références.xlsx                                              \b\b\b\b 14%\b\b\b\b 26%\b\b\b\b\b  OK \n",
            "Extracting  Appels.xlsx                                                  \b\b\b\b 37%\b\b\b\b\b  OK \n",
            "Extracting  Appels_Profil.xlsx                                           \b\b\b\b 47%\b\b\b\b\b  OK \n",
            "Extracting  BDorg_Contact.xlsx                                           \b\b\b\b 48%\b\b\b\b\b  OK \n",
            "Extracting  BDorg_Général.xlsx                                           \b\b\b\b 50%\b\b\b\b\b  OK \n",
            "Extracting  BDorg_information.xlsx                                       \b\b\b\b 54%\b\b\b\b\b  OK \n",
            "Extracting  BDorg_Localisation.xlsx                                      \b\b\b\b 55%\b\b\b\b\b  OK \n",
            "Extracting  BDorg_Taxonomies.xlsx                                        \b\b\b\b 58%\b\b\b\b\b  OK \n",
            "Extracting  BDorg_Territoire desservi.xlsx                               \b\b\b\b 58%\b\b\b\b\b  OK \n",
            "Extracting  Besoins.xlsx                                                 \b\b\b\b 72%\b\b\b\b 86%\b\b\b\b 99%\b\b\b\b\b  OK \n",
            "Extracting  Municipalités.xlsx                                           \b\b\b\b 99%\b\b\b\b\b  OK \n",
            "All OK\n"
          ],
          "name": "stdout"
        }
      ]
    },
    {
      "cell_type": "code",
      "metadata": {
        "id": "F4yHxlTFe7HM"
      },
      "source": [
        "appels = pd.read_excel('Appels.xlsx')"
      ],
      "execution_count": null,
      "outputs": []
    },
    {
      "cell_type": "code",
      "metadata": {
        "id": "AKwOPTJfe7LP",
        "outputId": "00dfee5b-8d39-4535-df7c-6dcf825ad5bf",
        "colab": {
          "base_uri": "https://localhost:8080/",
          "height": 204
        }
      },
      "source": [
        "appels.tail()"
      ],
      "execution_count": null,
      "outputs": [
        {
          "output_type": "execute_result",
          "data": {
            "text/html": [
              "<div>\n",
              "<style scoped>\n",
              "    .dataframe tbody tr th:only-of-type {\n",
              "        vertical-align: middle;\n",
              "    }\n",
              "\n",
              "    .dataframe tbody tr th {\n",
              "        vertical-align: top;\n",
              "    }\n",
              "\n",
              "    .dataframe thead th {\n",
              "        text-align: right;\n",
              "    }\n",
              "</style>\n",
              "<table border=\"1\" class=\"dataframe\">\n",
              "  <thead>\n",
              "    <tr style=\"text-align: right;\">\n",
              "      <th></th>\n",
              "      <th>CallReportNum</th>\n",
              "      <th>CallDateAndTimeStart</th>\n",
              "      <th>StateProvince</th>\n",
              "      <th>Heure</th>\n",
              "      <th>Code postal court</th>\n",
              "      <th>Municipalité_Code</th>\n",
              "    </tr>\n",
              "  </thead>\n",
              "  <tbody>\n",
              "    <tr>\n",
              "      <th>101607</th>\n",
              "      <td>78144190</td>\n",
              "      <td>2020-08-31</td>\n",
              "      <td>QC</td>\n",
              "      <td>17</td>\n",
              "      <td>J3L</td>\n",
              "      <td>57005.0</td>\n",
              "    </tr>\n",
              "    <tr>\n",
              "      <th>101608</th>\n",
              "      <td>78144749</td>\n",
              "      <td>2020-08-31</td>\n",
              "      <td>QC</td>\n",
              "      <td>17</td>\n",
              "      <td>NaN</td>\n",
              "      <td>66200.0</td>\n",
              "    </tr>\n",
              "    <tr>\n",
              "      <th>101609</th>\n",
              "      <td>78144910</td>\n",
              "      <td>2020-08-31</td>\n",
              "      <td>NaN</td>\n",
              "      <td>17</td>\n",
              "      <td>NaN</td>\n",
              "      <td>999999.0</td>\n",
              "    </tr>\n",
              "    <tr>\n",
              "      <th>101610</th>\n",
              "      <td>78145762</td>\n",
              "      <td>2020-08-31</td>\n",
              "      <td>QC</td>\n",
              "      <td>17</td>\n",
              "      <td>H7N</td>\n",
              "      <td>65105.0</td>\n",
              "    </tr>\n",
              "    <tr>\n",
              "      <th>101611</th>\n",
              "      <td>78146045</td>\n",
              "      <td>2020-08-31</td>\n",
              "      <td>QC</td>\n",
              "      <td>17</td>\n",
              "      <td>J4Y</td>\n",
              "      <td>58007.0</td>\n",
              "    </tr>\n",
              "  </tbody>\n",
              "</table>\n",
              "</div>"
            ],
            "text/plain": [
              "        CallReportNum CallDateAndTimeStart  ... Code postal court  Municipalité_Code\n",
              "101607       78144190           2020-08-31  ...               J3L            57005.0\n",
              "101608       78144749           2020-08-31  ...               NaN            66200.0\n",
              "101609       78144910           2020-08-31  ...               NaN           999999.0\n",
              "101610       78145762           2020-08-31  ...               H7N            65105.0\n",
              "101611       78146045           2020-08-31  ...               J4Y            58007.0\n",
              "\n",
              "[5 rows x 6 columns]"
            ]
          },
          "metadata": {
            "tags": []
          },
          "execution_count": 10
        }
      ]
    },
    {
      "cell_type": "code",
      "metadata": {
        "id": "JFIQ0z8HvVbj",
        "outputId": "5cbc0da5-c3cf-44d3-8526-02334a6691d4",
        "colab": {
          "base_uri": "https://localhost:8080/",
          "height": 419
        }
      },
      "source": [
        "import numpy\n",
        "numpy.delete(appels, numpy.s_[5:5], axis=1)  "
      ],
      "execution_count": null,
      "outputs": [
        {
          "output_type": "execute_result",
          "data": {
            "text/html": [
              "<div>\n",
              "<style scoped>\n",
              "    .dataframe tbody tr th:only-of-type {\n",
              "        vertical-align: middle;\n",
              "    }\n",
              "\n",
              "    .dataframe tbody tr th {\n",
              "        vertical-align: top;\n",
              "    }\n",
              "\n",
              "    .dataframe thead th {\n",
              "        text-align: right;\n",
              "    }\n",
              "</style>\n",
              "<table border=\"1\" class=\"dataframe\">\n",
              "  <thead>\n",
              "    <tr style=\"text-align: right;\">\n",
              "      <th></th>\n",
              "      <th>CallReportNum</th>\n",
              "      <th>CallDateAndTimeStart</th>\n",
              "      <th>StateProvince</th>\n",
              "      <th>Heure</th>\n",
              "      <th>Code postal court</th>\n",
              "      <th>Municipalité_Code</th>\n",
              "    </tr>\n",
              "  </thead>\n",
              "  <tbody>\n",
              "    <tr>\n",
              "      <th>0</th>\n",
              "      <td>51805319</td>\n",
              "      <td>2018-04-01</td>\n",
              "      <td>QC</td>\n",
              "      <td>10</td>\n",
              "      <td>NaN</td>\n",
              "      <td>999001</td>\n",
              "    </tr>\n",
              "    <tr>\n",
              "      <th>1</th>\n",
              "      <td>51805954</td>\n",
              "      <td>2018-04-01</td>\n",
              "      <td>QC</td>\n",
              "      <td>11</td>\n",
              "      <td>H1T</td>\n",
              "      <td>66213</td>\n",
              "    </tr>\n",
              "    <tr>\n",
              "      <th>2</th>\n",
              "      <td>51806285</td>\n",
              "      <td>2018-04-01</td>\n",
              "      <td>QC</td>\n",
              "      <td>12</td>\n",
              "      <td>NaN</td>\n",
              "      <td>66023</td>\n",
              "    </tr>\n",
              "    <tr>\n",
              "      <th>3</th>\n",
              "      <td>51806377</td>\n",
              "      <td>2018-04-01</td>\n",
              "      <td>QC</td>\n",
              "      <td>12</td>\n",
              "      <td>H1J</td>\n",
              "      <td>66201</td>\n",
              "    </tr>\n",
              "    <tr>\n",
              "      <th>4</th>\n",
              "      <td>51806428</td>\n",
              "      <td>2018-04-01</td>\n",
              "      <td>QC</td>\n",
              "      <td>12</td>\n",
              "      <td>H2K</td>\n",
              "      <td>66217</td>\n",
              "    </tr>\n",
              "    <tr>\n",
              "      <th>...</th>\n",
              "      <td>...</td>\n",
              "      <td>...</td>\n",
              "      <td>...</td>\n",
              "      <td>...</td>\n",
              "      <td>...</td>\n",
              "      <td>...</td>\n",
              "    </tr>\n",
              "    <tr>\n",
              "      <th>101607</th>\n",
              "      <td>78144190</td>\n",
              "      <td>2020-08-31</td>\n",
              "      <td>QC</td>\n",
              "      <td>17</td>\n",
              "      <td>J3L</td>\n",
              "      <td>57005</td>\n",
              "    </tr>\n",
              "    <tr>\n",
              "      <th>101608</th>\n",
              "      <td>78144749</td>\n",
              "      <td>2020-08-31</td>\n",
              "      <td>QC</td>\n",
              "      <td>17</td>\n",
              "      <td>NaN</td>\n",
              "      <td>66200</td>\n",
              "    </tr>\n",
              "    <tr>\n",
              "      <th>101609</th>\n",
              "      <td>78144910</td>\n",
              "      <td>2020-08-31</td>\n",
              "      <td>NaN</td>\n",
              "      <td>17</td>\n",
              "      <td>NaN</td>\n",
              "      <td>999999</td>\n",
              "    </tr>\n",
              "    <tr>\n",
              "      <th>101610</th>\n",
              "      <td>78145762</td>\n",
              "      <td>2020-08-31</td>\n",
              "      <td>QC</td>\n",
              "      <td>17</td>\n",
              "      <td>H7N</td>\n",
              "      <td>65105</td>\n",
              "    </tr>\n",
              "    <tr>\n",
              "      <th>101611</th>\n",
              "      <td>78146045</td>\n",
              "      <td>2020-08-31</td>\n",
              "      <td>QC</td>\n",
              "      <td>17</td>\n",
              "      <td>J4Y</td>\n",
              "      <td>58007</td>\n",
              "    </tr>\n",
              "  </tbody>\n",
              "</table>\n",
              "<p>101612 rows × 6 columns</p>\n",
              "</div>"
            ],
            "text/plain": [
              "       CallReportNum CallDateAndTimeStart  ... Code postal court Municipalité_Code\n",
              "0           51805319           2018-04-01  ...               NaN            999001\n",
              "1           51805954           2018-04-01  ...               H1T             66213\n",
              "2           51806285           2018-04-01  ...               NaN             66023\n",
              "3           51806377           2018-04-01  ...               H1J             66201\n",
              "4           51806428           2018-04-01  ...               H2K             66217\n",
              "...              ...                  ...  ...               ...               ...\n",
              "101607      78144190           2020-08-31  ...               J3L             57005\n",
              "101608      78144749           2020-08-31  ...               NaN             66200\n",
              "101609      78144910           2020-08-31  ...               NaN            999999\n",
              "101610      78145762           2020-08-31  ...               H7N             65105\n",
              "101611      78146045           2020-08-31  ...               J4Y             58007\n",
              "\n",
              "[101612 rows x 6 columns]"
            ]
          },
          "metadata": {
            "tags": []
          },
          "execution_count": 11
        }
      ]
    },
    {
      "cell_type": "code",
      "metadata": {
        "id": "NmGAYbr7e7Q_"
      },
      "source": [
        "appels_profils = pd.read_excel('Appels_Profil.xlsx')"
      ],
      "execution_count": null,
      "outputs": []
    },
    {
      "cell_type": "code",
      "metadata": {
        "id": "IxPMvRW1fbs-",
        "outputId": "496d8c2d-784c-42b4-e00d-1d3f60395e16",
        "colab": {
          "base_uri": "https://localhost:8080/",
          "height": 204
        }
      },
      "source": [
        "appels_profils.tail()"
      ],
      "execution_count": null,
      "outputs": [
        {
          "output_type": "execute_result",
          "data": {
            "text/html": [
              "<div>\n",
              "<style scoped>\n",
              "    .dataframe tbody tr th:only-of-type {\n",
              "        vertical-align: middle;\n",
              "    }\n",
              "\n",
              "    .dataframe tbody tr th {\n",
              "        vertical-align: top;\n",
              "    }\n",
              "\n",
              "    .dataframe thead th {\n",
              "        text-align: right;\n",
              "    }\n",
              "</style>\n",
              "<table border=\"1\" class=\"dataframe\">\n",
              "  <thead>\n",
              "    <tr style=\"text-align: right;\">\n",
              "      <th></th>\n",
              "      <th>CallReportNum</th>\n",
              "      <th>Âge</th>\n",
              "      <th>Catégorie d'âge</th>\n",
              "      <th>Genre</th>\n",
              "      <th>Langue</th>\n",
              "      <th>Mode De Communication</th>\n",
              "    </tr>\n",
              "  </thead>\n",
              "  <tbody>\n",
              "    <tr>\n",
              "      <th>101607</th>\n",
              "      <td>78144190</td>\n",
              "      <td>2.0</td>\n",
              "      <td>0-19 ans</td>\n",
              "      <td>Femme</td>\n",
              "      <td>Français</td>\n",
              "      <td>Appels</td>\n",
              "    </tr>\n",
              "    <tr>\n",
              "      <th>101608</th>\n",
              "      <td>78144749</td>\n",
              "      <td>27.0</td>\n",
              "      <td>20-29 ans</td>\n",
              "      <td>Femme</td>\n",
              "      <td>Français</td>\n",
              "      <td>Appels</td>\n",
              "    </tr>\n",
              "    <tr>\n",
              "      <th>101609</th>\n",
              "      <td>78144910</td>\n",
              "      <td>NaN</td>\n",
              "      <td>NaN</td>\n",
              "      <td>Femme</td>\n",
              "      <td>Anglais</td>\n",
              "      <td>Appels</td>\n",
              "    </tr>\n",
              "    <tr>\n",
              "      <th>101610</th>\n",
              "      <td>78145762</td>\n",
              "      <td>85.0</td>\n",
              "      <td>70 ans et plus</td>\n",
              "      <td>Femme</td>\n",
              "      <td>Français</td>\n",
              "      <td>Appels</td>\n",
              "    </tr>\n",
              "    <tr>\n",
              "      <th>101611</th>\n",
              "      <td>78146045</td>\n",
              "      <td>4.0</td>\n",
              "      <td>0-19 ans</td>\n",
              "      <td>Homme</td>\n",
              "      <td>Anglais</td>\n",
              "      <td>Appels</td>\n",
              "    </tr>\n",
              "  </tbody>\n",
              "</table>\n",
              "</div>"
            ],
            "text/plain": [
              "        CallReportNum   Âge  ...    Langue Mode De Communication\n",
              "101607       78144190   2.0  ...  Français                Appels\n",
              "101608       78144749  27.0  ...  Français                Appels\n",
              "101609       78144910   NaN  ...   Anglais                Appels\n",
              "101610       78145762  85.0  ...  Français                Appels\n",
              "101611       78146045   4.0  ...   Anglais                Appels\n",
              "\n",
              "[5 rows x 6 columns]"
            ]
          },
          "metadata": {
            "tags": []
          },
          "execution_count": 13
        }
      ]
    },
    {
      "cell_type": "code",
      "metadata": {
        "id": "lnEp63wtpvbx"
      },
      "source": [
        "np.random.seed(0)"
      ],
      "execution_count": null,
      "outputs": []
    },
    {
      "cell_type": "code",
      "metadata": {
        "id": "sRWAjfhdpvha",
        "outputId": "a35a05c6-5a1f-439c-ea6a-80467b8ddb5a",
        "colab": {
          "base_uri": "https://localhost:8080/"
        }
      },
      "source": [
        "appels_profils.groupby(\"Genre\").size()"
      ],
      "execution_count": null,
      "outputs": [
        {
          "output_type": "execute_result",
          "data": {
            "text/plain": [
              "Genre\n",
              "Autre      494\n",
              "Femme    66303\n",
              "Homme    34516\n",
              "dtype: int64"
            ]
          },
          "metadata": {
            "tags": []
          },
          "execution_count": 15
        }
      ]
    },
    {
      "cell_type": "code",
      "metadata": {
        "id": "lxBv70CyvqCD",
        "outputId": "dbd7c473-7fba-4dfb-f10c-a234be3cf096",
        "colab": {
          "base_uri": "https://localhost:8080/",
          "height": 419
        }
      },
      "source": [
        "train_data1 = appels_profils\n",
        "k = [2,3,4]\n",
        "import matplotlib.pyplot as plt\n",
        "from sklearn.cluster import KMeans\n",
        "from sklearn.datasets import make_blobs\n",
        "x1=train_data1[['Genre', 'Langue']]\n",
        "x1"
      ],
      "execution_count": null,
      "outputs": [
        {
          "output_type": "execute_result",
          "data": {
            "text/html": [
              "<div>\n",
              "<style scoped>\n",
              "    .dataframe tbody tr th:only-of-type {\n",
              "        vertical-align: middle;\n",
              "    }\n",
              "\n",
              "    .dataframe tbody tr th {\n",
              "        vertical-align: top;\n",
              "    }\n",
              "\n",
              "    .dataframe thead th {\n",
              "        text-align: right;\n",
              "    }\n",
              "</style>\n",
              "<table border=\"1\" class=\"dataframe\">\n",
              "  <thead>\n",
              "    <tr style=\"text-align: right;\">\n",
              "      <th></th>\n",
              "      <th>Genre</th>\n",
              "      <th>Langue</th>\n",
              "    </tr>\n",
              "  </thead>\n",
              "  <tbody>\n",
              "    <tr>\n",
              "      <th>0</th>\n",
              "      <td>Femme</td>\n",
              "      <td>Français</td>\n",
              "    </tr>\n",
              "    <tr>\n",
              "      <th>1</th>\n",
              "      <td>Homme</td>\n",
              "      <td>Français</td>\n",
              "    </tr>\n",
              "    <tr>\n",
              "      <th>2</th>\n",
              "      <td>Homme</td>\n",
              "      <td>Français</td>\n",
              "    </tr>\n",
              "    <tr>\n",
              "      <th>3</th>\n",
              "      <td>Homme</td>\n",
              "      <td>Français</td>\n",
              "    </tr>\n",
              "    <tr>\n",
              "      <th>4</th>\n",
              "      <td>Homme</td>\n",
              "      <td>Français</td>\n",
              "    </tr>\n",
              "    <tr>\n",
              "      <th>...</th>\n",
              "      <td>...</td>\n",
              "      <td>...</td>\n",
              "    </tr>\n",
              "    <tr>\n",
              "      <th>101607</th>\n",
              "      <td>Femme</td>\n",
              "      <td>Français</td>\n",
              "    </tr>\n",
              "    <tr>\n",
              "      <th>101608</th>\n",
              "      <td>Femme</td>\n",
              "      <td>Français</td>\n",
              "    </tr>\n",
              "    <tr>\n",
              "      <th>101609</th>\n",
              "      <td>Femme</td>\n",
              "      <td>Anglais</td>\n",
              "    </tr>\n",
              "    <tr>\n",
              "      <th>101610</th>\n",
              "      <td>Femme</td>\n",
              "      <td>Français</td>\n",
              "    </tr>\n",
              "    <tr>\n",
              "      <th>101611</th>\n",
              "      <td>Homme</td>\n",
              "      <td>Anglais</td>\n",
              "    </tr>\n",
              "  </tbody>\n",
              "</table>\n",
              "<p>101612 rows × 2 columns</p>\n",
              "</div>"
            ],
            "text/plain": [
              "        Genre    Langue\n",
              "0       Femme  Français\n",
              "1       Homme  Français\n",
              "2       Homme  Français\n",
              "3       Homme  Français\n",
              "4       Homme  Français\n",
              "...       ...       ...\n",
              "101607  Femme  Français\n",
              "101608  Femme  Français\n",
              "101609  Femme   Anglais\n",
              "101610  Femme  Français\n",
              "101611  Homme   Anglais\n",
              "\n",
              "[101612 rows x 2 columns]"
            ]
          },
          "metadata": {
            "tags": []
          },
          "execution_count": 16
        }
      ]
    },
    {
      "cell_type": "code",
      "metadata": {
        "id": "SwtXlXlCvrv9",
        "outputId": "f7c67770-4d84-434c-93a3-fb3422669203",
        "colab": {
          "base_uri": "https://localhost:8080/"
        }
      },
      "source": [
        "x1['Genre'] = x1['Genre'].replace(['Femme'],'1')"
      ],
      "execution_count": null,
      "outputs": [
        {
          "output_type": "stream",
          "text": [
            "/usr/local/lib/python3.6/dist-packages/ipykernel_launcher.py:1: SettingWithCopyWarning: \n",
            "A value is trying to be set on a copy of a slice from a DataFrame.\n",
            "Try using .loc[row_indexer,col_indexer] = value instead\n",
            "\n",
            "See the caveats in the documentation: https://pandas.pydata.org/pandas-docs/stable/user_guide/indexing.html#returning-a-view-versus-a-copy\n",
            "  \"\"\"Entry point for launching an IPython kernel.\n"
          ],
          "name": "stderr"
        }
      ]
    },
    {
      "cell_type": "code",
      "metadata": {
        "id": "CUbwqcglvr1s",
        "outputId": "ef1c2cd9-074a-423b-9da7-5703a209be3e",
        "colab": {
          "base_uri": "https://localhost:8080/"
        }
      },
      "source": [
        "x1['Genre'] = x1['Genre'].replace(['Homme'],'2')"
      ],
      "execution_count": null,
      "outputs": [
        {
          "output_type": "stream",
          "text": [
            "/usr/local/lib/python3.6/dist-packages/ipykernel_launcher.py:1: SettingWithCopyWarning: \n",
            "A value is trying to be set on a copy of a slice from a DataFrame.\n",
            "Try using .loc[row_indexer,col_indexer] = value instead\n",
            "\n",
            "See the caveats in the documentation: https://pandas.pydata.org/pandas-docs/stable/user_guide/indexing.html#returning-a-view-versus-a-copy\n",
            "  \"\"\"Entry point for launching an IPython kernel.\n"
          ],
          "name": "stderr"
        }
      ]
    },
    {
      "cell_type": "code",
      "metadata": {
        "id": "f3m8xaaivr6c",
        "outputId": "578ba912-dcf6-4d9c-d484-ef8487eb175c",
        "colab": {
          "base_uri": "https://localhost:8080/"
        }
      },
      "source": [
        "x1['Genre'] = x1['Genre'].replace(['Autre'],'3')"
      ],
      "execution_count": null,
      "outputs": [
        {
          "output_type": "stream",
          "text": [
            "/usr/local/lib/python3.6/dist-packages/ipykernel_launcher.py:1: SettingWithCopyWarning: \n",
            "A value is trying to be set on a copy of a slice from a DataFrame.\n",
            "Try using .loc[row_indexer,col_indexer] = value instead\n",
            "\n",
            "See the caveats in the documentation: https://pandas.pydata.org/pandas-docs/stable/user_guide/indexing.html#returning-a-view-versus-a-copy\n",
            "  \"\"\"Entry point for launching an IPython kernel.\n"
          ],
          "name": "stderr"
        }
      ]
    },
    {
      "cell_type": "code",
      "metadata": {
        "id": "bU11IcBSvsM_",
        "outputId": "d5a5da69-e344-4ba4-f124-a9f30ab5e839",
        "colab": {
          "base_uri": "https://localhost:8080/"
        }
      },
      "source": [
        "x1.groupby(\"Genre\").size()"
      ],
      "execution_count": null,
      "outputs": [
        {
          "output_type": "execute_result",
          "data": {
            "text/plain": [
              "Genre\n",
              "1    66303\n",
              "2    34516\n",
              "3      494\n",
              "dtype: int64"
            ]
          },
          "metadata": {
            "tags": []
          },
          "execution_count": 20
        }
      ]
    },
    {
      "cell_type": "code",
      "metadata": {
        "id": "20TlBWZFxRSE",
        "outputId": "d04955ed-6745-49c6-d3f4-da7e24172279",
        "colab": {
          "base_uri": "https://localhost:8080/",
          "height": 419
        }
      },
      "source": [
        "x1"
      ],
      "execution_count": null,
      "outputs": [
        {
          "output_type": "execute_result",
          "data": {
            "text/html": [
              "<div>\n",
              "<style scoped>\n",
              "    .dataframe tbody tr th:only-of-type {\n",
              "        vertical-align: middle;\n",
              "    }\n",
              "\n",
              "    .dataframe tbody tr th {\n",
              "        vertical-align: top;\n",
              "    }\n",
              "\n",
              "    .dataframe thead th {\n",
              "        text-align: right;\n",
              "    }\n",
              "</style>\n",
              "<table border=\"1\" class=\"dataframe\">\n",
              "  <thead>\n",
              "    <tr style=\"text-align: right;\">\n",
              "      <th></th>\n",
              "      <th>Genre</th>\n",
              "      <th>Langue</th>\n",
              "    </tr>\n",
              "  </thead>\n",
              "  <tbody>\n",
              "    <tr>\n",
              "      <th>0</th>\n",
              "      <td>1</td>\n",
              "      <td>Français</td>\n",
              "    </tr>\n",
              "    <tr>\n",
              "      <th>1</th>\n",
              "      <td>2</td>\n",
              "      <td>Français</td>\n",
              "    </tr>\n",
              "    <tr>\n",
              "      <th>2</th>\n",
              "      <td>2</td>\n",
              "      <td>Français</td>\n",
              "    </tr>\n",
              "    <tr>\n",
              "      <th>3</th>\n",
              "      <td>2</td>\n",
              "      <td>Français</td>\n",
              "    </tr>\n",
              "    <tr>\n",
              "      <th>4</th>\n",
              "      <td>2</td>\n",
              "      <td>Français</td>\n",
              "    </tr>\n",
              "    <tr>\n",
              "      <th>...</th>\n",
              "      <td>...</td>\n",
              "      <td>...</td>\n",
              "    </tr>\n",
              "    <tr>\n",
              "      <th>101607</th>\n",
              "      <td>1</td>\n",
              "      <td>Français</td>\n",
              "    </tr>\n",
              "    <tr>\n",
              "      <th>101608</th>\n",
              "      <td>1</td>\n",
              "      <td>Français</td>\n",
              "    </tr>\n",
              "    <tr>\n",
              "      <th>101609</th>\n",
              "      <td>1</td>\n",
              "      <td>Anglais</td>\n",
              "    </tr>\n",
              "    <tr>\n",
              "      <th>101610</th>\n",
              "      <td>1</td>\n",
              "      <td>Français</td>\n",
              "    </tr>\n",
              "    <tr>\n",
              "      <th>101611</th>\n",
              "      <td>2</td>\n",
              "      <td>Anglais</td>\n",
              "    </tr>\n",
              "  </tbody>\n",
              "</table>\n",
              "<p>101612 rows × 2 columns</p>\n",
              "</div>"
            ],
            "text/plain": [
              "       Genre    Langue\n",
              "0          1  Français\n",
              "1          2  Français\n",
              "2          2  Français\n",
              "3          2  Français\n",
              "4          2  Français\n",
              "...      ...       ...\n",
              "101607     1  Français\n",
              "101608     1  Français\n",
              "101609     1   Anglais\n",
              "101610     1  Français\n",
              "101611     2   Anglais\n",
              "\n",
              "[101612 rows x 2 columns]"
            ]
          },
          "metadata": {
            "tags": []
          },
          "execution_count": 21
        }
      ]
    },
    {
      "cell_type": "code",
      "metadata": {
        "id": "LaBHe2L-xUo9",
        "outputId": "4c618edb-08fc-492f-f00f-1d36791438fd",
        "colab": {
          "base_uri": "https://localhost:8080/"
        }
      },
      "source": [
        "x1['Langue'] = x1['Langue'].replace(['Français'],'11')"
      ],
      "execution_count": null,
      "outputs": [
        {
          "output_type": "stream",
          "text": [
            "/usr/local/lib/python3.6/dist-packages/ipykernel_launcher.py:1: SettingWithCopyWarning: \n",
            "A value is trying to be set on a copy of a slice from a DataFrame.\n",
            "Try using .loc[row_indexer,col_indexer] = value instead\n",
            "\n",
            "See the caveats in the documentation: https://pandas.pydata.org/pandas-docs/stable/user_guide/indexing.html#returning-a-view-versus-a-copy\n",
            "  \"\"\"Entry point for launching an IPython kernel.\n"
          ],
          "name": "stderr"
        }
      ]
    },
    {
      "cell_type": "code",
      "metadata": {
        "id": "MnmKQrLTxUy0",
        "outputId": "46fc5ed2-72b9-4132-b5e2-d88a1599273f",
        "colab": {
          "base_uri": "https://localhost:8080/"
        }
      },
      "source": [
        "x1['Langue'] = x1['Langue'].replace(['Anglais'],'22')\n",
        "x1['Langue'] = x1['Langue'].replace(['Arabe / Arabic'],'33')\n",
        "x1['Langue'] = x1['Langue'].replace(['Autre / Other'],'44')\n",
        "x1['Langue'] = x1['Langue'].replace(['Créole / Creole'],'55')\n",
        "x1['Langue'] = x1['Langue'].replace(['Espagnol / Spanish'],'66')\n",
        "x1['Langue'] = x1['Langue'].replace(['Portugais / Portuguese'],'77')\n",
        "x1['Langue'] = x1['Langue'].replace(['Système de Traduction - Language Line Solution'],'88')"
      ],
      "execution_count": null,
      "outputs": [
        {
          "output_type": "stream",
          "text": [
            "/usr/local/lib/python3.6/dist-packages/ipykernel_launcher.py:1: SettingWithCopyWarning: \n",
            "A value is trying to be set on a copy of a slice from a DataFrame.\n",
            "Try using .loc[row_indexer,col_indexer] = value instead\n",
            "\n",
            "See the caveats in the documentation: https://pandas.pydata.org/pandas-docs/stable/user_guide/indexing.html#returning-a-view-versus-a-copy\n",
            "  \"\"\"Entry point for launching an IPython kernel.\n",
            "/usr/local/lib/python3.6/dist-packages/ipykernel_launcher.py:2: SettingWithCopyWarning: \n",
            "A value is trying to be set on a copy of a slice from a DataFrame.\n",
            "Try using .loc[row_indexer,col_indexer] = value instead\n",
            "\n",
            "See the caveats in the documentation: https://pandas.pydata.org/pandas-docs/stable/user_guide/indexing.html#returning-a-view-versus-a-copy\n",
            "  \n",
            "/usr/local/lib/python3.6/dist-packages/ipykernel_launcher.py:3: SettingWithCopyWarning: \n",
            "A value is trying to be set on a copy of a slice from a DataFrame.\n",
            "Try using .loc[row_indexer,col_indexer] = value instead\n",
            "\n",
            "See the caveats in the documentation: https://pandas.pydata.org/pandas-docs/stable/user_guide/indexing.html#returning-a-view-versus-a-copy\n",
            "  This is separate from the ipykernel package so we can avoid doing imports until\n",
            "/usr/local/lib/python3.6/dist-packages/ipykernel_launcher.py:4: SettingWithCopyWarning: \n",
            "A value is trying to be set on a copy of a slice from a DataFrame.\n",
            "Try using .loc[row_indexer,col_indexer] = value instead\n",
            "\n",
            "See the caveats in the documentation: https://pandas.pydata.org/pandas-docs/stable/user_guide/indexing.html#returning-a-view-versus-a-copy\n",
            "  after removing the cwd from sys.path.\n",
            "/usr/local/lib/python3.6/dist-packages/ipykernel_launcher.py:5: SettingWithCopyWarning: \n",
            "A value is trying to be set on a copy of a slice from a DataFrame.\n",
            "Try using .loc[row_indexer,col_indexer] = value instead\n",
            "\n",
            "See the caveats in the documentation: https://pandas.pydata.org/pandas-docs/stable/user_guide/indexing.html#returning-a-view-versus-a-copy\n",
            "  \"\"\"\n",
            "/usr/local/lib/python3.6/dist-packages/ipykernel_launcher.py:6: SettingWithCopyWarning: \n",
            "A value is trying to be set on a copy of a slice from a DataFrame.\n",
            "Try using .loc[row_indexer,col_indexer] = value instead\n",
            "\n",
            "See the caveats in the documentation: https://pandas.pydata.org/pandas-docs/stable/user_guide/indexing.html#returning-a-view-versus-a-copy\n",
            "  \n",
            "/usr/local/lib/python3.6/dist-packages/ipykernel_launcher.py:7: SettingWithCopyWarning: \n",
            "A value is trying to be set on a copy of a slice from a DataFrame.\n",
            "Try using .loc[row_indexer,col_indexer] = value instead\n",
            "\n",
            "See the caveats in the documentation: https://pandas.pydata.org/pandas-docs/stable/user_guide/indexing.html#returning-a-view-versus-a-copy\n",
            "  import sys\n"
          ],
          "name": "stderr"
        }
      ]
    },
    {
      "cell_type": "code",
      "metadata": {
        "id": "qm3OPz8SxoIH",
        "outputId": "8441c9fa-445d-40c2-fe46-4f71dc66290e",
        "colab": {
          "base_uri": "https://localhost:8080/"
        }
      },
      "source": [
        "x1.groupby(\"Langue\").size()"
      ],
      "execution_count": null,
      "outputs": [
        {
          "output_type": "execute_result",
          "data": {
            "text/plain": [
              "Langue\n",
              "11    86961\n",
              "22    14066\n",
              "33       18\n",
              "44       22\n",
              "55       12\n",
              "66      152\n",
              "77        7\n",
              "88       46\n",
              "dtype: int64"
            ]
          },
          "metadata": {
            "tags": []
          },
          "execution_count": 24
        }
      ]
    },
    {
      "cell_type": "code",
      "metadata": {
        "id": "vf7xUMB6glh0"
      },
      "source": [
        "x1 = x1.dropna()"
      ],
      "execution_count": null,
      "outputs": []
    },
    {
      "cell_type": "code",
      "metadata": {
        "id": "pzuvcCM-gGEF",
        "outputId": "70a27c31-aa25-4a5c-93e7-c516cc72857d",
        "colab": {
          "base_uri": "https://localhost:8080/"
        }
      },
      "source": [
        "# insert and run your answer here for k[0]\n",
        "from sklearn.cluster import KMeans\n",
        "kmeans = KMeans(n_clusters=k[0])\n",
        "kmeans.fit(x1)\n",
        "y_kmeans = kmeans.predict(x1)\n",
        "y_kmeans\n"
      ],
      "execution_count": null,
      "outputs": [
        {
          "output_type": "execute_result",
          "data": {
            "text/plain": [
              "array([0, 0, 0, ..., 1, 0, 1], dtype=int32)"
            ]
          },
          "metadata": {
            "tags": []
          },
          "execution_count": 27
        }
      ]
    },
    {
      "cell_type": "code",
      "metadata": {
        "id": "b9KcUrz0gGVo",
        "outputId": "6832bc38-c958-4672-d573-5d00433c7711",
        "colab": {
          "base_uri": "https://localhost:8080/",
          "height": 265
        }
      },
      "source": [
        "#plotting\n",
        "plt.scatter(x1['Genre'], x1[ 'Langue'], c=y_kmeans,\n",
        "            s=22, cmap='viridis')\n",
        "\n",
        "centers = kmeans.cluster_centers_\n",
        "plt.scatter(centers[:, 0], centers[:, 1], c='black', s=400, alpha=0.5);"
      ],
      "execution_count": null,
      "outputs": [
        {
          "output_type": "display_data",
          "data": {
            "image/png": "[encoded data removed]",
            "text/plain": [
              "<Figure size 432x288 with 1 Axes>"
            ]
          },
          "metadata": {
            "tags": [],
            "needs_background": "light"
          }
        }
      ]
    },
    {
      "cell_type": "code",
      "metadata": {
        "id": "j8v5SpnVgGgw",
        "outputId": "ca470f7e-a382-4452-e259-d405dfa1fa57",
        "colab": {
          "base_uri": "https://localhost:8080/",
          "height": 419
        }
      },
      "source": [
        "train_data2 = appels_profils\n",
        "k = [2,3,4,5,6,7,8,9,10,11,12,13]\n",
        "import matplotlib.pyplot as plt\n",
        "from sklearn.cluster import KMeans\n",
        "from sklearn.datasets import make_blobs\n",
        "x2=train_data2[['Genre', 'Âge']]\n",
        "x2"
      ],
      "execution_count": null,
      "outputs": [
        {
          "output_type": "execute_result",
          "data": {
            "text/html": [
              "<div>\n",
              "<style scoped>\n",
              "    .dataframe tbody tr th:only-of-type {\n",
              "        vertical-align: middle;\n",
              "    }\n",
              "\n",
              "    .dataframe tbody tr th {\n",
              "        vertical-align: top;\n",
              "    }\n",
              "\n",
              "    .dataframe thead th {\n",
              "        text-align: right;\n",
              "    }\n",
              "</style>\n",
              "<table border=\"1\" class=\"dataframe\">\n",
              "  <thead>\n",
              "    <tr style=\"text-align: right;\">\n",
              "      <th></th>\n",
              "      <th>Genre</th>\n",
              "      <th>Âge</th>\n",
              "    </tr>\n",
              "  </thead>\n",
              "  <tbody>\n",
              "    <tr>\n",
              "      <th>0</th>\n",
              "      <td>Femme</td>\n",
              "      <td>NaN</td>\n",
              "    </tr>\n",
              "    <tr>\n",
              "      <th>1</th>\n",
              "      <td>Homme</td>\n",
              "      <td>35.0</td>\n",
              "    </tr>\n",
              "    <tr>\n",
              "      <th>2</th>\n",
              "      <td>Homme</td>\n",
              "      <td>NaN</td>\n",
              "    </tr>\n",
              "    <tr>\n",
              "      <th>3</th>\n",
              "      <td>Homme</td>\n",
              "      <td>40.0</td>\n",
              "    </tr>\n",
              "    <tr>\n",
              "      <th>4</th>\n",
              "      <td>Homme</td>\n",
              "      <td>NaN</td>\n",
              "    </tr>\n",
              "    <tr>\n",
              "      <th>...</th>\n",
              "      <td>...</td>\n",
              "      <td>...</td>\n",
              "    </tr>\n",
              "    <tr>\n",
              "      <th>101607</th>\n",
              "      <td>Femme</td>\n",
              "      <td>2.0</td>\n",
              "    </tr>\n",
              "    <tr>\n",
              "      <th>101608</th>\n",
              "      <td>Femme</td>\n",
              "      <td>27.0</td>\n",
              "    </tr>\n",
              "    <tr>\n",
              "      <th>101609</th>\n",
              "      <td>Femme</td>\n",
              "      <td>NaN</td>\n",
              "    </tr>\n",
              "    <tr>\n",
              "      <th>101610</th>\n",
              "      <td>Femme</td>\n",
              "      <td>85.0</td>\n",
              "    </tr>\n",
              "    <tr>\n",
              "      <th>101611</th>\n",
              "      <td>Homme</td>\n",
              "      <td>4.0</td>\n",
              "    </tr>\n",
              "  </tbody>\n",
              "</table>\n",
              "<p>101612 rows × 2 columns</p>\n",
              "</div>"
            ],
            "text/plain": [
              "        Genre   Âge\n",
              "0       Femme   NaN\n",
              "1       Homme  35.0\n",
              "2       Homme   NaN\n",
              "3       Homme  40.0\n",
              "4       Homme   NaN\n",
              "...       ...   ...\n",
              "101607  Femme   2.0\n",
              "101608  Femme  27.0\n",
              "101609  Femme   NaN\n",
              "101610  Femme  85.0\n",
              "101611  Homme   4.0\n",
              "\n",
              "[101612 rows x 2 columns]"
            ]
          },
          "metadata": {
            "tags": []
          },
          "execution_count": 52
        }
      ]
    },
    {
      "cell_type": "code",
      "metadata": {
        "id": "3SZYbv6ridC6",
        "outputId": "c56f2bc4-d78c-4849-c96b-ee13bd560af6",
        "colab": {
          "base_uri": "https://localhost:8080/"
        }
      },
      "source": [
        "x2.groupby(\"Âge\").size()"
      ],
      "execution_count": null,
      "outputs": [
        {
          "output_type": "execute_result",
          "data": {
            "text/plain": [
              "Âge\n",
              "0.0       5\n",
              "1.0      78\n",
              "2.0      58\n",
              "3.0      50\n",
              "4.0      82\n",
              "         ..\n",
              "100.0    15\n",
              "101.0     4\n",
              "102.0     9\n",
              "103.0     1\n",
              "105.0     3\n",
              "Length: 105, dtype: int64"
            ]
          },
          "metadata": {
            "tags": []
          },
          "execution_count": 53
        }
      ]
    },
    {
      "cell_type": "code",
      "metadata": {
        "id": "3hQGza7ejLzn",
        "outputId": "638c6dd2-d1aa-4d16-c5fe-cc11e7354bdc",
        "colab": {
          "base_uri": "https://localhost:8080/"
        }
      },
      "source": [
        "x2['Genre'] = x2['Genre'].replace(['Femme'],'1')\n",
        "x2['Genre'] = x2['Genre'].replace(['Homme'],'2')\n",
        "x2['Genre'] = x2['Genre'].replace(['Autre'],'3')"
      ],
      "execution_count": null,
      "outputs": [
        {
          "output_type": "stream",
          "text": [
            "/usr/local/lib/python3.6/dist-packages/ipykernel_launcher.py:1: SettingWithCopyWarning: \n",
            "A value is trying to be set on a copy of a slice from a DataFrame.\n",
            "Try using .loc[row_indexer,col_indexer] = value instead\n",
            "\n",
            "See the caveats in the documentation: https://pandas.pydata.org/pandas-docs/stable/user_guide/indexing.html#returning-a-view-versus-a-copy\n",
            "  \"\"\"Entry point for launching an IPython kernel.\n",
            "/usr/local/lib/python3.6/dist-packages/ipykernel_launcher.py:2: SettingWithCopyWarning: \n",
            "A value is trying to be set on a copy of a slice from a DataFrame.\n",
            "Try using .loc[row_indexer,col_indexer] = value instead\n",
            "\n",
            "See the caveats in the documentation: https://pandas.pydata.org/pandas-docs/stable/user_guide/indexing.html#returning-a-view-versus-a-copy\n",
            "  \n",
            "/usr/local/lib/python3.6/dist-packages/ipykernel_launcher.py:3: SettingWithCopyWarning: \n",
            "A value is trying to be set on a copy of a slice from a DataFrame.\n",
            "Try using .loc[row_indexer,col_indexer] = value instead\n",
            "\n",
            "See the caveats in the documentation: https://pandas.pydata.org/pandas-docs/stable/user_guide/indexing.html#returning-a-view-versus-a-copy\n",
            "  This is separate from the ipykernel package so we can avoid doing imports until\n"
          ],
          "name": "stderr"
        }
      ]
    },
    {
      "cell_type": "code",
      "metadata": {
        "id": "F-MOK0RRjh_G"
      },
      "source": [
        "x2 = x2.dropna()"
      ],
      "execution_count": null,
      "outputs": []
    },
    {
      "cell_type": "code",
      "metadata": {
        "id": "TVZmAfRnidRm",
        "outputId": "7e643a18-3261-4619-d1fd-612a901e9674",
        "colab": {
          "base_uri": "https://localhost:8080/"
        }
      },
      "source": [
        "# insert and run your answer here for k[0]\n",
        "from sklearn.cluster import KMeans\n",
        "kmeans = KMeans(n_clusters=k[11])\n",
        "kmeans.fit(x2)\n",
        "y_kmeans = kmeans.predict(x2)\n",
        "y_kmeans\n"
      ],
      "execution_count": null,
      "outputs": [
        {
          "output_type": "execute_result",
          "data": {
            "text/plain": [
              "array([ 7,  1,  6, ...,  9, 10,  8], dtype=int32)"
            ]
          },
          "metadata": {
            "tags": []
          },
          "execution_count": 59
        }
      ]
    },
    {
      "cell_type": "code",
      "metadata": {
        "id": "vj6VD15aidOg",
        "outputId": "92a826b6-6b8d-4e2f-b102-d038b0997cf2",
        "colab": {
          "base_uri": "https://localhost:8080/",
          "height": 265
        }
      },
      "source": [
        "#plotting\n",
        "plt.scatter(x2['Genre'], x2[ 'Âge'], c=y_kmeans,\n",
        "            s=22, cmap='viridis')\n",
        "\n",
        "centers = kmeans.cluster_centers_\n",
        "plt.scatter(centers[:, 0], centers[:, 1], c='black', s=400, alpha=0.5);"
      ],
      "execution_count": null,
      "outputs": [
        {
          "output_type": "display_data",
          "data": {
            "image/png": "[encoded data removed]",
            "text/plain": [
              "<Figure size 432x288 with 1 Axes>"
            ]
          },
          "metadata": {
            "tags": [],
            "needs_background": "light"
          }
        }
      ]
    },
    {
      "cell_type": "code",
      "metadata": {
        "id": "XJ7yEYJeidLj"
      },
      "source": [
        ""
      ],
      "execution_count": null,
      "outputs": []
    },
    {
      "cell_type": "code",
      "metadata": {
        "id": "4r7PaDMoidIs"
      },
      "source": [
        ""
      ],
      "execution_count": null,
      "outputs": []
    },
    {
      "cell_type": "code",
      "metadata": {
        "id": "6iRCMP-MuZnm",
        "outputId": "11922811-b3ee-4314-a6f2-8422c15daf05",
        "colab": {
          "base_uri": "https://localhost:8080/"
        }
      },
      "source": [
        "appels.groupby(\"StateProvince\").size()"
      ],
      "execution_count": null,
      "outputs": [
        {
          "output_type": "execute_result",
          "data": {
            "text/plain": [
              "StateProvince\n",
              "AB        16\n",
              "BC        10\n",
              "MB         3\n",
              "NB         1\n",
              "NS         4\n",
              "ON       119\n",
              "QC    101400\n",
              "SK         2\n",
              "xx        45\n",
              "dtype: int64"
            ]
          },
          "metadata": {
            "tags": []
          },
          "execution_count": 217
        }
      ]
    },
    {
      "cell_type": "code",
      "metadata": {
        "id": "7bHcKP1F4atB"
      },
      "source": [
        ""
      ],
      "execution_count": null,
      "outputs": []
    },
    {
      "cell_type": "code",
      "metadata": {
        "id": "TwLFDBHCreQ4"
      },
      "source": [
        "train_data = appels"
      ],
      "execution_count": null,
      "outputs": []
    },
    {
      "cell_type": "markdown",
      "metadata": {
        "id": "Dkx-3MwB3RD2"
      },
      "source": [
        " Clustering\n",
        "Using two features, cluster the data in the following order (use scikit-learn).\n",
        "\n",
        "k-means\n",
        "consider k=2,3,4\n",
        "visualize clustered points \n"
      ]
    },
    {
      "cell_type": "code",
      "metadata": {
        "id": "lNgOJ9WFpvFy"
      },
      "source": [
        "from sklearn.model_selection import train_test_split\n"
      ],
      "execution_count": null,
      "outputs": []
    },
    {
      "cell_type": "code",
      "metadata": {
        "id": "Ehn6rLm2rDDy",
        "outputId": "b1abbe40-9ddb-48c9-bb62-b267ba533d17",
        "colab": {
          "base_uri": "https://localhost:8080/",
          "height": 419
        }
      },
      "source": [
        "k = [2,3,4]\n",
        "import matplotlib.pyplot as plt\n",
        "from sklearn.cluster import KMeans\n",
        "from sklearn.datasets import make_blobs\n",
        "x=train_data[['StateProvince', 'CallReportNum']]\n",
        "x\n"
      ],
      "execution_count": null,
      "outputs": [
        {
          "output_type": "execute_result",
          "data": {
            "text/html": [
              "<div>\n",
              "<style scoped>\n",
              "    .dataframe tbody tr th:only-of-type {\n",
              "        vertical-align: middle;\n",
              "    }\n",
              "\n",
              "    .dataframe tbody tr th {\n",
              "        vertical-align: top;\n",
              "    }\n",
              "\n",
              "    .dataframe thead th {\n",
              "        text-align: right;\n",
              "    }\n",
              "</style>\n",
              "<table border=\"1\" class=\"dataframe\">\n",
              "  <thead>\n",
              "    <tr style=\"text-align: right;\">\n",
              "      <th></th>\n",
              "      <th>StateProvince</th>\n",
              "      <th>CallReportNum</th>\n",
              "    </tr>\n",
              "  </thead>\n",
              "  <tbody>\n",
              "    <tr>\n",
              "      <th>0</th>\n",
              "      <td>QC</td>\n",
              "      <td>51805319</td>\n",
              "    </tr>\n",
              "    <tr>\n",
              "      <th>1</th>\n",
              "      <td>QC</td>\n",
              "      <td>51805954</td>\n",
              "    </tr>\n",
              "    <tr>\n",
              "      <th>2</th>\n",
              "      <td>QC</td>\n",
              "      <td>51806285</td>\n",
              "    </tr>\n",
              "    <tr>\n",
              "      <th>3</th>\n",
              "      <td>QC</td>\n",
              "      <td>51806377</td>\n",
              "    </tr>\n",
              "    <tr>\n",
              "      <th>4</th>\n",
              "      <td>QC</td>\n",
              "      <td>51806428</td>\n",
              "    </tr>\n",
              "    <tr>\n",
              "      <th>...</th>\n",
              "      <td>...</td>\n",
              "      <td>...</td>\n",
              "    </tr>\n",
              "    <tr>\n",
              "      <th>101607</th>\n",
              "      <td>QC</td>\n",
              "      <td>78144190</td>\n",
              "    </tr>\n",
              "    <tr>\n",
              "      <th>101608</th>\n",
              "      <td>QC</td>\n",
              "      <td>78144749</td>\n",
              "    </tr>\n",
              "    <tr>\n",
              "      <th>101609</th>\n",
              "      <td>NaN</td>\n",
              "      <td>78144910</td>\n",
              "    </tr>\n",
              "    <tr>\n",
              "      <th>101610</th>\n",
              "      <td>QC</td>\n",
              "      <td>78145762</td>\n",
              "    </tr>\n",
              "    <tr>\n",
              "      <th>101611</th>\n",
              "      <td>QC</td>\n",
              "      <td>78146045</td>\n",
              "    </tr>\n",
              "  </tbody>\n",
              "</table>\n",
              "<p>101612 rows × 2 columns</p>\n",
              "</div>"
            ],
            "text/plain": [
              "       StateProvince  CallReportNum\n",
              "0                 QC       51805319\n",
              "1                 QC       51805954\n",
              "2                 QC       51806285\n",
              "3                 QC       51806377\n",
              "4                 QC       51806428\n",
              "...              ...            ...\n",
              "101607            QC       78144190\n",
              "101608            QC       78144749\n",
              "101609           NaN       78144910\n",
              "101610            QC       78145762\n",
              "101611            QC       78146045\n",
              "\n",
              "[101612 rows x 2 columns]"
            ]
          },
          "metadata": {
            "tags": []
          },
          "execution_count": 179
        }
      ]
    },
    {
      "cell_type": "code",
      "metadata": {
        "id": "x9m7dXV1nyf6",
        "outputId": "28b56bb9-6336-436c-b61e-c5a68c9dd0ef",
        "colab": {
          "base_uri": "https://localhost:8080/"
        }
      },
      "source": [
        "x['StateProvince'] = x['StateProvince'].replace(['QC'],'1')"
      ],
      "execution_count": null,
      "outputs": [
        {
          "output_type": "stream",
          "text": [
            "/usr/local/lib/python3.6/dist-packages/ipykernel_launcher.py:1: SettingWithCopyWarning: \n",
            "A value is trying to be set on a copy of a slice from a DataFrame.\n",
            "Try using .loc[row_indexer,col_indexer] = value instead\n",
            "\n",
            "See the caveats in the documentation: https://pandas.pydata.org/pandas-docs/stable/user_guide/indexing.html#returning-a-view-versus-a-copy\n",
            "  \"\"\"Entry point for launching an IPython kernel.\n"
          ],
          "name": "stderr"
        }
      ]
    },
    {
      "cell_type": "code",
      "metadata": {
        "id": "ar59vio9oft5",
        "outputId": "39cfbf3b-3f96-4523-f630-538c94e443e4",
        "colab": {
          "base_uri": "https://localhost:8080/",
          "height": 419
        }
      },
      "source": [
        "x"
      ],
      "execution_count": null,
      "outputs": [
        {
          "output_type": "execute_result",
          "data": {
            "text/html": [
              "<div>\n",
              "<style scoped>\n",
              "    .dataframe tbody tr th:only-of-type {\n",
              "        vertical-align: middle;\n",
              "    }\n",
              "\n",
              "    .dataframe tbody tr th {\n",
              "        vertical-align: top;\n",
              "    }\n",
              "\n",
              "    .dataframe thead th {\n",
              "        text-align: right;\n",
              "    }\n",
              "</style>\n",
              "<table border=\"1\" class=\"dataframe\">\n",
              "  <thead>\n",
              "    <tr style=\"text-align: right;\">\n",
              "      <th></th>\n",
              "      <th>StateProvince</th>\n",
              "      <th>CallReportNum</th>\n",
              "    </tr>\n",
              "  </thead>\n",
              "  <tbody>\n",
              "    <tr>\n",
              "      <th>0</th>\n",
              "      <td>1</td>\n",
              "      <td>51805319</td>\n",
              "    </tr>\n",
              "    <tr>\n",
              "      <th>1</th>\n",
              "      <td>1</td>\n",
              "      <td>51805954</td>\n",
              "    </tr>\n",
              "    <tr>\n",
              "      <th>2</th>\n",
              "      <td>1</td>\n",
              "      <td>51806285</td>\n",
              "    </tr>\n",
              "    <tr>\n",
              "      <th>3</th>\n",
              "      <td>1</td>\n",
              "      <td>51806377</td>\n",
              "    </tr>\n",
              "    <tr>\n",
              "      <th>4</th>\n",
              "      <td>1</td>\n",
              "      <td>51806428</td>\n",
              "    </tr>\n",
              "    <tr>\n",
              "      <th>...</th>\n",
              "      <td>...</td>\n",
              "      <td>...</td>\n",
              "    </tr>\n",
              "    <tr>\n",
              "      <th>101607</th>\n",
              "      <td>1</td>\n",
              "      <td>78144190</td>\n",
              "    </tr>\n",
              "    <tr>\n",
              "      <th>101608</th>\n",
              "      <td>1</td>\n",
              "      <td>78144749</td>\n",
              "    </tr>\n",
              "    <tr>\n",
              "      <th>101609</th>\n",
              "      <td>NaN</td>\n",
              "      <td>78144910</td>\n",
              "    </tr>\n",
              "    <tr>\n",
              "      <th>101610</th>\n",
              "      <td>1</td>\n",
              "      <td>78145762</td>\n",
              "    </tr>\n",
              "    <tr>\n",
              "      <th>101611</th>\n",
              "      <td>1</td>\n",
              "      <td>78146045</td>\n",
              "    </tr>\n",
              "  </tbody>\n",
              "</table>\n",
              "<p>101612 rows × 2 columns</p>\n",
              "</div>"
            ],
            "text/plain": [
              "       StateProvince  CallReportNum\n",
              "0                  1       51805319\n",
              "1                  1       51805954\n",
              "2                  1       51806285\n",
              "3                  1       51806377\n",
              "4                  1       51806428\n",
              "...              ...            ...\n",
              "101607             1       78144190\n",
              "101608             1       78144749\n",
              "101609           NaN       78144910\n",
              "101610             1       78145762\n",
              "101611             1       78146045\n",
              "\n",
              "[101612 rows x 2 columns]"
            ]
          },
          "metadata": {
            "tags": []
          },
          "execution_count": 181
        }
      ]
    },
    {
      "cell_type": "code",
      "metadata": {
        "id": "-Ws2P3uQpNsa",
        "outputId": "d17b2d2e-72b3-401c-ecf3-d50e4cf7400e",
        "colab": {
          "base_uri": "https://localhost:8080/"
        }
      },
      "source": [
        "x['StateProvince'] = x['StateProvince'].replace(['ON'],'2')"
      ],
      "execution_count": null,
      "outputs": [
        {
          "output_type": "stream",
          "text": [
            "/usr/local/lib/python3.6/dist-packages/ipykernel_launcher.py:1: SettingWithCopyWarning: \n",
            "A value is trying to be set on a copy of a slice from a DataFrame.\n",
            "Try using .loc[row_indexer,col_indexer] = value instead\n",
            "\n",
            "See the caveats in the documentation: https://pandas.pydata.org/pandas-docs/stable/user_guide/indexing.html#returning-a-view-versus-a-copy\n",
            "  \"\"\"Entry point for launching an IPython kernel.\n"
          ],
          "name": "stderr"
        }
      ]
    },
    {
      "cell_type": "code",
      "metadata": {
        "id": "mxCfMPKXpWBI",
        "outputId": "ad3e0910-7cf9-4dcb-9505-b36d19b2b9c1",
        "colab": {
          "base_uri": "https://localhost:8080/"
        }
      },
      "source": [
        "x['StateProvince'] = x['StateProvince'].replace(['xx'],'3')"
      ],
      "execution_count": null,
      "outputs": [
        {
          "output_type": "stream",
          "text": [
            "/usr/local/lib/python3.6/dist-packages/ipykernel_launcher.py:1: SettingWithCopyWarning: \n",
            "A value is trying to be set on a copy of a slice from a DataFrame.\n",
            "Try using .loc[row_indexer,col_indexer] = value instead\n",
            "\n",
            "See the caveats in the documentation: https://pandas.pydata.org/pandas-docs/stable/user_guide/indexing.html#returning-a-view-versus-a-copy\n",
            "  \"\"\"Entry point for launching an IPython kernel.\n"
          ],
          "name": "stderr"
        }
      ]
    },
    {
      "cell_type": "code",
      "metadata": {
        "id": "UOFF9xNHpdT7",
        "outputId": "ef9ee2c0-a4b2-4031-f915-5997ba044548",
        "colab": {
          "base_uri": "https://localhost:8080/"
        }
      },
      "source": [
        "x['StateProvince'] = x['StateProvince'].replace(['AB'],'4')"
      ],
      "execution_count": null,
      "outputs": [
        {
          "output_type": "stream",
          "text": [
            "/usr/local/lib/python3.6/dist-packages/ipykernel_launcher.py:1: SettingWithCopyWarning: \n",
            "A value is trying to be set on a copy of a slice from a DataFrame.\n",
            "Try using .loc[row_indexer,col_indexer] = value instead\n",
            "\n",
            "See the caveats in the documentation: https://pandas.pydata.org/pandas-docs/stable/user_guide/indexing.html#returning-a-view-versus-a-copy\n",
            "  \"\"\"Entry point for launching an IPython kernel.\n"
          ],
          "name": "stderr"
        }
      ]
    },
    {
      "cell_type": "code",
      "metadata": {
        "id": "OvmyljMrpl-b",
        "outputId": "53e1a663-2c6d-43a6-de9b-06b6afb26602",
        "colab": {
          "base_uri": "https://localhost:8080/"
        }
      },
      "source": [
        "x['StateProvince'] = x['StateProvince'].replace(['BC'],'5')"
      ],
      "execution_count": null,
      "outputs": [
        {
          "output_type": "stream",
          "text": [
            "/usr/local/lib/python3.6/dist-packages/ipykernel_launcher.py:1: SettingWithCopyWarning: \n",
            "A value is trying to be set on a copy of a slice from a DataFrame.\n",
            "Try using .loc[row_indexer,col_indexer] = value instead\n",
            "\n",
            "See the caveats in the documentation: https://pandas.pydata.org/pandas-docs/stable/user_guide/indexing.html#returning-a-view-versus-a-copy\n",
            "  \"\"\"Entry point for launching an IPython kernel.\n"
          ],
          "name": "stderr"
        }
      ]
    },
    {
      "cell_type": "code",
      "metadata": {
        "id": "UtfDRxMKpowG",
        "outputId": "34d3d4e1-545c-47ca-c66e-d1fd99bca119",
        "colab": {
          "base_uri": "https://localhost:8080/"
        }
      },
      "source": [
        "x['StateProvince'] = x['StateProvince'].replace(['NS'],'6')"
      ],
      "execution_count": null,
      "outputs": [
        {
          "output_type": "stream",
          "text": [
            "/usr/local/lib/python3.6/dist-packages/ipykernel_launcher.py:1: SettingWithCopyWarning: \n",
            "A value is trying to be set on a copy of a slice from a DataFrame.\n",
            "Try using .loc[row_indexer,col_indexer] = value instead\n",
            "\n",
            "See the caveats in the documentation: https://pandas.pydata.org/pandas-docs/stable/user_guide/indexing.html#returning-a-view-versus-a-copy\n",
            "  \"\"\"Entry point for launching an IPython kernel.\n"
          ],
          "name": "stderr"
        }
      ]
    },
    {
      "cell_type": "code",
      "metadata": {
        "id": "0jTk89v9pynW",
        "outputId": "c6b7c612-dc14-46ba-a90f-745becdd2912",
        "colab": {
          "base_uri": "https://localhost:8080/"
        }
      },
      "source": [
        "x['StateProvince'] = x['StateProvince'].replace(['MB'],'7')"
      ],
      "execution_count": null,
      "outputs": [
        {
          "output_type": "stream",
          "text": [
            "/usr/local/lib/python3.6/dist-packages/ipykernel_launcher.py:1: SettingWithCopyWarning: \n",
            "A value is trying to be set on a copy of a slice from a DataFrame.\n",
            "Try using .loc[row_indexer,col_indexer] = value instead\n",
            "\n",
            "See the caveats in the documentation: https://pandas.pydata.org/pandas-docs/stable/user_guide/indexing.html#returning-a-view-versus-a-copy\n",
            "  \"\"\"Entry point for launching an IPython kernel.\n"
          ],
          "name": "stderr"
        }
      ]
    },
    {
      "cell_type": "code",
      "metadata": {
        "id": "KMNtl5pmqA1B",
        "outputId": "c456ab52-7bc7-4f11-e661-cf254001934f",
        "colab": {
          "base_uri": "https://localhost:8080/"
        }
      },
      "source": [
        "x['StateProvince'] = x['StateProvince'].replace(['NB'],'9')"
      ],
      "execution_count": null,
      "outputs": [
        {
          "output_type": "stream",
          "text": [
            "/usr/local/lib/python3.6/dist-packages/ipykernel_launcher.py:1: SettingWithCopyWarning: \n",
            "A value is trying to be set on a copy of a slice from a DataFrame.\n",
            "Try using .loc[row_indexer,col_indexer] = value instead\n",
            "\n",
            "See the caveats in the documentation: https://pandas.pydata.org/pandas-docs/stable/user_guide/indexing.html#returning-a-view-versus-a-copy\n",
            "  \"\"\"Entry point for launching an IPython kernel.\n"
          ],
          "name": "stderr"
        }
      ]
    },
    {
      "cell_type": "code",
      "metadata": {
        "id": "U9PYNVd-qKIx",
        "outputId": "41b80657-c761-4e68-9039-9bf6460ab19e",
        "colab": {
          "base_uri": "https://localhost:8080/"
        }
      },
      "source": [
        "x['StateProvince'] = x['StateProvince'].replace(['SK'],'8')"
      ],
      "execution_count": null,
      "outputs": [
        {
          "output_type": "stream",
          "text": [
            "/usr/local/lib/python3.6/dist-packages/ipykernel_launcher.py:1: SettingWithCopyWarning: \n",
            "A value is trying to be set on a copy of a slice from a DataFrame.\n",
            "Try using .loc[row_indexer,col_indexer] = value instead\n",
            "\n",
            "See the caveats in the documentation: https://pandas.pydata.org/pandas-docs/stable/user_guide/indexing.html#returning-a-view-versus-a-copy\n",
            "  \"\"\"Entry point for launching an IPython kernel.\n"
          ],
          "name": "stderr"
        }
      ]
    },
    {
      "cell_type": "code",
      "metadata": {
        "id": "nUtqAENyqVue",
        "outputId": "e85648dc-2bdf-41a0-c2cf-3ae72e00c4c0",
        "colab": {
          "base_uri": "https://localhost:8080/",
          "height": 419
        }
      },
      "source": [
        "x"
      ],
      "execution_count": null,
      "outputs": [
        {
          "output_type": "execute_result",
          "data": {
            "text/html": [
              "<div>\n",
              "<style scoped>\n",
              "    .dataframe tbody tr th:only-of-type {\n",
              "        vertical-align: middle;\n",
              "    }\n",
              "\n",
              "    .dataframe tbody tr th {\n",
              "        vertical-align: top;\n",
              "    }\n",
              "\n",
              "    .dataframe thead th {\n",
              "        text-align: right;\n",
              "    }\n",
              "</style>\n",
              "<table border=\"1\" class=\"dataframe\">\n",
              "  <thead>\n",
              "    <tr style=\"text-align: right;\">\n",
              "      <th></th>\n",
              "      <th>StateProvince</th>\n",
              "      <th>CallReportNum</th>\n",
              "    </tr>\n",
              "  </thead>\n",
              "  <tbody>\n",
              "    <tr>\n",
              "      <th>0</th>\n",
              "      <td>1</td>\n",
              "      <td>51805319</td>\n",
              "    </tr>\n",
              "    <tr>\n",
              "      <th>1</th>\n",
              "      <td>1</td>\n",
              "      <td>51805954</td>\n",
              "    </tr>\n",
              "    <tr>\n",
              "      <th>2</th>\n",
              "      <td>1</td>\n",
              "      <td>51806285</td>\n",
              "    </tr>\n",
              "    <tr>\n",
              "      <th>3</th>\n",
              "      <td>1</td>\n",
              "      <td>51806377</td>\n",
              "    </tr>\n",
              "    <tr>\n",
              "      <th>4</th>\n",
              "      <td>1</td>\n",
              "      <td>51806428</td>\n",
              "    </tr>\n",
              "    <tr>\n",
              "      <th>...</th>\n",
              "      <td>...</td>\n",
              "      <td>...</td>\n",
              "    </tr>\n",
              "    <tr>\n",
              "      <th>101606</th>\n",
              "      <td>1</td>\n",
              "      <td>78143887</td>\n",
              "    </tr>\n",
              "    <tr>\n",
              "      <th>101607</th>\n",
              "      <td>1</td>\n",
              "      <td>78144190</td>\n",
              "    </tr>\n",
              "    <tr>\n",
              "      <th>101608</th>\n",
              "      <td>1</td>\n",
              "      <td>78144749</td>\n",
              "    </tr>\n",
              "    <tr>\n",
              "      <th>101610</th>\n",
              "      <td>1</td>\n",
              "      <td>78145762</td>\n",
              "    </tr>\n",
              "    <tr>\n",
              "      <th>101611</th>\n",
              "      <td>1</td>\n",
              "      <td>78146045</td>\n",
              "    </tr>\n",
              "  </tbody>\n",
              "</table>\n",
              "<p>101600 rows × 2 columns</p>\n",
              "</div>"
            ],
            "text/plain": [
              "       StateProvince  CallReportNum\n",
              "0                  1       51805319\n",
              "1                  1       51805954\n",
              "2                  1       51806285\n",
              "3                  1       51806377\n",
              "4                  1       51806428\n",
              "...              ...            ...\n",
              "101606             1       78143887\n",
              "101607             1       78144190\n",
              "101608             1       78144749\n",
              "101610             1       78145762\n",
              "101611             1       78146045\n",
              "\n",
              "[101600 rows x 2 columns]"
            ]
          },
          "metadata": {
            "tags": []
          },
          "execution_count": 204
        }
      ]
    },
    {
      "cell_type": "code",
      "metadata": {
        "id": "aakaY2Wcqb0D",
        "outputId": "85fb940b-db00-4ec8-c0be-efafaf304c43",
        "colab": {
          "base_uri": "https://localhost:8080/"
        }
      },
      "source": [
        "x.groupby(\"StateProvince\").size()"
      ],
      "execution_count": null,
      "outputs": [
        {
          "output_type": "execute_result",
          "data": {
            "text/plain": [
              "StateProvince\n",
              "1    101400\n",
              "2       119\n",
              "3        45\n",
              "4        16\n",
              "5        10\n",
              "6         4\n",
              "7         3\n",
              "8         1\n",
              "9         2\n",
              "dtype: int64"
            ]
          },
          "metadata": {
            "tags": []
          },
          "execution_count": 205
        }
      ]
    },
    {
      "cell_type": "code",
      "metadata": {
        "id": "zXF1WqwwyMUw",
        "outputId": "aba3d058-a28e-4d64-b659-daace31247c9",
        "colab": {
          "base_uri": "https://localhost:8080/"
        }
      },
      "source": [
        "# insert and run your answer here for k[0]\n",
        "from sklearn.cluster import KMeans\n",
        "kmeans = KMeans(n_clusters=k[0])\n",
        "kmeans.fit(x)\n",
        "y_kmeans = kmeans.predict(x)\n",
        "y_kmeans\n"
      ],
      "execution_count": null,
      "outputs": [
        {
          "output_type": "execute_result",
          "data": {
            "text/plain": [
              "array([0, 0, 0, ..., 1, 1, 1], dtype=int32)"
            ]
          },
          "metadata": {
            "tags": []
          },
          "execution_count": 206
        }
      ]
    },
    {
      "cell_type": "code",
      "metadata": {
        "id": "A61SQFKa0hJD",
        "outputId": "284094ff-eb54-4927-da2b-9ca3ad27bfd0",
        "colab": {
          "base_uri": "https://localhost:8080/",
          "height": 276
        }
      },
      "source": [
        "#plotting\n",
        "plt.scatter(x['StateProvince'], x[ 'CallReportNum'], c=y_kmeans,\n",
        "            s=22, cmap='viridis')\n",
        "\n",
        "centers = kmeans.cluster_centers_\n",
        "plt.scatter(centers[:, 0], centers[:, 1], c='black', s=400, alpha=0.5);"
      ],
      "execution_count": null,
      "outputs": [
        {
          "output_type": "display_data",
          "data": {
            "image/png": "[encoded data removed]",
            "text/plain": [
              "<Figure size 432x288 with 1 Axes>"
            ]
          },
          "metadata": {
            "tags": [],
            "needs_background": "light"
          }
        }
      ]
    },
    {
      "cell_type": "code",
      "metadata": {
        "id": "6r0Gv55jrDMx",
        "outputId": "a60a4db8-48db-4014-a8ec-2b97ac06ce19",
        "colab": {
          "base_uri": "https://localhost:8080/",
          "height": 276
        }
      },
      "source": [
        "#  answer here for k[2]\n",
        "from sklearn.cluster import KMeans\n",
        "kmeans = KMeans(n_clusters=k[2])\n",
        "kmeans.fit(x)\n",
        "y_kmeans = kmeans.predict(x)\n",
        "\n",
        "y_kmeans\n",
        "\n",
        "#plotting\n",
        "plt.scatter(x['StateProvince'], x[ 'CallReportNum'], c=y_kmeans,\n",
        "            s=220, cmap='viridis')\n",
        "\n",
        "centers = kmeans.cluster_centers_\n",
        "plt.scatter(centers[:, 0], centers[:, 1], c='black', s=40, alpha=0.5);"
      ],
      "execution_count": null,
      "outputs": [
        {
          "output_type": "display_data",
          "data": {
            "image/png": "[encoded data removed]",
            "text/plain": [
              "<Figure size 432x288 with 1 Axes>"
            ]
          },
          "metadata": {
            "tags": [],
            "needs_background": "light"
          }
        }
      ]
    },
    {
      "cell_type": "markdown",
      "metadata": {
        "id": "9zO0OpUV1lw-"
      },
      "source": [
        "DBscan, use eps=0.1 and min_samples=30"
      ]
    },
    {
      "cell_type": "code",
      "metadata": {
        "id": "hORWuvj11fUk",
        "outputId": "d23d7c47-2a0f-494c-db80-0c56631761cd",
        "colab": {
          "base_uri": "https://localhost:8080/"
        }
      },
      "source": [
        "\n",
        "from sklearn.cluster import DBSCAN\n",
        "clustering = DBSCAN(eps=0.1, min_samples=30).fit(x)\n",
        "clustering\n",
        "\n",
        "y_dbscan =clustering.fit_predict(x)\n",
        "y_dbscan\n",
        "\n",
        "\n",
        "\n",
        "\n"
      ],
      "execution_count": null,
      "outputs": [
        {
          "output_type": "execute_result",
          "data": {
            "text/plain": [
              "array([-1, -1, -1, ..., -1, -1, -1])"
            ]
          },
          "metadata": {
            "tags": []
          },
          "execution_count": 172
        }
      ]
    },
    {
      "cell_type": "code",
      "metadata": {
        "id": "KB78Kvp9J6-s",
        "outputId": "2766a550-56ae-4108-8718-ac910b6c4bfc",
        "colab": {
          "base_uri": "https://localhost:8080/",
          "height": 293
        }
      },
      "source": [
        "#plotting\n",
        "plt.scatter(x['Heure'], x[ 'CallReportNum'], c=y_dbscan,\n",
        "            s=110, cmap='viridis')\n"
      ],
      "execution_count": null,
      "outputs": [
        {
          "output_type": "execute_result",
          "data": {
            "text/plain": [
              "<matplotlib.collections.PathCollection at 0x7efd67df7ef0>"
            ]
          },
          "metadata": {
            "tags": []
          },
          "execution_count": 173
        },
        {
          "output_type": "display_data",
          "data": {
            "image/png": "[encoded data removed]",
            "text/plain": [
              "<Figure size 432x288 with 1 Axes>"
            ]
          },
          "metadata": {
            "tags": [],
            "needs_background": "light"
          }
        }
      ]
    },
    {
      "cell_type": "code",
      "metadata": {
        "id": "iB9u3g5hK4FB"
      },
      "source": [
        "train_data = appels_profils"
      ],
      "execution_count": null,
      "outputs": []
    },
    {
      "cell_type": "code",
      "metadata": {
        "id": "EXZgULZHK55G",
        "outputId": "6d847807-e61b-4f58-e6ca-95b3b24d9c79",
        "colab": {
          "base_uri": "https://localhost:8080/",
          "height": 419
        }
      },
      "source": [
        "k = [2,3,4]\n",
        "import matplotlib.pyplot as plt\n",
        "from sklearn.cluster import KMeans\n",
        "from sklearn.datasets import make_blobs\n",
        "x=train_data[['Genre', 'Langue']]\n",
        "x"
      ],
      "execution_count": null,
      "outputs": [
        {
          "output_type": "execute_result",
          "data": {
            "text/html": [
              "<div>\n",
              "<style scoped>\n",
              "    .dataframe tbody tr th:only-of-type {\n",
              "        vertical-align: middle;\n",
              "    }\n",
              "\n",
              "    .dataframe tbody tr th {\n",
              "        vertical-align: top;\n",
              "    }\n",
              "\n",
              "    .dataframe thead th {\n",
              "        text-align: right;\n",
              "    }\n",
              "</style>\n",
              "<table border=\"1\" class=\"dataframe\">\n",
              "  <thead>\n",
              "    <tr style=\"text-align: right;\">\n",
              "      <th></th>\n",
              "      <th>Genre</th>\n",
              "      <th>Langue</th>\n",
              "    </tr>\n",
              "  </thead>\n",
              "  <tbody>\n",
              "    <tr>\n",
              "      <th>0</th>\n",
              "      <td>Femme</td>\n",
              "      <td>Français</td>\n",
              "    </tr>\n",
              "    <tr>\n",
              "      <th>1</th>\n",
              "      <td>Homme</td>\n",
              "      <td>Français</td>\n",
              "    </tr>\n",
              "    <tr>\n",
              "      <th>2</th>\n",
              "      <td>Homme</td>\n",
              "      <td>Français</td>\n",
              "    </tr>\n",
              "    <tr>\n",
              "      <th>3</th>\n",
              "      <td>Homme</td>\n",
              "      <td>Français</td>\n",
              "    </tr>\n",
              "    <tr>\n",
              "      <th>4</th>\n",
              "      <td>Homme</td>\n",
              "      <td>Français</td>\n",
              "    </tr>\n",
              "    <tr>\n",
              "      <th>...</th>\n",
              "      <td>...</td>\n",
              "      <td>...</td>\n",
              "    </tr>\n",
              "    <tr>\n",
              "      <th>101607</th>\n",
              "      <td>Femme</td>\n",
              "      <td>Français</td>\n",
              "    </tr>\n",
              "    <tr>\n",
              "      <th>101608</th>\n",
              "      <td>Femme</td>\n",
              "      <td>Français</td>\n",
              "    </tr>\n",
              "    <tr>\n",
              "      <th>101609</th>\n",
              "      <td>Femme</td>\n",
              "      <td>Anglais</td>\n",
              "    </tr>\n",
              "    <tr>\n",
              "      <th>101610</th>\n",
              "      <td>Femme</td>\n",
              "      <td>Français</td>\n",
              "    </tr>\n",
              "    <tr>\n",
              "      <th>101611</th>\n",
              "      <td>Homme</td>\n",
              "      <td>Anglais</td>\n",
              "    </tr>\n",
              "  </tbody>\n",
              "</table>\n",
              "<p>101612 rows × 2 columns</p>\n",
              "</div>"
            ],
            "text/plain": [
              "        Genre    Langue\n",
              "0       Femme  Français\n",
              "1       Homme  Français\n",
              "2       Homme  Français\n",
              "3       Homme  Français\n",
              "4       Homme  Français\n",
              "...       ...       ...\n",
              "101607  Femme  Français\n",
              "101608  Femme  Français\n",
              "101609  Femme   Anglais\n",
              "101610  Femme  Français\n",
              "101611  Homme   Anglais\n",
              "\n",
              "[101612 rows x 2 columns]"
            ]
          },
          "metadata": {
            "tags": []
          },
          "execution_count": 153
        }
      ]
    },
    {
      "cell_type": "code",
      "metadata": {
        "id": "YflN9jbXNqQo",
        "outputId": "09a17e3b-dc42-4ee1-c323-d4ce61c8ea11",
        "colab": {
          "base_uri": "https://localhost:8080/",
          "height": 419
        }
      },
      "source": [
        "import pandas as pd\n",
        "x = x.dropna()\n",
        "x"
      ],
      "execution_count": null,
      "outputs": [
        {
          "output_type": "execute_result",
          "data": {
            "text/html": [
              "<div>\n",
              "<style scoped>\n",
              "    .dataframe tbody tr th:only-of-type {\n",
              "        vertical-align: middle;\n",
              "    }\n",
              "\n",
              "    .dataframe tbody tr th {\n",
              "        vertical-align: top;\n",
              "    }\n",
              "\n",
              "    .dataframe thead th {\n",
              "        text-align: right;\n",
              "    }\n",
              "</style>\n",
              "<table border=\"1\" class=\"dataframe\">\n",
              "  <thead>\n",
              "    <tr style=\"text-align: right;\">\n",
              "      <th></th>\n",
              "      <th>StateProvince</th>\n",
              "      <th>CallReportNum</th>\n",
              "    </tr>\n",
              "  </thead>\n",
              "  <tbody>\n",
              "    <tr>\n",
              "      <th>0</th>\n",
              "      <td>1</td>\n",
              "      <td>51805319</td>\n",
              "    </tr>\n",
              "    <tr>\n",
              "      <th>1</th>\n",
              "      <td>1</td>\n",
              "      <td>51805954</td>\n",
              "    </tr>\n",
              "    <tr>\n",
              "      <th>2</th>\n",
              "      <td>1</td>\n",
              "      <td>51806285</td>\n",
              "    </tr>\n",
              "    <tr>\n",
              "      <th>3</th>\n",
              "      <td>1</td>\n",
              "      <td>51806377</td>\n",
              "    </tr>\n",
              "    <tr>\n",
              "      <th>4</th>\n",
              "      <td>1</td>\n",
              "      <td>51806428</td>\n",
              "    </tr>\n",
              "    <tr>\n",
              "      <th>...</th>\n",
              "      <td>...</td>\n",
              "      <td>...</td>\n",
              "    </tr>\n",
              "    <tr>\n",
              "      <th>101606</th>\n",
              "      <td>1</td>\n",
              "      <td>78143887</td>\n",
              "    </tr>\n",
              "    <tr>\n",
              "      <th>101607</th>\n",
              "      <td>1</td>\n",
              "      <td>78144190</td>\n",
              "    </tr>\n",
              "    <tr>\n",
              "      <th>101608</th>\n",
              "      <td>1</td>\n",
              "      <td>78144749</td>\n",
              "    </tr>\n",
              "    <tr>\n",
              "      <th>101610</th>\n",
              "      <td>1</td>\n",
              "      <td>78145762</td>\n",
              "    </tr>\n",
              "    <tr>\n",
              "      <th>101611</th>\n",
              "      <td>1</td>\n",
              "      <td>78146045</td>\n",
              "    </tr>\n",
              "  </tbody>\n",
              "</table>\n",
              "<p>101600 rows × 2 columns</p>\n",
              "</div>"
            ],
            "text/plain": [
              "       StateProvince  CallReportNum\n",
              "0                  1       51805319\n",
              "1                  1       51805954\n",
              "2                  1       51806285\n",
              "3                  1       51806377\n",
              "4                  1       51806428\n",
              "...              ...            ...\n",
              "101606             1       78143887\n",
              "101607             1       78144190\n",
              "101608             1       78144749\n",
              "101610             1       78145762\n",
              "101611             1       78146045\n",
              "\n",
              "[101600 rows x 2 columns]"
            ]
          },
          "metadata": {
            "tags": []
          },
          "execution_count": 197
        }
      ]
    },
    {
      "cell_type": "code",
      "metadata": {
        "id": "r_eHbRIBfbw3"
      },
      "source": [
        "bdorg_contacts = pd.read_excel('BDorg_Contact.xlsx')"
      ],
      "execution_count": null,
      "outputs": []
    },
    {
      "cell_type": "code",
      "metadata": {
        "id": "oi7q_ZhBfb0D",
        "outputId": "d8f22b4a-a390-473b-c068-8f41c017fb3f",
        "colab": {
          "base_uri": "https://localhost:8080/",
          "height": 275
        }
      },
      "source": [
        "bdorg_contacts.tail()"
      ],
      "execution_count": null,
      "outputs": [
        {
          "output_type": "execute_result",
          "data": {
            "text/html": [
              "<div>\n",
              "<style scoped>\n",
              "    .dataframe tbody tr th:only-of-type {\n",
              "        vertical-align: middle;\n",
              "    }\n",
              "\n",
              "    .dataframe tbody tr th {\n",
              "        vertical-align: top;\n",
              "    }\n",
              "\n",
              "    .dataframe thead th {\n",
              "        text-align: right;\n",
              "    }\n",
              "</style>\n",
              "<table border=\"1\" class=\"dataframe\">\n",
              "  <thead>\n",
              "    <tr style=\"text-align: right;\">\n",
              "      <th></th>\n",
              "      <th>ResourceAgencyNum</th>\n",
              "      <th>Phone1Number</th>\n",
              "      <th>Phone1Description</th>\n",
              "      <th>Phone1IsPrivate</th>\n",
              "      <th>PhoneNumberBusinessLine</th>\n",
              "      <th>PhoneNumberBusinessLineDescription</th>\n",
              "      <th>PhoneNumberBusinessLineIsPrivate</th>\n",
              "      <th>EmailAddressMain</th>\n",
              "      <th>WebsiteAddress</th>\n",
              "      <th>Custom_Facebook Page</th>\n",
              "      <th>Custom_Twitter</th>\n",
              "    </tr>\n",
              "  </thead>\n",
              "  <tbody>\n",
              "    <tr>\n",
              "      <th>5551</th>\n",
              "      <td>18760880</td>\n",
              "      <td>514 842-4464</td>\n",
              "      <td>NaN</td>\n",
              "      <td>False</td>\n",
              "      <td>514 842-4464</td>\n",
              "      <td>NaN</td>\n",
              "      <td>False</td>\n",
              "      <td>NaN</td>\n",
              "      <td>fr.shrinershospitalsforchildren.org</td>\n",
              "      <td>facebook.com/ShrinersHospitalsforChildren</td>\n",
              "      <td>twitter.com/shrinershosp</td>\n",
              "    </tr>\n",
              "    <tr>\n",
              "      <th>5552</th>\n",
              "      <td>18760573</td>\n",
              "      <td>1 800 363-6048</td>\n",
              "      <td>NaN</td>\n",
              "      <td>False</td>\n",
              "      <td>514 935-2501</td>\n",
              "      <td>NaN</td>\n",
              "      <td>False</td>\n",
              "      <td>NaN</td>\n",
              "      <td>www.oiiq.org</td>\n",
              "      <td>www.facebook.com/OIIQSante</td>\n",
              "      <td>twitter.com/oiiq</td>\n",
              "    </tr>\n",
              "    <tr>\n",
              "      <th>5553</th>\n",
              "      <td>18765867</td>\n",
              "      <td>1 877 356-3226</td>\n",
              "      <td>NaN</td>\n",
              "      <td>False</td>\n",
              "      <td>514 362-2930</td>\n",
              "      <td>NaN</td>\n",
              "      <td>False</td>\n",
              "      <td>NaN</td>\n",
              "      <td>www.croixrouge.ca</td>\n",
              "      <td>www.facebook.com/CroixRougeQuebec</td>\n",
              "      <td>twitter.com/croixrouge_qc</td>\n",
              "    </tr>\n",
              "    <tr>\n",
              "      <th>5554</th>\n",
              "      <td>18760090</td>\n",
              "      <td>514 526-1699</td>\n",
              "      <td>NaN</td>\n",
              "      <td>False</td>\n",
              "      <td>514 526-1699</td>\n",
              "      <td>NaN</td>\n",
              "      <td>False</td>\n",
              "      <td>NaN</td>\n",
              "      <td>www.pasdelarue.org</td>\n",
              "      <td>www.facebook.com/Le-PAS-de-la-rue-366730670033857</td>\n",
              "      <td>twitter.com/Pasdelarue</td>\n",
              "    </tr>\n",
              "    <tr>\n",
              "      <th>5555</th>\n",
              "      <td>18763900</td>\n",
              "      <td>NaN</td>\n",
              "      <td>NaN</td>\n",
              "      <td>False</td>\n",
              "      <td>NaN</td>\n",
              "      <td>NaN</td>\n",
              "      <td>False</td>\n",
              "      <td>NaN</td>\n",
              "      <td>www.educaloi.qc.ca</td>\n",
              "      <td>www.facebook.com/educaloi</td>\n",
              "      <td>twitter.com/educaloi</td>\n",
              "    </tr>\n",
              "  </tbody>\n",
              "</table>\n",
              "</div>"
            ],
            "text/plain": [
              "      ResourceAgencyNum  ...             Custom_Twitter\n",
              "5551           18760880  ...   twitter.com/shrinershosp\n",
              "5552           18760573  ...           twitter.com/oiiq\n",
              "5553           18765867  ...  twitter.com/croixrouge_qc\n",
              "5554           18760090  ...     twitter.com/Pasdelarue\n",
              "5555           18763900  ...       twitter.com/educaloi\n",
              "\n",
              "[5 rows x 11 columns]"
            ]
          },
          "metadata": {
            "tags": []
          },
          "execution_count": 19
        }
      ]
    },
    {
      "cell_type": "code",
      "metadata": {
        "id": "0HSBS0Y2fb4F"
      },
      "source": [
        "bdorg_general = pd.read_excel('BDorg_Général.xlsx')"
      ],
      "execution_count": null,
      "outputs": []
    },
    {
      "cell_type": "code",
      "metadata": {
        "id": "lrx_XmK0fm8W",
        "outputId": "81c1010b-e0f4-4b84-f1c1-e1cd590cd4a8",
        "colab": {
          "base_uri": "https://localhost:8080/",
          "height": 442
        }
      },
      "source": [
        "bdorg_general.tail()"
      ],
      "execution_count": null,
      "outputs": [
        {
          "output_type": "execute_result",
          "data": {
            "text/html": [
              "<div>\n",
              "<style scoped>\n",
              "    .dataframe tbody tr th:only-of-type {\n",
              "        vertical-align: middle;\n",
              "    }\n",
              "\n",
              "    .dataframe tbody tr th {\n",
              "        vertical-align: top;\n",
              "    }\n",
              "\n",
              "    .dataframe thead th {\n",
              "        text-align: right;\n",
              "    }\n",
              "</style>\n",
              "<table border=\"1\" class=\"dataframe\">\n",
              "  <thead>\n",
              "    <tr style=\"text-align: right;\">\n",
              "      <th></th>\n",
              "      <th>ResourceAgencyNum</th>\n",
              "      <th>PublicName</th>\n",
              "      <th>LegalStatus</th>\n",
              "      <th>AlternateName</th>\n",
              "      <th>TaxonomyLevelName</th>\n",
              "      <th>ParentAgency</th>\n",
              "      <th>ParentAgencyNum</th>\n",
              "      <th>LastVerifiedOn</th>\n",
              "      <th>LanguageOfRecord</th>\n",
              "      <th>Custom_Statut temporaire Covid-19</th>\n",
              "      <th>Custom_Acronym</th>\n",
              "    </tr>\n",
              "  </thead>\n",
              "  <tbody>\n",
              "    <tr>\n",
              "      <th>5551</th>\n",
              "      <td>30790854</td>\n",
              "      <td>BIBLIOTHÈQUE PUBLIQUE DE DOLLARD-DES-ORMEAUX</td>\n",
              "      <td>organisme municipal</td>\n",
              "      <td>NaN</td>\n",
              "      <td>Program</td>\n",
              "      <td>DOLLARD-DES-ORMEAUX - VILLE</td>\n",
              "      <td>18760983</td>\n",
              "      <td>2020-06-04</td>\n",
              "      <td>fr</td>\n",
              "      <td>Ouvert</td>\n",
              "      <td>NaN</td>\n",
              "    </tr>\n",
              "    <tr>\n",
              "      <th>5552</th>\n",
              "      <td>51229060</td>\n",
              "      <td>BIBLIOTHÈQUE MUNICIPALE DE NAPIERVILLE</td>\n",
              "      <td>organisme municipal</td>\n",
              "      <td>NaN</td>\n",
              "      <td>Program</td>\n",
              "      <td>NAPIERVILLE - MUNICIPALITÉ</td>\n",
              "      <td>19499426</td>\n",
              "      <td>2020-06-05</td>\n",
              "      <td>fr</td>\n",
              "      <td>Ouvert</td>\n",
              "      <td>NaN</td>\n",
              "    </tr>\n",
              "    <tr>\n",
              "      <th>5553</th>\n",
              "      <td>49492168</td>\n",
              "      <td>BIBLIOTHÈQUE MUNICIPALE DE SAINT-JACQUES-LE-MI...</td>\n",
              "      <td>organisme municipal</td>\n",
              "      <td>NaN</td>\n",
              "      <td>Program</td>\n",
              "      <td>SAINT-JACQUES-LE-MINEUR - MUNICIPALITÉ</td>\n",
              "      <td>19533005</td>\n",
              "      <td>2019-08-21</td>\n",
              "      <td>fr</td>\n",
              "      <td>Ouvert</td>\n",
              "      <td>NaN</td>\n",
              "    </tr>\n",
              "    <tr>\n",
              "      <th>5554</th>\n",
              "      <td>18766848</td>\n",
              "      <td>BOISBRIAND - LOISIRS, CULTURE ET BIBLIOTHÈQUE</td>\n",
              "      <td>organisme municipal</td>\n",
              "      <td>NaN</td>\n",
              "      <td>Program</td>\n",
              "      <td>BOISBRIAND - VILLE</td>\n",
              "      <td>18762253</td>\n",
              "      <td>2020-06-08</td>\n",
              "      <td>fr</td>\n",
              "      <td>Ouvert</td>\n",
              "      <td>NaN</td>\n",
              "    </tr>\n",
              "    <tr>\n",
              "      <th>5555</th>\n",
              "      <td>42388216</td>\n",
              "      <td>REBOND (LE)</td>\n",
              "      <td>organisme parapublic</td>\n",
              "      <td>NaN</td>\n",
              "      <td>Program</td>\n",
              "      <td>OFFICE MUNICIPAL D'HABITATION DE MONTRÉAL - SI...</td>\n",
              "      <td>18760248</td>\n",
              "      <td>2019-08-14</td>\n",
              "      <td>fr</td>\n",
              "      <td>Ouvert</td>\n",
              "      <td>NaN</td>\n",
              "    </tr>\n",
              "  </tbody>\n",
              "</table>\n",
              "</div>"
            ],
            "text/plain": [
              "      ResourceAgencyNum  ... Custom_Acronym\n",
              "5551           30790854  ...            NaN\n",
              "5552           51229060  ...            NaN\n",
              "5553           49492168  ...            NaN\n",
              "5554           18766848  ...            NaN\n",
              "5555           42388216  ...            NaN\n",
              "\n",
              "[5 rows x 11 columns]"
            ]
          },
          "metadata": {
            "tags": []
          },
          "execution_count": 21
        }
      ]
    },
    {
      "cell_type": "code",
      "metadata": {
        "id": "xMXG6sqRfm_t"
      },
      "source": [
        "bdorg_localisation = pd.read_excel('BDorg_Localisation.xlsx')"
      ],
      "execution_count": null,
      "outputs": []
    },
    {
      "cell_type": "code",
      "metadata": {
        "id": "VjCuD3pNfnC-",
        "outputId": "aa4c2189-6c82-4eeb-90b6-0928c03a23ba",
        "colab": {
          "base_uri": "https://localhost:8080/",
          "height": 204
        }
      },
      "source": [
        "bdorg_localisation.tail()"
      ],
      "execution_count": null,
      "outputs": [
        {
          "output_type": "execute_result",
          "data": {
            "text/html": [
              "<div>\n",
              "<style scoped>\n",
              "    .dataframe tbody tr th:only-of-type {\n",
              "        vertical-align: middle;\n",
              "    }\n",
              "\n",
              "    .dataframe tbody tr th {\n",
              "        vertical-align: top;\n",
              "    }\n",
              "\n",
              "    .dataframe thead th {\n",
              "        text-align: right;\n",
              "    }\n",
              "</style>\n",
              "<table border=\"1\" class=\"dataframe\">\n",
              "  <thead>\n",
              "    <tr style=\"text-align: right;\">\n",
              "      <th></th>\n",
              "      <th>ResourceAgencyNum</th>\n",
              "      <th>Municipalité_Code</th>\n",
              "      <th>PhysicalAddress1</th>\n",
              "      <th>PhysicalAddressIsPrivate</th>\n",
              "      <th>PhysicalStateProvince</th>\n",
              "      <th>PhysicalPostalCode</th>\n",
              "      <th>Latitude</th>\n",
              "      <th>Longitude</th>\n",
              "    </tr>\n",
              "  </thead>\n",
              "  <tbody>\n",
              "    <tr>\n",
              "      <th>5551</th>\n",
              "      <td>18764121</td>\n",
              "      <td>NaN</td>\n",
              "      <td>NaN</td>\n",
              "      <td>No</td>\n",
              "      <td>NaN</td>\n",
              "      <td>NaN</td>\n",
              "      <td>45.463819</td>\n",
              "      <td>-73.823365</td>\n",
              "    </tr>\n",
              "    <tr>\n",
              "      <th>5552</th>\n",
              "      <td>42810221</td>\n",
              "      <td>NaN</td>\n",
              "      <td>20, chemin Loftus</td>\n",
              "      <td>No</td>\n",
              "      <td>ON</td>\n",
              "      <td>L0L 2K0</td>\n",
              "      <td>44.513670</td>\n",
              "      <td>-79.810330</td>\n",
              "    </tr>\n",
              "    <tr>\n",
              "      <th>5553</th>\n",
              "      <td>33806083</td>\n",
              "      <td>76065.0</td>\n",
              "      <td>5500, North Service Road, bureau 1002</td>\n",
              "      <td>No</td>\n",
              "      <td>ON</td>\n",
              "      <td>L7L 6W6</td>\n",
              "      <td>43.396110</td>\n",
              "      <td>-79.761240</td>\n",
              "    </tr>\n",
              "    <tr>\n",
              "      <th>5554</th>\n",
              "      <td>54590531</td>\n",
              "      <td>94250.0</td>\n",
              "      <td>NaN</td>\n",
              "      <td>Yes</td>\n",
              "      <td>SK</td>\n",
              "      <td>NaN</td>\n",
              "      <td>NaN</td>\n",
              "      <td>NaN</td>\n",
              "    </tr>\n",
              "    <tr>\n",
              "      <th>5555</th>\n",
              "      <td>18762170</td>\n",
              "      <td>81017.0</td>\n",
              "      <td>200, boulevard Sacré-Coeur, 12e étage</td>\n",
              "      <td>No</td>\n",
              "      <td>ON</td>\n",
              "      <td>K1A 0H3</td>\n",
              "      <td>44.162280</td>\n",
              "      <td>-78.085580</td>\n",
              "    </tr>\n",
              "  </tbody>\n",
              "</table>\n",
              "</div>"
            ],
            "text/plain": [
              "      ResourceAgencyNum  Municipalité_Code  ...   Latitude  Longitude\n",
              "5551           18764121                NaN  ...  45.463819 -73.823365\n",
              "5552           42810221                NaN  ...  44.513670 -79.810330\n",
              "5553           33806083            76065.0  ...  43.396110 -79.761240\n",
              "5554           54590531            94250.0  ...        NaN        NaN\n",
              "5555           18762170            81017.0  ...  44.162280 -78.085580\n",
              "\n",
              "[5 rows x 8 columns]"
            ]
          },
          "metadata": {
            "tags": []
          },
          "execution_count": 23
        }
      ]
    },
    {
      "cell_type": "code",
      "metadata": {
        "id": "gYlEVxRxfnGc"
      },
      "source": [
        "bdorg_taxonomies = pd.read_excel('BDorg_Taxonomies.xlsx')"
      ],
      "execution_count": null,
      "outputs": []
    },
    {
      "cell_type": "code",
      "metadata": {
        "id": "mRZzvbFRfxrZ",
        "outputId": "2d42ae12-3014-4d00-bcce-67668ef058e0",
        "colab": {
          "base_uri": "https://localhost:8080/",
          "height": 204
        }
      },
      "source": [
        "bdorg_taxonomies.tail()"
      ],
      "execution_count": null,
      "outputs": [
        {
          "output_type": "execute_result",
          "data": {
            "text/html": [
              "<div>\n",
              "<style scoped>\n",
              "    .dataframe tbody tr th:only-of-type {\n",
              "        vertical-align: middle;\n",
              "    }\n",
              "\n",
              "    .dataframe tbody tr th {\n",
              "        vertical-align: top;\n",
              "    }\n",
              "\n",
              "    .dataframe thead th {\n",
              "        text-align: right;\n",
              "    }\n",
              "</style>\n",
              "<table border=\"1\" class=\"dataframe\">\n",
              "  <thead>\n",
              "    <tr style=\"text-align: right;\">\n",
              "      <th></th>\n",
              "      <th>ResourceAgencyNum</th>\n",
              "      <th>TaxonomyCodes</th>\n",
              "      <th>TaxonomyTerm</th>\n",
              "    </tr>\n",
              "  </thead>\n",
              "  <tbody>\n",
              "    <tr>\n",
              "      <th>5551</th>\n",
              "      <td>40054459</td>\n",
              "      <td>HH-0500.0500; PL-7400.1500 * YG-2000; HH-4500....</td>\n",
              "      <td>Éducation de base des adultes; Cours d'informa...</td>\n",
              "    </tr>\n",
              "    <tr>\n",
              "      <th>5552</th>\n",
              "      <td>40450084</td>\n",
              "      <td>PS-8000.1900; YH-0300.6150</td>\n",
              "      <td>Clubs sociaux ethnoculturels; Communauté nigér...</td>\n",
              "    </tr>\n",
              "    <tr>\n",
              "      <th>5553</th>\n",
              "      <td>41667289</td>\n",
              "      <td>BD-1800.2000; BD-1875.2700; TI-1800.2000</td>\n",
              "      <td>Banques alimentaires; Récupération d'aliments ...</td>\n",
              "    </tr>\n",
              "    <tr>\n",
              "      <th>5554</th>\n",
              "      <td>50426073</td>\n",
              "      <td>BD-2600.1500; BD-5000.1470; BD-1800.6400; BM-6...</td>\n",
              "      <td>Jardins communautaires; Repas communautaires; ...</td>\n",
              "    </tr>\n",
              "    <tr>\n",
              "      <th>5555</th>\n",
              "      <td>54223611</td>\n",
              "      <td>BD-5000.4500; TI-1800.2000; BD-1875.2700</td>\n",
              "      <td>Repas à faible coût; Dons de nourriture; Récup...</td>\n",
              "    </tr>\n",
              "  </tbody>\n",
              "</table>\n",
              "</div>"
            ],
            "text/plain": [
              "      ResourceAgencyNum  ...                                       TaxonomyTerm\n",
              "5551           40054459  ...  Éducation de base des adultes; Cours d'informa...\n",
              "5552           40450084  ...  Clubs sociaux ethnoculturels; Communauté nigér...\n",
              "5553           41667289  ...  Banques alimentaires; Récupération d'aliments ...\n",
              "5554           50426073  ...  Jardins communautaires; Repas communautaires; ...\n",
              "5555           54223611  ...  Repas à faible coût; Dons de nourriture; Récup...\n",
              "\n",
              "[5 rows x 3 columns]"
            ]
          },
          "metadata": {
            "tags": []
          },
          "execution_count": 25
        }
      ]
    },
    {
      "cell_type": "code",
      "metadata": {
        "id": "uWTLh0dMfxuP"
      },
      "source": [
        "bdorg_territoire = pd.read_excel('BDorg_Territoire desservi.xlsx')"
      ],
      "execution_count": null,
      "outputs": []
    },
    {
      "cell_type": "code",
      "metadata": {
        "id": "Aso7UtGTfx0Y",
        "outputId": "2868e6a3-3ed7-45bc-fb4f-8807d62d7a21",
        "colab": {
          "base_uri": "https://localhost:8080/",
          "height": 204
        }
      },
      "source": [
        "bdorg_territoire.tail()"
      ],
      "execution_count": null,
      "outputs": [
        {
          "output_type": "execute_result",
          "data": {
            "text/html": [
              "<div>\n",
              "<style scoped>\n",
              "    .dataframe tbody tr th:only-of-type {\n",
              "        vertical-align: middle;\n",
              "    }\n",
              "\n",
              "    .dataframe tbody tr th {\n",
              "        vertical-align: top;\n",
              "    }\n",
              "\n",
              "    .dataframe thead th {\n",
              "        text-align: right;\n",
              "    }\n",
              "</style>\n",
              "<table border=\"1\" class=\"dataframe\">\n",
              "  <thead>\n",
              "    <tr style=\"text-align: right;\">\n",
              "      <th></th>\n",
              "      <th>ResourceAgencyNum</th>\n",
              "      <th>Coverage</th>\n",
              "    </tr>\n",
              "  </thead>\n",
              "  <tbody>\n",
              "    <tr>\n",
              "      <th>5551</th>\n",
              "      <td>40622563</td>\n",
              "      <td>QC - Montérégie County - Châteauguay;</td>\n",
              "    </tr>\n",
              "    <tr>\n",
              "      <th>5552</th>\n",
              "      <td>25558723</td>\n",
              "      <td>QC - Montréal County - Ville-Marie;</td>\n",
              "    </tr>\n",
              "    <tr>\n",
              "      <th>5553</th>\n",
              "      <td>40054459</td>\n",
              "      <td>QC - Montréal County - Baie-D'Urfé; QC - Montr...</td>\n",
              "    </tr>\n",
              "    <tr>\n",
              "      <th>5554</th>\n",
              "      <td>41667289</td>\n",
              "      <td>QC - Montréal County - LaSalle;</td>\n",
              "    </tr>\n",
              "    <tr>\n",
              "      <th>5555</th>\n",
              "      <td>50426073</td>\n",
              "      <td>QC - Montréal County - Baie-D'Urfé; QC - Montr...</td>\n",
              "    </tr>\n",
              "  </tbody>\n",
              "</table>\n",
              "</div>"
            ],
            "text/plain": [
              "      ResourceAgencyNum                                           Coverage\n",
              "5551           40622563              QC - Montérégie County - Châteauguay;\n",
              "5552           25558723                QC - Montréal County - Ville-Marie;\n",
              "5553           40054459  QC - Montréal County - Baie-D'Urfé; QC - Montr...\n",
              "5554           41667289                    QC - Montréal County - LaSalle;\n",
              "5555           50426073  QC - Montréal County - Baie-D'Urfé; QC - Montr..."
            ]
          },
          "metadata": {
            "tags": []
          },
          "execution_count": 27
        }
      ]
    },
    {
      "cell_type": "code",
      "metadata": {
        "id": "3Dcvi2o_fxyD"
      },
      "source": [
        "bdorg_information = pd.read_excel('BDorg_information.xlsx')"
      ],
      "execution_count": null,
      "outputs": []
    },
    {
      "cell_type": "code",
      "metadata": {
        "id": "gcwnvBhjf7Ny",
        "outputId": "bbf2edd6-6709-4cfc-8794-7a183a5a154e",
        "colab": {
          "base_uri": "https://localhost:8080/",
          "height": 530
        }
      },
      "source": [
        "bdorg_information.tail()"
      ],
      "execution_count": null,
      "outputs": [
        {
          "output_type": "execute_result",
          "data": {
            "text/html": [
              "<div>\n",
              "<style scoped>\n",
              "    .dataframe tbody tr th:only-of-type {\n",
              "        vertical-align: middle;\n",
              "    }\n",
              "\n",
              "    .dataframe tbody tr th {\n",
              "        vertical-align: top;\n",
              "    }\n",
              "\n",
              "    .dataframe thead th {\n",
              "        text-align: right;\n",
              "    }\n",
              "</style>\n",
              "<table border=\"1\" class=\"dataframe\">\n",
              "  <thead>\n",
              "    <tr style=\"text-align: right;\">\n",
              "      <th></th>\n",
              "      <th>ResourceAgencyNum</th>\n",
              "      <th>HoursOfOperation</th>\n",
              "      <th>AgencyDescription</th>\n",
              "      <th>CoverageArea</th>\n",
              "      <th>Eligibility</th>\n",
              "      <th>SourceOfFunds</th>\n",
              "      <th>FeeStructureSource</th>\n",
              "      <th>ApplicationProcess</th>\n",
              "      <th>DocumentsRequired</th>\n",
              "      <th>LanguagesOfferedListFrench</th>\n",
              "      <th>ServiceCapacity</th>\n",
              "      <th>Custom_Disability Access</th>\n",
              "    </tr>\n",
              "  </thead>\n",
              "  <tbody>\n",
              "    <tr>\n",
              "      <th>5551</th>\n",
              "      <td>18765363</td>\n",
              "      <td>lundi au vendredi 8h30 à 16h30, cuisines colle...</td>\n",
              "      <td>&lt;strong&gt;INFORMATION TEMPORAIRE : Covid-19: Les...</td>\n",
              "      <td>Laval</td>\n",
              "      <td>jeunes de 14 à 35 ans vivant avec des limitati...</td>\n",
              "      <td>provincial, dons, fédéral</td>\n",
              "      <td>carte de membre: 5$, camps de jour: variables</td>\n",
              "      <td>NaN</td>\n",
              "      <td>formulaire d'inscription</td>\n",
              "      <td>français, anglais</td>\n",
              "      <td>10 à 15 personnes par activités</td>\n",
              "      <td>Accessible aux fauteuils roulants; Stationneme...</td>\n",
              "    </tr>\n",
              "    <tr>\n",
              "      <th>5552</th>\n",
              "      <td>39285086</td>\n",
              "      <td>lundi au vendredi 9h00 à 17h00</td>\n",
              "      <td>Logements subventionnés pour personnes aînées....</td>\n",
              "      <td>Laval</td>\n",
              "      <td>personnes de 75 ans et plus autonomes ou 65 an...</td>\n",
              "      <td>provincial</td>\n",
              "      <td>25% du revenu selon l'avis de cotisation provi...</td>\n",
              "      <td>liste d'attente</td>\n",
              "      <td>formulaire de demande, avis de cotisation prov...</td>\n",
              "      <td>français, anglais</td>\n",
              "      <td>28 logements</td>\n",
              "      <td>Accessible aux fauteuils roulants; Stationneme...</td>\n",
              "    </tr>\n",
              "    <tr>\n",
              "      <th>5553</th>\n",
              "      <td>18765093</td>\n",
              "      <td>camp de jour: fin juin à mi-août, lundi au ven...</td>\n",
              "      <td>Camp de jour estival et halte-répit spécialisé...</td>\n",
              "      <td>MRC Vaudreuil-Soulanges</td>\n",
              "      <td>personnes de 4 à 21 ans avec une incapacité ph...</td>\n",
              "      <td>provincial, fédéral, autofinancement</td>\n",
              "      <td>camp de jour estival: 450$ pour 7 semaines, ha...</td>\n",
              "      <td>NaN</td>\n",
              "      <td>formulaire d'inscription et fiche de renseigne...</td>\n",
              "      <td>français, anglais</td>\n",
              "      <td>environ 20 places, halte-répit: 10 places</td>\n",
              "      <td>Accessible aux fauteuils roulants</td>\n",
              "    </tr>\n",
              "    <tr>\n",
              "      <th>5554</th>\n",
              "      <td>18762620</td>\n",
              "      <td>lundi au vendredi 7h00 à 14h00, comptoir alime...</td>\n",
              "      <td>&lt;strong&gt;INFORMATION TEMPORAIRE : Covid-19: Ser...</td>\n",
              "      <td>Mercier-Est et Montréal-Est</td>\n",
              "      <td>personnes ou familles défavorisées, grand public</td>\n",
              "      <td>Centraide du Grand Montréal, provincial, munic...</td>\n",
              "      <td>variables</td>\n",
              "      <td>en personne, téléphone ou courriel</td>\n",
              "      <td>dépannage alimentaire: preuve d'adresse et et ...</td>\n",
              "      <td>français, anglais</td>\n",
              "      <td>60</td>\n",
              "      <td>NaN</td>\n",
              "    </tr>\n",
              "    <tr>\n",
              "      <th>5555</th>\n",
              "      <td>41667289</td>\n",
              "      <td>sur rendez-vous, lundi et jeudi</td>\n",
              "      <td>Dépannage alimentaire d'urgence. &lt;br /&gt;* Panie...</td>\n",
              "      <td>LaSalle</td>\n",
              "      <td>personnes seules avec enfants ou familles</td>\n",
              "      <td>dons</td>\n",
              "      <td>NaN</td>\n",
              "      <td>laisser un message sur la boîte vocale en indi...</td>\n",
              "      <td>carte d'assurance maladie et preuve de résidence</td>\n",
              "      <td>français, anglais</td>\n",
              "      <td>8 familles par journée</td>\n",
              "      <td>Accessible aux fauteuils roulants; Stationneme...</td>\n",
              "    </tr>\n",
              "  </tbody>\n",
              "</table>\n",
              "</div>"
            ],
            "text/plain": [
              "      ResourceAgencyNum  ...                           Custom_Disability Access\n",
              "5551           18765363  ...  Accessible aux fauteuils roulants; Stationneme...\n",
              "5552           39285086  ...  Accessible aux fauteuils roulants; Stationneme...\n",
              "5553           18765093  ...                  Accessible aux fauteuils roulants\n",
              "5554           18762620  ...                                                NaN\n",
              "5555           41667289  ...  Accessible aux fauteuils roulants; Stationneme...\n",
              "\n",
              "[5 rows x 12 columns]"
            ]
          },
          "metadata": {
            "tags": []
          },
          "execution_count": 29
        }
      ]
    },
    {
      "cell_type": "code",
      "metadata": {
        "id": "bQ7ZW0Hwf7TN"
      },
      "source": [
        "besoins = pd.read_excel('Besoins.xlsx')"
      ],
      "execution_count": null,
      "outputs": []
    },
    {
      "cell_type": "code",
      "metadata": {
        "id": "VC6XQ8Mjf7WG",
        "outputId": "97b2f60a-23be-41fd-dbbd-84defb0e9631",
        "colab": {
          "base_uri": "https://localhost:8080/",
          "height": 445
        }
      },
      "source": [
        "besoins.tail()"
      ],
      "execution_count": null,
      "outputs": [
        {
          "output_type": "execute_result",
          "data": {
            "text/html": [
              "<div>\n",
              "<style scoped>\n",
              "    .dataframe tbody tr th:only-of-type {\n",
              "        vertical-align: middle;\n",
              "    }\n",
              "\n",
              "    .dataframe tbody tr th {\n",
              "        vertical-align: top;\n",
              "    }\n",
              "\n",
              "    .dataframe thead th {\n",
              "        text-align: right;\n",
              "    }\n",
              "</style>\n",
              "<table border=\"1\" class=\"dataframe\">\n",
              "  <thead>\n",
              "    <tr style=\"text-align: right;\">\n",
              "      <th></th>\n",
              "      <th>CallReportNum</th>\n",
              "      <th>TaxonomyCode_full</th>\n",
              "      <th>TaxonomyName_full</th>\n",
              "      <th>NeedWasUnmet</th>\n",
              "      <th>ReasonIfUnmetOrPartial</th>\n",
              "      <th>Level1Code</th>\n",
              "      <th>Level1Name</th>\n",
              "      <th>Level2Code</th>\n",
              "      <th>Level2Name</th>\n",
              "      <th>Level3Code</th>\n",
              "      <th>Level3Name</th>\n",
              "      <th>Level4Code</th>\n",
              "      <th>Level4Name</th>\n",
              "      <th>Level5Code</th>\n",
              "      <th>Level5Name</th>\n",
              "      <th>AIRSNeedCategory</th>\n",
              "      <th>ReportNeedNum</th>\n",
              "      <th>TaxonomyCode_main</th>\n",
              "      <th>TaxonomyCode_link</th>\n",
              "      <th>TaxonomyName_main</th>\n",
              "      <th>TaxonomyName_link</th>\n",
              "    </tr>\n",
              "  </thead>\n",
              "  <tbody>\n",
              "    <tr>\n",
              "      <th>142711</th>\n",
              "      <td>78145762</td>\n",
              "      <td>TI-1800.4500-100</td>\n",
              "      <td>Dons de livres et de magazines</td>\n",
              "      <td>False</td>\n",
              "      <td>NaN</td>\n",
              "      <td>T</td>\n",
              "      <td>Services organisationnels, communautaires et i...</td>\n",
              "      <td>TI</td>\n",
              "      <td>Services de dons</td>\n",
              "      <td>TI-1800</td>\n",
              "      <td>Dons d'articles spécialisés</td>\n",
              "      <td>TI-1800.4500</td>\n",
              "      <td>Dons d'équipement et fournitures de loisir</td>\n",
              "      <td>TI-1800.4500-100</td>\n",
              "      <td>Dons de livres et de magazines</td>\n",
              "      <td>Bénévolat et dons</td>\n",
              "      <td>21475026</td>\n",
              "      <td>TI-1800.4500-100</td>\n",
              "      <td>NaN</td>\n",
              "      <td>Dons de livres et de magazines</td>\n",
              "      <td>NaN</td>\n",
              "    </tr>\n",
              "    <tr>\n",
              "      <th>142712</th>\n",
              "      <td>78146045</td>\n",
              "      <td>NL-3000.1500</td>\n",
              "      <td>Aide pour les frais de garde d'enfants</td>\n",
              "      <td>False</td>\n",
              "      <td>NaN</td>\n",
              "      <td>N</td>\n",
              "      <td>Soutien du revenu et emploi</td>\n",
              "      <td>NL</td>\n",
              "      <td>Aide sociale</td>\n",
              "      <td>NL-3000</td>\n",
              "      <td>Aide sociale relative au maintien à domicile</td>\n",
              "      <td>NL-3000.1500</td>\n",
              "      <td>Aide pour les frais de garde d'enfants</td>\n",
              "      <td>NL-3000.1500</td>\n",
              "      <td>Aide pour les frais de garde d'enfants</td>\n",
              "      <td>Emploi et revenu</td>\n",
              "      <td>21475411</td>\n",
              "      <td>NL-3000.1500</td>\n",
              "      <td>NaN</td>\n",
              "      <td>Aide pour les frais de garde d'enfants</td>\n",
              "      <td>NaN</td>\n",
              "    </tr>\n",
              "    <tr>\n",
              "      <th>142713</th>\n",
              "      <td>78146045</td>\n",
              "      <td>PH-6100.1500</td>\n",
              "      <td>Cours de développement de l'enfant</td>\n",
              "      <td>False</td>\n",
              "      <td>NaN</td>\n",
              "      <td>P</td>\n",
              "      <td>Vie personnelle et familiale</td>\n",
              "      <td>PH</td>\n",
              "      <td>Soutien personnel et familial</td>\n",
              "      <td>PH-6100</td>\n",
              "      <td>Éducation parentale</td>\n",
              "      <td>PH-6100.1500</td>\n",
              "      <td>Cours de développement de l'enfant</td>\n",
              "      <td>PH-6100.1500</td>\n",
              "      <td>Cours de développement de l'enfant</td>\n",
              "      <td>Soutien personnel, familial et communautaire</td>\n",
              "      <td>21475365</td>\n",
              "      <td>PH-6100.1500</td>\n",
              "      <td>NaN</td>\n",
              "      <td>Cours de développement de l'enfant</td>\n",
              "      <td>NaN</td>\n",
              "    </tr>\n",
              "    <tr>\n",
              "      <th>142714</th>\n",
              "      <td>78146045</td>\n",
              "      <td>PH-6100.3300</td>\n",
              "      <td>Éducation parentale à domicile</td>\n",
              "      <td>False</td>\n",
              "      <td>NaN</td>\n",
              "      <td>P</td>\n",
              "      <td>Vie personnelle et familiale</td>\n",
              "      <td>PH</td>\n",
              "      <td>Soutien personnel et familial</td>\n",
              "      <td>PH-6100</td>\n",
              "      <td>Éducation parentale</td>\n",
              "      <td>PH-6100.3300</td>\n",
              "      <td>Éducation parentale à domicile</td>\n",
              "      <td>PH-6100.3300</td>\n",
              "      <td>Éducation parentale à domicile</td>\n",
              "      <td>Soutien personnel, familial et communautaire</td>\n",
              "      <td>21475383</td>\n",
              "      <td>PH-6100.3300</td>\n",
              "      <td>NaN</td>\n",
              "      <td>Éducation parentale à domicile</td>\n",
              "      <td>NaN</td>\n",
              "    </tr>\n",
              "    <tr>\n",
              "      <th>142715</th>\n",
              "      <td>78146045</td>\n",
              "      <td>PH-2360.1800</td>\n",
              "      <td>Centres de services à l'enfance et aux familles</td>\n",
              "      <td>False</td>\n",
              "      <td>NaN</td>\n",
              "      <td>P</td>\n",
              "      <td>Vie personnelle et familiale</td>\n",
              "      <td>PH</td>\n",
              "      <td>Soutien personnel et familial</td>\n",
              "      <td>PH-2360</td>\n",
              "      <td>Services familiaux</td>\n",
              "      <td>PH-2360.1800</td>\n",
              "      <td>Centres de services à l'enfance et aux familles</td>\n",
              "      <td>PH-2360.1800</td>\n",
              "      <td>Centres de services à l'enfance et aux familles</td>\n",
              "      <td>Soutien personnel, familial et communautaire</td>\n",
              "      <td>21475338</td>\n",
              "      <td>PH-2360.1800</td>\n",
              "      <td>NaN</td>\n",
              "      <td>Centres de services à l'enfance et aux familles</td>\n",
              "      <td>NaN</td>\n",
              "    </tr>\n",
              "  </tbody>\n",
              "</table>\n",
              "</div>"
            ],
            "text/plain": [
              "        CallReportNum  ... TaxonomyName_link\n",
              "142711       78145762  ...               NaN\n",
              "142712       78146045  ...               NaN\n",
              "142713       78146045  ...               NaN\n",
              "142714       78146045  ...               NaN\n",
              "142715       78146045  ...               NaN\n",
              "\n",
              "[5 rows x 21 columns]"
            ]
          },
          "metadata": {
            "tags": []
          },
          "execution_count": 31
        }
      ]
    },
    {
      "cell_type": "code",
      "metadata": {
        "id": "wfyE-tb9f7Rv"
      },
      "source": [
        "municipalite = pd.read_excel('Municipalités.xlsx')"
      ],
      "execution_count": null,
      "outputs": []
    },
    {
      "cell_type": "code",
      "metadata": {
        "id": "OzAVd4wqgFX1",
        "outputId": "3a6ae3bb-e27e-4edd-e677-21417e985d81",
        "colab": {
          "base_uri": "https://localhost:8080/",
          "height": 326
        }
      },
      "source": [
        "municipalite.tail()"
      ],
      "execution_count": null,
      "outputs": [
        {
          "output_type": "execute_result",
          "data": {
            "text/html": [
              "<div>\n",
              "<style scoped>\n",
              "    .dataframe tbody tr th:only-of-type {\n",
              "        vertical-align: middle;\n",
              "    }\n",
              "\n",
              "    .dataframe tbody tr th {\n",
              "        vertical-align: top;\n",
              "    }\n",
              "\n",
              "    .dataframe thead th {\n",
              "        text-align: right;\n",
              "    }\n",
              "</style>\n",
              "<table border=\"1\" class=\"dataframe\">\n",
              "  <thead>\n",
              "    <tr style=\"text-align: right;\">\n",
              "      <th></th>\n",
              "      <th>Municipalité_Code</th>\n",
              "      <th>Municipalité_Nom</th>\n",
              "      <th>Région Administrative</th>\n",
              "      <th>Région administrative_Code</th>\n",
              "      <th>Territoire_division</th>\n",
              "      <th>Territoire_code</th>\n",
              "      <th>MRC</th>\n",
              "      <th>MRCEN</th>\n",
              "      <th>Superficie</th>\n",
              "      <th>Population</th>\n",
              "      <th>Statut</th>\n",
              "      <th>Territoire CMM</th>\n",
              "      <th>Territoire CMM_val</th>\n",
              "      <th>Centraide Grand Montréal</th>\n",
              "      <th>Territoire 211 Grand Montréal</th>\n",
              "    </tr>\n",
              "  </thead>\n",
              "  <tbody>\n",
              "    <tr>\n",
              "      <th>1136</th>\n",
              "      <td>68055</td>\n",
              "      <td>Saint-Rémi</td>\n",
              "      <td>Montérégie</td>\n",
              "      <td>16.0</td>\n",
              "      <td>Les Jardins-de-Napierville</td>\n",
              "      <td>68.0</td>\n",
              "      <td>MRC Les Jardins-de-Napierville</td>\n",
              "      <td>MRC Les Jardins-de-Napierville</td>\n",
              "      <td>78.8</td>\n",
              "      <td>8530.0</td>\n",
              "      <td>ville</td>\n",
              "      <td>non</td>\n",
              "      <td>non</td>\n",
              "      <td>Région Sud</td>\n",
              "      <td>Oui</td>\n",
              "    </tr>\n",
              "    <tr>\n",
              "      <th>1137</th>\n",
              "      <td>999001</td>\n",
              "      <td>Inconnu-Laval</td>\n",
              "      <td>Laval</td>\n",
              "      <td>13.0</td>\n",
              "      <td>NaN</td>\n",
              "      <td>NaN</td>\n",
              "      <td>NaN</td>\n",
              "      <td>NaN</td>\n",
              "      <td>NaN</td>\n",
              "      <td>NaN</td>\n",
              "      <td>NaN</td>\n",
              "      <td>Laval</td>\n",
              "      <td>Oui</td>\n",
              "      <td>Laval</td>\n",
              "      <td>Oui</td>\n",
              "    </tr>\n",
              "    <tr>\n",
              "      <th>1138</th>\n",
              "      <td>999004</td>\n",
              "      <td>Inconnu-Montréal</td>\n",
              "      <td>Montréal</td>\n",
              "      <td>6.0</td>\n",
              "      <td>NaN</td>\n",
              "      <td>NaN</td>\n",
              "      <td>NaN</td>\n",
              "      <td>NaN</td>\n",
              "      <td>NaN</td>\n",
              "      <td>NaN</td>\n",
              "      <td>NaN</td>\n",
              "      <td>Montréal</td>\n",
              "      <td>Oui</td>\n",
              "      <td>Montréal</td>\n",
              "      <td>Oui</td>\n",
              "    </tr>\n",
              "    <tr>\n",
              "      <th>1139</th>\n",
              "      <td>999005</td>\n",
              "      <td>Inconnu-Montérégie</td>\n",
              "      <td>Montérégie</td>\n",
              "      <td>16.0</td>\n",
              "      <td>NaN</td>\n",
              "      <td>NaN</td>\n",
              "      <td>NaN</td>\n",
              "      <td>NaN</td>\n",
              "      <td>NaN</td>\n",
              "      <td>NaN</td>\n",
              "      <td>NaN</td>\n",
              "      <td>Couronne Sud</td>\n",
              "      <td>Oui</td>\n",
              "      <td>Région Sud</td>\n",
              "      <td>Oui</td>\n",
              "    </tr>\n",
              "    <tr>\n",
              "      <th>1140</th>\n",
              "      <td>999999</td>\n",
              "      <td>Inconnu</td>\n",
              "      <td>Inconnu</td>\n",
              "      <td>NaN</td>\n",
              "      <td>NaN</td>\n",
              "      <td>NaN</td>\n",
              "      <td>Inconnu</td>\n",
              "      <td>Inconnu</td>\n",
              "      <td>NaN</td>\n",
              "      <td>NaN</td>\n",
              "      <td>NaN</td>\n",
              "      <td>Inconnu</td>\n",
              "      <td>Inconnu</td>\n",
              "      <td>Inconnu</td>\n",
              "      <td>Inconnu</td>\n",
              "    </tr>\n",
              "  </tbody>\n",
              "</table>\n",
              "</div>"
            ],
            "text/plain": [
              "      Municipalité_Code  ... Territoire 211 Grand Montréal\n",
              "1136              68055  ...                           Oui\n",
              "1137             999001  ...                           Oui\n",
              "1138             999004  ...                           Oui\n",
              "1139             999005  ...                           Oui\n",
              "1140             999999  ...                       Inconnu\n",
              "\n",
              "[5 rows x 15 columns]"
            ]
          },
          "metadata": {
            "tags": []
          },
          "execution_count": 33
        }
      ]
    },
    {
      "cell_type": "code",
      "metadata": {
        "id": "XrfynzDggFa6"
      },
      "source": [
        "references = pd.read_excel('Références.xlsx')"
      ],
      "execution_count": null,
      "outputs": []
    },
    {
      "cell_type": "code",
      "metadata": {
        "id": "sYpnKwVygFfD",
        "outputId": "c429a483-4546-4539-df1b-67638b4da010",
        "colab": {
          "base_uri": "https://localhost:8080/",
          "height": 204
        }
      },
      "source": [
        "references.tail()"
      ],
      "execution_count": null,
      "outputs": [
        {
          "output_type": "execute_result",
          "data": {
            "text/html": [
              "<div>\n",
              "<style scoped>\n",
              "    .dataframe tbody tr th:only-of-type {\n",
              "        vertical-align: middle;\n",
              "    }\n",
              "\n",
              "    .dataframe tbody tr th {\n",
              "        vertical-align: top;\n",
              "    }\n",
              "\n",
              "    .dataframe thead th {\n",
              "        text-align: right;\n",
              "    }\n",
              "</style>\n",
              "<table border=\"1\" class=\"dataframe\">\n",
              "  <thead>\n",
              "    <tr style=\"text-align: right;\">\n",
              "      <th></th>\n",
              "      <th>CallReportNum</th>\n",
              "      <th>ResourceAgencyNum</th>\n",
              "      <th>AgencyNamePublic</th>\n",
              "      <th>ReportNeedNum</th>\n",
              "    </tr>\n",
              "  </thead>\n",
              "  <tbody>\n",
              "    <tr>\n",
              "      <th>264317</th>\n",
              "      <td>78146045</td>\n",
              "      <td>18762631.0</td>\n",
              "      <td>ENTRE MAMANS ET PAPAS</td>\n",
              "      <td>21475383</td>\n",
              "    </tr>\n",
              "    <tr>\n",
              "      <th>264318</th>\n",
              "      <td>78146045</td>\n",
              "      <td>18760262.0</td>\n",
              "      <td>UNIS POUR LES PETITS</td>\n",
              "      <td>21475383</td>\n",
              "    </tr>\n",
              "    <tr>\n",
              "      <th>264319</th>\n",
              "      <td>78146045</td>\n",
              "      <td>18762552.0</td>\n",
              "      <td>PREMIERS PAS CHAMPLAIN</td>\n",
              "      <td>21475338</td>\n",
              "    </tr>\n",
              "    <tr>\n",
              "      <th>264320</th>\n",
              "      <td>78146045</td>\n",
              "      <td>18762552.0</td>\n",
              "      <td>PREMIERS PAS CHAMPLAIN</td>\n",
              "      <td>21475383</td>\n",
              "    </tr>\n",
              "    <tr>\n",
              "      <th>264321</th>\n",
              "      <td>78146045</td>\n",
              "      <td>41529174.0</td>\n",
              "      <td>SERVICES QUÉBEC - DEVENIR PARENT</td>\n",
              "      <td>21475411</td>\n",
              "    </tr>\n",
              "  </tbody>\n",
              "</table>\n",
              "</div>"
            ],
            "text/plain": [
              "        CallReportNum  ...  ReportNeedNum\n",
              "264317       78146045  ...       21475383\n",
              "264318       78146045  ...       21475383\n",
              "264319       78146045  ...       21475338\n",
              "264320       78146045  ...       21475383\n",
              "264321       78146045  ...       21475411\n",
              "\n",
              "[5 rows x 4 columns]"
            ]
          },
          "metadata": {
            "tags": []
          },
          "execution_count": 35
        }
      ]
    },
    {
      "cell_type": "code",
      "metadata": {
        "id": "jFJOFeSSgNXJ",
        "outputId": "26683052-8fe4-4c2f-f06d-018020bd3cb3",
        "colab": {
          "base_uri": "https://localhost:8080/"
        }
      },
      "source": [
        "!unzip requetes311.zip"
      ],
      "execution_count": null,
      "outputs": [
        {
          "output_type": "stream",
          "text": [
            "Archive:  requetes311.zip\n",
            "  inflating: requetes311.csv         \n"
          ],
          "name": "stdout"
        }
      ]
    },
    {
      "cell_type": "code",
      "metadata": {
        "id": "ky1PU2tZgNbb",
        "outputId": "1e6d0dd9-0d4c-47b7-f22c-12f20fb2e9ad",
        "colab": {
          "base_uri": "https://localhost:8080/"
        }
      },
      "source": [
        "requetes311 = pd.read_csv('requetes311.csv')"
      ],
      "execution_count": null,
      "outputs": [
        {
          "output_type": "stream",
          "text": [
            "/usr/local/lib/python3.6/dist-packages/IPython/core/interactiveshell.py:2718: DtypeWarning: Columns (0,3,4,5,6,8,9,10,27) have mixed types.Specify dtype option on import or set low_memory=False.\n",
            "  interactivity=interactivity, compiler=compiler, result=result)\n"
          ],
          "name": "stderr"
        }
      ]
    },
    {
      "cell_type": "code",
      "metadata": {
        "id": "LZIDXsJZgNex",
        "outputId": "6b2413c2-6cbe-4145-8670-08d7fe17f515",
        "colab": {
          "base_uri": "https://localhost:8080/",
          "height": 394
        }
      },
      "source": [
        "requetes311.tail()"
      ],
      "execution_count": null,
      "outputs": [
        {
          "output_type": "execute_result",
          "data": {
            "text/html": [
              "<div>\n",
              "<style scoped>\n",
              "    .dataframe tbody tr th:only-of-type {\n",
              "        vertical-align: middle;\n",
              "    }\n",
              "\n",
              "    .dataframe tbody tr th {\n",
              "        vertical-align: top;\n",
              "    }\n",
              "\n",
              "    .dataframe thead th {\n",
              "        text-align: right;\n",
              "    }\n",
              "</style>\n",
              "<table border=\"1\" class=\"dataframe\">\n",
              "  <thead>\n",
              "    <tr style=\"text-align: right;\">\n",
              "      <th></th>\n",
              "      <th>ID_UNIQUE</th>\n",
              "      <th>NATURE</th>\n",
              "      <th>ACTI_NOM</th>\n",
              "      <th>TYPE_LIEU_INTERV</th>\n",
              "      <th>RUE</th>\n",
              "      <th>RUE_INTERSECTION1</th>\n",
              "      <th>RUE_INTERSECTION2</th>\n",
              "      <th>LOC_ERREUR_GDT</th>\n",
              "      <th>ARRONDISSEMENT</th>\n",
              "      <th>ARRONDISSEMENT_GEO</th>\n",
              "      <th>LIN_CODE_POSTAL</th>\n",
              "      <th>DDS_DATE_CREATION</th>\n",
              "      <th>PROVENANCE_ORIGINALE</th>\n",
              "      <th>PROVENANCE_TELEPHONE</th>\n",
              "      <th>PROVENANCE_COURRIEL</th>\n",
              "      <th>PROVENANCE_PERSONNE</th>\n",
              "      <th>PROVENANCE_COURRIER</th>\n",
              "      <th>PROVENANCE_TELECOPIEUR</th>\n",
              "      <th>PROVENANCE_INSTANCE</th>\n",
              "      <th>PROVENANCE_MOBILE</th>\n",
              "      <th>PROVENANCE_MEDIASOCIAUX</th>\n",
              "      <th>PROVENANCE_SITEINTERNET</th>\n",
              "      <th>UNITE_RESP_PARENT</th>\n",
              "      <th>LOC_LONG</th>\n",
              "      <th>LOC_LAT</th>\n",
              "      <th>LOC_X</th>\n",
              "      <th>LOC_Y</th>\n",
              "      <th>DERNIER_STATUT</th>\n",
              "      <th>DATE_DERNIER_STATUT</th>\n",
              "    </tr>\n",
              "  </thead>\n",
              "  <tbody>\n",
              "    <tr>\n",
              "      <th>3803042</th>\n",
              "      <td>13-317913-B</td>\n",
              "      <td>Requete</td>\n",
              "      <td>Fuite d'eau</td>\n",
              "      <td>Troncon</td>\n",
              "      <td>avenue De Galinée</td>\n",
              "      <td>avenue De Bretonvilliers</td>\n",
              "      <td>rue Chabanel</td>\n",
              "      <td>0.0</td>\n",
              "      <td>Ahuntsic - Cartierville</td>\n",
              "      <td>Ahuntsic-Cartierville</td>\n",
              "      <td>NaN</td>\n",
              "      <td>2016-10-21T14:49:39</td>\n",
              "      <td>NaN</td>\n",
              "      <td>0</td>\n",
              "      <td>0</td>\n",
              "      <td>0</td>\n",
              "      <td>0</td>\n",
              "      <td>0</td>\n",
              "      <td>0</td>\n",
              "      <td>0</td>\n",
              "      <td>0</td>\n",
              "      <td>0</td>\n",
              "      <td>AHUNTSIC-CARTIERVILLE</td>\n",
              "      <td>-73.643081</td>\n",
              "      <td>45.559319</td>\n",
              "      <td>293629.965000</td>\n",
              "      <td>5.046611e+06</td>\n",
              "      <td>Terminée</td>\n",
              "      <td>2017-11-07T08:04:37</td>\n",
              "    </tr>\n",
              "    <tr>\n",
              "      <th>3803043</th>\n",
              "      <td>13-313550-D</td>\n",
              "      <td>Requete</td>\n",
              "      <td>Fuite d'eau</td>\n",
              "      <td>Troncon</td>\n",
              "      <td>rue de Port-Royal</td>\n",
              "      <td>rue Meunier</td>\n",
              "      <td>avenue de l'Esplanade</td>\n",
              "      <td>0.0</td>\n",
              "      <td>Ahuntsic - Cartierville</td>\n",
              "      <td>Ahuntsic-Cartierville</td>\n",
              "      <td>NaN</td>\n",
              "      <td>2020-07-21T09:33:58</td>\n",
              "      <td>NaN</td>\n",
              "      <td>0</td>\n",
              "      <td>0</td>\n",
              "      <td>0</td>\n",
              "      <td>0</td>\n",
              "      <td>0</td>\n",
              "      <td>0</td>\n",
              "      <td>0</td>\n",
              "      <td>0</td>\n",
              "      <td>0</td>\n",
              "      <td>AHUNTSIC-CARTIERVILLE</td>\n",
              "      <td>-73.659221</td>\n",
              "      <td>45.542706</td>\n",
              "      <td>292366.246000</td>\n",
              "      <td>5.044767e+06</td>\n",
              "      <td>Prise en charge</td>\n",
              "      <td>2020-07-22T06:51:11</td>\n",
              "    </tr>\n",
              "    <tr>\n",
              "      <th>3803044</th>\n",
              "      <td>13-313550-C</td>\n",
              "      <td>Requete</td>\n",
              "      <td>Fuite d'eau</td>\n",
              "      <td>Troncon</td>\n",
              "      <td>rue de Port-Royal</td>\n",
              "      <td>rue Meunier</td>\n",
              "      <td>avenue de l'Esplanade</td>\n",
              "      <td>0.0</td>\n",
              "      <td>Ahuntsic - Cartierville</td>\n",
              "      <td>Ahuntsic-Cartierville</td>\n",
              "      <td>NaN</td>\n",
              "      <td>2018-04-12T09:43:46</td>\n",
              "      <td>NaN</td>\n",
              "      <td>0</td>\n",
              "      <td>0</td>\n",
              "      <td>0</td>\n",
              "      <td>0</td>\n",
              "      <td>0</td>\n",
              "      <td>0</td>\n",
              "      <td>0</td>\n",
              "      <td>0</td>\n",
              "      <td>0</td>\n",
              "      <td>AHUNTSIC-CARTIERVILLE</td>\n",
              "      <td>-73.659221</td>\n",
              "      <td>45.542706</td>\n",
              "      <td>292366.246000</td>\n",
              "      <td>5.044767e+06</td>\n",
              "      <td>Terminée</td>\n",
              "      <td>2018-05-03T08:06:30</td>\n",
              "    </tr>\n",
              "    <tr>\n",
              "      <th>3803045</th>\n",
              "      <td>13-313550-B</td>\n",
              "      <td>Requete</td>\n",
              "      <td>Fuite d'eau</td>\n",
              "      <td>Troncon</td>\n",
              "      <td>rue de Port-Royal</td>\n",
              "      <td>rue Meunier</td>\n",
              "      <td>avenue de l'Esplanade</td>\n",
              "      <td>0.0</td>\n",
              "      <td>Ahuntsic - Cartierville</td>\n",
              "      <td>Ahuntsic-Cartierville</td>\n",
              "      <td>NaN</td>\n",
              "      <td>2016-09-01T14:51:04</td>\n",
              "      <td>NaN</td>\n",
              "      <td>0</td>\n",
              "      <td>0</td>\n",
              "      <td>0</td>\n",
              "      <td>0</td>\n",
              "      <td>0</td>\n",
              "      <td>0</td>\n",
              "      <td>0</td>\n",
              "      <td>0</td>\n",
              "      <td>0</td>\n",
              "      <td>AHUNTSIC-CARTIERVILLE</td>\n",
              "      <td>-73.659221</td>\n",
              "      <td>45.542706</td>\n",
              "      <td>292366.246000</td>\n",
              "      <td>5.044767e+06</td>\n",
              "      <td>Terminée</td>\n",
              "      <td>2018-01-17T10:37:13</td>\n",
              "    </tr>\n",
              "    <tr>\n",
              "      <th>3803046</th>\n",
              "      <td>10-182618-A</td>\n",
              "      <td>Requete</td>\n",
              "      <td>Trottoir ou bordure - Réparation</td>\n",
              "      <td>Adresse</td>\n",
              "      <td>rue De Castelnau</td>\n",
              "      <td>NaN</td>\n",
              "      <td>NaN</td>\n",
              "      <td>0.0</td>\n",
              "      <td>Villeray-Saint-Michel - Parc-Extension</td>\n",
              "      <td>Villeray-Saint-Michel-Parc-Extension</td>\n",
              "      <td>NaN</td>\n",
              "      <td>2016-11-29T10:03:07</td>\n",
              "      <td>NaN</td>\n",
              "      <td>0</td>\n",
              "      <td>0</td>\n",
              "      <td>0</td>\n",
              "      <td>0</td>\n",
              "      <td>0</td>\n",
              "      <td>0</td>\n",
              "      <td>0</td>\n",
              "      <td>0</td>\n",
              "      <td>0</td>\n",
              "      <td>VILLERAY - ST-MICHEL - PARC-EXTENSION</td>\n",
              "      <td>-73.619035</td>\n",
              "      <td>45.536318</td>\n",
              "      <td>295503.353734</td>\n",
              "      <td>5.044052e+06</td>\n",
              "      <td>Terminée</td>\n",
              "      <td>2018-11-01T06:51:40</td>\n",
              "    </tr>\n",
              "  </tbody>\n",
              "</table>\n",
              "</div>"
            ],
            "text/plain": [
              "           ID_UNIQUE   NATURE  ...   DERNIER_STATUT  DATE_DERNIER_STATUT\n",
              "3803042  13-317913-B  Requete  ...         Terminée  2017-11-07T08:04:37\n",
              "3803043  13-313550-D  Requete  ...  Prise en charge  2020-07-22T06:51:11\n",
              "3803044  13-313550-C  Requete  ...         Terminée  2018-05-03T08:06:30\n",
              "3803045  13-313550-B  Requete  ...         Terminée  2018-01-17T10:37:13\n",
              "3803046  10-182618-A  Requete  ...         Terminée  2018-11-01T06:51:40\n",
              "\n",
              "[5 rows x 29 columns]"
            ]
          },
          "metadata": {
            "tags": []
          },
          "execution_count": 38
        }
      ]
    },
    {
      "cell_type": "code",
      "metadata": {
        "id": "0YKT-mDhgYRv",
        "outputId": "b153d264-4e8a-49db-bec7-0bd3cf97175f",
        "colab": {
          "base_uri": "https://localhost:8080/"
        }
      },
      "source": [
        "requetes311_2014_2015 = pd.read_csv('requetes311_2014_2015.csv')"
      ],
      "execution_count": null,
      "outputs": [
        {
          "output_type": "stream",
          "text": [
            "/usr/local/lib/python3.6/dist-packages/IPython/core/interactiveshell.py:2718: DtypeWarning: Columns (0,3,4,5,6,8,9,10) have mixed types.Specify dtype option on import or set low_memory=False.\n",
            "  interactivity=interactivity, compiler=compiler, result=result)\n"
          ],
          "name": "stderr"
        }
      ]
    },
    {
      "cell_type": "code",
      "metadata": {
        "id": "-VvKHaA0gYXu",
        "outputId": "e54b4af4-d0a2-4bd9-8bf7-cca4acedb4a1",
        "colab": {
          "base_uri": "https://localhost:8080/",
          "height": 394
        }
      },
      "source": [
        "requetes311_2014_2015.tail()"
      ],
      "execution_count": null,
      "outputs": [
        {
          "output_type": "execute_result",
          "data": {
            "text/html": [
              "<div>\n",
              "<style scoped>\n",
              "    .dataframe tbody tr th:only-of-type {\n",
              "        vertical-align: middle;\n",
              "    }\n",
              "\n",
              "    .dataframe tbody tr th {\n",
              "        vertical-align: top;\n",
              "    }\n",
              "\n",
              "    .dataframe thead th {\n",
              "        text-align: right;\n",
              "    }\n",
              "</style>\n",
              "<table border=\"1\" class=\"dataframe\">\n",
              "  <thead>\n",
              "    <tr style=\"text-align: right;\">\n",
              "      <th></th>\n",
              "      <th>ID_UNIQUE</th>\n",
              "      <th>NATURE</th>\n",
              "      <th>ACTI_NOM</th>\n",
              "      <th>TYPE_LIEU_INTERV</th>\n",
              "      <th>RUE</th>\n",
              "      <th>RUE_INTERSECTION1</th>\n",
              "      <th>RUE_INTERSECTION2</th>\n",
              "      <th>LOC_ERREUR_GDT</th>\n",
              "      <th>ARRONDISSEMENT</th>\n",
              "      <th>ARRONDISSEMENT_GEO</th>\n",
              "      <th>LIN_CODE_POSTAL</th>\n",
              "      <th>DDS_DATE_CREATION</th>\n",
              "      <th>PROVENANCE_ORIGINALE</th>\n",
              "      <th>PROVENANCE_TELEPHONE</th>\n",
              "      <th>PROVENANCE_COURRIEL</th>\n",
              "      <th>PROVENANCE_PERSONNE</th>\n",
              "      <th>PROVENANCE_COURRIER</th>\n",
              "      <th>PROVENANCE_TELECOPIEUR</th>\n",
              "      <th>PROVENANCE_INSTANCE</th>\n",
              "      <th>PROVENANCE_MOBILE</th>\n",
              "      <th>PROVENANCE_MEDIASOCIAUX</th>\n",
              "      <th>PROVENANCE_SITEINTERNET</th>\n",
              "      <th>UNITE_RESP_PARENT</th>\n",
              "      <th>LOC_LONG</th>\n",
              "      <th>LOC_LAT</th>\n",
              "      <th>LOC_X</th>\n",
              "      <th>LOC_Y</th>\n",
              "    </tr>\n",
              "  </thead>\n",
              "  <tbody>\n",
              "    <tr>\n",
              "      <th>1577194</th>\n",
              "      <td>14-5</td>\n",
              "      <td>Requete</td>\n",
              "      <td>Feux de circulation - Entretien</td>\n",
              "      <td>Adresse</td>\n",
              "      <td>rue Hochelaga</td>\n",
              "      <td>NaN</td>\n",
              "      <td>NaN</td>\n",
              "      <td>0.0</td>\n",
              "      <td>Mercier - Hochelaga-Maisonneuve</td>\n",
              "      <td>Mercier-Hochelaga-Maisonneuve</td>\n",
              "      <td>H1L2N4</td>\n",
              "      <td>2014-01-01T03:28:42</td>\n",
              "      <td>Personne</td>\n",
              "      <td>0</td>\n",
              "      <td>0</td>\n",
              "      <td>1</td>\n",
              "      <td>0</td>\n",
              "      <td>0</td>\n",
              "      <td>0</td>\n",
              "      <td>0</td>\n",
              "      <td>0</td>\n",
              "      <td>0</td>\n",
              "      <td>ROSEMONT - LA PETITE-PATRIE</td>\n",
              "      <td>-73.518449</td>\n",
              "      <td>45.603842</td>\n",
              "      <td>303360.884114</td>\n",
              "      <td>5.051549e+06</td>\n",
              "    </tr>\n",
              "    <tr>\n",
              "      <th>1577195</th>\n",
              "      <td>14-4</td>\n",
              "      <td>Requete</td>\n",
              "      <td>Débris sur la voie publique</td>\n",
              "      <td>Intersection</td>\n",
              "      <td>NaN</td>\n",
              "      <td>rue Hochelaga</td>\n",
              "      <td>rue French</td>\n",
              "      <td>0.0</td>\n",
              "      <td>Mercier - Hochelaga-Maisonneuve</td>\n",
              "      <td>Mercier-Hochelaga-Maisonneuve</td>\n",
              "      <td>NaN</td>\n",
              "      <td>2014-01-01T03:27:05</td>\n",
              "      <td>Téléphone</td>\n",
              "      <td>3</td>\n",
              "      <td>0</td>\n",
              "      <td>0</td>\n",
              "      <td>0</td>\n",
              "      <td>0</td>\n",
              "      <td>0</td>\n",
              "      <td>0</td>\n",
              "      <td>0</td>\n",
              "      <td>0</td>\n",
              "      <td>MERCIER - HOCHELAGA-MAISONNEUVE</td>\n",
              "      <td>-73.518629</td>\n",
              "      <td>45.603457</td>\n",
              "      <td>303346.810000</td>\n",
              "      <td>5.051506e+06</td>\n",
              "    </tr>\n",
              "    <tr>\n",
              "      <th>1577196</th>\n",
              "      <td>14-3</td>\n",
              "      <td>Requete</td>\n",
              "      <td>Fuite d'eau</td>\n",
              "      <td>Intersection</td>\n",
              "      <td>NaN</td>\n",
              "      <td>rue Charlevoix</td>\n",
              "      <td>rue Augustin-Cantin</td>\n",
              "      <td>0.0</td>\n",
              "      <td>Le Sud-Ouest</td>\n",
              "      <td>Le Sud-Ouest</td>\n",
              "      <td>NaN</td>\n",
              "      <td>2014-01-01T02:03:45</td>\n",
              "      <td>Téléphone</td>\n",
              "      <td>1</td>\n",
              "      <td>0</td>\n",
              "      <td>0</td>\n",
              "      <td>0</td>\n",
              "      <td>0</td>\n",
              "      <td>0</td>\n",
              "      <td>0</td>\n",
              "      <td>0</td>\n",
              "      <td>0</td>\n",
              "      <td>SUD-OUEST</td>\n",
              "      <td>-73.571053</td>\n",
              "      <td>45.479402</td>\n",
              "      <td>299245.181000</td>\n",
              "      <td>5.037722e+06</td>\n",
              "    </tr>\n",
              "    <tr>\n",
              "      <th>1577197</th>\n",
              "      <td>14-2</td>\n",
              "      <td>Requete</td>\n",
              "      <td>Feux de circulation - Entretien</td>\n",
              "      <td>Intersection</td>\n",
              "      <td>NaN</td>\n",
              "      <td>rue Sherbrooke</td>\n",
              "      <td>rue Dézéry</td>\n",
              "      <td>0.0</td>\n",
              "      <td>Mercier - Hochelaga-Maisonneuve</td>\n",
              "      <td>Rosemont-La Petite-Patrie</td>\n",
              "      <td>NaN</td>\n",
              "      <td>2014-01-01T01:12:59</td>\n",
              "      <td>Téléphone</td>\n",
              "      <td>1</td>\n",
              "      <td>0</td>\n",
              "      <td>0</td>\n",
              "      <td>0</td>\n",
              "      <td>0</td>\n",
              "      <td>0</td>\n",
              "      <td>0</td>\n",
              "      <td>0</td>\n",
              "      <td>0</td>\n",
              "      <td>ROSEMONT - LA PETITE-PATRIE</td>\n",
              "      <td>-73.557106</td>\n",
              "      <td>45.543925</td>\n",
              "      <td>300340.653000</td>\n",
              "      <td>5.044892e+06</td>\n",
              "    </tr>\n",
              "    <tr>\n",
              "      <th>1577198</th>\n",
              "      <td>14-1</td>\n",
              "      <td>Requete</td>\n",
              "      <td>Chaussée glissante</td>\n",
              "      <td>Adresse</td>\n",
              "      <td>avenue d'Orléans</td>\n",
              "      <td>NaN</td>\n",
              "      <td>NaN</td>\n",
              "      <td>0.0</td>\n",
              "      <td>Rosemont - La Petite-Patrie</td>\n",
              "      <td>Rosemont-La Petite-Patrie</td>\n",
              "      <td>H1X2L3</td>\n",
              "      <td>2014-01-01T00:23:10</td>\n",
              "      <td>Téléphone</td>\n",
              "      <td>1</td>\n",
              "      <td>0</td>\n",
              "      <td>0</td>\n",
              "      <td>0</td>\n",
              "      <td>0</td>\n",
              "      <td>0</td>\n",
              "      <td>0</td>\n",
              "      <td>0</td>\n",
              "      <td>0</td>\n",
              "      <td>ROSEMONT - LA PETITE-PATRIE</td>\n",
              "      <td>-73.573849</td>\n",
              "      <td>45.558540</td>\n",
              "      <td>299034.643141</td>\n",
              "      <td>5.046517e+06</td>\n",
              "    </tr>\n",
              "  </tbody>\n",
              "</table>\n",
              "</div>"
            ],
            "text/plain": [
              "        ID_UNIQUE   NATURE  ...          LOC_X         LOC_Y\n",
              "1577194      14-5  Requete  ...  303360.884114  5.051549e+06\n",
              "1577195      14-4  Requete  ...  303346.810000  5.051506e+06\n",
              "1577196      14-3  Requete  ...  299245.181000  5.037722e+06\n",
              "1577197      14-2  Requete  ...  300340.653000  5.044892e+06\n",
              "1577198      14-1  Requete  ...  299034.643141  5.046517e+06\n",
              "\n",
              "[5 rows x 27 columns]"
            ]
          },
          "metadata": {
            "tags": []
          },
          "execution_count": 40
        }
      ]
    },
    {
      "cell_type": "code",
      "metadata": {
        "id": "SIGQMx6egYcq"
      },
      "source": [
        "menages06 = pd.read_excel('menages06.xlsx')"
      ],
      "execution_count": null,
      "outputs": []
    },
    {
      "cell_type": "code",
      "metadata": {
        "id": "852O9QlIgjZY",
        "outputId": "91246013-2b31-456e-d738-17dbb3209757",
        "colab": {
          "base_uri": "https://localhost:8080/",
          "height": 255
        }
      },
      "source": [
        "menages06.head()"
      ],
      "execution_count": null,
      "outputs": [
        {
          "output_type": "execute_result",
          "data": {
            "text/html": [
              "<div>\n",
              "<style scoped>\n",
              "    .dataframe tbody tr th:only-of-type {\n",
              "        vertical-align: middle;\n",
              "    }\n",
              "\n",
              "    .dataframe tbody tr th {\n",
              "        vertical-align: top;\n",
              "    }\n",
              "\n",
              "    .dataframe thead th {\n",
              "        text-align: right;\n",
              "    }\n",
              "</style>\n",
              "<table border=\"1\" class=\"dataframe\">\n",
              "  <thead>\n",
              "    <tr style=\"text-align: right;\">\n",
              "      <th></th>\n",
              "      <th>Répartition de la clientèle prestataire des programmes d'aide financière de dernier recours selon le programme, Montréal et ensemble du Québec, 2014-2018¹</th>\n",
              "      <th>Unnamed: 1</th>\n",
              "      <th>Unnamed: 2</th>\n",
              "      <th>Unnamed: 3</th>\n",
              "      <th>Unnamed: 4</th>\n",
              "      <th>Unnamed: 5</th>\n",
              "      <th>Unnamed: 6</th>\n",
              "      <th>Unnamed: 7</th>\n",
              "      <th>Unnamed: 8</th>\n",
              "      <th>Unnamed: 9</th>\n",
              "      <th>Unnamed: 10</th>\n",
              "      <th>Unnamed: 11</th>\n",
              "      <th>Unnamed: 12</th>\n",
              "    </tr>\n",
              "  </thead>\n",
              "  <tbody>\n",
              "    <tr>\n",
              "      <th>0</th>\n",
              "      <td>NaN</td>\n",
              "      <td>Unité</td>\n",
              "      <td>Aide sociale2</td>\n",
              "      <td>NaN</td>\n",
              "      <td>NaN</td>\n",
              "      <td>NaN</td>\n",
              "      <td>NaN</td>\n",
              "      <td>NaN</td>\n",
              "      <td>Solidarité sociale3</td>\n",
              "      <td>NaN</td>\n",
              "      <td>NaN</td>\n",
              "      <td>NaN</td>\n",
              "      <td>NaN</td>\n",
              "    </tr>\n",
              "    <tr>\n",
              "      <th>1</th>\n",
              "      <td>NaN</td>\n",
              "      <td>NaN</td>\n",
              "      <td>2014</td>\n",
              "      <td>2015.0</td>\n",
              "      <td>2016.0</td>\n",
              "      <td>2017.0</td>\n",
              "      <td>2018.0</td>\n",
              "      <td>NaN</td>\n",
              "      <td>2014</td>\n",
              "      <td>2015.0</td>\n",
              "      <td>2016.0</td>\n",
              "      <td>2017.0</td>\n",
              "      <td>2018.0</td>\n",
              "    </tr>\n",
              "    <tr>\n",
              "      <th>2</th>\n",
              "      <td>Montréal</td>\n",
              "      <td>NaN</td>\n",
              "      <td>NaN</td>\n",
              "      <td>NaN</td>\n",
              "      <td>NaN</td>\n",
              "      <td>NaN</td>\n",
              "      <td>NaN</td>\n",
              "      <td>NaN</td>\n",
              "      <td>NaN</td>\n",
              "      <td>NaN</td>\n",
              "      <td>NaN</td>\n",
              "      <td>NaN</td>\n",
              "      <td>NaN</td>\n",
              "    </tr>\n",
              "    <tr>\n",
              "      <th>3</th>\n",
              "      <td>Nombre de prestataires</td>\n",
              "      <td>n</td>\n",
              "      <td>118815</td>\n",
              "      <td>114546.0</td>\n",
              "      <td>107607.0</td>\n",
              "      <td>100835.0</td>\n",
              "      <td>102675.0</td>\n",
              "      <td>NaN</td>\n",
              "      <td>36103</td>\n",
              "      <td>35843.0</td>\n",
              "      <td>35767.0</td>\n",
              "      <td>35698.0</td>\n",
              "      <td>35713.0</td>\n",
              "    </tr>\n",
              "    <tr>\n",
              "      <th>4</th>\n",
              "      <td>Adultes</td>\n",
              "      <td>n</td>\n",
              "      <td>80221</td>\n",
              "      <td>77947.0</td>\n",
              "      <td>73687.0</td>\n",
              "      <td>69477.0</td>\n",
              "      <td>70442.0</td>\n",
              "      <td>NaN</td>\n",
              "      <td>33242</td>\n",
              "      <td>32990.0</td>\n",
              "      <td>32898.0</td>\n",
              "      <td>32801.0</td>\n",
              "      <td>32851.0</td>\n",
              "    </tr>\n",
              "  </tbody>\n",
              "</table>\n",
              "</div>"
            ],
            "text/plain": [
              "  Répartition de la clientèle prestataire des programmes d'aide financière de dernier recours selon le programme, Montréal et ensemble du Québec, 2014-2018¹  ... Unnamed: 12\n",
              "0                                                NaN                                                                                                          ...         NaN\n",
              "1                                                NaN                                                                                                          ...      2018.0\n",
              "2                                           Montréal                                                                                                          ...         NaN\n",
              "3                             Nombre de prestataires                                                                                                          ...     35713.0\n",
              "4                                            Adultes                                                                                                          ...     32851.0\n",
              "\n",
              "[5 rows x 13 columns]"
            ]
          },
          "metadata": {
            "tags": []
          },
          "execution_count": 42
        }
      ]
    },
    {
      "cell_type": "markdown",
      "metadata": {
        "id": "3lBKSCFcgr9z"
      },
      "source": [
        "\n",
        "\n",
        "```\n",
        "link text](https://)**COVID 19 par Arrondissements-montreal**\n",
        "```\n",
        "\n"
      ]
    },
    {
      "cell_type": "code",
      "metadata": {
        "id": "6wjCRlKHgjdn"
      },
      "source": [
        "data_covid19_montreal = pd.read_csv('covid19-par-arrondissements-montreal/data/2020-03-29.csv')"
      ],
      "execution_count": null,
      "outputs": []
    },
    {
      "cell_type": "code",
      "metadata": {
        "id": "Um2KmeoTgjju",
        "outputId": "58507087-2b34-41b5-83c6-c194f1841a1a",
        "colab": {
          "base_uri": "https://localhost:8080/",
          "height": 204
        }
      },
      "source": [
        "data_covid19_montreal.head()"
      ],
      "execution_count": null,
      "outputs": [
        {
          "output_type": "execute_result",
          "data": {
            "text/html": [
              "<div>\n",
              "<style scoped>\n",
              "    .dataframe tbody tr th:only-of-type {\n",
              "        vertical-align: middle;\n",
              "    }\n",
              "\n",
              "    .dataframe tbody tr th {\n",
              "        vertical-align: top;\n",
              "    }\n",
              "\n",
              "    .dataframe thead th {\n",
              "        text-align: right;\n",
              "    }\n",
              "</style>\n",
              "<table border=\"1\" class=\"dataframe\">\n",
              "  <thead>\n",
              "    <tr style=\"text-align: right;\">\n",
              "      <th></th>\n",
              "      <th>Arrondissements</th>\n",
              "      <th>Cas Confirmés</th>\n",
              "    </tr>\n",
              "  </thead>\n",
              "  <tbody>\n",
              "    <tr>\n",
              "      <th>0</th>\n",
              "      <td>Ahuntsic–Cartierville</td>\n",
              "      <td>54</td>\n",
              "    </tr>\n",
              "    <tr>\n",
              "      <th>1</th>\n",
              "      <td>Anjou</td>\n",
              "      <td>9</td>\n",
              "    </tr>\n",
              "    <tr>\n",
              "      <th>2</th>\n",
              "      <td>Baie-D'Urfé</td>\n",
              "      <td>2</td>\n",
              "    </tr>\n",
              "    <tr>\n",
              "      <th>3</th>\n",
              "      <td>Beaconsfield</td>\n",
              "      <td>10</td>\n",
              "    </tr>\n",
              "    <tr>\n",
              "      <th>4</th>\n",
              "      <td>Côte-des-Neiges–Notre-Dame-de-Grâce</td>\n",
              "      <td>161</td>\n",
              "    </tr>\n",
              "  </tbody>\n",
              "</table>\n",
              "</div>"
            ],
            "text/plain": [
              "                         Arrondissements  Cas Confirmés\n",
              "0                  Ahuntsic–Cartierville             54\n",
              "1                                  Anjou              9\n",
              "2                           Baie-D'Urfé              2\n",
              "3                           Beaconsfield             10\n",
              "4  Côte-des-Neiges–Notre-Dame-de-Grâce            161"
            ]
          },
          "metadata": {
            "tags": []
          },
          "execution_count": 44
        }
      ]
    },
    {
      "cell_type": "markdown",
      "metadata": {
        "id": "g42WgM7Wg7Ja"
      },
      "source": [
        "**Courbe** Covid\n",
        "https://santemontreal.qc.ca/en/public/coronavirus-covid-19/situation-of-the-coronavirus-covid-19-in-montreal/#c43710"
      ]
    },
    {
      "cell_type": "code",
      "metadata": {
        "id": "57CC7t1Qgjgx"
      },
      "source": [
        "courbe_Covid = pd.read_csv('courbe_Covid.csv', sep=';')"
      ],
      "execution_count": null,
      "outputs": []
    },
    {
      "cell_type": "code",
      "metadata": {
        "id": "m0aNMWZHg9nz",
        "outputId": "8641406e-c080-4ccc-c0dd-016a6f607274",
        "colab": {
          "base_uri": "https://localhost:8080/",
          "height": 204
        }
      },
      "source": [
        "courbe_Covid.head()"
      ],
      "execution_count": null,
      "outputs": [
        {
          "output_type": "execute_result",
          "data": {
            "text/html": [
              "<div>\n",
              "<style scoped>\n",
              "    .dataframe tbody tr th:only-of-type {\n",
              "        vertical-align: middle;\n",
              "    }\n",
              "\n",
              "    .dataframe tbody tr th {\n",
              "        vertical-align: top;\n",
              "    }\n",
              "\n",
              "    .dataframe thead th {\n",
              "        text-align: right;\n",
              "    }\n",
              "</style>\n",
              "<table border=\"1\" class=\"dataframe\">\n",
              "  <thead>\n",
              "    <tr style=\"text-align: right;\">\n",
              "      <th></th>\n",
              "      <th>Date</th>\n",
              "      <th>Nouveaux cas</th>\n",
              "      <th>Cumulatif de cas</th>\n",
              "      <th>Unnamed: 3</th>\n",
              "    </tr>\n",
              "  </thead>\n",
              "  <tbody>\n",
              "    <tr>\n",
              "      <th>0</th>\n",
              "      <td>2020-01-08</td>\n",
              "      <td>0.0</td>\n",
              "      <td>0.0</td>\n",
              "      <td>NaN</td>\n",
              "    </tr>\n",
              "    <tr>\n",
              "      <th>1</th>\n",
              "      <td>2020-02-25</td>\n",
              "      <td>1.0</td>\n",
              "      <td>1.0</td>\n",
              "      <td>NaN</td>\n",
              "    </tr>\n",
              "    <tr>\n",
              "      <th>2</th>\n",
              "      <td>2020-02-26</td>\n",
              "      <td>0.0</td>\n",
              "      <td>1.0</td>\n",
              "      <td>NaN</td>\n",
              "    </tr>\n",
              "    <tr>\n",
              "      <th>3</th>\n",
              "      <td>2020-02-27</td>\n",
              "      <td>0.0</td>\n",
              "      <td>1.0</td>\n",
              "      <td>NaN</td>\n",
              "    </tr>\n",
              "    <tr>\n",
              "      <th>4</th>\n",
              "      <td>2020-02-28</td>\n",
              "      <td>0.0</td>\n",
              "      <td>1.0</td>\n",
              "      <td>NaN</td>\n",
              "    </tr>\n",
              "  </tbody>\n",
              "</table>\n",
              "</div>"
            ],
            "text/plain": [
              "         Date  Nouveaux cas  Cumulatif de cas  Unnamed: 3\n",
              "0  2020-01-08           0.0               0.0         NaN\n",
              "1  2020-02-25           1.0               1.0         NaN\n",
              "2  2020-02-26           0.0               1.0         NaN\n",
              "3  2020-02-27           0.0               1.0         NaN\n",
              "4  2020-02-28           0.0               1.0         NaN"
            ]
          },
          "metadata": {
            "tags": []
          },
          "execution_count": 46
        }
      ]
    },
    {
      "cell_type": "code",
      "metadata": {
        "id": "k5_GQ7y8g9vD"
      },
      "source": [
        "covid19_download = pd.read_csv('covid19-download.csv')"
      ],
      "execution_count": null,
      "outputs": []
    },
    {
      "cell_type": "code",
      "metadata": {
        "id": "MeW7LghmhCdP",
        "outputId": "e0a22704-a6c2-45cb-9932-740ed40570d5",
        "colab": {
          "base_uri": "https://localhost:8080/",
          "height": 326
        }
      },
      "source": [
        "covid19_download.tail()"
      ],
      "execution_count": null,
      "outputs": [
        {
          "output_type": "execute_result",
          "data": {
            "text/html": [
              "<div>\n",
              "<style scoped>\n",
              "    .dataframe tbody tr th:only-of-type {\n",
              "        vertical-align: middle;\n",
              "    }\n",
              "\n",
              "    .dataframe tbody tr th {\n",
              "        vertical-align: top;\n",
              "    }\n",
              "\n",
              "    .dataframe thead th {\n",
              "        text-align: right;\n",
              "    }\n",
              "</style>\n",
              "<table border=\"1\" class=\"dataframe\">\n",
              "  <thead>\n",
              "    <tr style=\"text-align: right;\">\n",
              "      <th></th>\n",
              "      <th>pruid</th>\n",
              "      <th>prname</th>\n",
              "      <th>prnameFR</th>\n",
              "      <th>date</th>\n",
              "      <th>numconf</th>\n",
              "      <th>numprob</th>\n",
              "      <th>numdeaths</th>\n",
              "      <th>numtotal</th>\n",
              "      <th>numtested</th>\n",
              "      <th>numrecover</th>\n",
              "      <th>percentrecover</th>\n",
              "      <th>ratetested</th>\n",
              "      <th>numtoday</th>\n",
              "      <th>percentoday</th>\n",
              "      <th>ratetotal</th>\n",
              "      <th>ratedeaths</th>\n",
              "      <th>numdeathstoday</th>\n",
              "      <th>percentdeath</th>\n",
              "      <th>numtestedtoday</th>\n",
              "      <th>numrecoveredtoday</th>\n",
              "      <th>percentactive</th>\n",
              "      <th>numactive</th>\n",
              "      <th>rateactive</th>\n",
              "      <th>numtotal_last14</th>\n",
              "      <th>ratetotal_last14</th>\n",
              "      <th>numdeaths_last14</th>\n",
              "      <th>ratedeaths_last14</th>\n",
              "      <th>numtotal_last7</th>\n",
              "      <th>ratetotal_last7</th>\n",
              "      <th>numdeaths_last7</th>\n",
              "      <th>ratedeaths_last7</th>\n",
              "      <th>avgtotal_last7</th>\n",
              "      <th>avgincidence_last7</th>\n",
              "      <th>avgdeaths_last7</th>\n",
              "      <th>avgratedeaths_last7</th>\n",
              "    </tr>\n",
              "  </thead>\n",
              "  <tbody>\n",
              "    <tr>\n",
              "      <th>3757</th>\n",
              "      <td>60</td>\n",
              "      <td>Yukon</td>\n",
              "      <td>Yukon</td>\n",
              "      <td>2020-11-12</td>\n",
              "      <td>24</td>\n",
              "      <td>0</td>\n",
              "      <td>1.0</td>\n",
              "      <td>24</td>\n",
              "      <td>4235.0</td>\n",
              "      <td>22.0</td>\n",
              "      <td>91.67</td>\n",
              "      <td>103662.0</td>\n",
              "      <td>1</td>\n",
              "      <td>4.35</td>\n",
              "      <td>58.75</td>\n",
              "      <td>2.45</td>\n",
              "      <td>0.0</td>\n",
              "      <td>4.17</td>\n",
              "      <td>24.0</td>\n",
              "      <td>0.0</td>\n",
              "      <td>4.17</td>\n",
              "      <td>1.0</td>\n",
              "      <td>2.45</td>\n",
              "      <td>1.0</td>\n",
              "      <td>2.45</td>\n",
              "      <td>1.0</td>\n",
              "      <td>2.45</td>\n",
              "      <td>1.0</td>\n",
              "      <td>2.45</td>\n",
              "      <td>0.0</td>\n",
              "      <td>0.00</td>\n",
              "      <td>0.0</td>\n",
              "      <td>0.35</td>\n",
              "      <td>0.0</td>\n",
              "      <td>0.00</td>\n",
              "    </tr>\n",
              "    <tr>\n",
              "      <th>3758</th>\n",
              "      <td>61</td>\n",
              "      <td>Northwest Territories</td>\n",
              "      <td>Territoires du Nord-Ouest</td>\n",
              "      <td>2020-11-12</td>\n",
              "      <td>11</td>\n",
              "      <td>0</td>\n",
              "      <td>0.0</td>\n",
              "      <td>11</td>\n",
              "      <td>5772.0</td>\n",
              "      <td>10.0</td>\n",
              "      <td>90.91</td>\n",
              "      <td>128765.0</td>\n",
              "      <td>0</td>\n",
              "      <td>0.00</td>\n",
              "      <td>24.54</td>\n",
              "      <td>0.00</td>\n",
              "      <td>0.0</td>\n",
              "      <td>0.00</td>\n",
              "      <td>33.0</td>\n",
              "      <td>0.0</td>\n",
              "      <td>9.09</td>\n",
              "      <td>1.0</td>\n",
              "      <td>2.23</td>\n",
              "      <td>1.0</td>\n",
              "      <td>2.23</td>\n",
              "      <td>0.0</td>\n",
              "      <td>0.00</td>\n",
              "      <td>1.0</td>\n",
              "      <td>2.23</td>\n",
              "      <td>0.0</td>\n",
              "      <td>0.00</td>\n",
              "      <td>0.0</td>\n",
              "      <td>0.32</td>\n",
              "      <td>0.0</td>\n",
              "      <td>0.00</td>\n",
              "    </tr>\n",
              "    <tr>\n",
              "      <th>3759</th>\n",
              "      <td>62</td>\n",
              "      <td>Nunavut</td>\n",
              "      <td>Nunavut</td>\n",
              "      <td>2020-11-12</td>\n",
              "      <td>3</td>\n",
              "      <td>0</td>\n",
              "      <td>0.0</td>\n",
              "      <td>3</td>\n",
              "      <td>3271.0</td>\n",
              "      <td>0.0</td>\n",
              "      <td>0.00</td>\n",
              "      <td>84348.0</td>\n",
              "      <td>0</td>\n",
              "      <td>0.00</td>\n",
              "      <td>7.74</td>\n",
              "      <td>0.00</td>\n",
              "      <td>0.0</td>\n",
              "      <td>0.00</td>\n",
              "      <td>50.0</td>\n",
              "      <td>0.0</td>\n",
              "      <td>100.00</td>\n",
              "      <td>3.0</td>\n",
              "      <td>7.74</td>\n",
              "      <td>3.0</td>\n",
              "      <td>7.74</td>\n",
              "      <td>0.0</td>\n",
              "      <td>0.00</td>\n",
              "      <td>3.0</td>\n",
              "      <td>7.74</td>\n",
              "      <td>0.0</td>\n",
              "      <td>0.00</td>\n",
              "      <td>0.0</td>\n",
              "      <td>1.11</td>\n",
              "      <td>0.0</td>\n",
              "      <td>0.00</td>\n",
              "    </tr>\n",
              "    <tr>\n",
              "      <th>3760</th>\n",
              "      <td>99</td>\n",
              "      <td>Repatriated travellers</td>\n",
              "      <td>Voyageurs rapatriés</td>\n",
              "      <td>2020-11-12</td>\n",
              "      <td>13</td>\n",
              "      <td>0</td>\n",
              "      <td>0.0</td>\n",
              "      <td>13</td>\n",
              "      <td>76.0</td>\n",
              "      <td>13.0</td>\n",
              "      <td>100.00</td>\n",
              "      <td>NaN</td>\n",
              "      <td>0</td>\n",
              "      <td>0.00</td>\n",
              "      <td>NaN</td>\n",
              "      <td>NaN</td>\n",
              "      <td>0.0</td>\n",
              "      <td>0.00</td>\n",
              "      <td>0.0</td>\n",
              "      <td>0.0</td>\n",
              "      <td>0.00</td>\n",
              "      <td>0.0</td>\n",
              "      <td>NaN</td>\n",
              "      <td>0.0</td>\n",
              "      <td>NaN</td>\n",
              "      <td>0.0</td>\n",
              "      <td>NaN</td>\n",
              "      <td>0.0</td>\n",
              "      <td>NaN</td>\n",
              "      <td>0.0</td>\n",
              "      <td>NaN</td>\n",
              "      <td>0.0</td>\n",
              "      <td>NaN</td>\n",
              "      <td>0.0</td>\n",
              "      <td>NaN</td>\n",
              "    </tr>\n",
              "    <tr>\n",
              "      <th>3761</th>\n",
              "      <td>1</td>\n",
              "      <td>Canada</td>\n",
              "      <td>Canada</td>\n",
              "      <td>2020-11-12</td>\n",
              "      <td>282577</td>\n",
              "      <td>0</td>\n",
              "      <td>10768.0</td>\n",
              "      <td>282577</td>\n",
              "      <td>10158802.0</td>\n",
              "      <td>226775.0</td>\n",
              "      <td>80.25</td>\n",
              "      <td>270258.0</td>\n",
              "      <td>5516</td>\n",
              "      <td>1.99</td>\n",
              "      <td>751.75</td>\n",
              "      <td>28.65</td>\n",
              "      <td>83.0</td>\n",
              "      <td>3.81</td>\n",
              "      <td>61765.0</td>\n",
              "      <td>3576.0</td>\n",
              "      <td>15.94</td>\n",
              "      <td>45034.0</td>\n",
              "      <td>119.81</td>\n",
              "      <td>54035.0</td>\n",
              "      <td>143.75</td>\n",
              "      <td>694.0</td>\n",
              "      <td>1.85</td>\n",
              "      <td>30437.0</td>\n",
              "      <td>80.97</td>\n",
              "      <td>387.0</td>\n",
              "      <td>1.03</td>\n",
              "      <td>4348.0</td>\n",
              "      <td>11.57</td>\n",
              "      <td>55.0</td>\n",
              "      <td>0.15</td>\n",
              "    </tr>\n",
              "  </tbody>\n",
              "</table>\n",
              "</div>"
            ],
            "text/plain": [
              "      pruid                  prname  ... avgdeaths_last7 avgratedeaths_last7\n",
              "3757     60                   Yukon  ...             0.0                0.00\n",
              "3758     61   Northwest Territories  ...             0.0                0.00\n",
              "3759     62                 Nunavut  ...             0.0                0.00\n",
              "3760     99  Repatriated travellers  ...             0.0                 NaN\n",
              "3761      1                  Canada  ...            55.0                0.15\n",
              "\n",
              "[5 rows x 35 columns]"
            ]
          },
          "metadata": {
            "tags": []
          },
          "execution_count": 49
        }
      ]
    },
    {
      "cell_type": "markdown",
      "metadata": {
        "id": "bsqW6xcjjep6"
      },
      "source": [
        "Centraide Radar"
      ]
    },
    {
      "cell_type": "code",
      "metadata": {
        "id": "sWmu8YNnhChC"
      },
      "source": [
        "radar_uwc_data = pd.read_excel('Copie de Radar_UWC_DATA_16102020.xlsx')"
      ],
      "execution_count": null,
      "outputs": []
    },
    {
      "cell_type": "code",
      "metadata": {
        "id": "vUL9-Mt8hCnm",
        "outputId": "e01224f0-6e25-4a4c-c31c-09714fc7517e",
        "colab": {
          "base_uri": "https://localhost:8080/",
          "height": 513
        }
      },
      "source": [
        "radar_uwc_data.head()"
      ],
      "execution_count": null,
      "outputs": [
        {
          "output_type": "execute_result",
          "data": {
            "text/html": [
              "<div>\n",
              "<style scoped>\n",
              "    .dataframe tbody tr th:only-of-type {\n",
              "        vertical-align: middle;\n",
              "    }\n",
              "\n",
              "    .dataframe tbody tr th {\n",
              "        vertical-align: top;\n",
              "    }\n",
              "\n",
              "    .dataframe thead th {\n",
              "        text-align: right;\n",
              "    }\n",
              "</style>\n",
              "<table border=\"1\" class=\"dataframe\">\n",
              "  <thead>\n",
              "    <tr style=\"text-align: right;\">\n",
              "      <th></th>\n",
              "      <th>#ID211</th>\n",
              "      <th>#ID Centraide</th>\n",
              "      <th>Nom de l'organisme</th>\n",
              "      <th>Site web</th>\n",
              "      <th>Code Postal</th>\n",
              "      <th>Latitude</th>\n",
              "      <th>Longitude</th>\n",
              "      <th>LegalStatus</th>\n",
              "      <th>Statut actuel</th>\n",
              "      <th>EN_Current Status</th>\n",
              "      <th>Service1</th>\n",
              "      <th>Service2</th>\n",
              "      <th>Service3</th>\n",
              "      <th>Service4</th>\n",
              "      <th>Service5</th>\n",
              "      <th>Service6</th>\n",
              "      <th>Service7</th>\n",
              "      <th>Service8</th>\n",
              "      <th>Service9</th>\n",
              "      <th>Service10</th>\n",
              "      <th>EN_Service1</th>\n",
              "      <th>EN_Service2</th>\n",
              "      <th>EN_Service3</th>\n",
              "      <th>EN_Service4</th>\n",
              "      <th>EN_Service5</th>\n",
              "      <th>EN_Service6</th>\n",
              "      <th>EN_Service7</th>\n",
              "      <th>EN_Service8</th>\n",
              "      <th>EN_Service9</th>\n",
              "      <th>EN_Service10</th>\n",
              "      <th>Soutien Centraide 2020-2021</th>\n",
              "      <th>Soutien Centraide Fonds urgence Covid</th>\n",
              "      <th>Autres soutiens Bailleur 1</th>\n",
              "      <th>Autres soutiens Montant 1</th>\n",
              "      <th>Autres soutiens Bailleur 2</th>\n",
              "      <th>Autres soutiens Montant 2</th>\n",
              "      <th>Autres soutiens Bailleur 3</th>\n",
              "      <th>Autres soutiens Montant 3</th>\n",
              "      <th>Autres soutiens Bailleur 4</th>\n",
              "      <th>Autres soutiens Montant 4</th>\n",
              "      <th>Autres soutiens Bailleur 5</th>\n",
              "      <th>Autres soutiens Montant 5</th>\n",
              "      <th>UWC_Market</th>\n",
              "    </tr>\n",
              "  </thead>\n",
              "  <tbody>\n",
              "    <tr>\n",
              "      <th>0</th>\n",
              "      <td>18761998</td>\n",
              "      <td>A-7800539</td>\n",
              "      <td>\"Action-autonomie\" -  Le collectif pour la déf...</td>\n",
              "      <td>www.actionautonomie.qc.ca</td>\n",
              "      <td>H1X 1P7</td>\n",
              "      <td>45.55827</td>\n",
              "      <td>-73.5719</td>\n",
              "      <td>NaN</td>\n",
              "      <td>NaN</td>\n",
              "      <td>NaN</td>\n",
              "      <td>NaN</td>\n",
              "      <td>NaN</td>\n",
              "      <td>NaN</td>\n",
              "      <td>NaN</td>\n",
              "      <td>NaN</td>\n",
              "      <td>NaN</td>\n",
              "      <td>NaN</td>\n",
              "      <td>NaN</td>\n",
              "      <td>NaN</td>\n",
              "      <td>NaN</td>\n",
              "      <td>NaN</td>\n",
              "      <td>NaN</td>\n",
              "      <td>NaN</td>\n",
              "      <td>NaN</td>\n",
              "      <td>NaN</td>\n",
              "      <td>NaN</td>\n",
              "      <td>NaN</td>\n",
              "      <td>NaN</td>\n",
              "      <td>NaN</td>\n",
              "      <td>NaN</td>\n",
              "      <td>81000.0</td>\n",
              "      <td>NaN</td>\n",
              "      <td>NaN</td>\n",
              "      <td>NaN</td>\n",
              "      <td>NaN</td>\n",
              "      <td>NaN</td>\n",
              "      <td>NaN</td>\n",
              "      <td>NaN</td>\n",
              "      <td>NaN</td>\n",
              "      <td>NaN</td>\n",
              "      <td>NaN</td>\n",
              "      <td>NaN</td>\n",
              "      <td>NaN</td>\n",
              "    </tr>\n",
              "    <tr>\n",
              "      <th>1</th>\n",
              "      <td>NaN</td>\n",
              "      <td>A-7800583</td>\n",
              "      <td>(TRAC) Travail de Rue/Action Communautaire</td>\n",
              "      <td>www.letrac.org</td>\n",
              "      <td>H4G 3E4</td>\n",
              "      <td>45.462760</td>\n",
              "      <td>-73.569520</td>\n",
              "      <td>NaN</td>\n",
              "      <td>NaN</td>\n",
              "      <td>NaN</td>\n",
              "      <td>NaN</td>\n",
              "      <td>NaN</td>\n",
              "      <td>NaN</td>\n",
              "      <td>NaN</td>\n",
              "      <td>NaN</td>\n",
              "      <td>NaN</td>\n",
              "      <td>NaN</td>\n",
              "      <td>NaN</td>\n",
              "      <td>NaN</td>\n",
              "      <td>NaN</td>\n",
              "      <td>NaN</td>\n",
              "      <td>NaN</td>\n",
              "      <td>NaN</td>\n",
              "      <td>NaN</td>\n",
              "      <td>NaN</td>\n",
              "      <td>NaN</td>\n",
              "      <td>NaN</td>\n",
              "      <td>NaN</td>\n",
              "      <td>NaN</td>\n",
              "      <td>NaN</td>\n",
              "      <td>191800.0</td>\n",
              "      <td>NaN</td>\n",
              "      <td>NaN</td>\n",
              "      <td>NaN</td>\n",
              "      <td>NaN</td>\n",
              "      <td>NaN</td>\n",
              "      <td>NaN</td>\n",
              "      <td>NaN</td>\n",
              "      <td>NaN</td>\n",
              "      <td>NaN</td>\n",
              "      <td>NaN</td>\n",
              "      <td>NaN</td>\n",
              "      <td>NaN</td>\n",
              "    </tr>\n",
              "    <tr>\n",
              "      <th>2</th>\n",
              "      <td>23241186</td>\n",
              "      <td>A-7807772</td>\n",
              "      <td>1,2,3 GO! St-Michel/Femmes-Relais</td>\n",
              "      <td>www.123gopdi.org</td>\n",
              "      <td>H1Z 4B2</td>\n",
              "      <td>45.69338</td>\n",
              "      <td>-73.48766</td>\n",
              "      <td>organisme à but non lucratif</td>\n",
              "      <td>NaN</td>\n",
              "      <td>NaN</td>\n",
              "      <td>NaN</td>\n",
              "      <td>NaN</td>\n",
              "      <td>NaN</td>\n",
              "      <td>NaN</td>\n",
              "      <td>NaN</td>\n",
              "      <td>NaN</td>\n",
              "      <td>NaN</td>\n",
              "      <td>NaN</td>\n",
              "      <td>NaN</td>\n",
              "      <td>NaN</td>\n",
              "      <td>NaN</td>\n",
              "      <td>NaN</td>\n",
              "      <td>NaN</td>\n",
              "      <td>NaN</td>\n",
              "      <td>NaN</td>\n",
              "      <td>NaN</td>\n",
              "      <td>NaN</td>\n",
              "      <td>NaN</td>\n",
              "      <td>NaN</td>\n",
              "      <td>NaN</td>\n",
              "      <td>78400.0</td>\n",
              "      <td>NaN</td>\n",
              "      <td>NaN</td>\n",
              "      <td>NaN</td>\n",
              "      <td>NaN</td>\n",
              "      <td>NaN</td>\n",
              "      <td>NaN</td>\n",
              "      <td>NaN</td>\n",
              "      <td>NaN</td>\n",
              "      <td>NaN</td>\n",
              "      <td>NaN</td>\n",
              "      <td>NaN</td>\n",
              "      <td>NaN</td>\n",
              "    </tr>\n",
              "    <tr>\n",
              "      <th>3</th>\n",
              "      <td>55456858</td>\n",
              "      <td>NaN</td>\n",
              "      <td>19E GROUPE SCOUT DE SAINT-HUBERT - FRIGID'AIDE</td>\n",
              "      <td>www.scouts19.ca/index.php/frigidaide</td>\n",
              "      <td>J4T 2P3</td>\n",
              "      <td>45.49114</td>\n",
              "      <td>-73.46891</td>\n",
              "      <td>organisme à but non lucratif</td>\n",
              "      <td>NaN</td>\n",
              "      <td>NaN</td>\n",
              "      <td>Sécurité alimentaire</td>\n",
              "      <td>NaN</td>\n",
              "      <td>NaN</td>\n",
              "      <td>NaN</td>\n",
              "      <td>NaN</td>\n",
              "      <td>NaN</td>\n",
              "      <td>NaN</td>\n",
              "      <td>NaN</td>\n",
              "      <td>NaN</td>\n",
              "      <td>NaN</td>\n",
              "      <td>Food Security</td>\n",
              "      <td>NaN</td>\n",
              "      <td>NaN</td>\n",
              "      <td>NaN</td>\n",
              "      <td>NaN</td>\n",
              "      <td>NaN</td>\n",
              "      <td>NaN</td>\n",
              "      <td>NaN</td>\n",
              "      <td>NaN</td>\n",
              "      <td>NaN</td>\n",
              "      <td>NaN</td>\n",
              "      <td>NaN</td>\n",
              "      <td>NaN</td>\n",
              "      <td>NaN</td>\n",
              "      <td>NaN</td>\n",
              "      <td>NaN</td>\n",
              "      <td>NaN</td>\n",
              "      <td>NaN</td>\n",
              "      <td>NaN</td>\n",
              "      <td>NaN</td>\n",
              "      <td>NaN</td>\n",
              "      <td>NaN</td>\n",
              "      <td>Greater Montreal</td>\n",
              "    </tr>\n",
              "    <tr>\n",
              "      <th>4</th>\n",
              "      <td>18760692</td>\n",
              "      <td>A-7800017</td>\n",
              "      <td>À DEUX MAINS</td>\n",
              "      <td>www.headandhands.ca</td>\n",
              "      <td>H4B 2R9</td>\n",
              "      <td>45.46575</td>\n",
              "      <td>-73.6287</td>\n",
              "      <td>organisme à but non lucratif</td>\n",
              "      <td>Ouvert</td>\n",
              "      <td>Open</td>\n",
              "      <td>Soutien aux jeunes</td>\n",
              "      <td>Justice et défense des droits</td>\n",
              "      <td>Soutien enfance et famille</td>\n",
              "      <td>Santé</td>\n",
              "      <td>NaN</td>\n",
              "      <td>NaN</td>\n",
              "      <td>NaN</td>\n",
              "      <td>NaN</td>\n",
              "      <td>NaN</td>\n",
              "      <td>NaN</td>\n",
              "      <td>Youth Support</td>\n",
              "      <td>Justice and Advocacy</td>\n",
              "      <td>Child and Family Support</td>\n",
              "      <td>Health</td>\n",
              "      <td>NaN</td>\n",
              "      <td>NaN</td>\n",
              "      <td>NaN</td>\n",
              "      <td>NaN</td>\n",
              "      <td>NaN</td>\n",
              "      <td>NaN</td>\n",
              "      <td>143050.0</td>\n",
              "      <td>10000.0</td>\n",
              "      <td>Fondation de la Famille Pathy</td>\n",
              "      <td>15000.0</td>\n",
              "      <td>Gouvernement du Québec</td>\n",
              "      <td>3000.0</td>\n",
              "      <td>Arrondissement CDN-NDG</td>\n",
              "      <td>8000.0</td>\n",
              "      <td>FUAC</td>\n",
              "      <td>33096.0</td>\n",
              "      <td>NaN</td>\n",
              "      <td>NaN</td>\n",
              "      <td>Greater Montreal</td>\n",
              "    </tr>\n",
              "  </tbody>\n",
              "</table>\n",
              "</div>"
            ],
            "text/plain": [
              "     #ID211 #ID Centraide  ... Autres soutiens Montant 5        UWC_Market\n",
              "0  18761998     A-7800539  ...                       NaN               NaN\n",
              "1       NaN     A-7800583  ...                       NaN               NaN\n",
              "2  23241186     A-7807772  ...                       NaN               NaN\n",
              "3  55456858           NaN  ...                       NaN  Greater Montreal\n",
              "4  18760692     A-7800017  ...                       NaN  Greater Montreal\n",
              "\n",
              "[5 rows x 43 columns]"
            ]
          },
          "metadata": {
            "tags": []
          },
          "execution_count": 51
        }
      ]
    },
    {
      "cell_type": "code",
      "metadata": {
        "id": "xODJb483hCr-"
      },
      "source": [
        "radar_uwc_investissements_reguliers = pd.read_excel('RADAR_UWC_INVESTISSEMENTSREGULIERS.xlsx')"
      ],
      "execution_count": null,
      "outputs": []
    },
    {
      "cell_type": "code",
      "metadata": {
        "id": "7NI52Zn0g9sJ",
        "outputId": "b981b701-3faa-4134-cbfb-4545151e285e",
        "colab": {
          "base_uri": "https://localhost:8080/",
          "height": 479
        }
      },
      "source": [
        "radar_uwc_investissements_reguliers.head()"
      ],
      "execution_count": null,
      "outputs": [
        {
          "output_type": "execute_result",
          "data": {
            "text/html": [
              "<div>\n",
              "<style scoped>\n",
              "    .dataframe tbody tr th:only-of-type {\n",
              "        vertical-align: middle;\n",
              "    }\n",
              "\n",
              "    .dataframe tbody tr th {\n",
              "        vertical-align: top;\n",
              "    }\n",
              "\n",
              "    .dataframe thead th {\n",
              "        text-align: right;\n",
              "    }\n",
              "</style>\n",
              "<table border=\"1\" class=\"dataframe\">\n",
              "  <thead>\n",
              "    <tr style=\"text-align: right;\">\n",
              "      <th></th>\n",
              "      <th>#ID211</th>\n",
              "      <th>#ID Centraide</th>\n",
              "      <th>Nom de l'organisme</th>\n",
              "      <th>Site web</th>\n",
              "      <th>Code Postal</th>\n",
              "      <th>Latitude</th>\n",
              "      <th>Longitude</th>\n",
              "      <th>LegalStatus</th>\n",
              "      <th>Statut actuel</th>\n",
              "      <th>EN_Current Status</th>\n",
              "      <th>Service1</th>\n",
              "      <th>Service2</th>\n",
              "      <th>Service3</th>\n",
              "      <th>Service4</th>\n",
              "      <th>Service5</th>\n",
              "      <th>Service6</th>\n",
              "      <th>Service7</th>\n",
              "      <th>Service8</th>\n",
              "      <th>Service9</th>\n",
              "      <th>Service10</th>\n",
              "      <th>EN_Service1</th>\n",
              "      <th>EN_Service2</th>\n",
              "      <th>EN_Service3</th>\n",
              "      <th>EN_Service4</th>\n",
              "      <th>EN_Service5</th>\n",
              "      <th>EN_Service6</th>\n",
              "      <th>EN_Service7</th>\n",
              "      <th>EN_Service8</th>\n",
              "      <th>EN_Service9</th>\n",
              "      <th>EN_Service10</th>\n",
              "      <th>Soutien Centraide 2020-2021</th>\n",
              "      <th>Soutien Centraide Fonds urgence Covid</th>\n",
              "      <th>Autres soutiens Bailleur 1</th>\n",
              "      <th>Autres soutiens Montant 1</th>\n",
              "      <th>Autres soutiens Bailleur 2</th>\n",
              "      <th>Autres soutiens Montant 2</th>\n",
              "      <th>Autres soutiens Bailleur 3</th>\n",
              "      <th>Autres soutiens Montant 3</th>\n",
              "      <th>Autres soutiens Bailleur 4</th>\n",
              "      <th>Autres soutiens Montant 4</th>\n",
              "      <th>Autres soutiens Bailleur 5</th>\n",
              "      <th>Autres soutiens Montant 5</th>\n",
              "      <th>UWC_Market</th>\n",
              "    </tr>\n",
              "  </thead>\n",
              "  <tbody>\n",
              "    <tr>\n",
              "      <th>0</th>\n",
              "      <td>18761998</td>\n",
              "      <td>A-7800539</td>\n",
              "      <td>\"Action-autonomie\" -  Le collectif pour la déf...</td>\n",
              "      <td>www.actionautonomie.qc.ca</td>\n",
              "      <td>H1X 1P7</td>\n",
              "      <td>45.55827</td>\n",
              "      <td>-73.5719</td>\n",
              "      <td>NaN</td>\n",
              "      <td>NaN</td>\n",
              "      <td>NaN</td>\n",
              "      <td>NaN</td>\n",
              "      <td>NaN</td>\n",
              "      <td>NaN</td>\n",
              "      <td>NaN</td>\n",
              "      <td>NaN</td>\n",
              "      <td>NaN</td>\n",
              "      <td>NaN</td>\n",
              "      <td>NaN</td>\n",
              "      <td>NaN</td>\n",
              "      <td>NaN</td>\n",
              "      <td>NaN</td>\n",
              "      <td>NaN</td>\n",
              "      <td>NaN</td>\n",
              "      <td>NaN</td>\n",
              "      <td>NaN</td>\n",
              "      <td>NaN</td>\n",
              "      <td>NaN</td>\n",
              "      <td>NaN</td>\n",
              "      <td>NaN</td>\n",
              "      <td>NaN</td>\n",
              "      <td>81000.0</td>\n",
              "      <td>NaN</td>\n",
              "      <td>NaN</td>\n",
              "      <td>NaN</td>\n",
              "      <td>NaN</td>\n",
              "      <td>NaN</td>\n",
              "      <td>NaN</td>\n",
              "      <td>NaN</td>\n",
              "      <td>NaN</td>\n",
              "      <td>NaN</td>\n",
              "      <td>NaN</td>\n",
              "      <td>NaN</td>\n",
              "      <td>NaN</td>\n",
              "    </tr>\n",
              "    <tr>\n",
              "      <th>1</th>\n",
              "      <td>NaN</td>\n",
              "      <td>A-7800583</td>\n",
              "      <td>(TRAC) Travail de Rue/Action Communautaire</td>\n",
              "      <td>www.letrac.org</td>\n",
              "      <td>H4G 3E4</td>\n",
              "      <td>45.462760</td>\n",
              "      <td>-73.569520</td>\n",
              "      <td>NaN</td>\n",
              "      <td>NaN</td>\n",
              "      <td>NaN</td>\n",
              "      <td>NaN</td>\n",
              "      <td>NaN</td>\n",
              "      <td>NaN</td>\n",
              "      <td>NaN</td>\n",
              "      <td>NaN</td>\n",
              "      <td>NaN</td>\n",
              "      <td>NaN</td>\n",
              "      <td>NaN</td>\n",
              "      <td>NaN</td>\n",
              "      <td>NaN</td>\n",
              "      <td>NaN</td>\n",
              "      <td>NaN</td>\n",
              "      <td>NaN</td>\n",
              "      <td>NaN</td>\n",
              "      <td>NaN</td>\n",
              "      <td>NaN</td>\n",
              "      <td>NaN</td>\n",
              "      <td>NaN</td>\n",
              "      <td>NaN</td>\n",
              "      <td>NaN</td>\n",
              "      <td>191800.0</td>\n",
              "      <td>NaN</td>\n",
              "      <td>NaN</td>\n",
              "      <td>NaN</td>\n",
              "      <td>NaN</td>\n",
              "      <td>NaN</td>\n",
              "      <td>NaN</td>\n",
              "      <td>NaN</td>\n",
              "      <td>NaN</td>\n",
              "      <td>NaN</td>\n",
              "      <td>NaN</td>\n",
              "      <td>NaN</td>\n",
              "      <td>NaN</td>\n",
              "    </tr>\n",
              "    <tr>\n",
              "      <th>2</th>\n",
              "      <td>23241186</td>\n",
              "      <td>A-7807772</td>\n",
              "      <td>1,2,3 GO! St-Michel/Femmes-Relais</td>\n",
              "      <td>www.123gopdi.org</td>\n",
              "      <td>H1Z 4B2</td>\n",
              "      <td>45.69338</td>\n",
              "      <td>-73.48766</td>\n",
              "      <td>organisme à but non lucratif</td>\n",
              "      <td>NaN</td>\n",
              "      <td>NaN</td>\n",
              "      <td>NaN</td>\n",
              "      <td>NaN</td>\n",
              "      <td>NaN</td>\n",
              "      <td>NaN</td>\n",
              "      <td>NaN</td>\n",
              "      <td>NaN</td>\n",
              "      <td>NaN</td>\n",
              "      <td>NaN</td>\n",
              "      <td>NaN</td>\n",
              "      <td>NaN</td>\n",
              "      <td>NaN</td>\n",
              "      <td>NaN</td>\n",
              "      <td>NaN</td>\n",
              "      <td>NaN</td>\n",
              "      <td>NaN</td>\n",
              "      <td>NaN</td>\n",
              "      <td>NaN</td>\n",
              "      <td>NaN</td>\n",
              "      <td>NaN</td>\n",
              "      <td>NaN</td>\n",
              "      <td>78400.0</td>\n",
              "      <td>NaN</td>\n",
              "      <td>NaN</td>\n",
              "      <td>NaN</td>\n",
              "      <td>NaN</td>\n",
              "      <td>NaN</td>\n",
              "      <td>NaN</td>\n",
              "      <td>NaN</td>\n",
              "      <td>NaN</td>\n",
              "      <td>NaN</td>\n",
              "      <td>NaN</td>\n",
              "      <td>NaN</td>\n",
              "      <td>NaN</td>\n",
              "    </tr>\n",
              "    <tr>\n",
              "      <th>3</th>\n",
              "      <td>18760692</td>\n",
              "      <td>A-7800017</td>\n",
              "      <td>À DEUX MAINS</td>\n",
              "      <td>www.headandhands.ca</td>\n",
              "      <td>H4B 2R9</td>\n",
              "      <td>45.46575</td>\n",
              "      <td>-73.6287</td>\n",
              "      <td>organisme à but non lucratif</td>\n",
              "      <td>Ouvert</td>\n",
              "      <td>Open</td>\n",
              "      <td>Soutien aux jeunes</td>\n",
              "      <td>Justice et défense des droits</td>\n",
              "      <td>Soutien enfance et famille</td>\n",
              "      <td>Santé</td>\n",
              "      <td>NaN</td>\n",
              "      <td>NaN</td>\n",
              "      <td>NaN</td>\n",
              "      <td>NaN</td>\n",
              "      <td>NaN</td>\n",
              "      <td>NaN</td>\n",
              "      <td>Youth Support</td>\n",
              "      <td>Justice and Advocacy</td>\n",
              "      <td>Child and Family Support</td>\n",
              "      <td>Health</td>\n",
              "      <td>NaN</td>\n",
              "      <td>NaN</td>\n",
              "      <td>NaN</td>\n",
              "      <td>NaN</td>\n",
              "      <td>NaN</td>\n",
              "      <td>NaN</td>\n",
              "      <td>143050.0</td>\n",
              "      <td>10000.0</td>\n",
              "      <td>Fondation de la Famille Pathy</td>\n",
              "      <td>15000.0</td>\n",
              "      <td>Gouvernement du Québec</td>\n",
              "      <td>3000.0</td>\n",
              "      <td>Arrondissement CDN-NDG</td>\n",
              "      <td>8000.0</td>\n",
              "      <td>FUAC</td>\n",
              "      <td>33096.0</td>\n",
              "      <td>NaN</td>\n",
              "      <td>NaN</td>\n",
              "      <td>Greater Montreal</td>\n",
              "    </tr>\n",
              "    <tr>\n",
              "      <th>4</th>\n",
              "      <td>18761973</td>\n",
              "      <td>A-7801484</td>\n",
              "      <td>ACCÈS BÉNÉVOLAT</td>\n",
              "      <td>www.accesbenevolat.org</td>\n",
              "      <td>H1Y 1K4</td>\n",
              "      <td>45.54695</td>\n",
              "      <td>-73.58552</td>\n",
              "      <td>NaN</td>\n",
              "      <td>NaN</td>\n",
              "      <td>NaN</td>\n",
              "      <td>NaN</td>\n",
              "      <td>NaN</td>\n",
              "      <td>NaN</td>\n",
              "      <td>NaN</td>\n",
              "      <td>NaN</td>\n",
              "      <td>NaN</td>\n",
              "      <td>NaN</td>\n",
              "      <td>NaN</td>\n",
              "      <td>NaN</td>\n",
              "      <td>NaN</td>\n",
              "      <td>NaN</td>\n",
              "      <td>NaN</td>\n",
              "      <td>NaN</td>\n",
              "      <td>NaN</td>\n",
              "      <td>NaN</td>\n",
              "      <td>NaN</td>\n",
              "      <td>NaN</td>\n",
              "      <td>NaN</td>\n",
              "      <td>NaN</td>\n",
              "      <td>NaN</td>\n",
              "      <td>162695.0</td>\n",
              "      <td>25000.0</td>\n",
              "      <td>NaN</td>\n",
              "      <td>NaN</td>\n",
              "      <td>NaN</td>\n",
              "      <td>NaN</td>\n",
              "      <td>NaN</td>\n",
              "      <td>NaN</td>\n",
              "      <td>NaN</td>\n",
              "      <td>NaN</td>\n",
              "      <td>NaN</td>\n",
              "      <td>NaN</td>\n",
              "      <td>Greater Montreal</td>\n",
              "    </tr>\n",
              "  </tbody>\n",
              "</table>\n",
              "</div>"
            ],
            "text/plain": [
              "     #ID211 #ID Centraide  ... Autres soutiens Montant 5        UWC_Market\n",
              "0  18761998     A-7800539  ...                       NaN               NaN\n",
              "1       NaN     A-7800583  ...                       NaN               NaN\n",
              "2  23241186     A-7807772  ...                       NaN               NaN\n",
              "3  18760692     A-7800017  ...                       NaN  Greater Montreal\n",
              "4  18761973     A-7801484  ...                       NaN  Greater Montreal\n",
              "\n",
              "[5 rows x 43 columns]"
            ]
          },
          "metadata": {
            "tags": []
          },
          "execution_count": 53
        }
      ]
    },
    {
      "cell_type": "code",
      "metadata": {
        "id": "yfeHdjIJg9mi"
      },
      "source": [
        "weather = pd.read_csv('en_climate_daily_QC_702S006_2020_P1D.csv')"
      ],
      "execution_count": null,
      "outputs": []
    },
    {
      "cell_type": "code",
      "metadata": {
        "id": "RJTqxdDhjsJW",
        "outputId": "d2ebb860-e31f-481f-9c74-6b9d1be01c56",
        "colab": {
          "base_uri": "https://localhost:8080/",
          "height": 479
        }
      },
      "source": [
        "weather.head()"
      ],
      "execution_count": null,
      "outputs": [
        {
          "output_type": "execute_result",
          "data": {
            "text/html": [
              "<div>\n",
              "<style scoped>\n",
              "    .dataframe tbody tr th:only-of-type {\n",
              "        vertical-align: middle;\n",
              "    }\n",
              "\n",
              "    .dataframe tbody tr th {\n",
              "        vertical-align: top;\n",
              "    }\n",
              "\n",
              "    .dataframe thead th {\n",
              "        text-align: right;\n",
              "    }\n",
              "</style>\n",
              "<table border=\"1\" class=\"dataframe\">\n",
              "  <thead>\n",
              "    <tr style=\"text-align: right;\">\n",
              "      <th></th>\n",
              "      <th>Longitude (x)</th>\n",
              "      <th>Latitude (y)</th>\n",
              "      <th>Station Name</th>\n",
              "      <th>Climate ID</th>\n",
              "      <th>Date/Time</th>\n",
              "      <th>Year</th>\n",
              "      <th>Month</th>\n",
              "      <th>Day</th>\n",
              "      <th>Data Quality</th>\n",
              "      <th>Max Temp (°C)</th>\n",
              "      <th>Max Temp Flag</th>\n",
              "      <th>Min Temp (°C)</th>\n",
              "      <th>Min Temp Flag</th>\n",
              "      <th>Mean Temp (°C)</th>\n",
              "      <th>Mean Temp Flag</th>\n",
              "      <th>Heat Deg Days (°C)</th>\n",
              "      <th>Heat Deg Days Flag</th>\n",
              "      <th>Cool Deg Days (°C)</th>\n",
              "      <th>Cool Deg Days Flag</th>\n",
              "      <th>Total Rain (mm)</th>\n",
              "      <th>Total Rain Flag</th>\n",
              "      <th>Total Snow (cm)</th>\n",
              "      <th>Total Snow Flag</th>\n",
              "      <th>Total Precip (mm)</th>\n",
              "      <th>Total Precip Flag</th>\n",
              "      <th>Snow on Grnd (cm)</th>\n",
              "      <th>Snow on Grnd Flag</th>\n",
              "      <th>Dir of Max Gust (10s deg)</th>\n",
              "      <th>Dir of Max Gust Flag</th>\n",
              "      <th>Spd of Max Gust (km/h)</th>\n",
              "      <th>Spd of Max Gust Flag</th>\n",
              "    </tr>\n",
              "  </thead>\n",
              "  <tbody>\n",
              "    <tr>\n",
              "      <th>0</th>\n",
              "      <td>-73.74</td>\n",
              "      <td>45.47</td>\n",
              "      <td>MONTREAL/PIERRE ELLIOTT TRUDEAU INTL</td>\n",
              "      <td>702S006</td>\n",
              "      <td>2020-01-01</td>\n",
              "      <td>2020</td>\n",
              "      <td>1</td>\n",
              "      <td>1</td>\n",
              "      <td>NaN</td>\n",
              "      <td>1.3</td>\n",
              "      <td>NaN</td>\n",
              "      <td>-0.9</td>\n",
              "      <td>NaN</td>\n",
              "      <td>0.2</td>\n",
              "      <td>NaN</td>\n",
              "      <td>17.8</td>\n",
              "      <td>NaN</td>\n",
              "      <td>0.0</td>\n",
              "      <td>NaN</td>\n",
              "      <td>NaN</td>\n",
              "      <td>NaN</td>\n",
              "      <td>NaN</td>\n",
              "      <td>NaN</td>\n",
              "      <td>0.9</td>\n",
              "      <td>NaN</td>\n",
              "      <td>16.0</td>\n",
              "      <td>NaN</td>\n",
              "      <td>25.0</td>\n",
              "      <td>NaN</td>\n",
              "      <td>36.0</td>\n",
              "      <td>NaN</td>\n",
              "    </tr>\n",
              "    <tr>\n",
              "      <th>1</th>\n",
              "      <td>-73.74</td>\n",
              "      <td>45.47</td>\n",
              "      <td>MONTREAL/PIERRE ELLIOTT TRUDEAU INTL</td>\n",
              "      <td>702S006</td>\n",
              "      <td>2020-01-02</td>\n",
              "      <td>2020</td>\n",
              "      <td>1</td>\n",
              "      <td>2</td>\n",
              "      <td>NaN</td>\n",
              "      <td>4.0</td>\n",
              "      <td>NaN</td>\n",
              "      <td>-1.4</td>\n",
              "      <td>NaN</td>\n",
              "      <td>1.3</td>\n",
              "      <td>NaN</td>\n",
              "      <td>16.7</td>\n",
              "      <td>NaN</td>\n",
              "      <td>0.0</td>\n",
              "      <td>NaN</td>\n",
              "      <td>NaN</td>\n",
              "      <td>NaN</td>\n",
              "      <td>NaN</td>\n",
              "      <td>NaN</td>\n",
              "      <td>0.0</td>\n",
              "      <td>NaN</td>\n",
              "      <td>16.0</td>\n",
              "      <td>NaN</td>\n",
              "      <td>26.0</td>\n",
              "      <td>NaN</td>\n",
              "      <td>32.0</td>\n",
              "      <td>NaN</td>\n",
              "    </tr>\n",
              "    <tr>\n",
              "      <th>2</th>\n",
              "      <td>-73.74</td>\n",
              "      <td>45.47</td>\n",
              "      <td>MONTREAL/PIERRE ELLIOTT TRUDEAU INTL</td>\n",
              "      <td>702S006</td>\n",
              "      <td>2020-01-03</td>\n",
              "      <td>2020</td>\n",
              "      <td>1</td>\n",
              "      <td>3</td>\n",
              "      <td>NaN</td>\n",
              "      <td>5.2</td>\n",
              "      <td>NaN</td>\n",
              "      <td>1.3</td>\n",
              "      <td>NaN</td>\n",
              "      <td>3.2</td>\n",
              "      <td>NaN</td>\n",
              "      <td>14.8</td>\n",
              "      <td>NaN</td>\n",
              "      <td>0.0</td>\n",
              "      <td>NaN</td>\n",
              "      <td>NaN</td>\n",
              "      <td>NaN</td>\n",
              "      <td>NaN</td>\n",
              "      <td>NaN</td>\n",
              "      <td>0.0</td>\n",
              "      <td>NaN</td>\n",
              "      <td>13.0</td>\n",
              "      <td>NaN</td>\n",
              "      <td>NaN</td>\n",
              "      <td>NaN</td>\n",
              "      <td>NaN</td>\n",
              "      <td>NaN</td>\n",
              "    </tr>\n",
              "    <tr>\n",
              "      <th>3</th>\n",
              "      <td>-73.74</td>\n",
              "      <td>45.47</td>\n",
              "      <td>MONTREAL/PIERRE ELLIOTT TRUDEAU INTL</td>\n",
              "      <td>702S006</td>\n",
              "      <td>2020-01-04</td>\n",
              "      <td>2020</td>\n",
              "      <td>1</td>\n",
              "      <td>4</td>\n",
              "      <td>NaN</td>\n",
              "      <td>1.9</td>\n",
              "      <td>NaN</td>\n",
              "      <td>-2.0</td>\n",
              "      <td>NaN</td>\n",
              "      <td>-0.1</td>\n",
              "      <td>NaN</td>\n",
              "      <td>18.1</td>\n",
              "      <td>NaN</td>\n",
              "      <td>0.0</td>\n",
              "      <td>NaN</td>\n",
              "      <td>NaN</td>\n",
              "      <td>NaN</td>\n",
              "      <td>NaN</td>\n",
              "      <td>NaN</td>\n",
              "      <td>0.2</td>\n",
              "      <td>NaN</td>\n",
              "      <td>8.0</td>\n",
              "      <td>NaN</td>\n",
              "      <td>NaN</td>\n",
              "      <td>NaN</td>\n",
              "      <td>NaN</td>\n",
              "      <td>NaN</td>\n",
              "    </tr>\n",
              "    <tr>\n",
              "      <th>4</th>\n",
              "      <td>-73.74</td>\n",
              "      <td>45.47</td>\n",
              "      <td>MONTREAL/PIERRE ELLIOTT TRUDEAU INTL</td>\n",
              "      <td>702S006</td>\n",
              "      <td>2020-01-05</td>\n",
              "      <td>2020</td>\n",
              "      <td>1</td>\n",
              "      <td>5</td>\n",
              "      <td>NaN</td>\n",
              "      <td>-1.8</td>\n",
              "      <td>NaN</td>\n",
              "      <td>-11.7</td>\n",
              "      <td>NaN</td>\n",
              "      <td>-6.7</td>\n",
              "      <td>NaN</td>\n",
              "      <td>24.7</td>\n",
              "      <td>NaN</td>\n",
              "      <td>0.0</td>\n",
              "      <td>NaN</td>\n",
              "      <td>NaN</td>\n",
              "      <td>NaN</td>\n",
              "      <td>NaN</td>\n",
              "      <td>NaN</td>\n",
              "      <td>0.2</td>\n",
              "      <td>NaN</td>\n",
              "      <td>8.0</td>\n",
              "      <td>NaN</td>\n",
              "      <td>29.0</td>\n",
              "      <td>NaN</td>\n",
              "      <td>42.0</td>\n",
              "      <td>NaN</td>\n",
              "    </tr>\n",
              "  </tbody>\n",
              "</table>\n",
              "</div>"
            ],
            "text/plain": [
              "   Longitude (x)  Latitude (y)  ... Spd of Max Gust (km/h) Spd of Max Gust Flag\n",
              "0         -73.74         45.47  ...                   36.0                  NaN\n",
              "1         -73.74         45.47  ...                   32.0                  NaN\n",
              "2         -73.74         45.47  ...                    NaN                  NaN\n",
              "3         -73.74         45.47  ...                    NaN                  NaN\n",
              "4         -73.74         45.47  ...                   42.0                  NaN\n",
              "\n",
              "[5 rows x 31 columns]"
            ]
          },
          "metadata": {
            "tags": []
          },
          "execution_count": 55
        }
      ]
    },
    {
      "cell_type": "markdown",
      "metadata": {
        "id": "nr3pJWlCjy8q"
      },
      "source": [
        "# Données ouvertes ville de Montréal"
      ]
    },
    {
      "cell_type": "code",
      "metadata": {
        "id": "oHRtJB0ljsO8"
      },
      "source": [
        "actes_criminels = pd.read_csv('interventionscitoyendo.csv', encoding = \"ISO-8859-1\")"
      ],
      "execution_count": null,
      "outputs": []
    },
    {
      "cell_type": "code",
      "metadata": {
        "id": "cp-nh07CjsSj",
        "outputId": "67b2876e-ba6a-4f31-b2a5-12517d092e55",
        "colab": {
          "base_uri": "https://localhost:8080/",
          "height": 204
        }
      },
      "source": [
        "actes_criminels.tail()"
      ],
      "execution_count": null,
      "outputs": [
        {
          "output_type": "execute_result",
          "data": {
            "text/html": [
              "<div>\n",
              "<style scoped>\n",
              "    .dataframe tbody tr th:only-of-type {\n",
              "        vertical-align: middle;\n",
              "    }\n",
              "\n",
              "    .dataframe tbody tr th {\n",
              "        vertical-align: top;\n",
              "    }\n",
              "\n",
              "    .dataframe thead th {\n",
              "        text-align: right;\n",
              "    }\n",
              "</style>\n",
              "<table border=\"1\" class=\"dataframe\">\n",
              "  <thead>\n",
              "    <tr style=\"text-align: right;\">\n",
              "      <th></th>\n",
              "      <th>CATEGORIE</th>\n",
              "      <th>DATE</th>\n",
              "      <th>QUART</th>\n",
              "      <th>PDQ</th>\n",
              "      <th>X</th>\n",
              "      <th>Y</th>\n",
              "      <th>LONGITUDE</th>\n",
              "      <th>LATITUDE</th>\n",
              "    </tr>\n",
              "  </thead>\n",
              "  <tbody>\n",
              "    <tr>\n",
              "      <th>179408</th>\n",
              "      <td>Méfait</td>\n",
              "      <td>2020-05-31</td>\n",
              "      <td>soir</td>\n",
              "      <td>21.0</td>\n",
              "      <td>299939.919000</td>\n",
              "      <td>5.041313e+06</td>\n",
              "      <td>-73.562202</td>\n",
              "      <td>45.511716</td>\n",
              "    </tr>\n",
              "    <tr>\n",
              "      <th>179409</th>\n",
              "      <td>Méfait</td>\n",
              "      <td>2020-05-31</td>\n",
              "      <td>soir</td>\n",
              "      <td>21.0</td>\n",
              "      <td>299939.919000</td>\n",
              "      <td>5.041313e+06</td>\n",
              "      <td>-73.562202</td>\n",
              "      <td>45.511716</td>\n",
              "    </tr>\n",
              "    <tr>\n",
              "      <th>179410</th>\n",
              "      <td>Vol de véhicule à moteur</td>\n",
              "      <td>2020-03-04</td>\n",
              "      <td>jour</td>\n",
              "      <td>21.0</td>\n",
              "      <td>299939.919000</td>\n",
              "      <td>5.041313e+06</td>\n",
              "      <td>-73.562202</td>\n",
              "      <td>45.511716</td>\n",
              "    </tr>\n",
              "    <tr>\n",
              "      <th>179411</th>\n",
              "      <td>Vol de véhicule à moteur</td>\n",
              "      <td>2020-08-02</td>\n",
              "      <td>nuit</td>\n",
              "      <td>7.0</td>\n",
              "      <td>291000.375000</td>\n",
              "      <td>5.042465e+06</td>\n",
              "      <td>-73.676647</td>\n",
              "      <td>45.521969</td>\n",
              "    </tr>\n",
              "    <tr>\n",
              "      <th>179412</th>\n",
              "      <td>Vol de véhicule à moteur</td>\n",
              "      <td>2020-09-30</td>\n",
              "      <td>jour</td>\n",
              "      <td>30.0</td>\n",
              "      <td>294940.764999</td>\n",
              "      <td>5.047455e+06</td>\n",
              "      <td>-73.626307</td>\n",
              "      <td>45.566936</td>\n",
              "    </tr>\n",
              "  </tbody>\n",
              "</table>\n",
              "</div>"
            ],
            "text/plain": [
              "                       CATEGORIE        DATE  ...  LONGITUDE   LATITUDE\n",
              "179408                    Méfait  2020-05-31  ... -73.562202  45.511716\n",
              "179409                    Méfait  2020-05-31  ... -73.562202  45.511716\n",
              "179410  Vol de véhicule à moteur  2020-03-04  ... -73.562202  45.511716\n",
              "179411  Vol de véhicule à moteur  2020-08-02  ... -73.676647  45.521969\n",
              "179412  Vol de véhicule à moteur  2020-09-30  ... -73.626307  45.566936\n",
              "\n",
              "[5 rows x 8 columns]"
            ]
          },
          "metadata": {
            "tags": []
          },
          "execution_count": 57
        }
      ]
    },
    {
      "cell_type": "code",
      "metadata": {
        "id": "PWlQqVOujsIG"
      },
      "source": [
        ""
      ],
      "execution_count": null,
      "outputs": []
    }
  ]
}