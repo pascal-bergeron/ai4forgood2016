{
  "nbformat": 4,
  "nbformat_minor": 0,
  "metadata": {
    "colab": {
      "name": "FeatureBuilding",
      "provenance": [],
      "authorship_tag": "ABX9TyM0+lYEJqb9vi8NpJMAolJ5",
      "include_colab_link": true
    },
    "kernelspec": {
      "name": "python3",
      "display_name": "Python 3"
    }
  },
  "cells": [
    {
      "cell_type": "markdown",
      "metadata": {
        "id": "view-in-github",
        "colab_type": "text"
      },
      "source": [
        "<a href=\"https://colab.research.google.com/github/pascal-bergeron/ai4forgood2016/blob/main/FeatureBuilding.ipynb\" target=\"_parent\"><img src=\"https://colab.research.google.com/assets/colab-badge.svg\" alt=\"Open In Colab\"/></a>"
      ]
    },
    {
      "cell_type": "code",
      "metadata": {
        "id": "b5GUrPAvLWj1"
      },
      "source": [
        "import pandas as pd\n",
        "import numpy as np\n",
        "from google.colab import drive"
      ],
      "execution_count": 1,
      "outputs": []
    },
    {
      "cell_type": "code",
      "metadata": {
        "id": "ooOYdIVoMKz0",
        "outputId": "31cab479-64c0-4d0b-eb98-add8a4bb4270",
        "colab": {
          "base_uri": "https://localhost:8080/"
        }
      },
      "source": [
        "drive.mount('/content/drive/')"
      ],
      "execution_count": 2,
      "outputs": [
        {
          "output_type": "stream",
          "text": [
            "Mounted at /content/drive/\n"
          ],
          "name": "stdout"
        }
      ]
    },
    {
      "cell_type": "code",
      "metadata": {
        "id": "b10ifa80MLqr"
      },
      "source": [
        "cp 'drive/My Drive/Projects/AIForGood2020/' . -r"
      ],
      "execution_count": 3,
      "outputs": []
    },
    {
      "cell_type": "code",
      "metadata": {
        "id": "ZIMqH-6xV8XG"
      },
      "source": [
        "cp '../drive/My Drive/Projects/AIForGood2020/organisation.xlsx' ."
      ],
      "execution_count": 15,
      "outputs": []
    },
    {
      "cell_type": "code",
      "metadata": {
        "id": "IUCKTr8xMRy3",
        "outputId": "8390c3d1-1532-4693-c43b-736673cbf0ae",
        "colab": {
          "base_uri": "https://localhost:8080/"
        }
      },
      "source": [
        "cd AIForGood2020/"
      ],
      "execution_count": 5,
      "outputs": [
        {
          "output_type": "stream",
          "text": [
            "/content/AIForGood2020\n"
          ],
          "name": "stdout"
        }
      ]
    },
    {
      "cell_type": "code",
      "metadata": {
        "id": "u6ymqHnXMX6z"
      },
      "source": [
        "# !unrar e -p*hack20 211GrandMontreal_DataPack.rar"
      ],
      "execution_count": 6,
      "outputs": []
    },
    {
      "cell_type": "markdown",
      "metadata": {
        "id": "6zo0g79VnwWa"
      },
      "source": [
        "# Agencies Taxonomomies"
      ]
    },
    {
      "cell_type": "code",
      "metadata": {
        "id": "In7sOps7LhfH"
      },
      "source": [
        "org = pd.read_excel('organisation.xlsx')"
      ],
      "execution_count": 16,
      "outputs": []
    },
    {
      "cell_type": "code",
      "metadata": {
        "id": "oJSbJN2BLh7R"
      },
      "source": [
        "org.set_index('ResourceAgencyNum', inplace=True)"
      ],
      "execution_count": 17,
      "outputs": []
    },
    {
      "cell_type": "code",
      "metadata": {
        "id": "oSSbb0N7NCGj",
        "outputId": "aa32e291-dfa4-46b1-e250-a3de519886cd",
        "colab": {
          "base_uri": "https://localhost:8080/",
          "height": 663
        }
      },
      "source": [
        "org.tail()"
      ],
      "execution_count": 18,
      "outputs": [
        {
          "output_type": "execute_result",
          "data": {
            "text/html": [
              "<div>\n",
              "<style scoped>\n",
              "    .dataframe tbody tr th:only-of-type {\n",
              "        vertical-align: middle;\n",
              "    }\n",
              "\n",
              "    .dataframe tbody tr th {\n",
              "        vertical-align: top;\n",
              "    }\n",
              "\n",
              "    .dataframe thead th {\n",
              "        text-align: right;\n",
              "    }\n",
              "</style>\n",
              "<table border=\"1\" class=\"dataframe\">\n",
              "  <thead>\n",
              "    <tr style=\"text-align: right;\">\n",
              "      <th></th>\n",
              "      <th>PublicName</th>\n",
              "      <th>LegalStatus</th>\n",
              "      <th>AlternateName</th>\n",
              "      <th>TaxonomyLevelName</th>\n",
              "      <th>ParentAgency</th>\n",
              "      <th>ParentAgencyNum</th>\n",
              "      <th>LastVerifiedOn</th>\n",
              "      <th>LanguageOfRecord</th>\n",
              "      <th>Custom_Statut temporaire Covid-19</th>\n",
              "      <th>Custom_Acronym</th>\n",
              "      <th>Municipalité_Code</th>\n",
              "      <th>PhysicalAddress1</th>\n",
              "      <th>PhysicalAddressIsPrivate</th>\n",
              "      <th>PhysicalStateProvince</th>\n",
              "      <th>PhysicalPostalCode</th>\n",
              "      <th>Latitude</th>\n",
              "      <th>Longitude</th>\n",
              "      <th>Coverage</th>\n",
              "      <th>TaxonomyCodes</th>\n",
              "    </tr>\n",
              "    <tr>\n",
              "      <th>ResourceAgencyNum</th>\n",
              "      <th></th>\n",
              "      <th></th>\n",
              "      <th></th>\n",
              "      <th></th>\n",
              "      <th></th>\n",
              "      <th></th>\n",
              "      <th></th>\n",
              "      <th></th>\n",
              "      <th></th>\n",
              "      <th></th>\n",
              "      <th></th>\n",
              "      <th></th>\n",
              "      <th></th>\n",
              "      <th></th>\n",
              "      <th></th>\n",
              "      <th></th>\n",
              "      <th></th>\n",
              "      <th></th>\n",
              "      <th></th>\n",
              "    </tr>\n",
              "  </thead>\n",
              "  <tbody>\n",
              "    <tr>\n",
              "      <th>30790854</th>\n",
              "      <td>BIBLIOTHÈQUE PUBLIQUE DE DOLLARD-DES-ORMEAUX</td>\n",
              "      <td>organisme municipal</td>\n",
              "      <td>NaN</td>\n",
              "      <td>Program</td>\n",
              "      <td>DOLLARD-DES-ORMEAUX - VILLE</td>\n",
              "      <td>18760983</td>\n",
              "      <td>2020-06-04</td>\n",
              "      <td>fr</td>\n",
              "      <td>Ouvert</td>\n",
              "      <td>NaN</td>\n",
              "      <td>66142.0</td>\n",
              "      <td>12001, boulevard De Salaberry</td>\n",
              "      <td>No</td>\n",
              "      <td>QC</td>\n",
              "      <td>H9B 2A7</td>\n",
              "      <td>45.48414</td>\n",
              "      <td>-73.80695</td>\n",
              "      <td>QC - Montréal County - Dollard-Des Ormeaux;</td>\n",
              "      <td>TJ-4400; TJ-1800.6650; TJ-4500.2900; TJ-4500.1...</td>\n",
              "    </tr>\n",
              "    <tr>\n",
              "      <th>51229060</th>\n",
              "      <td>BIBLIOTHÈQUE MUNICIPALE DE NAPIERVILLE</td>\n",
              "      <td>organisme municipal</td>\n",
              "      <td>NaN</td>\n",
              "      <td>Program</td>\n",
              "      <td>NAPIERVILLE - MUNICIPALITÉ</td>\n",
              "      <td>19499426</td>\n",
              "      <td>2020-06-05</td>\n",
              "      <td>fr</td>\n",
              "      <td>Ouvert</td>\n",
              "      <td>NaN</td>\n",
              "      <td>68030.0</td>\n",
              "      <td>290, rue Saint-Alexandre</td>\n",
              "      <td>No</td>\n",
              "      <td>QC</td>\n",
              "      <td>J0J 1L0</td>\n",
              "      <td>45.18862</td>\n",
              "      <td>-73.40354</td>\n",
              "      <td>QC - Montérégie County - Saint-Cyprien-de-Napi...</td>\n",
              "      <td>TJ-4400; TJ-1800.6650; TJ-4500.1500-800; TJ-45...</td>\n",
              "    </tr>\n",
              "    <tr>\n",
              "      <th>49492168</th>\n",
              "      <td>BIBLIOTHÈQUE MUNICIPALE DE SAINT-JACQUES-LE-MI...</td>\n",
              "      <td>organisme municipal</td>\n",
              "      <td>NaN</td>\n",
              "      <td>Program</td>\n",
              "      <td>SAINT-JACQUES-LE-MINEUR - MUNICIPALITÉ</td>\n",
              "      <td>19533005</td>\n",
              "      <td>2019-08-21</td>\n",
              "      <td>fr</td>\n",
              "      <td>Ouvert</td>\n",
              "      <td>NaN</td>\n",
              "      <td>68040.0</td>\n",
              "      <td>89, rue Principale</td>\n",
              "      <td>No</td>\n",
              "      <td>QC</td>\n",
              "      <td>J0J 1Z0</td>\n",
              "      <td>45.27682</td>\n",
              "      <td>-73.41787</td>\n",
              "      <td>QC - Montérégie County - Saint-Jacques-le-Mineur;</td>\n",
              "      <td>TJ-4400; TJ-1800.6650</td>\n",
              "    </tr>\n",
              "    <tr>\n",
              "      <th>18766848</th>\n",
              "      <td>BOISBRIAND - LOISIRS, CULTURE ET BIBLIOTHÈQUE</td>\n",
              "      <td>organisme municipal</td>\n",
              "      <td>NaN</td>\n",
              "      <td>Program</td>\n",
              "      <td>BOISBRIAND - VILLE</td>\n",
              "      <td>18762253</td>\n",
              "      <td>2020-06-08</td>\n",
              "      <td>fr</td>\n",
              "      <td>Ouvert</td>\n",
              "      <td>NaN</td>\n",
              "      <td>73005.0</td>\n",
              "      <td>940, boulevard de la Grande Allée, rez-de-chau...</td>\n",
              "      <td>No</td>\n",
              "      <td>QC</td>\n",
              "      <td>J7G 2J7</td>\n",
              "      <td>45.61253</td>\n",
              "      <td>-73.83842</td>\n",
              "      <td>QC - Laurentides County - Boisbriand;</td>\n",
              "      <td>TD-0300.1200 * PL-7000.4360</td>\n",
              "    </tr>\n",
              "    <tr>\n",
              "      <th>42388216</th>\n",
              "      <td>REBOND (LE)</td>\n",
              "      <td>organisme parapublic</td>\n",
              "      <td>NaN</td>\n",
              "      <td>Program</td>\n",
              "      <td>OFFICE MUNICIPAL D'HABITATION DE MONTRÉAL - SI...</td>\n",
              "      <td>18760248</td>\n",
              "      <td>2019-08-14</td>\n",
              "      <td>fr</td>\n",
              "      <td>Ouvert</td>\n",
              "      <td>NaN</td>\n",
              "      <td>NaN</td>\n",
              "      <td>NaN</td>\n",
              "      <td>Yes</td>\n",
              "      <td>QC</td>\n",
              "      <td>NaN</td>\n",
              "      <td>NaN</td>\n",
              "      <td>NaN</td>\n",
              "      <td>QC - Montréal County - Ahuntsic-Cartierville; ...</td>\n",
              "      <td>PS-9800.9800; TJ-1800.3300-600.10 * YB-9500.0500</td>\n",
              "    </tr>\n",
              "  </tbody>\n",
              "</table>\n",
              "</div>"
            ],
            "text/plain": [
              "                                                          PublicName  ...                                      TaxonomyCodes\n",
              "ResourceAgencyNum                                                     ...                                                   \n",
              "30790854                BIBLIOTHÈQUE PUBLIQUE DE DOLLARD-DES-ORMEAUX  ...  TJ-4400; TJ-1800.6650; TJ-4500.2900; TJ-4500.1...\n",
              "51229060                      BIBLIOTHÈQUE MUNICIPALE DE NAPIERVILLE  ...  TJ-4400; TJ-1800.6650; TJ-4500.1500-800; TJ-45...\n",
              "49492168           BIBLIOTHÈQUE MUNICIPALE DE SAINT-JACQUES-LE-MI...  ...                              TJ-4400; TJ-1800.6650\n",
              "18766848               BOISBRIAND - LOISIRS, CULTURE ET BIBLIOTHÈQUE  ...                        TD-0300.1200 * PL-7000.4360\n",
              "42388216                                                 REBOND (LE)  ...   PS-9800.9800; TJ-1800.3300-600.10 * YB-9500.0500\n",
              "\n",
              "[5 rows x 19 columns]"
            ]
          },
          "metadata": {
            "tags": []
          },
          "execution_count": 18
        }
      ]
    },
    {
      "cell_type": "code",
      "metadata": {
        "id": "Y0Tzz65BWdOI"
      },
      "source": [
        "def get_level_2_taxonomy_code_list(ser: pd.Series) -> pd.Series:\n",
        "  first_split = ser.str.split(\"; \")\n",
        "  return first_split.apply(lambda x : np.nan if isinstance(x, float) and np.isnan(x) else [y[:7] for y in x] )"
      ],
      "execution_count": 34,
      "outputs": []
    },
    {
      "cell_type": "code",
      "metadata": {
        "id": "h4KaiLN2Nmq0"
      },
      "source": [
        "org['L2_tax_codes'] = get_level_2_taxonomy_code_list(org['TaxonomyCodes'])"
      ],
      "execution_count": 37,
      "outputs": []
    },
    {
      "cell_type": "code",
      "metadata": {
        "id": "lDI1fdkmRRHi",
        "outputId": "2c6609ac-96d1-4b05-b52c-a95e28c6dca6",
        "colab": {
          "base_uri": "https://localhost:8080/"
        }
      },
      "source": [
        "org['L2_tax_codes'].head()"
      ],
      "execution_count": 39,
      "outputs": [
        {
          "output_type": "execute_result",
          "data": {
            "text/plain": [
              "ResourceAgencyNum\n",
              "34515394                                   [TD-6500, TD-1600]\n",
              "18764735    [TC-5500, YH-6000, ND-3500, HH-0500, HH-0500, ...\n",
              "18762709                                   [TN-4600, FT-4800]\n",
              "18765353    [BM-8500, BD-1800, TI-1800, TI-1800, TI-1800, ...\n",
              "54247598    [TD-1600, PS-8000, RP-1400, PH-0320, RP-1400, ...\n",
              "Name: L2_tax_codes, dtype: object"
            ]
          },
          "metadata": {
            "tags": []
          },
          "execution_count": 39
        }
      ]
    },
    {
      "cell_type": "markdown",
      "metadata": {
        "id": "6dwREDRon2Nx"
      },
      "source": [
        "# Needs "
      ]
    },
    {
      "cell_type": "code",
      "metadata": {
        "id": "aU18YrSYW4NS"
      },
      "source": [
        "besoins = pd.read_excel('Besoins.xlsx')"
      ],
      "execution_count": 40,
      "outputs": []
    },
    {
      "cell_type": "code",
      "metadata": {
        "id": "TVU5ExJ-n-pQ"
      },
      "source": [
        "besoins.set_index('ReportNeedNum', inplace=True)"
      ],
      "execution_count": 41,
      "outputs": []
    },
    {
      "cell_type": "code",
      "metadata": {
        "id": "B0dAXc-7W4_Y",
        "outputId": "38ca7658-b0ab-41c1-b644-01bdead3b876",
        "colab": {
          "base_uri": "https://localhost:8080/",
          "height": 476
        }
      },
      "source": [
        "besoins.tail()"
      ],
      "execution_count": 42,
      "outputs": [
        {
          "output_type": "execute_result",
          "data": {
            "text/html": [
              "<div>\n",
              "<style scoped>\n",
              "    .dataframe tbody tr th:only-of-type {\n",
              "        vertical-align: middle;\n",
              "    }\n",
              "\n",
              "    .dataframe tbody tr th {\n",
              "        vertical-align: top;\n",
              "    }\n",
              "\n",
              "    .dataframe thead th {\n",
              "        text-align: right;\n",
              "    }\n",
              "</style>\n",
              "<table border=\"1\" class=\"dataframe\">\n",
              "  <thead>\n",
              "    <tr style=\"text-align: right;\">\n",
              "      <th></th>\n",
              "      <th>CallReportNum</th>\n",
              "      <th>TaxonomyCode_full</th>\n",
              "      <th>TaxonomyName_full</th>\n",
              "      <th>NeedWasUnmet</th>\n",
              "      <th>ReasonIfUnmetOrPartial</th>\n",
              "      <th>Level1Code</th>\n",
              "      <th>Level1Name</th>\n",
              "      <th>Level2Code</th>\n",
              "      <th>Level2Name</th>\n",
              "      <th>Level3Code</th>\n",
              "      <th>Level3Name</th>\n",
              "      <th>Level4Code</th>\n",
              "      <th>Level4Name</th>\n",
              "      <th>Level5Code</th>\n",
              "      <th>Level5Name</th>\n",
              "      <th>AIRSNeedCategory</th>\n",
              "      <th>TaxonomyCode_main</th>\n",
              "      <th>TaxonomyCode_link</th>\n",
              "      <th>TaxonomyName_main</th>\n",
              "      <th>TaxonomyName_link</th>\n",
              "    </tr>\n",
              "    <tr>\n",
              "      <th>ReportNeedNum</th>\n",
              "      <th></th>\n",
              "      <th></th>\n",
              "      <th></th>\n",
              "      <th></th>\n",
              "      <th></th>\n",
              "      <th></th>\n",
              "      <th></th>\n",
              "      <th></th>\n",
              "      <th></th>\n",
              "      <th></th>\n",
              "      <th></th>\n",
              "      <th></th>\n",
              "      <th></th>\n",
              "      <th></th>\n",
              "      <th></th>\n",
              "      <th></th>\n",
              "      <th></th>\n",
              "      <th></th>\n",
              "      <th></th>\n",
              "      <th></th>\n",
              "    </tr>\n",
              "  </thead>\n",
              "  <tbody>\n",
              "    <tr>\n",
              "      <th>21475026</th>\n",
              "      <td>78145762</td>\n",
              "      <td>TI-1800.4500-100</td>\n",
              "      <td>Dons de livres et de magazines</td>\n",
              "      <td>False</td>\n",
              "      <td>NaN</td>\n",
              "      <td>T</td>\n",
              "      <td>Services organisationnels, communautaires et i...</td>\n",
              "      <td>TI</td>\n",
              "      <td>Services de dons</td>\n",
              "      <td>TI-1800</td>\n",
              "      <td>Dons d'articles spécialisés</td>\n",
              "      <td>TI-1800.4500</td>\n",
              "      <td>Dons d'équipement et fournitures de loisir</td>\n",
              "      <td>TI-1800.4500-100</td>\n",
              "      <td>Dons de livres et de magazines</td>\n",
              "      <td>Bénévolat et dons</td>\n",
              "      <td>TI-1800.4500-100</td>\n",
              "      <td>NaN</td>\n",
              "      <td>Dons de livres et de magazines</td>\n",
              "      <td>NaN</td>\n",
              "    </tr>\n",
              "    <tr>\n",
              "      <th>21475411</th>\n",
              "      <td>78146045</td>\n",
              "      <td>NL-3000.1500</td>\n",
              "      <td>Aide pour les frais de garde d'enfants</td>\n",
              "      <td>False</td>\n",
              "      <td>NaN</td>\n",
              "      <td>N</td>\n",
              "      <td>Soutien du revenu et emploi</td>\n",
              "      <td>NL</td>\n",
              "      <td>Aide sociale</td>\n",
              "      <td>NL-3000</td>\n",
              "      <td>Aide sociale relative au maintien à domicile</td>\n",
              "      <td>NL-3000.1500</td>\n",
              "      <td>Aide pour les frais de garde d'enfants</td>\n",
              "      <td>NL-3000.1500</td>\n",
              "      <td>Aide pour les frais de garde d'enfants</td>\n",
              "      <td>Emploi et revenu</td>\n",
              "      <td>NL-3000.1500</td>\n",
              "      <td>NaN</td>\n",
              "      <td>Aide pour les frais de garde d'enfants</td>\n",
              "      <td>NaN</td>\n",
              "    </tr>\n",
              "    <tr>\n",
              "      <th>21475365</th>\n",
              "      <td>78146045</td>\n",
              "      <td>PH-6100.1500</td>\n",
              "      <td>Cours de développement de l'enfant</td>\n",
              "      <td>False</td>\n",
              "      <td>NaN</td>\n",
              "      <td>P</td>\n",
              "      <td>Vie personnelle et familiale</td>\n",
              "      <td>PH</td>\n",
              "      <td>Soutien personnel et familial</td>\n",
              "      <td>PH-6100</td>\n",
              "      <td>Éducation parentale</td>\n",
              "      <td>PH-6100.1500</td>\n",
              "      <td>Cours de développement de l'enfant</td>\n",
              "      <td>PH-6100.1500</td>\n",
              "      <td>Cours de développement de l'enfant</td>\n",
              "      <td>Soutien personnel, familial et communautaire</td>\n",
              "      <td>PH-6100.1500</td>\n",
              "      <td>NaN</td>\n",
              "      <td>Cours de développement de l'enfant</td>\n",
              "      <td>NaN</td>\n",
              "    </tr>\n",
              "    <tr>\n",
              "      <th>21475383</th>\n",
              "      <td>78146045</td>\n",
              "      <td>PH-6100.3300</td>\n",
              "      <td>Éducation parentale à domicile</td>\n",
              "      <td>False</td>\n",
              "      <td>NaN</td>\n",
              "      <td>P</td>\n",
              "      <td>Vie personnelle et familiale</td>\n",
              "      <td>PH</td>\n",
              "      <td>Soutien personnel et familial</td>\n",
              "      <td>PH-6100</td>\n",
              "      <td>Éducation parentale</td>\n",
              "      <td>PH-6100.3300</td>\n",
              "      <td>Éducation parentale à domicile</td>\n",
              "      <td>PH-6100.3300</td>\n",
              "      <td>Éducation parentale à domicile</td>\n",
              "      <td>Soutien personnel, familial et communautaire</td>\n",
              "      <td>PH-6100.3300</td>\n",
              "      <td>NaN</td>\n",
              "      <td>Éducation parentale à domicile</td>\n",
              "      <td>NaN</td>\n",
              "    </tr>\n",
              "    <tr>\n",
              "      <th>21475338</th>\n",
              "      <td>78146045</td>\n",
              "      <td>PH-2360.1800</td>\n",
              "      <td>Centres de services à l'enfance et aux familles</td>\n",
              "      <td>False</td>\n",
              "      <td>NaN</td>\n",
              "      <td>P</td>\n",
              "      <td>Vie personnelle et familiale</td>\n",
              "      <td>PH</td>\n",
              "      <td>Soutien personnel et familial</td>\n",
              "      <td>PH-2360</td>\n",
              "      <td>Services familiaux</td>\n",
              "      <td>PH-2360.1800</td>\n",
              "      <td>Centres de services à l'enfance et aux familles</td>\n",
              "      <td>PH-2360.1800</td>\n",
              "      <td>Centres de services à l'enfance et aux familles</td>\n",
              "      <td>Soutien personnel, familial et communautaire</td>\n",
              "      <td>PH-2360.1800</td>\n",
              "      <td>NaN</td>\n",
              "      <td>Centres de services à l'enfance et aux familles</td>\n",
              "      <td>NaN</td>\n",
              "    </tr>\n",
              "  </tbody>\n",
              "</table>\n",
              "</div>"
            ],
            "text/plain": [
              "               CallReportNum  ... TaxonomyName_link\n",
              "ReportNeedNum                 ...                  \n",
              "21475026            78145762  ...               NaN\n",
              "21475411            78146045  ...               NaN\n",
              "21475365            78146045  ...               NaN\n",
              "21475383            78146045  ...               NaN\n",
              "21475338            78146045  ...               NaN\n",
              "\n",
              "[5 rows x 20 columns]"
            ]
          },
          "metadata": {
            "tags": []
          },
          "execution_count": 42
        }
      ]
    },
    {
      "cell_type": "code",
      "metadata": {
        "id": "JJr6G4hKW9Ud",
        "outputId": "8dd40f83-60ec-4ad1-b277-8fda8d8c6d1d",
        "colab": {
          "base_uri": "https://localhost:8080/"
        }
      },
      "source": [
        "len(besoins.TaxonomyCode_full.unique())"
      ],
      "execution_count": 43,
      "outputs": [
        {
          "output_type": "execute_result",
          "data": {
            "text/plain": [
              "1800"
            ]
          },
          "metadata": {
            "tags": []
          },
          "execution_count": 43
        }
      ]
    },
    {
      "cell_type": "code",
      "metadata": {
        "id": "DHx_k6KpXLjY",
        "outputId": "b33d50f3-74ff-4720-c896-f8ed9cb75795",
        "colab": {
          "base_uri": "https://localhost:8080/"
        }
      },
      "source": [
        "len(besoins.Level1Code.unique())"
      ],
      "execution_count": 44,
      "outputs": [
        {
          "output_type": "execute_result",
          "data": {
            "text/plain": [
              "11"
            ]
          },
          "metadata": {
            "tags": []
          },
          "execution_count": 44
        }
      ]
    },
    {
      "cell_type": "code",
      "metadata": {
        "id": "mkc4T3sOdZN-",
        "outputId": "f4a56b73-2906-4686-db89-8b7e46957a22",
        "colab": {
          "base_uri": "https://localhost:8080/"
        }
      },
      "source": [
        "len(besoins.Level2Code.unique())"
      ],
      "execution_count": 45,
      "outputs": [
        {
          "output_type": "execute_result",
          "data": {
            "text/plain": [
              "73"
            ]
          },
          "metadata": {
            "tags": []
          },
          "execution_count": 45
        }
      ]
    },
    {
      "cell_type": "code",
      "metadata": {
        "id": "PYF1RWcjdbWT",
        "outputId": "a0b44721-6152-43cf-f51b-da113293fcdb",
        "colab": {
          "base_uri": "https://localhost:8080/"
        }
      },
      "source": [
        "len(besoins.Level3Code.unique())"
      ],
      "execution_count": 46,
      "outputs": [
        {
          "output_type": "execute_result",
          "data": {
            "text/plain": [
              "375"
            ]
          },
          "metadata": {
            "tags": []
          },
          "execution_count": 46
        }
      ]
    },
    {
      "cell_type": "code",
      "metadata": {
        "id": "oCcP_fRHdfwS"
      },
      "source": [
        ""
      ],
      "execution_count": null,
      "outputs": []
    },
    {
      "cell_type": "markdown",
      "metadata": {
        "id": "k3uG53ImoIdZ"
      },
      "source": [
        "# References"
      ]
    },
    {
      "cell_type": "code",
      "metadata": {
        "id": "mRq0QI9ErN1z"
      },
      "source": [
        "references = pd.read_excel('Références.xlsx')"
      ],
      "execution_count": 48,
      "outputs": []
    },
    {
      "cell_type": "code",
      "metadata": {
        "id": "e77g4stx1CjX",
        "outputId": "e528812c-5012-4b06-a9eb-379c0d5dd39c",
        "colab": {
          "base_uri": "https://localhost:8080/",
          "height": 204
        }
      },
      "source": [
        "references.tail()"
      ],
      "execution_count": 49,
      "outputs": [
        {
          "output_type": "execute_result",
          "data": {
            "text/html": [
              "<div>\n",
              "<style scoped>\n",
              "    .dataframe tbody tr th:only-of-type {\n",
              "        vertical-align: middle;\n",
              "    }\n",
              "\n",
              "    .dataframe tbody tr th {\n",
              "        vertical-align: top;\n",
              "    }\n",
              "\n",
              "    .dataframe thead th {\n",
              "        text-align: right;\n",
              "    }\n",
              "</style>\n",
              "<table border=\"1\" class=\"dataframe\">\n",
              "  <thead>\n",
              "    <tr style=\"text-align: right;\">\n",
              "      <th></th>\n",
              "      <th>CallReportNum</th>\n",
              "      <th>ResourceAgencyNum</th>\n",
              "      <th>AgencyNamePublic</th>\n",
              "      <th>ReportNeedNum</th>\n",
              "    </tr>\n",
              "  </thead>\n",
              "  <tbody>\n",
              "    <tr>\n",
              "      <th>264317</th>\n",
              "      <td>78146045</td>\n",
              "      <td>18762631.0</td>\n",
              "      <td>ENTRE MAMANS ET PAPAS</td>\n",
              "      <td>21475383</td>\n",
              "    </tr>\n",
              "    <tr>\n",
              "      <th>264318</th>\n",
              "      <td>78146045</td>\n",
              "      <td>18760262.0</td>\n",
              "      <td>UNIS POUR LES PETITS</td>\n",
              "      <td>21475383</td>\n",
              "    </tr>\n",
              "    <tr>\n",
              "      <th>264319</th>\n",
              "      <td>78146045</td>\n",
              "      <td>18762552.0</td>\n",
              "      <td>PREMIERS PAS CHAMPLAIN</td>\n",
              "      <td>21475338</td>\n",
              "    </tr>\n",
              "    <tr>\n",
              "      <th>264320</th>\n",
              "      <td>78146045</td>\n",
              "      <td>18762552.0</td>\n",
              "      <td>PREMIERS PAS CHAMPLAIN</td>\n",
              "      <td>21475383</td>\n",
              "    </tr>\n",
              "    <tr>\n",
              "      <th>264321</th>\n",
              "      <td>78146045</td>\n",
              "      <td>41529174.0</td>\n",
              "      <td>SERVICES QUÉBEC - DEVENIR PARENT</td>\n",
              "      <td>21475411</td>\n",
              "    </tr>\n",
              "  </tbody>\n",
              "</table>\n",
              "</div>"
            ],
            "text/plain": [
              "        CallReportNum  ...  ReportNeedNum\n",
              "264317       78146045  ...       21475383\n",
              "264318       78146045  ...       21475383\n",
              "264319       78146045  ...       21475338\n",
              "264320       78146045  ...       21475383\n",
              "264321       78146045  ...       21475411\n",
              "\n",
              "[5 rows x 4 columns]"
            ]
          },
          "metadata": {
            "tags": []
          },
          "execution_count": 49
        }
      ]
    },
    {
      "cell_type": "code",
      "metadata": {
        "id": "f7EKAnfXrKKB"
      },
      "source": [
        "resource_ref_count= references.groupby('ResourceAgencyNum')['CallReportNum'].count().sort_values(ascending=False)"
      ],
      "execution_count": 50,
      "outputs": []
    },
    {
      "cell_type": "code",
      "metadata": {
        "id": "d3jIynI6rKMo",
        "outputId": "a604d91f-f7f1-4bd3-ee44-a40ed0742d19",
        "colab": {
          "base_uri": "https://localhost:8080/"
        }
      },
      "source": [
        "resource_agency_nums = resource_ref_count[resource_ref_count > 10].index.astype(int).dropna().values\n",
        "np.sort(resource_agency_nums)"
      ],
      "execution_count": 58,
      "outputs": [
        {
          "output_type": "execute_result",
          "data": {
            "text/plain": [
              "array([18759962, 18759964, 18759965, ..., 68848329, 68933670, 69147049])"
            ]
          },
          "metadata": {
            "tags": []
          },
          "execution_count": 58
        }
      ]
    },
    {
      "cell_type": "code",
      "metadata": {
        "id": "DKDm3V6lrTMo",
        "outputId": "fc1fe419-2a59-4c8c-f6bc-9f066355960f",
        "colab": {
          "base_uri": "https://localhost:8080/"
        }
      },
      "source": [
        "resource_agency_nums"
      ],
      "execution_count": 60,
      "outputs": [
        {
          "output_type": "execute_result",
          "data": {
            "text/plain": [
              "array([18760559, 47945224, 18761956, ..., 18762324, 34051134, 18762122])"
            ]
          },
          "metadata": {
            "tags": []
          },
          "execution_count": 60
        }
      ]
    },
    {
      "cell_type": "code",
      "metadata": {
        "id": "m6S9SXCX3UNI",
        "outputId": "6fe1156d-05f8-4a55-f4c8-e4e084ee2df4",
        "colab": {
          "base_uri": "https://localhost:8080/"
        }
      },
      "source": [
        "len(references)"
      ],
      "execution_count": 61,
      "outputs": [
        {
          "output_type": "execute_result",
          "data": {
            "text/plain": [
              "264322"
            ]
          },
          "metadata": {
            "tags": []
          },
          "execution_count": 61
        }
      ]
    },
    {
      "cell_type": "code",
      "metadata": {
        "id": "cXtQ8ZXA3bVM"
      },
      "source": [
        "ref = references.dropna()"
      ],
      "execution_count": 62,
      "outputs": []
    },
    {
      "cell_type": "code",
      "metadata": {
        "id": "Ont6q1Nq3jA9",
        "outputId": "23740039-ad66-47e6-d6a5-3e5f234e6b14",
        "colab": {
          "base_uri": "https://localhost:8080/"
        }
      },
      "source": [
        "ref['ResourceAgencyNum_int'] = ref['ResourceAgencyNum'].astype(int)"
      ],
      "execution_count": 63,
      "outputs": [
        {
          "output_type": "stream",
          "text": [
            "/usr/local/lib/python3.6/dist-packages/ipykernel_launcher.py:1: SettingWithCopyWarning: \n",
            "A value is trying to be set on a copy of a slice from a DataFrame.\n",
            "Try using .loc[row_indexer,col_indexer] = value instead\n",
            "\n",
            "See the caveats in the documentation: https://pandas.pydata.org/pandas-docs/stable/user_guide/indexing.html#returning-a-view-versus-a-copy\n",
            "  \"\"\"Entry point for launching an IPython kernel.\n"
          ],
          "name": "stderr"
        }
      ]
    },
    {
      "cell_type": "code",
      "metadata": {
        "id": "co2RQD-HqzCm",
        "outputId": "49d9178b-041d-4ddf-a6c1-044dd683a022",
        "colab": {
          "base_uri": "https://localhost:8080/",
          "height": 419
        }
      },
      "source": [
        "ref"
      ],
      "execution_count": 66,
      "outputs": [
        {
          "output_type": "execute_result",
          "data": {
            "text/html": [
              "<div>\n",
              "<style scoped>\n",
              "    .dataframe tbody tr th:only-of-type {\n",
              "        vertical-align: middle;\n",
              "    }\n",
              "\n",
              "    .dataframe tbody tr th {\n",
              "        vertical-align: top;\n",
              "    }\n",
              "\n",
              "    .dataframe thead th {\n",
              "        text-align: right;\n",
              "    }\n",
              "</style>\n",
              "<table border=\"1\" class=\"dataframe\">\n",
              "  <thead>\n",
              "    <tr style=\"text-align: right;\">\n",
              "      <th></th>\n",
              "      <th>CallReportNum</th>\n",
              "      <th>ResourceAgencyNum</th>\n",
              "      <th>AgencyNamePublic</th>\n",
              "      <th>ReportNeedNum</th>\n",
              "      <th>ResourceAgencyNum_int</th>\n",
              "    </tr>\n",
              "  </thead>\n",
              "  <tbody>\n",
              "    <tr>\n",
              "      <th>0</th>\n",
              "      <td>51805319</td>\n",
              "      <td>18762230.0</td>\n",
              "      <td>SOS VIOLENCE CONJUGALE</td>\n",
              "      <td>12443066</td>\n",
              "      <td>18762230</td>\n",
              "    </tr>\n",
              "    <tr>\n",
              "      <th>1</th>\n",
              "      <td>51805954</td>\n",
              "      <td>18760351.0</td>\n",
              "      <td>MISSIONNAIRES DE LA CHARITÉ</td>\n",
              "      <td>12443170</td>\n",
              "      <td>18760351</td>\n",
              "    </tr>\n",
              "    <tr>\n",
              "      <th>2</th>\n",
              "      <td>51805954</td>\n",
              "      <td>18762550.0</td>\n",
              "      <td>DÎNERS SAINT-LOUIS</td>\n",
              "      <td>12443170</td>\n",
              "      <td>18762550</td>\n",
              "    </tr>\n",
              "    <tr>\n",
              "      <th>3</th>\n",
              "      <td>51806285</td>\n",
              "      <td>18762497.0</td>\n",
              "      <td>CENTRE DE CRISE TRACOM</td>\n",
              "      <td>12443222</td>\n",
              "      <td>18762497</td>\n",
              "    </tr>\n",
              "    <tr>\n",
              "      <th>4</th>\n",
              "      <td>51806377</td>\n",
              "      <td>18763063.0</td>\n",
              "      <td>CENTRE HUMANITAIRE D'ORGANISATION, DE RESSOURC...</td>\n",
              "      <td>12443241</td>\n",
              "      <td>18763063</td>\n",
              "    </tr>\n",
              "    <tr>\n",
              "      <th>...</th>\n",
              "      <td>...</td>\n",
              "      <td>...</td>\n",
              "      <td>...</td>\n",
              "      <td>...</td>\n",
              "      <td>...</td>\n",
              "    </tr>\n",
              "    <tr>\n",
              "      <th>264317</th>\n",
              "      <td>78146045</td>\n",
              "      <td>18762631.0</td>\n",
              "      <td>ENTRE MAMANS ET PAPAS</td>\n",
              "      <td>21475383</td>\n",
              "      <td>18762631</td>\n",
              "    </tr>\n",
              "    <tr>\n",
              "      <th>264318</th>\n",
              "      <td>78146045</td>\n",
              "      <td>18760262.0</td>\n",
              "      <td>UNIS POUR LES PETITS</td>\n",
              "      <td>21475383</td>\n",
              "      <td>18760262</td>\n",
              "    </tr>\n",
              "    <tr>\n",
              "      <th>264319</th>\n",
              "      <td>78146045</td>\n",
              "      <td>18762552.0</td>\n",
              "      <td>PREMIERS PAS CHAMPLAIN</td>\n",
              "      <td>21475338</td>\n",
              "      <td>18762552</td>\n",
              "    </tr>\n",
              "    <tr>\n",
              "      <th>264320</th>\n",
              "      <td>78146045</td>\n",
              "      <td>18762552.0</td>\n",
              "      <td>PREMIERS PAS CHAMPLAIN</td>\n",
              "      <td>21475383</td>\n",
              "      <td>18762552</td>\n",
              "    </tr>\n",
              "    <tr>\n",
              "      <th>264321</th>\n",
              "      <td>78146045</td>\n",
              "      <td>41529174.0</td>\n",
              "      <td>SERVICES QUÉBEC - DEVENIR PARENT</td>\n",
              "      <td>21475411</td>\n",
              "      <td>41529174</td>\n",
              "    </tr>\n",
              "  </tbody>\n",
              "</table>\n",
              "<p>260257 rows × 5 columns</p>\n",
              "</div>"
            ],
            "text/plain": [
              "        CallReportNum  ResourceAgencyNum  ... ReportNeedNum  ResourceAgencyNum_int\n",
              "0            51805319         18762230.0  ...      12443066               18762230\n",
              "1            51805954         18760351.0  ...      12443170               18760351\n",
              "2            51805954         18762550.0  ...      12443170               18762550\n",
              "3            51806285         18762497.0  ...      12443222               18762497\n",
              "4            51806377         18763063.0  ...      12443241               18763063\n",
              "...               ...                ...  ...           ...                    ...\n",
              "264317       78146045         18762631.0  ...      21475383               18762631\n",
              "264318       78146045         18760262.0  ...      21475383               18760262\n",
              "264319       78146045         18762552.0  ...      21475338               18762552\n",
              "264320       78146045         18762552.0  ...      21475383               18762552\n",
              "264321       78146045         41529174.0  ...      21475411               41529174\n",
              "\n",
              "[260257 rows x 5 columns]"
            ]
          },
          "metadata": {
            "tags": []
          },
          "execution_count": 66
        }
      ]
    },
    {
      "cell_type": "code",
      "metadata": {
        "id": "75P1WAcr2Y0W"
      },
      "source": [
        "tmp = ref[['CallReportNum','ResourceAgencyNum_int']].groupby('CallReportNum')['ResourceAgencyNum_int'].apply(list).values"
      ],
      "execution_count": 70,
      "outputs": []
    },
    {
      "cell_type": "code",
      "metadata": {
        "id": "q6tcR6JXs3L3"
      },
      "source": [
        "from sklearn.preprocessing import MultiLabelBinarizer"
      ],
      "execution_count": 53,
      "outputs": []
    },
    {
      "cell_type": "code",
      "metadata": {
        "id": "EuW1HUWbs3uW"
      },
      "source": [
        "Y = MultiLabelBinarizer().fit_transform(tmp)"
      ],
      "execution_count": 72,
      "outputs": []
    },
    {
      "cell_type": "code",
      "metadata": {
        "id": "t-y7nyLXp78T",
        "outputId": "527864c4-6725-46fe-bd45-6689ff134bc9",
        "colab": {
          "base_uri": "https://localhost:8080/"
        }
      },
      "source": [
        "Y"
      ],
      "execution_count": 73,
      "outputs": [
        {
          "output_type": "execute_result",
          "data": {
            "text/plain": [
              "array([[0, 0, 0, ..., 0, 0, 0],\n",
              "       [0, 0, 0, ..., 0, 0, 0],\n",
              "       [0, 0, 0, ..., 0, 0, 0],\n",
              "       ...,\n",
              "       [0, 0, 0, ..., 0, 0, 0],\n",
              "       [0, 0, 0, ..., 0, 0, 0],\n",
              "       [0, 0, 0, ..., 0, 0, 0]])"
            ]
          },
          "metadata": {
            "tags": []
          },
          "execution_count": 73
        }
      ]
    },
    {
      "cell_type": "code",
      "metadata": {
        "id": "benMjGyUp5xf"
      },
      "source": [
        ""
      ],
      "execution_count": null,
      "outputs": []
    }
  ]
}