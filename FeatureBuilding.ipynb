{
  "nbformat": 4,
  "nbformat_minor": 0,
  "metadata": {
    "colab": {
      "name": "FeatureBuilding",
      "provenance": [],
      "authorship_tag": "ABX9TyPaLWe2wZbC+XaqcGd00pIq",
      "include_colab_link": true
    },
    "kernelspec": {
      "name": "python3",
      "display_name": "Python 3"
    }
  },
  "cells": [
    {
      "cell_type": "markdown",
      "metadata": {
        "id": "view-in-github",
        "colab_type": "text"
      },
      "source": [
        "<a href=\"https://colab.research.google.com/github/pascal-bergeron/ai4forgood2016/blob/main/FeatureBuilding.ipynb\" target=\"_parent\"><img src=\"https://colab.research.google.com/assets/colab-badge.svg\" alt=\"Open In Colab\"/></a>"
      ]
    },
    {
      "cell_type": "code",
      "metadata": {
        "id": "b5GUrPAvLWj1"
      },
      "source": [
        "import pandas as pd\n",
        "import numpy as np"
      ],
      "execution_count": null,
      "outputs": []
    },
    {
      "cell_type": "code",
      "metadata": {
        "id": "ooOYdIVoMKz0",
        "outputId": "8a4f775f-bf75-457f-a7b7-4c3f8f333aea",
        "colab": {
          "base_uri": "https://localhost:8080/"
        }
      },
      "source": [
        "from google.colab import drive\n",
        "drive.mount('/content/drive/')"
      ],
      "execution_count": null,
      "outputs": [
        {
          "output_type": "stream",
          "text": [
            "Mounted at /content/drive/\n"
          ],
          "name": "stdout"
        }
      ]
    },
    {
      "cell_type": "code",
      "metadata": {
        "id": "b10ifa80MLqr"
      },
      "source": [
        "cp 'drive/My Drive/Projects/AIForGood2020/' . -r"
      ],
      "execution_count": null,
      "outputs": []
    },
    {
      "cell_type": "code",
      "metadata": {
        "id": "IUCKTr8xMRy3",
        "outputId": "d7c57159-188b-48d3-8d50-de89bb7de8d9",
        "colab": {
          "base_uri": "https://localhost:8080/"
        }
      },
      "source": [
        "cd AIForGood2020/"
      ],
      "execution_count": null,
      "outputs": [
        {
          "output_type": "stream",
          "text": [
            "/content/AIForGood2020\n"
          ],
          "name": "stdout"
        }
      ]
    },
    {
      "cell_type": "code",
      "metadata": {
        "id": "u6ymqHnXMX6z",
        "outputId": "b0b197c8-7899-41ee-de90-14282355269a",
        "colab": {
          "base_uri": "https://localhost:8080/"
        }
      },
      "source": [
        "!unrar e -p*hack20 211GrandMontreal_DataPack.rar"
      ],
      "execution_count": null,
      "outputs": [
        {
          "output_type": "stream",
          "text": [
            "\n",
            "UNRAR 5.50 freeware      Copyright (c) 1993-2017 Alexander Roshal\n",
            "\n",
            "\n",
            "Extracting from 211GrandMontreal_DataPack.rar\n",
            "\n",
            "Extracting  Références.xlsx                                              \b\b\b\b 14%\b\b\b\b 26%\b\b\b\b\b  OK \n",
            "\n",
            "Would you like to replace the existing file Appels.xlsx\n",
            "2994596 bytes, modified on 2020-11-14 19:19\n",
            "with a new one\n",
            "3392011 bytes, modified on 2020-09-04 19:53\n",
            "\n",
            "[Y]es, [N]o, [A]ll, n[E]ver, [R]ename, [Q]uit \n",
            "User break\n",
            "\n",
            "User break\n"
          ],
          "name": "stdout"
        }
      ]
    },
    {
      "cell_type": "code",
      "metadata": {
        "id": "In7sOps7LhfH"
      },
      "source": [
        "bdorg_taxonomies = pd.read_excel('BDorg_Taxonomies.xlsx')"
      ],
      "execution_count": null,
      "outputs": []
    },
    {
      "cell_type": "code",
      "metadata": {
        "id": "oJSbJN2BLh7R"
      },
      "source": [
        "bdorg_taxonomies.set_index('ResourceAgencyNum', inplace=True)"
      ],
      "execution_count": null,
      "outputs": []
    },
    {
      "cell_type": "code",
      "metadata": {
        "id": "oSSbb0N7NCGj",
        "outputId": "22a6e570-7147-4677-c86b-82086bd8fb2e",
        "colab": {
          "base_uri": "https://localhost:8080/",
          "height": 235
        }
      },
      "source": [
        "bdorg_taxonomies.tail()"
      ],
      "execution_count": null,
      "outputs": [
        {
          "output_type": "execute_result",
          "data": {
            "text/html": [
              "<div>\n",
              "<style scoped>\n",
              "    .dataframe tbody tr th:only-of-type {\n",
              "        vertical-align: middle;\n",
              "    }\n",
              "\n",
              "    .dataframe tbody tr th {\n",
              "        vertical-align: top;\n",
              "    }\n",
              "\n",
              "    .dataframe thead th {\n",
              "        text-align: right;\n",
              "    }\n",
              "</style>\n",
              "<table border=\"1\" class=\"dataframe\">\n",
              "  <thead>\n",
              "    <tr style=\"text-align: right;\">\n",
              "      <th></th>\n",
              "      <th>TaxonomyCodes</th>\n",
              "      <th>TaxonomyTerm</th>\n",
              "    </tr>\n",
              "    <tr>\n",
              "      <th>ResourceAgencyNum</th>\n",
              "      <th></th>\n",
              "      <th></th>\n",
              "    </tr>\n",
              "  </thead>\n",
              "  <tbody>\n",
              "    <tr>\n",
              "      <th>40054459</th>\n",
              "      <td>HH-0500.0500; PL-7400.1500 * YG-2000; HH-4500....</td>\n",
              "      <td>Éducation de base des adultes; Cours d'informa...</td>\n",
              "    </tr>\n",
              "    <tr>\n",
              "      <th>40450084</th>\n",
              "      <td>PS-8000.1900; YH-0300.6150</td>\n",
              "      <td>Clubs sociaux ethnoculturels; Communauté nigér...</td>\n",
              "    </tr>\n",
              "    <tr>\n",
              "      <th>41667289</th>\n",
              "      <td>BD-1800.2000; BD-1875.2700; TI-1800.2000</td>\n",
              "      <td>Banques alimentaires; Récupération d'aliments ...</td>\n",
              "    </tr>\n",
              "    <tr>\n",
              "      <th>50426073</th>\n",
              "      <td>BD-2600.1500; BD-5000.1470; BD-1800.6400; BM-6...</td>\n",
              "      <td>Jardins communautaires; Repas communautaires; ...</td>\n",
              "    </tr>\n",
              "    <tr>\n",
              "      <th>54223611</th>\n",
              "      <td>BD-5000.4500; TI-1800.2000; BD-1875.2700</td>\n",
              "      <td>Repas à faible coût; Dons de nourriture; Récup...</td>\n",
              "    </tr>\n",
              "  </tbody>\n",
              "</table>\n",
              "</div>"
            ],
            "text/plain": [
              "                                                       TaxonomyCodes                                       TaxonomyTerm\n",
              "ResourceAgencyNum                                                                                                      \n",
              "40054459           HH-0500.0500; PL-7400.1500 * YG-2000; HH-4500....  Éducation de base des adultes; Cours d'informa...\n",
              "40450084                                  PS-8000.1900; YH-0300.6150  Clubs sociaux ethnoculturels; Communauté nigér...\n",
              "41667289                    BD-1800.2000; BD-1875.2700; TI-1800.2000  Banques alimentaires; Récupération d'aliments ...\n",
              "50426073           BD-2600.1500; BD-5000.1470; BD-1800.6400; BM-6...  Jardins communautaires; Repas communautaires; ...\n",
              "54223611                    BD-5000.4500; TI-1800.2000; BD-1875.2700  Repas à faible coût; Dons de nourriture; Récup..."
            ]
          },
          "metadata": {
            "tags": []
          },
          "execution_count": 11
        }
      ]
    },
    {
      "cell_type": "code",
      "metadata": {
        "id": "cDaUvjyyQIR4",
        "outputId": "5165cb8f-4f56-49cd-edbd-2fe226fd2fbf",
        "colab": {
          "base_uri": "https://localhost:8080/"
        }
      },
      "source": [
        "bdorg_taxonomies.dtypes"
      ],
      "execution_count": null,
      "outputs": [
        {
          "output_type": "execute_result",
          "data": {
            "text/plain": [
              "TaxonomyCodes    object\n",
              "TaxonomyTerm     object\n",
              "dtype: object"
            ]
          },
          "metadata": {
            "tags": []
          },
          "execution_count": 29
        }
      ]
    },
    {
      "cell_type": "code",
      "metadata": {
        "id": "h4KaiLN2Nmq0"
      },
      "source": [
        "bdorg_taxonomies['TaxonomyCodeList'] = bdorg_taxonomies['TaxonomyCodes'].str.split(\"; \") \n"
      ],
      "execution_count": null,
      "outputs": []
    },
    {
      "cell_type": "code",
      "metadata": {
        "id": "FaTm1gtgNonc"
      },
      "source": [
        "bdorg_taxonomies['TaxonomyTermList'] = bdorg_taxonomies['TaxonomyTerm'].str.split(\"; \") "
      ],
      "execution_count": null,
      "outputs": []
    },
    {
      "cell_type": "code",
      "metadata": {
        "id": "lDI1fdkmRRHi",
        "outputId": "02ee4475-b8dc-4183-d01e-4742ae3f0229",
        "colab": {
          "base_uri": "https://localhost:8080/",
          "height": 235
        }
      },
      "source": [
        "bdorg_taxonomies.head()"
      ],
      "execution_count": null,
      "outputs": [
        {
          "output_type": "execute_result",
          "data": {
            "text/html": [
              "<div>\n",
              "<style scoped>\n",
              "    .dataframe tbody tr th:only-of-type {\n",
              "        vertical-align: middle;\n",
              "    }\n",
              "\n",
              "    .dataframe tbody tr th {\n",
              "        vertical-align: top;\n",
              "    }\n",
              "\n",
              "    .dataframe thead th {\n",
              "        text-align: right;\n",
              "    }\n",
              "</style>\n",
              "<table border=\"1\" class=\"dataframe\">\n",
              "  <thead>\n",
              "    <tr style=\"text-align: right;\">\n",
              "      <th></th>\n",
              "      <th>TaxonomyCodes</th>\n",
              "      <th>TaxonomyTerm</th>\n",
              "      <th>TaxonomyCodeList</th>\n",
              "      <th>TaxonomyTermList</th>\n",
              "    </tr>\n",
              "    <tr>\n",
              "      <th>ResourceAgencyNum</th>\n",
              "      <th></th>\n",
              "      <th></th>\n",
              "      <th></th>\n",
              "      <th></th>\n",
              "    </tr>\n",
              "  </thead>\n",
              "  <tbody>\n",
              "    <tr>\n",
              "      <th>34515394</th>\n",
              "      <td>TD-6500 * YZ-6100; TD-1600.3100-800</td>\n",
              "      <td>Groupes de planification, de coordination et c...</td>\n",
              "      <td>[TD-6500 * YZ-6100,  TD-1600.3100-800]</td>\n",
              "      <td>[Groupes de planification, de coordination et ...</td>\n",
              "    </tr>\n",
              "    <tr>\n",
              "      <th>61149851</th>\n",
              "      <td>PS-8000.6000; PL-7000.4350; BD-5000.1470</td>\n",
              "      <td>Clubs sociaux pour les aînés; Jeux; Repas comm...</td>\n",
              "      <td>[PS-8000.6000,  PL-7000.4350,  BD-5000.1470]</td>\n",
              "      <td>[Clubs sociaux pour les aînés,  Jeux,  Repas c...</td>\n",
              "    </tr>\n",
              "    <tr>\n",
              "      <th>64717062</th>\n",
              "      <td>RX-8250.0500; RX-8250.1700; RX-8470.6900; PH-8...</td>\n",
              "      <td>Éducation et prévention des troubles liés à l'...</td>\n",
              "      <td>[RX-8250.0500,  RX-8250.1700,  RX-8470.6900,  ...</td>\n",
              "      <td>[Éducation et prévention des troubles liés à l...</td>\n",
              "    </tr>\n",
              "    <tr>\n",
              "      <th>31599541</th>\n",
              "      <td>BT-8750.1400; FT-1010.1900-850; FT-1020 * YE-3...</td>\n",
              "      <td>Représentants consulaires et de gouvernements ...</td>\n",
              "      <td>[BT-8750.1400,  FT-1010.1900-850,  FT-1020 * Y...</td>\n",
              "      <td>[Représentants consulaires et de gouvernements...</td>\n",
              "    </tr>\n",
              "    <tr>\n",
              "      <th>18763516</th>\n",
              "      <td>TL-1900</td>\n",
              "      <td>Ambassades et consulats à l'étranger; Ambassad...</td>\n",
              "      <td>[TL-1900]</td>\n",
              "      <td>[Ambassades et consulats à l'étranger,  Ambass...</td>\n",
              "    </tr>\n",
              "  </tbody>\n",
              "</table>\n",
              "</div>"
            ],
            "text/plain": [
              "                                                       TaxonomyCodes  ...                                   TaxonomyTermList\n",
              "ResourceAgencyNum                                                     ...                                                   \n",
              "34515394                         TD-6500 * YZ-6100; TD-1600.3100-800  ...  [Groupes de planification, de coordination et ...\n",
              "61149851                    PS-8000.6000; PL-7000.4350; BD-5000.1470  ...  [Clubs sociaux pour les aînés,  Jeux,  Repas c...\n",
              "64717062           RX-8250.0500; RX-8250.1700; RX-8470.6900; PH-8...  ...  [Éducation et prévention des troubles liés à l...\n",
              "31599541           BT-8750.1400; FT-1010.1900-850; FT-1020 * YE-3...  ...  [Représentants consulaires et de gouvernements...\n",
              "18763516                                                     TL-1900  ...  [Ambassades et consulats à l'étranger,  Ambass...\n",
              "\n",
              "[5 rows x 4 columns]"
            ]
          },
          "metadata": {
            "tags": []
          },
          "execution_count": 34
        }
      ]
    },
    {
      "cell_type": "code",
      "metadata": {
        "id": "CnDL4tmxUgbZ",
        "outputId": "75bd04dc-e62d-495f-ea8d-bf9d5487457b",
        "colab": {
          "base_uri": "https://localhost:8080/"
        }
      },
      "source": [
        "print(bdorg_taxonomies['TaxonomyTerm'].loc[34515394])"
      ],
      "execution_count": null,
      "outputs": [
        {
          "output_type": "stream",
          "text": [
            "Groupes de planification, de coordination et consultatifs - Questions relatives aux aînés et au vieillissement; Groupes de défense des aînés; Comité consultatifs; Comités de coordination; Comités de planification; Groupes consultatifs; Groupes de coordination; Tables de concertation; Groupes de défense des droits des aînés; Groupes de défense des personnes âgées\n"
          ],
          "name": "stdout"
        }
      ]
    },
    {
      "cell_type": "code",
      "metadata": {
        "id": "GlCdvAo1aKlR"
      },
      "source": [
        ""
      ],
      "execution_count": null,
      "outputs": []
    },
    {
      "cell_type": "code",
      "metadata": {
        "id": "KAUatIMbRSr9",
        "outputId": "55cbb570-c1f1-4656-e002-e0d1322a1bce",
        "colab": {
          "base_uri": "https://localhost:8080/"
        }
      },
      "source": [
        "bdorg_taxonomies['TaxonomyCodeList'].iloc[0]"
      ],
      "execution_count": null,
      "outputs": [
        {
          "output_type": "execute_result",
          "data": {
            "text/plain": [
              "['TD-6500 * YZ-6100', 'TD-1600.3100-800']"
            ]
          },
          "metadata": {
            "tags": []
          },
          "execution_count": 39
        }
      ]
    },
    {
      "cell_type": "code",
      "metadata": {
        "id": "W2HZNcs3RYQ-"
      },
      "source": [
        "def get_distinct_set(series):\n",
        "  s = set()\n",
        "  for x in series:\n",
        "    if not isinstance(x, list) and np.isnan(x):\n",
        "      continue\n",
        "    for y in x:\n",
        "      split = y.split(' * ')\n",
        "      for z in split:\n",
        "        s.add(z)\n",
        "  return s\n"
      ],
      "execution_count": 59,
      "outputs": []
    },
    {
      "cell_type": "code",
      "metadata": {
        "id": "xlL6CHbiTVpe"
      },
      "source": [
        "taxonomy_list = list(get_distinct_set(bdorg_taxonomies['TaxonomyCodeList']))"
      ],
      "execution_count": 61,
      "outputs": []
    },
    {
      "cell_type": "code",
      "metadata": {
        "id": "-6uXlB2pT2K3"
      },
      "source": [
        "taxonomy_list.sort()"
      ],
      "execution_count": 62,
      "outputs": []
    },
    {
      "cell_type": "code",
      "metadata": {
        "id": "0AcmRzmPW4IH",
        "outputId": "d37b86ec-6884-4095-ac51-7abc1d533ba2",
        "colab": {
          "base_uri": "https://localhost:8080/"
        }
      },
      "source": [
        "len(taxonomy_list)"
      ],
      "execution_count": 64,
      "outputs": [
        {
          "output_type": "execute_result",
          "data": {
            "text/plain": [
              "1335"
            ]
          },
          "metadata": {
            "tags": []
          },
          "execution_count": 64
        }
      ]
    },
    {
      "cell_type": "code",
      "metadata": {
        "id": "rC2lI4sZW4Kt"
      },
      "source": [
        ""
      ],
      "execution_count": null,
      "outputs": []
    },
    {
      "cell_type": "code",
      "metadata": {
        "id": "aU18YrSYW4NS"
      },
      "source": [
        "besoins = pd.read_excel('Besoins.xlsx')"
      ],
      "execution_count": null,
      "outputs": []
    },
    {
      "cell_type": "code",
      "metadata": {
        "id": "B0dAXc-7W4_Y",
        "outputId": "b59fce33-ca41-4984-fedd-c97809564990",
        "colab": {
          "base_uri": "https://localhost:8080/",
          "height": 445
        }
      },
      "source": [
        "besoins.tail()"
      ],
      "execution_count": null,
      "outputs": [
        {
          "output_type": "execute_result",
          "data": {
            "text/html": [
              "<div>\n",
              "<style scoped>\n",
              "    .dataframe tbody tr th:only-of-type {\n",
              "        vertical-align: middle;\n",
              "    }\n",
              "\n",
              "    .dataframe tbody tr th {\n",
              "        vertical-align: top;\n",
              "    }\n",
              "\n",
              "    .dataframe thead th {\n",
              "        text-align: right;\n",
              "    }\n",
              "</style>\n",
              "<table border=\"1\" class=\"dataframe\">\n",
              "  <thead>\n",
              "    <tr style=\"text-align: right;\">\n",
              "      <th></th>\n",
              "      <th>CallReportNum</th>\n",
              "      <th>TaxonomyCode_full</th>\n",
              "      <th>TaxonomyName_full</th>\n",
              "      <th>NeedWasUnmet</th>\n",
              "      <th>ReasonIfUnmetOrPartial</th>\n",
              "      <th>Level1Code</th>\n",
              "      <th>Level1Name</th>\n",
              "      <th>Level2Code</th>\n",
              "      <th>Level2Name</th>\n",
              "      <th>Level3Code</th>\n",
              "      <th>Level3Name</th>\n",
              "      <th>Level4Code</th>\n",
              "      <th>Level4Name</th>\n",
              "      <th>Level5Code</th>\n",
              "      <th>Level5Name</th>\n",
              "      <th>AIRSNeedCategory</th>\n",
              "      <th>ReportNeedNum</th>\n",
              "      <th>TaxonomyCode_main</th>\n",
              "      <th>TaxonomyCode_link</th>\n",
              "      <th>TaxonomyName_main</th>\n",
              "      <th>TaxonomyName_link</th>\n",
              "    </tr>\n",
              "  </thead>\n",
              "  <tbody>\n",
              "    <tr>\n",
              "      <th>142711</th>\n",
              "      <td>78145762</td>\n",
              "      <td>TI-1800.4500-100</td>\n",
              "      <td>Dons de livres et de magazines</td>\n",
              "      <td>False</td>\n",
              "      <td>NaN</td>\n",
              "      <td>T</td>\n",
              "      <td>Services organisationnels, communautaires et i...</td>\n",
              "      <td>TI</td>\n",
              "      <td>Services de dons</td>\n",
              "      <td>TI-1800</td>\n",
              "      <td>Dons d'articles spécialisés</td>\n",
              "      <td>TI-1800.4500</td>\n",
              "      <td>Dons d'équipement et fournitures de loisir</td>\n",
              "      <td>TI-1800.4500-100</td>\n",
              "      <td>Dons de livres et de magazines</td>\n",
              "      <td>Bénévolat et dons</td>\n",
              "      <td>21475026</td>\n",
              "      <td>TI-1800.4500-100</td>\n",
              "      <td>NaN</td>\n",
              "      <td>Dons de livres et de magazines</td>\n",
              "      <td>NaN</td>\n",
              "    </tr>\n",
              "    <tr>\n",
              "      <th>142712</th>\n",
              "      <td>78146045</td>\n",
              "      <td>NL-3000.1500</td>\n",
              "      <td>Aide pour les frais de garde d'enfants</td>\n",
              "      <td>False</td>\n",
              "      <td>NaN</td>\n",
              "      <td>N</td>\n",
              "      <td>Soutien du revenu et emploi</td>\n",
              "      <td>NL</td>\n",
              "      <td>Aide sociale</td>\n",
              "      <td>NL-3000</td>\n",
              "      <td>Aide sociale relative au maintien à domicile</td>\n",
              "      <td>NL-3000.1500</td>\n",
              "      <td>Aide pour les frais de garde d'enfants</td>\n",
              "      <td>NL-3000.1500</td>\n",
              "      <td>Aide pour les frais de garde d'enfants</td>\n",
              "      <td>Emploi et revenu</td>\n",
              "      <td>21475411</td>\n",
              "      <td>NL-3000.1500</td>\n",
              "      <td>NaN</td>\n",
              "      <td>Aide pour les frais de garde d'enfants</td>\n",
              "      <td>NaN</td>\n",
              "    </tr>\n",
              "    <tr>\n",
              "      <th>142713</th>\n",
              "      <td>78146045</td>\n",
              "      <td>PH-6100.1500</td>\n",
              "      <td>Cours de développement de l'enfant</td>\n",
              "      <td>False</td>\n",
              "      <td>NaN</td>\n",
              "      <td>P</td>\n",
              "      <td>Vie personnelle et familiale</td>\n",
              "      <td>PH</td>\n",
              "      <td>Soutien personnel et familial</td>\n",
              "      <td>PH-6100</td>\n",
              "      <td>Éducation parentale</td>\n",
              "      <td>PH-6100.1500</td>\n",
              "      <td>Cours de développement de l'enfant</td>\n",
              "      <td>PH-6100.1500</td>\n",
              "      <td>Cours de développement de l'enfant</td>\n",
              "      <td>Soutien personnel, familial et communautaire</td>\n",
              "      <td>21475365</td>\n",
              "      <td>PH-6100.1500</td>\n",
              "      <td>NaN</td>\n",
              "      <td>Cours de développement de l'enfant</td>\n",
              "      <td>NaN</td>\n",
              "    </tr>\n",
              "    <tr>\n",
              "      <th>142714</th>\n",
              "      <td>78146045</td>\n",
              "      <td>PH-6100.3300</td>\n",
              "      <td>Éducation parentale à domicile</td>\n",
              "      <td>False</td>\n",
              "      <td>NaN</td>\n",
              "      <td>P</td>\n",
              "      <td>Vie personnelle et familiale</td>\n",
              "      <td>PH</td>\n",
              "      <td>Soutien personnel et familial</td>\n",
              "      <td>PH-6100</td>\n",
              "      <td>Éducation parentale</td>\n",
              "      <td>PH-6100.3300</td>\n",
              "      <td>Éducation parentale à domicile</td>\n",
              "      <td>PH-6100.3300</td>\n",
              "      <td>Éducation parentale à domicile</td>\n",
              "      <td>Soutien personnel, familial et communautaire</td>\n",
              "      <td>21475383</td>\n",
              "      <td>PH-6100.3300</td>\n",
              "      <td>NaN</td>\n",
              "      <td>Éducation parentale à domicile</td>\n",
              "      <td>NaN</td>\n",
              "    </tr>\n",
              "    <tr>\n",
              "      <th>142715</th>\n",
              "      <td>78146045</td>\n",
              "      <td>PH-2360.1800</td>\n",
              "      <td>Centres de services à l'enfance et aux familles</td>\n",
              "      <td>False</td>\n",
              "      <td>NaN</td>\n",
              "      <td>P</td>\n",
              "      <td>Vie personnelle et familiale</td>\n",
              "      <td>PH</td>\n",
              "      <td>Soutien personnel et familial</td>\n",
              "      <td>PH-2360</td>\n",
              "      <td>Services familiaux</td>\n",
              "      <td>PH-2360.1800</td>\n",
              "      <td>Centres de services à l'enfance et aux familles</td>\n",
              "      <td>PH-2360.1800</td>\n",
              "      <td>Centres de services à l'enfance et aux familles</td>\n",
              "      <td>Soutien personnel, familial et communautaire</td>\n",
              "      <td>21475338</td>\n",
              "      <td>PH-2360.1800</td>\n",
              "      <td>NaN</td>\n",
              "      <td>Centres de services à l'enfance et aux familles</td>\n",
              "      <td>NaN</td>\n",
              "    </tr>\n",
              "  </tbody>\n",
              "</table>\n",
              "</div>"
            ],
            "text/plain": [
              "        CallReportNum  ... TaxonomyName_link\n",
              "142711       78145762  ...               NaN\n",
              "142712       78146045  ...               NaN\n",
              "142713       78146045  ...               NaN\n",
              "142714       78146045  ...               NaN\n",
              "142715       78146045  ...               NaN\n",
              "\n",
              "[5 rows x 21 columns]"
            ]
          },
          "metadata": {
            "tags": []
          },
          "execution_count": 54
        }
      ]
    },
    {
      "cell_type": "code",
      "metadata": {
        "id": "JJr6G4hKW9Ud",
        "outputId": "f4303f51-e22d-4923-cb34-5e998a97f387",
        "colab": {
          "base_uri": "https://localhost:8080/"
        }
      },
      "source": [
        "len(besoins.TaxonomyCode_full.unique())"
      ],
      "execution_count": null,
      "outputs": [
        {
          "output_type": "execute_result",
          "data": {
            "text/plain": [
              "1800"
            ]
          },
          "metadata": {
            "tags": []
          },
          "execution_count": 56
        }
      ]
    },
    {
      "cell_type": "code",
      "metadata": {
        "id": "DHx_k6KpXLjY",
        "outputId": "6007c25c-3e25-42e4-c82c-cd0cf3d93cce",
        "colab": {
          "base_uri": "https://localhost:8080/"
        }
      },
      "source": [
        "len(besoins.Level1Code.unique())"
      ],
      "execution_count": 65,
      "outputs": [
        {
          "output_type": "execute_result",
          "data": {
            "text/plain": [
              "11"
            ]
          },
          "metadata": {
            "tags": []
          },
          "execution_count": 65
        }
      ]
    },
    {
      "cell_type": "code",
      "metadata": {
        "id": "mkc4T3sOdZN-",
        "outputId": "77947c0a-05c0-4d27-918c-f96cf5c7d300",
        "colab": {
          "base_uri": "https://localhost:8080/"
        }
      },
      "source": [
        "len(besoins.Level2Code.unique())"
      ],
      "execution_count": 66,
      "outputs": [
        {
          "output_type": "execute_result",
          "data": {
            "text/plain": [
              "73"
            ]
          },
          "metadata": {
            "tags": []
          },
          "execution_count": 66
        }
      ]
    },
    {
      "cell_type": "code",
      "metadata": {
        "id": "PYF1RWcjdbWT",
        "outputId": "6ede5f41-5363-4868-ba03-6b27fea48ec2",
        "colab": {
          "base_uri": "https://localhost:8080/"
        }
      },
      "source": [
        "len(besoins.Level3Code.unique())"
      ],
      "execution_count": 67,
      "outputs": [
        {
          "output_type": "execute_result",
          "data": {
            "text/plain": [
              "375"
            ]
          },
          "metadata": {
            "tags": []
          },
          "execution_count": 67
        }
      ]
    },
    {
      "cell_type": "code",
      "metadata": {
        "id": "oCcP_fRHdfwS"
      },
      "source": [
        ""
      ],
      "execution_count": null,
      "outputs": []
    },
    {
      "cell_type": "code",
      "metadata": {
        "id": "mRq0QI9ErN1z"
      },
      "source": [
        "references = pd.read_excel('Références.xlsx')"
      ],
      "execution_count": 68,
      "outputs": []
    },
    {
      "cell_type": "code",
      "metadata": {
        "id": "e77g4stx1CjX",
        "outputId": "d52ade8d-78cf-4b94-9590-9f4d01101c5b",
        "colab": {
          "base_uri": "https://localhost:8080/",
          "height": 204
        }
      },
      "source": [
        "references.tail()"
      ],
      "execution_count": 73,
      "outputs": [
        {
          "output_type": "execute_result",
          "data": {
            "text/html": [
              "<div>\n",
              "<style scoped>\n",
              "    .dataframe tbody tr th:only-of-type {\n",
              "        vertical-align: middle;\n",
              "    }\n",
              "\n",
              "    .dataframe tbody tr th {\n",
              "        vertical-align: top;\n",
              "    }\n",
              "\n",
              "    .dataframe thead th {\n",
              "        text-align: right;\n",
              "    }\n",
              "</style>\n",
              "<table border=\"1\" class=\"dataframe\">\n",
              "  <thead>\n",
              "    <tr style=\"text-align: right;\">\n",
              "      <th></th>\n",
              "      <th>CallReportNum</th>\n",
              "      <th>ResourceAgencyNum</th>\n",
              "      <th>AgencyNamePublic</th>\n",
              "      <th>ReportNeedNum</th>\n",
              "    </tr>\n",
              "  </thead>\n",
              "  <tbody>\n",
              "    <tr>\n",
              "      <th>264317</th>\n",
              "      <td>78146045</td>\n",
              "      <td>18762631.0</td>\n",
              "      <td>ENTRE MAMANS ET PAPAS</td>\n",
              "      <td>21475383</td>\n",
              "    </tr>\n",
              "    <tr>\n",
              "      <th>264318</th>\n",
              "      <td>78146045</td>\n",
              "      <td>18760262.0</td>\n",
              "      <td>UNIS POUR LES PETITS</td>\n",
              "      <td>21475383</td>\n",
              "    </tr>\n",
              "    <tr>\n",
              "      <th>264319</th>\n",
              "      <td>78146045</td>\n",
              "      <td>18762552.0</td>\n",
              "      <td>PREMIERS PAS CHAMPLAIN</td>\n",
              "      <td>21475338</td>\n",
              "    </tr>\n",
              "    <tr>\n",
              "      <th>264320</th>\n",
              "      <td>78146045</td>\n",
              "      <td>18762552.0</td>\n",
              "      <td>PREMIERS PAS CHAMPLAIN</td>\n",
              "      <td>21475383</td>\n",
              "    </tr>\n",
              "    <tr>\n",
              "      <th>264321</th>\n",
              "      <td>78146045</td>\n",
              "      <td>41529174.0</td>\n",
              "      <td>SERVICES QUÉBEC - DEVENIR PARENT</td>\n",
              "      <td>21475411</td>\n",
              "    </tr>\n",
              "  </tbody>\n",
              "</table>\n",
              "</div>"
            ],
            "text/plain": [
              "        CallReportNum  ...  ReportNeedNum\n",
              "264317       78146045  ...       21475383\n",
              "264318       78146045  ...       21475383\n",
              "264319       78146045  ...       21475338\n",
              "264320       78146045  ...       21475383\n",
              "264321       78146045  ...       21475411\n",
              "\n",
              "[5 rows x 4 columns]"
            ]
          },
          "metadata": {
            "tags": []
          },
          "execution_count": 73
        }
      ]
    },
    {
      "cell_type": "code",
      "metadata": {
        "id": "f7EKAnfXrKKB"
      },
      "source": [
        "resource_ref_count= references.groupby('ResourceAgencyNum')['CallReportNum'].count().sort_values(ascending=False)"
      ],
      "execution_count": 69,
      "outputs": []
    },
    {
      "cell_type": "code",
      "metadata": {
        "id": "d3jIynI6rKMo",
        "outputId": "9b8b7b4b-50ca-4b77-dd14-84a709d0699f",
        "colab": {
          "base_uri": "https://localhost:8080/"
        }
      },
      "source": [
        "resource_agency_nums = resource_ref_count[resource_ref_count > 10].index.astype(int).values\n",
        "np.sort(resource_agency_nums)"
      ],
      "execution_count": 70,
      "outputs": [
        {
          "output_type": "execute_result",
          "data": {
            "text/plain": [
              "array([18759962, 18759964, 18759965, ..., 68848329, 68933670, 69147049])"
            ]
          },
          "metadata": {
            "tags": []
          },
          "execution_count": 70
        }
      ]
    },
    {
      "cell_type": "code",
      "metadata": {
        "id": "DKDm3V6lrTMo",
        "outputId": "9ed3dcbc-3441-4405-e7f1-0fed52c76409",
        "colab": {
          "base_uri": "https://localhost:8080/"
        }
      },
      "source": [
        "resource_agency_nums"
      ],
      "execution_count": 71,
      "outputs": [
        {
          "output_type": "execute_result",
          "data": {
            "text/plain": [
              "array([18760559, 47945224, 18761956, ..., 18762324, 34051134, 18762122])"
            ]
          },
          "metadata": {
            "tags": []
          },
          "execution_count": 71
        }
      ]
    },
    {
      "cell_type": "code",
      "metadata": {
        "id": "q6tcR6JXs3L3"
      },
      "source": [
        "from sklearn.preprocessing import MultiLabelBinarizer"
      ],
      "execution_count": 72,
      "outputs": []
    },
    {
      "cell_type": "code",
      "metadata": {
        "id": "EuW1HUWbs3uW"
      },
      "source": [
        "MultiLabelBinarizer"
      ],
      "execution_count": null,
      "outputs": []
    }
  ]
}