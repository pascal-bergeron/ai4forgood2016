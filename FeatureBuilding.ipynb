{
  "nbformat": 4,
  "nbformat_minor": 0,
  "metadata": {
    "colab": {
      "name": "FeatureBuilding",
      "provenance": [],
      "collapsed_sections": [],
      "toc_visible": true,
      "authorship_tag": "ABX9TyOqCay8YGjNGeYkv0GgMYXT",
      "include_colab_link": true
    },
    "kernelspec": {
      "name": "python3",
      "display_name": "Python 3"
    }
  },
  "cells": [
    {
      "cell_type": "markdown",
      "metadata": {
        "id": "view-in-github",
        "colab_type": "text"
      },
      "source": [
        "<a href=\"https://colab.research.google.com/github/pascal-bergeron/ai4forgood2016/blob/main/FeatureBuilding.ipynb\" target=\"_parent\"><img src=\"https://colab.research.google.com/assets/colab-badge.svg\" alt=\"Open In Colab\"/></a>"
      ]
    },
    {
      "cell_type": "code",
      "metadata": {
        "id": "b5GUrPAvLWj1"
      },
      "source": [
        "import pandas as pd\n",
        "import numpy as np\n",
        "from google.colab import drive"
      ],
      "execution_count": null,
      "outputs": []
    },
    {
      "cell_type": "code",
      "metadata": {
        "id": "ooOYdIVoMKz0",
        "outputId": "706a41eb-e41e-4132-a195-a0d5dd307fe7",
        "colab": {
          "base_uri": "https://localhost:8080/"
        }
      },
      "source": [
        "drive.mount('/content/drive/')"
      ],
      "execution_count": null,
      "outputs": [
        {
          "output_type": "stream",
          "text": [
            "Mounted at /content/drive/\n"
          ],
          "name": "stdout"
        }
      ]
    },
    {
      "cell_type": "code",
      "metadata": {
        "id": "b10ifa80MLqr"
      },
      "source": [
        "cp 'drive/My Drive/Projects/AIForGood2020/' . -r"
      ],
      "execution_count": null,
      "outputs": []
    },
    {
      "cell_type": "code",
      "metadata": {
        "id": "IUCKTr8xMRy3",
        "outputId": "3d62249c-ec6b-42d2-e591-c94bd2a2d140",
        "colab": {
          "base_uri": "https://localhost:8080/"
        }
      },
      "source": [
        "cd AIForGood2020/"
      ],
      "execution_count": null,
      "outputs": [
        {
          "output_type": "stream",
          "text": [
            "/content/AIForGood2020\n"
          ],
          "name": "stdout"
        }
      ]
    },
    {
      "cell_type": "code",
      "metadata": {
        "id": "u6ymqHnXMX6z"
      },
      "source": [
        "# !unrar e -p*hack20 211GrandMontreal_DataPack.rar"
      ],
      "execution_count": null,
      "outputs": []
    },
    {
      "cell_type": "markdown",
      "metadata": {
        "id": "6zo0g79VnwWa"
      },
      "source": [
        "# Agencies Taxonomomies"
      ]
    },
    {
      "cell_type": "code",
      "metadata": {
        "id": "In7sOps7LhfH"
      },
      "source": [
        "org = pd.read_excel('organisation.xlsx')"
      ],
      "execution_count": 28,
      "outputs": []
    },
    {
      "cell_type": "code",
      "metadata": {
        "id": "oJSbJN2BLh7R"
      },
      "source": [
        "org.set_index('ResourceAgencyNum', inplace=True)"
      ],
      "execution_count": 29,
      "outputs": []
    },
    {
      "cell_type": "code",
      "metadata": {
        "id": "oSSbb0N7NCGj",
        "outputId": "5724434c-1fbd-4af3-da1c-fd98ce59c621",
        "colab": {
          "base_uri": "https://localhost:8080/",
          "height": 663
        }
      },
      "source": [
        "org.tail()"
      ],
      "execution_count": 30,
      "outputs": [
        {
          "output_type": "execute_result",
          "data": {
            "text/html": [
              "<div>\n",
              "<style scoped>\n",
              "    .dataframe tbody tr th:only-of-type {\n",
              "        vertical-align: middle;\n",
              "    }\n",
              "\n",
              "    .dataframe tbody tr th {\n",
              "        vertical-align: top;\n",
              "    }\n",
              "\n",
              "    .dataframe thead th {\n",
              "        text-align: right;\n",
              "    }\n",
              "</style>\n",
              "<table border=\"1\" class=\"dataframe\">\n",
              "  <thead>\n",
              "    <tr style=\"text-align: right;\">\n",
              "      <th></th>\n",
              "      <th>PublicName</th>\n",
              "      <th>LegalStatus</th>\n",
              "      <th>AlternateName</th>\n",
              "      <th>TaxonomyLevelName</th>\n",
              "      <th>ParentAgency</th>\n",
              "      <th>ParentAgencyNum</th>\n",
              "      <th>LastVerifiedOn</th>\n",
              "      <th>LanguageOfRecord</th>\n",
              "      <th>Custom_Statut temporaire Covid-19</th>\n",
              "      <th>Custom_Acronym</th>\n",
              "      <th>Municipalité_Code</th>\n",
              "      <th>PhysicalAddress1</th>\n",
              "      <th>PhysicalAddressIsPrivate</th>\n",
              "      <th>PhysicalStateProvince</th>\n",
              "      <th>PhysicalPostalCode</th>\n",
              "      <th>Latitude</th>\n",
              "      <th>Longitude</th>\n",
              "      <th>Coverage</th>\n",
              "      <th>TaxonomyCodes</th>\n",
              "    </tr>\n",
              "    <tr>\n",
              "      <th>ResourceAgencyNum</th>\n",
              "      <th></th>\n",
              "      <th></th>\n",
              "      <th></th>\n",
              "      <th></th>\n",
              "      <th></th>\n",
              "      <th></th>\n",
              "      <th></th>\n",
              "      <th></th>\n",
              "      <th></th>\n",
              "      <th></th>\n",
              "      <th></th>\n",
              "      <th></th>\n",
              "      <th></th>\n",
              "      <th></th>\n",
              "      <th></th>\n",
              "      <th></th>\n",
              "      <th></th>\n",
              "      <th></th>\n",
              "      <th></th>\n",
              "    </tr>\n",
              "  </thead>\n",
              "  <tbody>\n",
              "    <tr>\n",
              "      <th>30790854</th>\n",
              "      <td>BIBLIOTHÈQUE PUBLIQUE DE DOLLARD-DES-ORMEAUX</td>\n",
              "      <td>organisme municipal</td>\n",
              "      <td>NaN</td>\n",
              "      <td>Program</td>\n",
              "      <td>DOLLARD-DES-ORMEAUX - VILLE</td>\n",
              "      <td>18760983</td>\n",
              "      <td>2020-06-04</td>\n",
              "      <td>fr</td>\n",
              "      <td>Ouvert</td>\n",
              "      <td>NaN</td>\n",
              "      <td>66142.0</td>\n",
              "      <td>12001, boulevard De Salaberry</td>\n",
              "      <td>No</td>\n",
              "      <td>QC</td>\n",
              "      <td>H9B 2A7</td>\n",
              "      <td>45.48414</td>\n",
              "      <td>-73.80695</td>\n",
              "      <td>QC - Montréal County - Dollard-Des Ormeaux;</td>\n",
              "      <td>TJ-4400; TJ-1800.6650; TJ-4500.2900; TJ-4500.1...</td>\n",
              "    </tr>\n",
              "    <tr>\n",
              "      <th>51229060</th>\n",
              "      <td>BIBLIOTHÈQUE MUNICIPALE DE NAPIERVILLE</td>\n",
              "      <td>organisme municipal</td>\n",
              "      <td>NaN</td>\n",
              "      <td>Program</td>\n",
              "      <td>NAPIERVILLE - MUNICIPALITÉ</td>\n",
              "      <td>19499426</td>\n",
              "      <td>2020-06-05</td>\n",
              "      <td>fr</td>\n",
              "      <td>Ouvert</td>\n",
              "      <td>NaN</td>\n",
              "      <td>68030.0</td>\n",
              "      <td>290, rue Saint-Alexandre</td>\n",
              "      <td>No</td>\n",
              "      <td>QC</td>\n",
              "      <td>J0J 1L0</td>\n",
              "      <td>45.18862</td>\n",
              "      <td>-73.40354</td>\n",
              "      <td>QC - Montérégie County - Saint-Cyprien-de-Napi...</td>\n",
              "      <td>TJ-4400; TJ-1800.6650; TJ-4500.1500-800; TJ-45...</td>\n",
              "    </tr>\n",
              "    <tr>\n",
              "      <th>49492168</th>\n",
              "      <td>BIBLIOTHÈQUE MUNICIPALE DE SAINT-JACQUES-LE-MI...</td>\n",
              "      <td>organisme municipal</td>\n",
              "      <td>NaN</td>\n",
              "      <td>Program</td>\n",
              "      <td>SAINT-JACQUES-LE-MINEUR - MUNICIPALITÉ</td>\n",
              "      <td>19533005</td>\n",
              "      <td>2019-08-21</td>\n",
              "      <td>fr</td>\n",
              "      <td>Ouvert</td>\n",
              "      <td>NaN</td>\n",
              "      <td>68040.0</td>\n",
              "      <td>89, rue Principale</td>\n",
              "      <td>No</td>\n",
              "      <td>QC</td>\n",
              "      <td>J0J 1Z0</td>\n",
              "      <td>45.27682</td>\n",
              "      <td>-73.41787</td>\n",
              "      <td>QC - Montérégie County - Saint-Jacques-le-Mineur;</td>\n",
              "      <td>TJ-4400; TJ-1800.6650</td>\n",
              "    </tr>\n",
              "    <tr>\n",
              "      <th>18766848</th>\n",
              "      <td>BOISBRIAND - LOISIRS, CULTURE ET BIBLIOTHÈQUE</td>\n",
              "      <td>organisme municipal</td>\n",
              "      <td>NaN</td>\n",
              "      <td>Program</td>\n",
              "      <td>BOISBRIAND - VILLE</td>\n",
              "      <td>18762253</td>\n",
              "      <td>2020-06-08</td>\n",
              "      <td>fr</td>\n",
              "      <td>Ouvert</td>\n",
              "      <td>NaN</td>\n",
              "      <td>73005.0</td>\n",
              "      <td>940, boulevard de la Grande Allée, rez-de-chau...</td>\n",
              "      <td>No</td>\n",
              "      <td>QC</td>\n",
              "      <td>J7G 2J7</td>\n",
              "      <td>45.61253</td>\n",
              "      <td>-73.83842</td>\n",
              "      <td>QC - Laurentides County - Boisbriand;</td>\n",
              "      <td>TD-0300.1200 * PL-7000.4360</td>\n",
              "    </tr>\n",
              "    <tr>\n",
              "      <th>42388216</th>\n",
              "      <td>REBOND (LE)</td>\n",
              "      <td>organisme parapublic</td>\n",
              "      <td>NaN</td>\n",
              "      <td>Program</td>\n",
              "      <td>OFFICE MUNICIPAL D'HABITATION DE MONTRÉAL - SI...</td>\n",
              "      <td>18760248</td>\n",
              "      <td>2019-08-14</td>\n",
              "      <td>fr</td>\n",
              "      <td>Ouvert</td>\n",
              "      <td>NaN</td>\n",
              "      <td>NaN</td>\n",
              "      <td>NaN</td>\n",
              "      <td>Yes</td>\n",
              "      <td>QC</td>\n",
              "      <td>NaN</td>\n",
              "      <td>NaN</td>\n",
              "      <td>NaN</td>\n",
              "      <td>QC - Montréal County - Ahuntsic-Cartierville; ...</td>\n",
              "      <td>PS-9800.9800; TJ-1800.3300-600.10 * YB-9500.0500</td>\n",
              "    </tr>\n",
              "  </tbody>\n",
              "</table>\n",
              "</div>"
            ],
            "text/plain": [
              "                                                          PublicName  ...                                      TaxonomyCodes\n",
              "ResourceAgencyNum                                                     ...                                                   \n",
              "30790854                BIBLIOTHÈQUE PUBLIQUE DE DOLLARD-DES-ORMEAUX  ...  TJ-4400; TJ-1800.6650; TJ-4500.2900; TJ-4500.1...\n",
              "51229060                      BIBLIOTHÈQUE MUNICIPALE DE NAPIERVILLE  ...  TJ-4400; TJ-1800.6650; TJ-4500.1500-800; TJ-45...\n",
              "49492168           BIBLIOTHÈQUE MUNICIPALE DE SAINT-JACQUES-LE-MI...  ...                              TJ-4400; TJ-1800.6650\n",
              "18766848               BOISBRIAND - LOISIRS, CULTURE ET BIBLIOTHÈQUE  ...                        TD-0300.1200 * PL-7000.4360\n",
              "42388216                                                 REBOND (LE)  ...   PS-9800.9800; TJ-1800.3300-600.10 * YB-9500.0500\n",
              "\n",
              "[5 rows x 19 columns]"
            ]
          },
          "metadata": {
            "tags": []
          },
          "execution_count": 30
        }
      ]
    },
    {
      "cell_type": "code",
      "metadata": {
        "id": "Y0Tzz65BWdOI"
      },
      "source": [
        "def get_level_2_taxonomy_code_list(ser: pd.Series) -> pd.Series:\n",
        "  first_split = ser.str.split(\"; \")\n",
        "  return first_split.apply(lambda x : np.nan if isinstance(x, float) and np.isnan(x) else [y[:7] for y in x] )"
      ],
      "execution_count": 31,
      "outputs": []
    },
    {
      "cell_type": "code",
      "metadata": {
        "id": "h4KaiLN2Nmq0"
      },
      "source": [
        "org['L2_tax_codes'] = get_level_2_taxonomy_code_list(org['TaxonomyCodes'])"
      ],
      "execution_count": 32,
      "outputs": []
    },
    {
      "cell_type": "code",
      "metadata": {
        "id": "lDI1fdkmRRHi",
        "outputId": "b88248bf-2a99-4f71-c326-9051e3bb9222",
        "colab": {
          "base_uri": "https://localhost:8080/"
        }
      },
      "source": [
        "org['L2_tax_codes'].head()"
      ],
      "execution_count": 33,
      "outputs": [
        {
          "output_type": "execute_result",
          "data": {
            "text/plain": [
              "ResourceAgencyNum\n",
              "34515394                                   [TD-6500, TD-1600]\n",
              "18764735    [TC-5500, YH-6000, ND-3500, HH-0500, HH-0500, ...\n",
              "18762709                                   [TN-4600, FT-4800]\n",
              "18765353    [BM-8500, BD-1800, TI-1800, TI-1800, TI-1800, ...\n",
              "54247598    [TD-1600, PS-8000, RP-1400, PH-0320, RP-1400, ...\n",
              "Name: L2_tax_codes, dtype: object"
            ]
          },
          "metadata": {
            "tags": []
          },
          "execution_count": 33
        }
      ]
    },
    {
      "cell_type": "markdown",
      "metadata": {
        "id": "YrfMqqWJ8X9W"
      },
      "source": [
        "# Calls"
      ]
    },
    {
      "cell_type": "code",
      "metadata": {
        "id": "cRieUq5Su-gQ"
      },
      "source": [
        "calls = pd.read_excel('calls_consolid.xlsx')"
      ],
      "execution_count": 34,
      "outputs": []
    },
    {
      "cell_type": "code",
      "metadata": {
        "id": "VuzIBYGgwQmo"
      },
      "source": [
        "calls.set_index('CallReportNum', inplace=True)"
      ],
      "execution_count": 35,
      "outputs": []
    },
    {
      "cell_type": "code",
      "metadata": {
        "id": "EIOiJmPPwQpG",
        "outputId": "91b9389d-2558-4ec9-80dc-f1897451be8c",
        "colab": {
          "base_uri": "https://localhost:8080/",
          "height": 306
        }
      },
      "source": [
        "calls.head()"
      ],
      "execution_count": 36,
      "outputs": [
        {
          "output_type": "execute_result",
          "data": {
            "text/html": [
              "<div>\n",
              "<style scoped>\n",
              "    .dataframe tbody tr th:only-of-type {\n",
              "        vertical-align: middle;\n",
              "    }\n",
              "\n",
              "    .dataframe tbody tr th {\n",
              "        vertical-align: top;\n",
              "    }\n",
              "\n",
              "    .dataframe thead th {\n",
              "        text-align: right;\n",
              "    }\n",
              "</style>\n",
              "<table border=\"1\" class=\"dataframe\">\n",
              "  <thead>\n",
              "    <tr style=\"text-align: right;\">\n",
              "      <th></th>\n",
              "      <th>CallDateAndTimeStart</th>\n",
              "      <th>StateProvince</th>\n",
              "      <th>Heure</th>\n",
              "      <th>Code postal court</th>\n",
              "      <th>Municipalité_Code</th>\n",
              "      <th>Âge</th>\n",
              "      <th>Catégorie d'âge</th>\n",
              "      <th>Genre</th>\n",
              "      <th>Langue</th>\n",
              "      <th>Mode De Communication</th>\n",
              "      <th>Municipalité_Nom</th>\n",
              "      <th>Région Administrative</th>\n",
              "      <th>Région administrative_Code</th>\n",
              "      <th>Territoire_division</th>\n",
              "      <th>Territoire_code</th>\n",
              "      <th>MRC</th>\n",
              "      <th>MRCEN</th>\n",
              "      <th>Superficie</th>\n",
              "      <th>Population</th>\n",
              "      <th>Statut</th>\n",
              "      <th>Territoire CMM</th>\n",
              "      <th>Territoire CMM_val</th>\n",
              "      <th>Centraide Grand Montréal</th>\n",
              "      <th>Territoire 211 Grand Montréal</th>\n",
              "    </tr>\n",
              "    <tr>\n",
              "      <th>CallReportNum</th>\n",
              "      <th></th>\n",
              "      <th></th>\n",
              "      <th></th>\n",
              "      <th></th>\n",
              "      <th></th>\n",
              "      <th></th>\n",
              "      <th></th>\n",
              "      <th></th>\n",
              "      <th></th>\n",
              "      <th></th>\n",
              "      <th></th>\n",
              "      <th></th>\n",
              "      <th></th>\n",
              "      <th></th>\n",
              "      <th></th>\n",
              "      <th></th>\n",
              "      <th></th>\n",
              "      <th></th>\n",
              "      <th></th>\n",
              "      <th></th>\n",
              "      <th></th>\n",
              "      <th></th>\n",
              "      <th></th>\n",
              "      <th></th>\n",
              "    </tr>\n",
              "  </thead>\n",
              "  <tbody>\n",
              "    <tr>\n",
              "      <th>51805319</th>\n",
              "      <td>2018-04-01</td>\n",
              "      <td>QC</td>\n",
              "      <td>10</td>\n",
              "      <td>NaN</td>\n",
              "      <td>999001.0</td>\n",
              "      <td>NaN</td>\n",
              "      <td>NaN</td>\n",
              "      <td>Femme</td>\n",
              "      <td>Français</td>\n",
              "      <td>Appels</td>\n",
              "      <td>Inconnu-Laval</td>\n",
              "      <td>Laval</td>\n",
              "      <td>13.0</td>\n",
              "      <td>NaN</td>\n",
              "      <td>NaN</td>\n",
              "      <td>NaN</td>\n",
              "      <td>NaN</td>\n",
              "      <td>NaN</td>\n",
              "      <td>NaN</td>\n",
              "      <td>NaN</td>\n",
              "      <td>Laval</td>\n",
              "      <td>Oui</td>\n",
              "      <td>Laval</td>\n",
              "      <td>Oui</td>\n",
              "    </tr>\n",
              "    <tr>\n",
              "      <th>51805954</th>\n",
              "      <td>2018-04-01</td>\n",
              "      <td>QC</td>\n",
              "      <td>11</td>\n",
              "      <td>H1T</td>\n",
              "      <td>66213.0</td>\n",
              "      <td>35.0</td>\n",
              "      <td>30-39 ans</td>\n",
              "      <td>Homme</td>\n",
              "      <td>Français</td>\n",
              "      <td>Appels</td>\n",
              "      <td>Rosemont—La Petite-Patrie</td>\n",
              "      <td>Montréal</td>\n",
              "      <td>6.0</td>\n",
              "      <td>Montréal</td>\n",
              "      <td>66.0</td>\n",
              "      <td>Montréal</td>\n",
              "      <td>Montréal</td>\n",
              "      <td>NaN</td>\n",
              "      <td>NaN</td>\n",
              "      <td>arrondissement</td>\n",
              "      <td>Montréal</td>\n",
              "      <td>Oui</td>\n",
              "      <td>Montréal</td>\n",
              "      <td>Oui</td>\n",
              "    </tr>\n",
              "    <tr>\n",
              "      <th>51806285</th>\n",
              "      <td>2018-04-01</td>\n",
              "      <td>QC</td>\n",
              "      <td>12</td>\n",
              "      <td>NaN</td>\n",
              "      <td>66023.0</td>\n",
              "      <td>NaN</td>\n",
              "      <td>NaN</td>\n",
              "      <td>Homme</td>\n",
              "      <td>Français</td>\n",
              "      <td>Appels</td>\n",
              "      <td>Montréal</td>\n",
              "      <td>Montréal</td>\n",
              "      <td>6.0</td>\n",
              "      <td>Montréal</td>\n",
              "      <td>66.0</td>\n",
              "      <td>Montréal</td>\n",
              "      <td>Montréal</td>\n",
              "      <td>430.6</td>\n",
              "      <td>1777058.0</td>\n",
              "      <td>ville</td>\n",
              "      <td>Montréal</td>\n",
              "      <td>Oui</td>\n",
              "      <td>Montréal</td>\n",
              "      <td>Oui</td>\n",
              "    </tr>\n",
              "    <tr>\n",
              "      <th>51806377</th>\n",
              "      <td>2018-04-01</td>\n",
              "      <td>QC</td>\n",
              "      <td>12</td>\n",
              "      <td>H1J</td>\n",
              "      <td>66201.0</td>\n",
              "      <td>40.0</td>\n",
              "      <td>40-49 ans</td>\n",
              "      <td>Homme</td>\n",
              "      <td>Français</td>\n",
              "      <td>Appels</td>\n",
              "      <td>Anjou</td>\n",
              "      <td>Montréal</td>\n",
              "      <td>6.0</td>\n",
              "      <td>Montréal</td>\n",
              "      <td>66.0</td>\n",
              "      <td>Montréal</td>\n",
              "      <td>Montréal</td>\n",
              "      <td>NaN</td>\n",
              "      <td>NaN</td>\n",
              "      <td>arrondissement</td>\n",
              "      <td>Montréal</td>\n",
              "      <td>Oui</td>\n",
              "      <td>Montréal</td>\n",
              "      <td>Oui</td>\n",
              "    </tr>\n",
              "    <tr>\n",
              "      <th>51806428</th>\n",
              "      <td>2018-04-01</td>\n",
              "      <td>QC</td>\n",
              "      <td>12</td>\n",
              "      <td>H2K</td>\n",
              "      <td>66217.0</td>\n",
              "      <td>NaN</td>\n",
              "      <td>NaN</td>\n",
              "      <td>Homme</td>\n",
              "      <td>Français</td>\n",
              "      <td>Appels</td>\n",
              "      <td>Ville-Marie</td>\n",
              "      <td>Montréal</td>\n",
              "      <td>6.0</td>\n",
              "      <td>Montréal</td>\n",
              "      <td>66.0</td>\n",
              "      <td>Montréal</td>\n",
              "      <td>Montréal</td>\n",
              "      <td>NaN</td>\n",
              "      <td>NaN</td>\n",
              "      <td>arrondissement</td>\n",
              "      <td>Montréal</td>\n",
              "      <td>Oui</td>\n",
              "      <td>Montréal</td>\n",
              "      <td>Oui</td>\n",
              "    </tr>\n",
              "  </tbody>\n",
              "</table>\n",
              "</div>"
            ],
            "text/plain": [
              "              CallDateAndTimeStart  ... Territoire 211 Grand Montréal\n",
              "CallReportNum                       ...                              \n",
              "51805319                2018-04-01  ...                           Oui\n",
              "51805954                2018-04-01  ...                           Oui\n",
              "51806285                2018-04-01  ...                           Oui\n",
              "51806377                2018-04-01  ...                           Oui\n",
              "51806428                2018-04-01  ...                           Oui\n",
              "\n",
              "[5 rows x 24 columns]"
            ]
          },
          "metadata": {
            "tags": []
          },
          "execution_count": 36
        }
      ]
    },
    {
      "cell_type": "markdown",
      "metadata": {
        "id": "6dwREDRon2Nx"
      },
      "source": [
        "# Needs "
      ]
    },
    {
      "cell_type": "code",
      "metadata": {
        "id": "aU18YrSYW4NS"
      },
      "source": [
        "besoins = pd.read_excel('Besoins.xlsx')"
      ],
      "execution_count": 37,
      "outputs": []
    },
    {
      "cell_type": "code",
      "metadata": {
        "id": "TVU5ExJ-n-pQ"
      },
      "source": [
        "besoins.set_index('ReportNeedNum', inplace=True)"
      ],
      "execution_count": 38,
      "outputs": []
    },
    {
      "cell_type": "code",
      "metadata": {
        "id": "B0dAXc-7W4_Y",
        "outputId": "787d4a76-619a-4694-9162-7934b13bf97b",
        "colab": {
          "base_uri": "https://localhost:8080/",
          "height": 476
        }
      },
      "source": [
        "besoins.tail()"
      ],
      "execution_count": 39,
      "outputs": [
        {
          "output_type": "execute_result",
          "data": {
            "text/html": [
              "<div>\n",
              "<style scoped>\n",
              "    .dataframe tbody tr th:only-of-type {\n",
              "        vertical-align: middle;\n",
              "    }\n",
              "\n",
              "    .dataframe tbody tr th {\n",
              "        vertical-align: top;\n",
              "    }\n",
              "\n",
              "    .dataframe thead th {\n",
              "        text-align: right;\n",
              "    }\n",
              "</style>\n",
              "<table border=\"1\" class=\"dataframe\">\n",
              "  <thead>\n",
              "    <tr style=\"text-align: right;\">\n",
              "      <th></th>\n",
              "      <th>CallReportNum</th>\n",
              "      <th>TaxonomyCode_full</th>\n",
              "      <th>TaxonomyName_full</th>\n",
              "      <th>NeedWasUnmet</th>\n",
              "      <th>ReasonIfUnmetOrPartial</th>\n",
              "      <th>Level1Code</th>\n",
              "      <th>Level1Name</th>\n",
              "      <th>Level2Code</th>\n",
              "      <th>Level2Name</th>\n",
              "      <th>Level3Code</th>\n",
              "      <th>Level3Name</th>\n",
              "      <th>Level4Code</th>\n",
              "      <th>Level4Name</th>\n",
              "      <th>Level5Code</th>\n",
              "      <th>Level5Name</th>\n",
              "      <th>AIRSNeedCategory</th>\n",
              "      <th>TaxonomyCode_main</th>\n",
              "      <th>TaxonomyCode_link</th>\n",
              "      <th>TaxonomyName_main</th>\n",
              "      <th>TaxonomyName_link</th>\n",
              "    </tr>\n",
              "    <tr>\n",
              "      <th>ReportNeedNum</th>\n",
              "      <th></th>\n",
              "      <th></th>\n",
              "      <th></th>\n",
              "      <th></th>\n",
              "      <th></th>\n",
              "      <th></th>\n",
              "      <th></th>\n",
              "      <th></th>\n",
              "      <th></th>\n",
              "      <th></th>\n",
              "      <th></th>\n",
              "      <th></th>\n",
              "      <th></th>\n",
              "      <th></th>\n",
              "      <th></th>\n",
              "      <th></th>\n",
              "      <th></th>\n",
              "      <th></th>\n",
              "      <th></th>\n",
              "      <th></th>\n",
              "    </tr>\n",
              "  </thead>\n",
              "  <tbody>\n",
              "    <tr>\n",
              "      <th>21475026</th>\n",
              "      <td>78145762</td>\n",
              "      <td>TI-1800.4500-100</td>\n",
              "      <td>Dons de livres et de magazines</td>\n",
              "      <td>False</td>\n",
              "      <td>NaN</td>\n",
              "      <td>T</td>\n",
              "      <td>Services organisationnels, communautaires et i...</td>\n",
              "      <td>TI</td>\n",
              "      <td>Services de dons</td>\n",
              "      <td>TI-1800</td>\n",
              "      <td>Dons d'articles spécialisés</td>\n",
              "      <td>TI-1800.4500</td>\n",
              "      <td>Dons d'équipement et fournitures de loisir</td>\n",
              "      <td>TI-1800.4500-100</td>\n",
              "      <td>Dons de livres et de magazines</td>\n",
              "      <td>Bénévolat et dons</td>\n",
              "      <td>TI-1800.4500-100</td>\n",
              "      <td>NaN</td>\n",
              "      <td>Dons de livres et de magazines</td>\n",
              "      <td>NaN</td>\n",
              "    </tr>\n",
              "    <tr>\n",
              "      <th>21475411</th>\n",
              "      <td>78146045</td>\n",
              "      <td>NL-3000.1500</td>\n",
              "      <td>Aide pour les frais de garde d'enfants</td>\n",
              "      <td>False</td>\n",
              "      <td>NaN</td>\n",
              "      <td>N</td>\n",
              "      <td>Soutien du revenu et emploi</td>\n",
              "      <td>NL</td>\n",
              "      <td>Aide sociale</td>\n",
              "      <td>NL-3000</td>\n",
              "      <td>Aide sociale relative au maintien à domicile</td>\n",
              "      <td>NL-3000.1500</td>\n",
              "      <td>Aide pour les frais de garde d'enfants</td>\n",
              "      <td>NL-3000.1500</td>\n",
              "      <td>Aide pour les frais de garde d'enfants</td>\n",
              "      <td>Emploi et revenu</td>\n",
              "      <td>NL-3000.1500</td>\n",
              "      <td>NaN</td>\n",
              "      <td>Aide pour les frais de garde d'enfants</td>\n",
              "      <td>NaN</td>\n",
              "    </tr>\n",
              "    <tr>\n",
              "      <th>21475365</th>\n",
              "      <td>78146045</td>\n",
              "      <td>PH-6100.1500</td>\n",
              "      <td>Cours de développement de l'enfant</td>\n",
              "      <td>False</td>\n",
              "      <td>NaN</td>\n",
              "      <td>P</td>\n",
              "      <td>Vie personnelle et familiale</td>\n",
              "      <td>PH</td>\n",
              "      <td>Soutien personnel et familial</td>\n",
              "      <td>PH-6100</td>\n",
              "      <td>Éducation parentale</td>\n",
              "      <td>PH-6100.1500</td>\n",
              "      <td>Cours de développement de l'enfant</td>\n",
              "      <td>PH-6100.1500</td>\n",
              "      <td>Cours de développement de l'enfant</td>\n",
              "      <td>Soutien personnel, familial et communautaire</td>\n",
              "      <td>PH-6100.1500</td>\n",
              "      <td>NaN</td>\n",
              "      <td>Cours de développement de l'enfant</td>\n",
              "      <td>NaN</td>\n",
              "    </tr>\n",
              "    <tr>\n",
              "      <th>21475383</th>\n",
              "      <td>78146045</td>\n",
              "      <td>PH-6100.3300</td>\n",
              "      <td>Éducation parentale à domicile</td>\n",
              "      <td>False</td>\n",
              "      <td>NaN</td>\n",
              "      <td>P</td>\n",
              "      <td>Vie personnelle et familiale</td>\n",
              "      <td>PH</td>\n",
              "      <td>Soutien personnel et familial</td>\n",
              "      <td>PH-6100</td>\n",
              "      <td>Éducation parentale</td>\n",
              "      <td>PH-6100.3300</td>\n",
              "      <td>Éducation parentale à domicile</td>\n",
              "      <td>PH-6100.3300</td>\n",
              "      <td>Éducation parentale à domicile</td>\n",
              "      <td>Soutien personnel, familial et communautaire</td>\n",
              "      <td>PH-6100.3300</td>\n",
              "      <td>NaN</td>\n",
              "      <td>Éducation parentale à domicile</td>\n",
              "      <td>NaN</td>\n",
              "    </tr>\n",
              "    <tr>\n",
              "      <th>21475338</th>\n",
              "      <td>78146045</td>\n",
              "      <td>PH-2360.1800</td>\n",
              "      <td>Centres de services à l'enfance et aux familles</td>\n",
              "      <td>False</td>\n",
              "      <td>NaN</td>\n",
              "      <td>P</td>\n",
              "      <td>Vie personnelle et familiale</td>\n",
              "      <td>PH</td>\n",
              "      <td>Soutien personnel et familial</td>\n",
              "      <td>PH-2360</td>\n",
              "      <td>Services familiaux</td>\n",
              "      <td>PH-2360.1800</td>\n",
              "      <td>Centres de services à l'enfance et aux familles</td>\n",
              "      <td>PH-2360.1800</td>\n",
              "      <td>Centres de services à l'enfance et aux familles</td>\n",
              "      <td>Soutien personnel, familial et communautaire</td>\n",
              "      <td>PH-2360.1800</td>\n",
              "      <td>NaN</td>\n",
              "      <td>Centres de services à l'enfance et aux familles</td>\n",
              "      <td>NaN</td>\n",
              "    </tr>\n",
              "  </tbody>\n",
              "</table>\n",
              "</div>"
            ],
            "text/plain": [
              "               CallReportNum  ... TaxonomyName_link\n",
              "ReportNeedNum                 ...                  \n",
              "21475026            78145762  ...               NaN\n",
              "21475411            78146045  ...               NaN\n",
              "21475365            78146045  ...               NaN\n",
              "21475383            78146045  ...               NaN\n",
              "21475338            78146045  ...               NaN\n",
              "\n",
              "[5 rows x 20 columns]"
            ]
          },
          "metadata": {
            "tags": []
          },
          "execution_count": 39
        }
      ]
    },
    {
      "cell_type": "code",
      "metadata": {
        "id": "JJr6G4hKW9Ud",
        "outputId": "796170ac-1bdc-4316-da87-7617dacb0bed",
        "colab": {
          "base_uri": "https://localhost:8080/"
        }
      },
      "source": [
        "len(besoins.TaxonomyCode_full.unique())"
      ],
      "execution_count": 40,
      "outputs": [
        {
          "output_type": "execute_result",
          "data": {
            "text/plain": [
              "1800"
            ]
          },
          "metadata": {
            "tags": []
          },
          "execution_count": 40
        }
      ]
    },
    {
      "cell_type": "code",
      "metadata": {
        "id": "DHx_k6KpXLjY",
        "outputId": "a689fc8a-9c7e-4899-cd5b-d4756a2a71f2",
        "colab": {
          "base_uri": "https://localhost:8080/"
        }
      },
      "source": [
        "len(besoins.Level1Code.unique())"
      ],
      "execution_count": 41,
      "outputs": [
        {
          "output_type": "execute_result",
          "data": {
            "text/plain": [
              "11"
            ]
          },
          "metadata": {
            "tags": []
          },
          "execution_count": 41
        }
      ]
    },
    {
      "cell_type": "code",
      "metadata": {
        "id": "mkc4T3sOdZN-",
        "outputId": "4e8f41f3-6167-46bc-ddab-fd0ae83070a0",
        "colab": {
          "base_uri": "https://localhost:8080/"
        }
      },
      "source": [
        "len(besoins.Level2Code.unique())"
      ],
      "execution_count": 42,
      "outputs": [
        {
          "output_type": "execute_result",
          "data": {
            "text/plain": [
              "73"
            ]
          },
          "metadata": {
            "tags": []
          },
          "execution_count": 42
        }
      ]
    },
    {
      "cell_type": "code",
      "metadata": {
        "id": "PYF1RWcjdbWT",
        "outputId": "10290555-7503-4c55-ff24-11137ad7c73e",
        "colab": {
          "base_uri": "https://localhost:8080/"
        }
      },
      "source": [
        "len(besoins.Level3Code.unique())"
      ],
      "execution_count": 43,
      "outputs": [
        {
          "output_type": "execute_result",
          "data": {
            "text/plain": [
              "375"
            ]
          },
          "metadata": {
            "tags": []
          },
          "execution_count": 43
        }
      ]
    },
    {
      "cell_type": "code",
      "metadata": {
        "id": "oCcP_fRHdfwS",
        "outputId": "74f411a6-209f-4d44-8bd3-c0ffc4a9dbe2",
        "colab": {
          "base_uri": "https://localhost:8080/"
        }
      },
      "source": [
        "level2_needs = besoins.groupby('CallReportNum')['Level2Code'].apply(list)\n",
        "level2_needs.name = 'level2_needs'\n",
        "level2_needs"
      ],
      "execution_count": 44,
      "outputs": [
        {
          "output_type": "execute_result",
          "data": {
            "text/plain": [
              "CallReportNum\n",
              "51805319                    [RP]\n",
              "51805954                    [BD]\n",
              "51806285                    [RP]\n",
              "51806377                [BD, BD]\n",
              "51806428                    [RP]\n",
              "                    ...         \n",
              "78143396                    [FN]\n",
              "78144190                    [TJ]\n",
              "78144749    [RR, BH, RP, PN, BH]\n",
              "78145762                    [TI]\n",
              "78146045        [NL, PH, PH, PH]\n",
              "Name: level2_needs, Length: 93527, dtype: object"
            ]
          },
          "metadata": {
            "tags": []
          },
          "execution_count": 44
        }
      ]
    },
    {
      "cell_type": "code",
      "metadata": {
        "id": "h9pMNDA31mtL",
        "outputId": "bff765a1-22c1-43a4-d01d-88327898e5aa",
        "colab": {
          "base_uri": "https://localhost:8080/",
          "height": 623
        }
      },
      "source": [
        "calls.join(level2_needs, how='left')"
      ],
      "execution_count": 45,
      "outputs": [
        {
          "output_type": "execute_result",
          "data": {
            "text/html": [
              "<div>\n",
              "<style scoped>\n",
              "    .dataframe tbody tr th:only-of-type {\n",
              "        vertical-align: middle;\n",
              "    }\n",
              "\n",
              "    .dataframe tbody tr th {\n",
              "        vertical-align: top;\n",
              "    }\n",
              "\n",
              "    .dataframe thead th {\n",
              "        text-align: right;\n",
              "    }\n",
              "</style>\n",
              "<table border=\"1\" class=\"dataframe\">\n",
              "  <thead>\n",
              "    <tr style=\"text-align: right;\">\n",
              "      <th></th>\n",
              "      <th>CallDateAndTimeStart</th>\n",
              "      <th>StateProvince</th>\n",
              "      <th>Heure</th>\n",
              "      <th>Code postal court</th>\n",
              "      <th>Municipalité_Code</th>\n",
              "      <th>Âge</th>\n",
              "      <th>Catégorie d'âge</th>\n",
              "      <th>Genre</th>\n",
              "      <th>Langue</th>\n",
              "      <th>Mode De Communication</th>\n",
              "      <th>Municipalité_Nom</th>\n",
              "      <th>Région Administrative</th>\n",
              "      <th>Région administrative_Code</th>\n",
              "      <th>Territoire_division</th>\n",
              "      <th>Territoire_code</th>\n",
              "      <th>MRC</th>\n",
              "      <th>MRCEN</th>\n",
              "      <th>Superficie</th>\n",
              "      <th>Population</th>\n",
              "      <th>Statut</th>\n",
              "      <th>Territoire CMM</th>\n",
              "      <th>Territoire CMM_val</th>\n",
              "      <th>Centraide Grand Montréal</th>\n",
              "      <th>Territoire 211 Grand Montréal</th>\n",
              "      <th>level2_needs</th>\n",
              "    </tr>\n",
              "    <tr>\n",
              "      <th>CallReportNum</th>\n",
              "      <th></th>\n",
              "      <th></th>\n",
              "      <th></th>\n",
              "      <th></th>\n",
              "      <th></th>\n",
              "      <th></th>\n",
              "      <th></th>\n",
              "      <th></th>\n",
              "      <th></th>\n",
              "      <th></th>\n",
              "      <th></th>\n",
              "      <th></th>\n",
              "      <th></th>\n",
              "      <th></th>\n",
              "      <th></th>\n",
              "      <th></th>\n",
              "      <th></th>\n",
              "      <th></th>\n",
              "      <th></th>\n",
              "      <th></th>\n",
              "      <th></th>\n",
              "      <th></th>\n",
              "      <th></th>\n",
              "      <th></th>\n",
              "      <th></th>\n",
              "    </tr>\n",
              "  </thead>\n",
              "  <tbody>\n",
              "    <tr>\n",
              "      <th>51805319</th>\n",
              "      <td>2018-04-01</td>\n",
              "      <td>QC</td>\n",
              "      <td>10</td>\n",
              "      <td>NaN</td>\n",
              "      <td>999001.0</td>\n",
              "      <td>NaN</td>\n",
              "      <td>NaN</td>\n",
              "      <td>Femme</td>\n",
              "      <td>Français</td>\n",
              "      <td>Appels</td>\n",
              "      <td>Inconnu-Laval</td>\n",
              "      <td>Laval</td>\n",
              "      <td>13.0</td>\n",
              "      <td>NaN</td>\n",
              "      <td>NaN</td>\n",
              "      <td>NaN</td>\n",
              "      <td>NaN</td>\n",
              "      <td>NaN</td>\n",
              "      <td>NaN</td>\n",
              "      <td>NaN</td>\n",
              "      <td>Laval</td>\n",
              "      <td>Oui</td>\n",
              "      <td>Laval</td>\n",
              "      <td>Oui</td>\n",
              "      <td>[RP]</td>\n",
              "    </tr>\n",
              "    <tr>\n",
              "      <th>51805954</th>\n",
              "      <td>2018-04-01</td>\n",
              "      <td>QC</td>\n",
              "      <td>11</td>\n",
              "      <td>H1T</td>\n",
              "      <td>66213.0</td>\n",
              "      <td>35.0</td>\n",
              "      <td>30-39 ans</td>\n",
              "      <td>Homme</td>\n",
              "      <td>Français</td>\n",
              "      <td>Appels</td>\n",
              "      <td>Rosemont—La Petite-Patrie</td>\n",
              "      <td>Montréal</td>\n",
              "      <td>6.0</td>\n",
              "      <td>Montréal</td>\n",
              "      <td>66.0</td>\n",
              "      <td>Montréal</td>\n",
              "      <td>Montréal</td>\n",
              "      <td>NaN</td>\n",
              "      <td>NaN</td>\n",
              "      <td>arrondissement</td>\n",
              "      <td>Montréal</td>\n",
              "      <td>Oui</td>\n",
              "      <td>Montréal</td>\n",
              "      <td>Oui</td>\n",
              "      <td>[BD]</td>\n",
              "    </tr>\n",
              "    <tr>\n",
              "      <th>51806285</th>\n",
              "      <td>2018-04-01</td>\n",
              "      <td>QC</td>\n",
              "      <td>12</td>\n",
              "      <td>NaN</td>\n",
              "      <td>66023.0</td>\n",
              "      <td>NaN</td>\n",
              "      <td>NaN</td>\n",
              "      <td>Homme</td>\n",
              "      <td>Français</td>\n",
              "      <td>Appels</td>\n",
              "      <td>Montréal</td>\n",
              "      <td>Montréal</td>\n",
              "      <td>6.0</td>\n",
              "      <td>Montréal</td>\n",
              "      <td>66.0</td>\n",
              "      <td>Montréal</td>\n",
              "      <td>Montréal</td>\n",
              "      <td>430.6</td>\n",
              "      <td>1777058.0</td>\n",
              "      <td>ville</td>\n",
              "      <td>Montréal</td>\n",
              "      <td>Oui</td>\n",
              "      <td>Montréal</td>\n",
              "      <td>Oui</td>\n",
              "      <td>[RP]</td>\n",
              "    </tr>\n",
              "    <tr>\n",
              "      <th>51806377</th>\n",
              "      <td>2018-04-01</td>\n",
              "      <td>QC</td>\n",
              "      <td>12</td>\n",
              "      <td>H1J</td>\n",
              "      <td>66201.0</td>\n",
              "      <td>40.0</td>\n",
              "      <td>40-49 ans</td>\n",
              "      <td>Homme</td>\n",
              "      <td>Français</td>\n",
              "      <td>Appels</td>\n",
              "      <td>Anjou</td>\n",
              "      <td>Montréal</td>\n",
              "      <td>6.0</td>\n",
              "      <td>Montréal</td>\n",
              "      <td>66.0</td>\n",
              "      <td>Montréal</td>\n",
              "      <td>Montréal</td>\n",
              "      <td>NaN</td>\n",
              "      <td>NaN</td>\n",
              "      <td>arrondissement</td>\n",
              "      <td>Montréal</td>\n",
              "      <td>Oui</td>\n",
              "      <td>Montréal</td>\n",
              "      <td>Oui</td>\n",
              "      <td>[BD, BD]</td>\n",
              "    </tr>\n",
              "    <tr>\n",
              "      <th>51806428</th>\n",
              "      <td>2018-04-01</td>\n",
              "      <td>QC</td>\n",
              "      <td>12</td>\n",
              "      <td>H2K</td>\n",
              "      <td>66217.0</td>\n",
              "      <td>NaN</td>\n",
              "      <td>NaN</td>\n",
              "      <td>Homme</td>\n",
              "      <td>Français</td>\n",
              "      <td>Appels</td>\n",
              "      <td>Ville-Marie</td>\n",
              "      <td>Montréal</td>\n",
              "      <td>6.0</td>\n",
              "      <td>Montréal</td>\n",
              "      <td>66.0</td>\n",
              "      <td>Montréal</td>\n",
              "      <td>Montréal</td>\n",
              "      <td>NaN</td>\n",
              "      <td>NaN</td>\n",
              "      <td>arrondissement</td>\n",
              "      <td>Montréal</td>\n",
              "      <td>Oui</td>\n",
              "      <td>Montréal</td>\n",
              "      <td>Oui</td>\n",
              "      <td>[RP]</td>\n",
              "    </tr>\n",
              "    <tr>\n",
              "      <th>...</th>\n",
              "      <td>...</td>\n",
              "      <td>...</td>\n",
              "      <td>...</td>\n",
              "      <td>...</td>\n",
              "      <td>...</td>\n",
              "      <td>...</td>\n",
              "      <td>...</td>\n",
              "      <td>...</td>\n",
              "      <td>...</td>\n",
              "      <td>...</td>\n",
              "      <td>...</td>\n",
              "      <td>...</td>\n",
              "      <td>...</td>\n",
              "      <td>...</td>\n",
              "      <td>...</td>\n",
              "      <td>...</td>\n",
              "      <td>...</td>\n",
              "      <td>...</td>\n",
              "      <td>...</td>\n",
              "      <td>...</td>\n",
              "      <td>...</td>\n",
              "      <td>...</td>\n",
              "      <td>...</td>\n",
              "      <td>...</td>\n",
              "      <td>...</td>\n",
              "    </tr>\n",
              "    <tr>\n",
              "      <th>78144190</th>\n",
              "      <td>2020-08-31</td>\n",
              "      <td>QC</td>\n",
              "      <td>17</td>\n",
              "      <td>J3L</td>\n",
              "      <td>57005.0</td>\n",
              "      <td>2.0</td>\n",
              "      <td>0-19 ans</td>\n",
              "      <td>Femme</td>\n",
              "      <td>Français</td>\n",
              "      <td>Appels</td>\n",
              "      <td>Chambly</td>\n",
              "      <td>Montérégie</td>\n",
              "      <td>16.0</td>\n",
              "      <td>La Vallée-du-Richelieu</td>\n",
              "      <td>57.0</td>\n",
              "      <td>MRC La Vallée-du-Richelieu</td>\n",
              "      <td>MRC La Vallée-du-Richelieu</td>\n",
              "      <td>27.5</td>\n",
              "      <td>30082.0</td>\n",
              "      <td>ville</td>\n",
              "      <td>Couronne Sud</td>\n",
              "      <td>ancien</td>\n",
              "      <td>Région Sud</td>\n",
              "      <td>ancien</td>\n",
              "      <td>[TJ]</td>\n",
              "    </tr>\n",
              "    <tr>\n",
              "      <th>78144749</th>\n",
              "      <td>2020-08-31</td>\n",
              "      <td>QC</td>\n",
              "      <td>17</td>\n",
              "      <td>NaN</td>\n",
              "      <td>66200.0</td>\n",
              "      <td>27.0</td>\n",
              "      <td>20-29 ans</td>\n",
              "      <td>Femme</td>\n",
              "      <td>Français</td>\n",
              "      <td>Appels</td>\n",
              "      <td>Ahuntsic-Cartierville</td>\n",
              "      <td>Montréal</td>\n",
              "      <td>6.0</td>\n",
              "      <td>Montréal</td>\n",
              "      <td>66.0</td>\n",
              "      <td>Montréal</td>\n",
              "      <td>Montréal</td>\n",
              "      <td>NaN</td>\n",
              "      <td>NaN</td>\n",
              "      <td>arrondissement</td>\n",
              "      <td>Montréal</td>\n",
              "      <td>Oui</td>\n",
              "      <td>Montréal</td>\n",
              "      <td>Oui</td>\n",
              "      <td>[RR, BH, RP, PN, BH]</td>\n",
              "    </tr>\n",
              "    <tr>\n",
              "      <th>78144910</th>\n",
              "      <td>2020-08-31</td>\n",
              "      <td>NaN</td>\n",
              "      <td>17</td>\n",
              "      <td>NaN</td>\n",
              "      <td>999999.0</td>\n",
              "      <td>NaN</td>\n",
              "      <td>NaN</td>\n",
              "      <td>Femme</td>\n",
              "      <td>Anglais</td>\n",
              "      <td>Appels</td>\n",
              "      <td>Inconnu</td>\n",
              "      <td>Inconnu</td>\n",
              "      <td>NaN</td>\n",
              "      <td>NaN</td>\n",
              "      <td>NaN</td>\n",
              "      <td>Inconnu</td>\n",
              "      <td>Inconnu</td>\n",
              "      <td>NaN</td>\n",
              "      <td>NaN</td>\n",
              "      <td>NaN</td>\n",
              "      <td>Inconnu</td>\n",
              "      <td>Inconnu</td>\n",
              "      <td>Inconnu</td>\n",
              "      <td>Inconnu</td>\n",
              "      <td>NaN</td>\n",
              "    </tr>\n",
              "    <tr>\n",
              "      <th>78145762</th>\n",
              "      <td>2020-08-31</td>\n",
              "      <td>QC</td>\n",
              "      <td>17</td>\n",
              "      <td>H7N</td>\n",
              "      <td>65105.0</td>\n",
              "      <td>85.0</td>\n",
              "      <td>70 ans et plus</td>\n",
              "      <td>Femme</td>\n",
              "      <td>Français</td>\n",
              "      <td>Appels</td>\n",
              "      <td>Laval-des-Rapides</td>\n",
              "      <td>Laval</td>\n",
              "      <td>13.0</td>\n",
              "      <td>Laval</td>\n",
              "      <td>65.0</td>\n",
              "      <td>Laval</td>\n",
              "      <td>Laval</td>\n",
              "      <td>NaN</td>\n",
              "      <td>NaN</td>\n",
              "      <td>arrondissement</td>\n",
              "      <td>Laval</td>\n",
              "      <td>Oui</td>\n",
              "      <td>Laval</td>\n",
              "      <td>Oui</td>\n",
              "      <td>[TI]</td>\n",
              "    </tr>\n",
              "    <tr>\n",
              "      <th>78146045</th>\n",
              "      <td>2020-08-31</td>\n",
              "      <td>QC</td>\n",
              "      <td>17</td>\n",
              "      <td>J4Y</td>\n",
              "      <td>58007.0</td>\n",
              "      <td>4.0</td>\n",
              "      <td>0-19 ans</td>\n",
              "      <td>Homme</td>\n",
              "      <td>Anglais</td>\n",
              "      <td>Appels</td>\n",
              "      <td>Brossard</td>\n",
              "      <td>Montérégie</td>\n",
              "      <td>16.0</td>\n",
              "      <td>Longueuil</td>\n",
              "      <td>58.0</td>\n",
              "      <td>Longueuil</td>\n",
              "      <td>Longueuil</td>\n",
              "      <td>52.1</td>\n",
              "      <td>88019.0</td>\n",
              "      <td>ville</td>\n",
              "      <td>Agglomération de Longueuil</td>\n",
              "      <td>Oui</td>\n",
              "      <td>Agglomération de Longueuil</td>\n",
              "      <td>Oui</td>\n",
              "      <td>[NL, PH, PH, PH]</td>\n",
              "    </tr>\n",
              "  </tbody>\n",
              "</table>\n",
              "<p>101612 rows × 25 columns</p>\n",
              "</div>"
            ],
            "text/plain": [
              "              CallDateAndTimeStart  ...          level2_needs\n",
              "CallReportNum                       ...                      \n",
              "51805319                2018-04-01  ...                  [RP]\n",
              "51805954                2018-04-01  ...                  [BD]\n",
              "51806285                2018-04-01  ...                  [RP]\n",
              "51806377                2018-04-01  ...              [BD, BD]\n",
              "51806428                2018-04-01  ...                  [RP]\n",
              "...                            ...  ...                   ...\n",
              "78144190                2020-08-31  ...                  [TJ]\n",
              "78144749                2020-08-31  ...  [RR, BH, RP, PN, BH]\n",
              "78144910                2020-08-31  ...                   NaN\n",
              "78145762                2020-08-31  ...                  [TI]\n",
              "78146045                2020-08-31  ...      [NL, PH, PH, PH]\n",
              "\n",
              "[101612 rows x 25 columns]"
            ]
          },
          "metadata": {
            "tags": []
          },
          "execution_count": 45
        }
      ]
    },
    {
      "cell_type": "markdown",
      "metadata": {
        "id": "k3uG53ImoIdZ"
      },
      "source": [
        "# References"
      ]
    },
    {
      "cell_type": "code",
      "metadata": {
        "id": "mRq0QI9ErN1z"
      },
      "source": [
        "references = pd.read_excel('Références.xlsx')"
      ],
      "execution_count": 46,
      "outputs": []
    },
    {
      "cell_type": "code",
      "metadata": {
        "id": "e77g4stx1CjX",
        "outputId": "52bac9bc-918f-415d-f9cf-564a2224a80b",
        "colab": {
          "base_uri": "https://localhost:8080/",
          "height": 204
        }
      },
      "source": [
        "references.tail()"
      ],
      "execution_count": 47,
      "outputs": [
        {
          "output_type": "execute_result",
          "data": {
            "text/html": [
              "<div>\n",
              "<style scoped>\n",
              "    .dataframe tbody tr th:only-of-type {\n",
              "        vertical-align: middle;\n",
              "    }\n",
              "\n",
              "    .dataframe tbody tr th {\n",
              "        vertical-align: top;\n",
              "    }\n",
              "\n",
              "    .dataframe thead th {\n",
              "        text-align: right;\n",
              "    }\n",
              "</style>\n",
              "<table border=\"1\" class=\"dataframe\">\n",
              "  <thead>\n",
              "    <tr style=\"text-align: right;\">\n",
              "      <th></th>\n",
              "      <th>CallReportNum</th>\n",
              "      <th>ResourceAgencyNum</th>\n",
              "      <th>AgencyNamePublic</th>\n",
              "      <th>ReportNeedNum</th>\n",
              "    </tr>\n",
              "  </thead>\n",
              "  <tbody>\n",
              "    <tr>\n",
              "      <th>264317</th>\n",
              "      <td>78146045</td>\n",
              "      <td>18762631.0</td>\n",
              "      <td>ENTRE MAMANS ET PAPAS</td>\n",
              "      <td>21475383</td>\n",
              "    </tr>\n",
              "    <tr>\n",
              "      <th>264318</th>\n",
              "      <td>78146045</td>\n",
              "      <td>18760262.0</td>\n",
              "      <td>UNIS POUR LES PETITS</td>\n",
              "      <td>21475383</td>\n",
              "    </tr>\n",
              "    <tr>\n",
              "      <th>264319</th>\n",
              "      <td>78146045</td>\n",
              "      <td>18762552.0</td>\n",
              "      <td>PREMIERS PAS CHAMPLAIN</td>\n",
              "      <td>21475338</td>\n",
              "    </tr>\n",
              "    <tr>\n",
              "      <th>264320</th>\n",
              "      <td>78146045</td>\n",
              "      <td>18762552.0</td>\n",
              "      <td>PREMIERS PAS CHAMPLAIN</td>\n",
              "      <td>21475383</td>\n",
              "    </tr>\n",
              "    <tr>\n",
              "      <th>264321</th>\n",
              "      <td>78146045</td>\n",
              "      <td>41529174.0</td>\n",
              "      <td>SERVICES QUÉBEC - DEVENIR PARENT</td>\n",
              "      <td>21475411</td>\n",
              "    </tr>\n",
              "  </tbody>\n",
              "</table>\n",
              "</div>"
            ],
            "text/plain": [
              "        CallReportNum  ...  ReportNeedNum\n",
              "264317       78146045  ...       21475383\n",
              "264318       78146045  ...       21475383\n",
              "264319       78146045  ...       21475338\n",
              "264320       78146045  ...       21475383\n",
              "264321       78146045  ...       21475411\n",
              "\n",
              "[5 rows x 4 columns]"
            ]
          },
          "metadata": {
            "tags": []
          },
          "execution_count": 47
        }
      ]
    },
    {
      "cell_type": "code",
      "metadata": {
        "id": "75P1WAcr2Y0W"
      },
      "source": [
        "resource_agency_by_call = references[['CallReportNum','ResourceAgencyNum']].groupby('CallReportNum')['ResourceAgencyNum'].apply(list)"
      ],
      "execution_count": 48,
      "outputs": []
    },
    {
      "cell_type": "markdown",
      "metadata": {
        "id": "i8o2lCfV0o7B"
      },
      "source": [
        "# Features Preparation"
      ]
    },
    {
      "cell_type": "code",
      "metadata": {
        "id": "Gxtd5A0_wcn_"
      },
      "source": [
        "feature_prep = calls[['StateProvince', 'Code postal court', 'Municipalité_Code', 'Âge', 'Genre', 'Mode De Communication']]"
      ],
      "execution_count": 49,
      "outputs": []
    },
    {
      "cell_type": "code",
      "metadata": {
        "id": "5ox4RyOiyFro"
      },
      "source": [
        "feature_prep = resource_agency_by_call.to_frame().join(feature_prep)"
      ],
      "execution_count": 50,
      "outputs": []
    },
    {
      "cell_type": "code",
      "metadata": {
        "id": "mnH2wG3d9Zd7"
      },
      "source": [
        "feature_prep = feature_prep.join(level2_needs)"
      ],
      "execution_count": 51,
      "outputs": []
    },
    {
      "cell_type": "code",
      "metadata": {
        "id": "9u4Vp6FA8j66",
        "outputId": "4f7b3a23-e126-4180-daf7-8fb6b6317001",
        "colab": {
          "base_uri": "https://localhost:8080/",
          "height": 450
        }
      },
      "source": [
        "feature_prep"
      ],
      "execution_count": 52,
      "outputs": [
        {
          "output_type": "execute_result",
          "data": {
            "text/html": [
              "<div>\n",
              "<style scoped>\n",
              "    .dataframe tbody tr th:only-of-type {\n",
              "        vertical-align: middle;\n",
              "    }\n",
              "\n",
              "    .dataframe tbody tr th {\n",
              "        vertical-align: top;\n",
              "    }\n",
              "\n",
              "    .dataframe thead th {\n",
              "        text-align: right;\n",
              "    }\n",
              "</style>\n",
              "<table border=\"1\" class=\"dataframe\">\n",
              "  <thead>\n",
              "    <tr style=\"text-align: right;\">\n",
              "      <th></th>\n",
              "      <th>ResourceAgencyNum</th>\n",
              "      <th>StateProvince</th>\n",
              "      <th>Code postal court</th>\n",
              "      <th>Municipalité_Code</th>\n",
              "      <th>Âge</th>\n",
              "      <th>Genre</th>\n",
              "      <th>Mode De Communication</th>\n",
              "      <th>level2_needs</th>\n",
              "    </tr>\n",
              "    <tr>\n",
              "      <th>CallReportNum</th>\n",
              "      <th></th>\n",
              "      <th></th>\n",
              "      <th></th>\n",
              "      <th></th>\n",
              "      <th></th>\n",
              "      <th></th>\n",
              "      <th></th>\n",
              "      <th></th>\n",
              "    </tr>\n",
              "  </thead>\n",
              "  <tbody>\n",
              "    <tr>\n",
              "      <th>51805319</th>\n",
              "      <td>[18762230.0]</td>\n",
              "      <td>QC</td>\n",
              "      <td>NaN</td>\n",
              "      <td>999001.0</td>\n",
              "      <td>NaN</td>\n",
              "      <td>Femme</td>\n",
              "      <td>Appels</td>\n",
              "      <td>[RP]</td>\n",
              "    </tr>\n",
              "    <tr>\n",
              "      <th>51805954</th>\n",
              "      <td>[18760351.0, 18762550.0]</td>\n",
              "      <td>QC</td>\n",
              "      <td>H1T</td>\n",
              "      <td>66213.0</td>\n",
              "      <td>35.0</td>\n",
              "      <td>Homme</td>\n",
              "      <td>Appels</td>\n",
              "      <td>[BD]</td>\n",
              "    </tr>\n",
              "    <tr>\n",
              "      <th>51806285</th>\n",
              "      <td>[18762497.0]</td>\n",
              "      <td>QC</td>\n",
              "      <td>NaN</td>\n",
              "      <td>66023.0</td>\n",
              "      <td>NaN</td>\n",
              "      <td>Homme</td>\n",
              "      <td>Appels</td>\n",
              "      <td>[RP]</td>\n",
              "    </tr>\n",
              "    <tr>\n",
              "      <th>51806377</th>\n",
              "      <td>[18763063.0, 18761510.0, 18765819.0, 18765819.0]</td>\n",
              "      <td>QC</td>\n",
              "      <td>H1J</td>\n",
              "      <td>66201.0</td>\n",
              "      <td>40.0</td>\n",
              "      <td>Homme</td>\n",
              "      <td>Appels</td>\n",
              "      <td>[BD, BD]</td>\n",
              "    </tr>\n",
              "    <tr>\n",
              "      <th>51806428</th>\n",
              "      <td>[18765109.0]</td>\n",
              "      <td>QC</td>\n",
              "      <td>H2K</td>\n",
              "      <td>66217.0</td>\n",
              "      <td>NaN</td>\n",
              "      <td>Homme</td>\n",
              "      <td>Appels</td>\n",
              "      <td>[RP]</td>\n",
              "    </tr>\n",
              "    <tr>\n",
              "      <th>...</th>\n",
              "      <td>...</td>\n",
              "      <td>...</td>\n",
              "      <td>...</td>\n",
              "      <td>...</td>\n",
              "      <td>...</td>\n",
              "      <td>...</td>\n",
              "      <td>...</td>\n",
              "      <td>...</td>\n",
              "    </tr>\n",
              "    <tr>\n",
              "      <th>78143396</th>\n",
              "      <td>[18767170.0]</td>\n",
              "      <td>QC</td>\n",
              "      <td>NaN</td>\n",
              "      <td>999004.0</td>\n",
              "      <td>NaN</td>\n",
              "      <td>Homme</td>\n",
              "      <td>Appels</td>\n",
              "      <td>[FN]</td>\n",
              "    </tr>\n",
              "    <tr>\n",
              "      <th>78144190</th>\n",
              "      <td>[18764548.0]</td>\n",
              "      <td>QC</td>\n",
              "      <td>J3L</td>\n",
              "      <td>57005.0</td>\n",
              "      <td>2.0</td>\n",
              "      <td>Femme</td>\n",
              "      <td>Appels</td>\n",
              "      <td>[TJ]</td>\n",
              "    </tr>\n",
              "    <tr>\n",
              "      <th>78144749</th>\n",
              "      <td>[32555044.0, 18762702.0, 18759998.0, 18761669....</td>\n",
              "      <td>QC</td>\n",
              "      <td>NaN</td>\n",
              "      <td>66200.0</td>\n",
              "      <td>27.0</td>\n",
              "      <td>Femme</td>\n",
              "      <td>Appels</td>\n",
              "      <td>[RR, BH, RP, PN, BH]</td>\n",
              "    </tr>\n",
              "    <tr>\n",
              "      <th>78145762</th>\n",
              "      <td>[23968841.0, 47514235.0, 18761245.0]</td>\n",
              "      <td>QC</td>\n",
              "      <td>H7N</td>\n",
              "      <td>65105.0</td>\n",
              "      <td>85.0</td>\n",
              "      <td>Femme</td>\n",
              "      <td>Appels</td>\n",
              "      <td>[TI]</td>\n",
              "    </tr>\n",
              "    <tr>\n",
              "      <th>78146045</th>\n",
              "      <td>[18762631.0, 18762631.0, 18762631.0, 18760262....</td>\n",
              "      <td>QC</td>\n",
              "      <td>J4Y</td>\n",
              "      <td>58007.0</td>\n",
              "      <td>4.0</td>\n",
              "      <td>Homme</td>\n",
              "      <td>Appels</td>\n",
              "      <td>[NL, PH, PH, PH]</td>\n",
              "    </tr>\n",
              "  </tbody>\n",
              "</table>\n",
              "<p>93527 rows × 8 columns</p>\n",
              "</div>"
            ],
            "text/plain": [
              "                                               ResourceAgencyNum  ...          level2_needs\n",
              "CallReportNum                                                     ...                      \n",
              "51805319                                            [18762230.0]  ...                  [RP]\n",
              "51805954                                [18760351.0, 18762550.0]  ...                  [BD]\n",
              "51806285                                            [18762497.0]  ...                  [RP]\n",
              "51806377        [18763063.0, 18761510.0, 18765819.0, 18765819.0]  ...              [BD, BD]\n",
              "51806428                                            [18765109.0]  ...                  [RP]\n",
              "...                                                          ...  ...                   ...\n",
              "78143396                                            [18767170.0]  ...                  [FN]\n",
              "78144190                                            [18764548.0]  ...                  [TJ]\n",
              "78144749       [32555044.0, 18762702.0, 18759998.0, 18761669....  ...  [RR, BH, RP, PN, BH]\n",
              "78145762                    [23968841.0, 47514235.0, 18761245.0]  ...                  [TI]\n",
              "78146045       [18762631.0, 18762631.0, 18762631.0, 18760262....  ...      [NL, PH, PH, PH]\n",
              "\n",
              "[93527 rows x 8 columns]"
            ]
          },
          "metadata": {
            "tags": []
          },
          "execution_count": 52
        }
      ]
    },
    {
      "cell_type": "code",
      "metadata": {
        "id": "nX4TSBrC0CyG",
        "outputId": "6065ce9e-8402-42b7-e008-1b5cd5e06424",
        "colab": {
          "base_uri": "https://localhost:8080/",
          "height": 402
        }
      },
      "source": [
        "import seaborn as sns\n",
        "sns.heatmap(feature_prep.isna())"
      ],
      "execution_count": 53,
      "outputs": [
        {
          "output_type": "execute_result",
          "data": {
            "text/plain": [
              "<matplotlib.axes._subplots.AxesSubplot at 0x7f7d5fbe7f60>"
            ]
          },
          "metadata": {
            "tags": []
          },
          "execution_count": 53
        },
        {
          "output_type": "display_data",
          "data": {
            "image/png": "[encoded data removed]",
            "text/plain": [
              "<Figure size 432x288 with 2 Axes>"
            ]
          },
          "metadata": {
            "tags": [],
            "needs_background": "light"
          }
        }
      ]
    },
    {
      "cell_type": "code",
      "metadata": {
        "id": "oCVkD2Ek9y9N"
      },
      "source": [
        "features = feature_prep.dropna()"
      ],
      "execution_count": 54,
      "outputs": []
    },
    {
      "cell_type": "code",
      "metadata": {
        "id": "A7bLDeo5Az-4",
        "outputId": "4ec13453-8eaa-44f5-8285-bbc4fc4cb304",
        "colab": {
          "base_uri": "https://localhost:8080/"
        }
      },
      "source": [
        "features['ResourceAgencyNum'] = features['ResourceAgencyNum'].apply(lambda x : [int(d) for d in x if not np.isnan(d)])"
      ],
      "execution_count": 55,
      "outputs": [
        {
          "output_type": "stream",
          "text": [
            "/usr/local/lib/python3.6/dist-packages/ipykernel_launcher.py:1: SettingWithCopyWarning: \n",
            "A value is trying to be set on a copy of a slice from a DataFrame.\n",
            "Try using .loc[row_indexer,col_indexer] = value instead\n",
            "\n",
            "See the caveats in the documentation: https://pandas.pydata.org/pandas-docs/stable/user_guide/indexing.html#returning-a-view-versus-a-copy\n",
            "  \"\"\"Entry point for launching an IPython kernel.\n"
          ],
          "name": "stderr"
        }
      ]
    },
    {
      "cell_type": "code",
      "metadata": {
        "id": "9FnvJ24HCKHY",
        "outputId": "c71f601d-d18a-4908-a586-8895e4a59030",
        "colab": {
          "base_uri": "https://localhost:8080/"
        }
      },
      "source": [
        "features['Municipalité_Code'] = features['Municipalité_Code'].astype(int)\n",
        "features['Âge'] = features['Âge'].astype(int)"
      ],
      "execution_count": 56,
      "outputs": [
        {
          "output_type": "stream",
          "text": [
            "/usr/local/lib/python3.6/dist-packages/ipykernel_launcher.py:1: SettingWithCopyWarning: \n",
            "A value is trying to be set on a copy of a slice from a DataFrame.\n",
            "Try using .loc[row_indexer,col_indexer] = value instead\n",
            "\n",
            "See the caveats in the documentation: https://pandas.pydata.org/pandas-docs/stable/user_guide/indexing.html#returning-a-view-versus-a-copy\n",
            "  \"\"\"Entry point for launching an IPython kernel.\n",
            "/usr/local/lib/python3.6/dist-packages/ipykernel_launcher.py:2: SettingWithCopyWarning: \n",
            "A value is trying to be set on a copy of a slice from a DataFrame.\n",
            "Try using .loc[row_indexer,col_indexer] = value instead\n",
            "\n",
            "See the caveats in the documentation: https://pandas.pydata.org/pandas-docs/stable/user_guide/indexing.html#returning-a-view-versus-a-copy\n",
            "  \n"
          ],
          "name": "stderr"
        }
      ]
    },
    {
      "cell_type": "code",
      "metadata": {
        "id": "dfjZw9xv_Oiw",
        "outputId": "bc7fb98f-2956-450e-f709-b1b039217cf9",
        "colab": {
          "base_uri": "https://localhost:8080/",
          "height": 450
        }
      },
      "source": [
        "features"
      ],
      "execution_count": 57,
      "outputs": [
        {
          "output_type": "execute_result",
          "data": {
            "text/html": [
              "<div>\n",
              "<style scoped>\n",
              "    .dataframe tbody tr th:only-of-type {\n",
              "        vertical-align: middle;\n",
              "    }\n",
              "\n",
              "    .dataframe tbody tr th {\n",
              "        vertical-align: top;\n",
              "    }\n",
              "\n",
              "    .dataframe thead th {\n",
              "        text-align: right;\n",
              "    }\n",
              "</style>\n",
              "<table border=\"1\" class=\"dataframe\">\n",
              "  <thead>\n",
              "    <tr style=\"text-align: right;\">\n",
              "      <th></th>\n",
              "      <th>ResourceAgencyNum</th>\n",
              "      <th>StateProvince</th>\n",
              "      <th>Code postal court</th>\n",
              "      <th>Municipalité_Code</th>\n",
              "      <th>Âge</th>\n",
              "      <th>Genre</th>\n",
              "      <th>Mode De Communication</th>\n",
              "      <th>level2_needs</th>\n",
              "    </tr>\n",
              "    <tr>\n",
              "      <th>CallReportNum</th>\n",
              "      <th></th>\n",
              "      <th></th>\n",
              "      <th></th>\n",
              "      <th></th>\n",
              "      <th></th>\n",
              "      <th></th>\n",
              "      <th></th>\n",
              "      <th></th>\n",
              "    </tr>\n",
              "  </thead>\n",
              "  <tbody>\n",
              "    <tr>\n",
              "      <th>51805954</th>\n",
              "      <td>[18760351, 18762550]</td>\n",
              "      <td>QC</td>\n",
              "      <td>H1T</td>\n",
              "      <td>66213</td>\n",
              "      <td>35</td>\n",
              "      <td>Homme</td>\n",
              "      <td>Appels</td>\n",
              "      <td>[BD]</td>\n",
              "    </tr>\n",
              "    <tr>\n",
              "      <th>51806377</th>\n",
              "      <td>[18763063, 18761510, 18765819, 18765819]</td>\n",
              "      <td>QC</td>\n",
              "      <td>H1J</td>\n",
              "      <td>66201</td>\n",
              "      <td>40</td>\n",
              "      <td>Homme</td>\n",
              "      <td>Appels</td>\n",
              "      <td>[BD, BD]</td>\n",
              "    </tr>\n",
              "    <tr>\n",
              "      <th>51807633</th>\n",
              "      <td>[18762080, 18763449, 18765728]</td>\n",
              "      <td>QC</td>\n",
              "      <td>H4N</td>\n",
              "      <td>66214</td>\n",
              "      <td>50</td>\n",
              "      <td>Homme</td>\n",
              "      <td>Appels</td>\n",
              "      <td>[PS, TC, PL]</td>\n",
              "    </tr>\n",
              "    <tr>\n",
              "      <th>51821680</th>\n",
              "      <td>[18767637, 18767637, 18767637, 18766010, 18765...</td>\n",
              "      <td>QC</td>\n",
              "      <td>H2X</td>\n",
              "      <td>66205</td>\n",
              "      <td>30</td>\n",
              "      <td>Homme</td>\n",
              "      <td>Appels</td>\n",
              "      <td>[BH, BH, BH]</td>\n",
              "    </tr>\n",
              "    <tr>\n",
              "      <th>51821761</th>\n",
              "      <td>[34458497, 34766952, 34025281]</td>\n",
              "      <td>QC</td>\n",
              "      <td>H7N</td>\n",
              "      <td>65105</td>\n",
              "      <td>88</td>\n",
              "      <td>Femme</td>\n",
              "      <td>Appels</td>\n",
              "      <td>[DT]</td>\n",
              "    </tr>\n",
              "    <tr>\n",
              "      <th>...</th>\n",
              "      <td>...</td>\n",
              "      <td>...</td>\n",
              "      <td>...</td>\n",
              "      <td>...</td>\n",
              "      <td>...</td>\n",
              "      <td>...</td>\n",
              "      <td>...</td>\n",
              "      <td>...</td>\n",
              "    </tr>\n",
              "    <tr>\n",
              "      <th>78141954</th>\n",
              "      <td>[18761799, 18760242, 18761005]</td>\n",
              "      <td>QC</td>\n",
              "      <td>J4J</td>\n",
              "      <td>58227</td>\n",
              "      <td>30</td>\n",
              "      <td>Homme</td>\n",
              "      <td>Appels</td>\n",
              "      <td>[BH]</td>\n",
              "    </tr>\n",
              "    <tr>\n",
              "      <th>78142716</th>\n",
              "      <td>[18760559, 18760047, 18765786]</td>\n",
              "      <td>QC</td>\n",
              "      <td>H1N</td>\n",
              "      <td>66208</td>\n",
              "      <td>72</td>\n",
              "      <td>Femme</td>\n",
              "      <td>Appels</td>\n",
              "      <td>[BD, BD, BD]</td>\n",
              "    </tr>\n",
              "    <tr>\n",
              "      <th>78144190</th>\n",
              "      <td>[18764548]</td>\n",
              "      <td>QC</td>\n",
              "      <td>J3L</td>\n",
              "      <td>57005</td>\n",
              "      <td>2</td>\n",
              "      <td>Femme</td>\n",
              "      <td>Appels</td>\n",
              "      <td>[TJ]</td>\n",
              "    </tr>\n",
              "    <tr>\n",
              "      <th>78145762</th>\n",
              "      <td>[23968841, 47514235, 18761245]</td>\n",
              "      <td>QC</td>\n",
              "      <td>H7N</td>\n",
              "      <td>65105</td>\n",
              "      <td>85</td>\n",
              "      <td>Femme</td>\n",
              "      <td>Appels</td>\n",
              "      <td>[TI]</td>\n",
              "    </tr>\n",
              "    <tr>\n",
              "      <th>78146045</th>\n",
              "      <td>[18762631, 18762631, 18762631, 18760262, 18762...</td>\n",
              "      <td>QC</td>\n",
              "      <td>J4Y</td>\n",
              "      <td>58007</td>\n",
              "      <td>4</td>\n",
              "      <td>Homme</td>\n",
              "      <td>Appels</td>\n",
              "      <td>[NL, PH, PH, PH]</td>\n",
              "    </tr>\n",
              "  </tbody>\n",
              "</table>\n",
              "<p>65245 rows × 8 columns</p>\n",
              "</div>"
            ],
            "text/plain": [
              "                                               ResourceAgencyNum  ...      level2_needs\n",
              "CallReportNum                                                     ...                  \n",
              "51805954                                    [18760351, 18762550]  ...              [BD]\n",
              "51806377                [18763063, 18761510, 18765819, 18765819]  ...          [BD, BD]\n",
              "51807633                          [18762080, 18763449, 18765728]  ...      [PS, TC, PL]\n",
              "51821680       [18767637, 18767637, 18767637, 18766010, 18765...  ...      [BH, BH, BH]\n",
              "51821761                          [34458497, 34766952, 34025281]  ...              [DT]\n",
              "...                                                          ...  ...               ...\n",
              "78141954                          [18761799, 18760242, 18761005]  ...              [BH]\n",
              "78142716                          [18760559, 18760047, 18765786]  ...      [BD, BD, BD]\n",
              "78144190                                              [18764548]  ...              [TJ]\n",
              "78145762                          [23968841, 47514235, 18761245]  ...              [TI]\n",
              "78146045       [18762631, 18762631, 18762631, 18760262, 18762...  ...  [NL, PH, PH, PH]\n",
              "\n",
              "[65245 rows x 8 columns]"
            ]
          },
          "metadata": {
            "tags": []
          },
          "execution_count": 57
        }
      ]
    },
    {
      "cell_type": "code",
      "metadata": {
        "id": "bOdC_qa3_F9f"
      },
      "source": [
        "from sklearn.preprocessing import MultiLabelBinarizer\n",
        "y = MultiLabelBinarizer().fit_transform(features.iloc[:,0])"
      ],
      "execution_count": 58,
      "outputs": []
    },
    {
      "cell_type": "code",
      "metadata": {
        "id": "K3yQvkzN_ivo",
        "outputId": "f46a76af-b3f5-4f82-a3a8-4466f4b77744",
        "colab": {
          "base_uri": "https://localhost:8080/"
        }
      },
      "source": [
        "print(y.shape)\n",
        "y"
      ],
      "execution_count": 59,
      "outputs": [
        {
          "output_type": "stream",
          "text": [
            "(65245, 4396)\n"
          ],
          "name": "stdout"
        },
        {
          "output_type": "execute_result",
          "data": {
            "text/plain": [
              "array([[0, 0, 0, ..., 0, 0, 0],\n",
              "       [0, 0, 0, ..., 0, 0, 0],\n",
              "       [0, 0, 0, ..., 0, 0, 0],\n",
              "       ...,\n",
              "       [0, 0, 0, ..., 0, 0, 0],\n",
              "       [0, 0, 0, ..., 0, 0, 0],\n",
              "       [0, 0, 0, ..., 0, 0, 0]])"
            ]
          },
          "metadata": {
            "tags": []
          },
          "execution_count": 59
        }
      ]
    },
    {
      "cell_type": "code",
      "metadata": {
        "id": "1osWiyQeyFyn"
      },
      "source": [
        "from sklearn.preprocessing import OneHotEncoder\n",
        "enc = OneHotEncoder(handle_unknown='ignore')"
      ],
      "execution_count": 60,
      "outputs": []
    },
    {
      "cell_type": "code",
      "metadata": {
        "id": "uvjQdfayC3TK"
      },
      "source": [
        "categorical_features = features[['StateProvince','Code postal court','Municipalité_Code', 'Genre',\t'Mode De Communication']]"
      ],
      "execution_count": 61,
      "outputs": []
    },
    {
      "cell_type": "code",
      "metadata": {
        "id": "soiaN4QwzheP",
        "outputId": "3974df57-b6db-48bb-fb6f-551679e15b66",
        "colab": {
          "base_uri": "https://localhost:8080/"
        }
      },
      "source": [
        "enc.fit(categorical_features)"
      ],
      "execution_count": 62,
      "outputs": [
        {
          "output_type": "execute_result",
          "data": {
            "text/plain": [
              "OneHotEncoder(categories='auto', drop=None, dtype=<class 'numpy.float64'>,\n",
              "              handle_unknown='ignore', sparse=True)"
            ]
          },
          "metadata": {
            "tags": []
          },
          "execution_count": 62
        }
      ]
    },
    {
      "cell_type": "code",
      "metadata": {
        "id": "W-NqCgczB-8A",
        "outputId": "7607d62b-049e-4ae3-b646-089b1aeb1e61",
        "colab": {
          "base_uri": "https://localhost:8080/"
        }
      },
      "source": [
        "enc.categories_"
      ],
      "execution_count": 63,
      "outputs": [
        {
          "output_type": "execute_result",
          "data": {
            "text/plain": [
              "[array(['BC', 'ON', 'QC'], dtype=object),\n",
              " array(['G0A', 'G0C', 'G0L', 'G0M', 'G0R', 'G0S', 'G0V', 'G1C', 'G1E',\n",
              "        'G1H', 'G1J', 'G1K', 'G1L', 'G1M', 'G1N', 'G1P', 'G1R', 'G1S',\n",
              "        'G1T', 'G1V', 'G1W', 'G1X', 'G1Y', 'G2A', 'G2B', 'G2G', 'G2J',\n",
              "        'G2K', 'G2M', 'G3B', 'G3J', 'G3M', 'G3N', 'G4V', 'G4Z', 'G5A',\n",
              "        'G5L', 'G5R', 'G5V', 'G5Y', 'G6E', 'G6G', 'G6H', 'G6P', 'G6T',\n",
              "        'G6V', 'G7S', 'G7X', 'G8L', 'G8Y', 'G9A', 'G9H', 'G9N', 'G9P',\n",
              "        'H1A', 'H1B', 'H1C', 'H1E', 'H1G', 'H1H', 'H1J', 'H1K', 'H1L',\n",
              "        'H1M', 'H1N', 'H1P', 'H1R', 'H1S', 'H1T', 'H1V', 'H1W', 'H1X',\n",
              "        'H1Y', 'H1Z', 'H2A', 'H2B', 'H2C', 'H2E', 'H2G', 'H2H', 'H2J',\n",
              "        'H2K', 'H2L', 'H2M', 'H2N', 'H2P', 'H2R', 'H2S', 'H2T', 'H2V',\n",
              "        'H2W', 'H2X', 'H2Y', 'H2Z', 'H3A', 'H3B', 'H3C', 'H3E', 'H3G',\n",
              "        'H3H', 'H3J', 'H3K', 'H3L', 'H3M', 'H3N', 'H3P', 'H3R', 'H3S',\n",
              "        'H3T', 'H3V', 'H3W', 'H3X', 'H3Y', 'H3Z', 'H4A', 'H4B', 'H4C',\n",
              "        'H4E', 'H4G', 'H4H', 'H4J', 'H4K', 'H4L', 'H4M', 'H4N', 'H4P',\n",
              "        'H4R', 'H4S', 'H4T', 'H4V', 'H4W', 'H4X', 'H4Y', 'H4Z', 'H5B',\n",
              "        'H7A', 'H7B', 'H7C', 'H7E', 'H7G', 'H7H', 'H7J', 'H7K', 'H7L',\n",
              "        'H7M', 'H7N', 'H7P', 'H7R', 'H7S', 'H7T', 'H7V', 'H7W', 'H7X',\n",
              "        'H7Y', 'H8N', 'H8P', 'H8R', 'H8S', 'H8T', 'H8Y', 'H8Z', 'H9A',\n",
              "        'H9B', 'H9C', 'H9E', 'H9G', 'H9H', 'H9J', 'H9K', 'H9P', 'H9R',\n",
              "        'H9S', 'H9W', 'H9X', 'J0B', 'J0E', 'J0G', 'J0H', 'J0J', 'J0K',\n",
              "        'J0L', 'J0M', 'J0N', 'J0P', 'J0R', 'J0S', 'J0T', 'J0V', 'J0W',\n",
              "        'J0X', 'J0Y', 'J0Z', 'J1G', 'J1H', 'J1K', 'J1N', 'J2B', 'J2C',\n",
              "        'J2G', 'J2K', 'J2L', 'J2M', 'J2N', 'J2S', 'J2T', 'J2W', 'J2X',\n",
              "        'J3A', 'J3B', 'J3E', 'J3G', 'J3H', 'J3L', 'J3M', 'J3N', 'J3P',\n",
              "        'J3R', 'J3T', 'J3V', 'J3X', 'J3Y', 'J3Z', 'J4B', 'J4G', 'J4H',\n",
              "        'J4J', 'J4K', 'J4L', 'J4M', 'J4N', 'J4P', 'J4R', 'J4S', 'J4T',\n",
              "        'J4V', 'J4W', 'J4X', 'J4Y', 'J4Z', 'J5A', 'J5B', 'J5C', 'J5J',\n",
              "        'J5K', 'J5L', 'J5M', 'J5R', 'J5T', 'J5W', 'J5X', 'J5Y', 'J5Z',\n",
              "        'J6A', 'J6E', 'J6J', 'J6K', 'J6N', 'J6R', 'J6S', 'J6T', 'J6V',\n",
              "        'J6W', 'J6X', 'J6Y', 'J6Z', 'J7A', 'J7B', 'J7C', 'J7E', 'J7G',\n",
              "        'J7H', 'J7J', 'J7K', 'J7L', 'J7M', 'J7N', 'J7P', 'J7R', 'J7T',\n",
              "        'J7V', 'J7W', 'J7X', 'J7Y', 'J7Z', 'J8A', 'J8B', 'J8C', 'J8E',\n",
              "        'J8H', 'J8M', 'J8N', 'J8P', 'J8R', 'J8T', 'J9H', 'J9P', 'J9T',\n",
              "        'L7E', 'N9A', 'V6X'], dtype=object),\n",
              " array([  2015,   2028,   4037,   6013,  10005,  10043,  11005,  12057,\n",
              "         12072,  15013,  18015,  18050,  19037,  20015,  21025,  21030,\n",
              "         21035,  22005,  22040,  23027,  25213,  26030,  28053,  29005,\n",
              "         29073,  31084,  32058,  34025,  36033,  37067,  38010,  39062,\n",
              "         40005,  40017,  41060,  42040,  42088,  42098,  43027,  44071,\n",
              "         46005,  46010,  46058,  46078,  46080,  46090,  46100,  46112,\n",
              "         47017,  47035,  47040,  48038,  49058,  50072,  50113,  51015,\n",
              "         51065,  52007,  52035,  52095,  53010,  53040,  53052,  54008,\n",
              "         54017,  54025,  54048,  54115,  54125,  55008,  55037,  55048,\n",
              "         55057,  55065,  56023,  56060,  56065,  56083,  57005,  57010,\n",
              "         57020,  57025,  57030,  57033,  57035,  57040,  57045,  57050,\n",
              "         57057,  57068,  58007,  58012,  58033,  58037,  58227,  59010,\n",
              "         59015,  59020,  59025,  59035,  60005,  60013,  60020,  60028,\n",
              "         60037,  61013,  61025,  61027,  61030,  61035,  61040,  62007,\n",
              "         62015,  62020,  62025,  62037,  62047,  62055,  62060,  62070,\n",
              "         62080,  62085,  63013,  63035,  63048,  63055,  63060,  64008,\n",
              "         64015,  65005,  65100,  65101,  65102,  65103,  65104,  65105,\n",
              "         65106,  65107,  65108,  65109,  65110,  65111,  65112,  65113,\n",
              "         66007,  66023,  66032,  66047,  66058,  66062,  66072,  66087,\n",
              "         66097,  66102,  66107,  66112,  66117,  66127,  66142,  66200,\n",
              "         66201,  66202,  66203,  66204,  66205,  66206,  66207,  66208,\n",
              "         66209,  66210,  66211,  66212,  66213,  66214,  66215,  66216,\n",
              "         66217,  66218,  67005,  67010,  67015,  67020,  67025,  67030,\n",
              "         67035,  67040,  67045,  67050,  67055,  68005,  68015,  68020,\n",
              "         68025,  68030,  68040,  68045,  68050,  68055,  69010,  69055,\n",
              "         69070,  70005,  70012,  70022,  70052,  71005,  71020,  71025,\n",
              "         71033,  71040,  71050,  71055,  71060,  71065,  71070,  71075,\n",
              "         71083,  71095,  71100,  71105,  71110,  71115,  71133,  71140,\n",
              "         72005,  72010,  72015,  72020,  72025,  72032,  72043,  73005,\n",
              "         73010,  73015,  73020,  73025,  73030,  73035,  74005,  75005,\n",
              "         75017,  75028,  75040,  75045,  76020,  77011,  77022,  77030,\n",
              "         77035,  77043,  77050,  77065,  78005,  78010,  78015,  78032,\n",
              "         78102,  79037,  79110,  80115,  81017,  82010,  82015,  84015,\n",
              "         85050,  88055,  89008,  89015,  92022,  93060,  94068,  94210,\n",
              "         94245,  96020,  99035,  99140, 100002, 100003, 999004]),\n",
              " array(['Autre', 'Femme', 'Homme'], dtype=object),\n",
              " array(['Appels', 'Courriels', 'Entrevues / Office interviews',\n",
              "        'Lettres - Fax / Letters - Fax'], dtype=object)]"
            ]
          },
          "metadata": {
            "tags": []
          },
          "execution_count": 63
        }
      ]
    },
    {
      "cell_type": "code",
      "metadata": {
        "id": "HFE3o96zCiC7"
      },
      "source": [
        "X = enc.transform(categorical_features)"
      ],
      "execution_count": 64,
      "outputs": []
    },
    {
      "cell_type": "code",
      "metadata": {
        "id": "h23Fo5yyDDWC"
      },
      "source": [
        "from scipy.sparse import hstack"
      ],
      "execution_count": 65,
      "outputs": []
    },
    {
      "cell_type": "code",
      "metadata": {
        "id": "dwrECWTcDsun",
        "outputId": "a4738222-be29-4ccb-b4d2-ad938585754a",
        "colab": {
          "base_uri": "https://localhost:8080/"
        }
      },
      "source": [
        "# features['Âge'].values"
      ],
      "execution_count": null,
      "outputs": [
        {
          "output_type": "execute_result",
          "data": {
            "text/plain": [
              "array([35, 40, 50, ...,  2, 85,  4])"
            ]
          },
          "metadata": {
            "tags": []
          },
          "execution_count": 136
        }
      ]
    },
    {
      "cell_type": "code",
      "metadata": {
        "id": "7r2IHbF4Dahk",
        "outputId": "ea239ce1-d924-4f9e-a63d-e6839ceda815",
        "colab": {
          "base_uri": "https://localhost:8080/",
          "height": 306
        }
      },
      "source": [
        "# hstack(X, features['Âge'].values)"
      ],
      "execution_count": null,
      "outputs": [
        {
          "output_type": "error",
          "ename": "ValueError",
          "evalue": "ignored",
          "traceback": [
            "\u001b[0;31m---------------------------------------------------------------------------\u001b[0m",
            "\u001b[0;31mValueError\u001b[0m                                Traceback (most recent call last)",
            "\u001b[0;32m<ipython-input-134-af485cdcc4ad>\u001b[0m in \u001b[0;36m<module>\u001b[0;34m()\u001b[0m\n\u001b[0;32m----> 1\u001b[0;31m \u001b[0mhstack\u001b[0m\u001b[0;34m(\u001b[0m\u001b[0mX\u001b[0m\u001b[0;34m,\u001b[0m \u001b[0mfeatures\u001b[0m\u001b[0;34m[\u001b[0m\u001b[0;34m'Âge'\u001b[0m\u001b[0;34m]\u001b[0m\u001b[0;34m.\u001b[0m\u001b[0mvalues\u001b[0m\u001b[0;34m)\u001b[0m\u001b[0;34m\u001b[0m\u001b[0;34m\u001b[0m\u001b[0m\n\u001b[0m",
            "\u001b[0;32m/usr/local/lib/python3.6/dist-packages/scipy/sparse/construct.py\u001b[0m in \u001b[0;36mhstack\u001b[0;34m(blocks, format, dtype)\u001b[0m\n\u001b[1;32m    463\u001b[0m \u001b[0;34m\u001b[0m\u001b[0m\n\u001b[1;32m    464\u001b[0m     \"\"\"\n\u001b[0;32m--> 465\u001b[0;31m     \u001b[0;32mreturn\u001b[0m \u001b[0mbmat\u001b[0m\u001b[0;34m(\u001b[0m\u001b[0;34m[\u001b[0m\u001b[0mblocks\u001b[0m\u001b[0;34m]\u001b[0m\u001b[0;34m,\u001b[0m \u001b[0mformat\u001b[0m\u001b[0;34m=\u001b[0m\u001b[0mformat\u001b[0m\u001b[0;34m,\u001b[0m \u001b[0mdtype\u001b[0m\u001b[0;34m=\u001b[0m\u001b[0mdtype\u001b[0m\u001b[0;34m)\u001b[0m\u001b[0;34m\u001b[0m\u001b[0;34m\u001b[0m\u001b[0m\n\u001b[0m\u001b[1;32m    466\u001b[0m \u001b[0;34m\u001b[0m\u001b[0m\n\u001b[1;32m    467\u001b[0m \u001b[0;34m\u001b[0m\u001b[0m\n",
            "\u001b[0;32m/usr/local/lib/python3.6/dist-packages/scipy/sparse/construct.py\u001b[0m in \u001b[0;36mbmat\u001b[0;34m(blocks, format, dtype)\u001b[0m\n\u001b[1;32m    546\u001b[0m \u001b[0;34m\u001b[0m\u001b[0m\n\u001b[1;32m    547\u001b[0m     \u001b[0;32mif\u001b[0m \u001b[0mblocks\u001b[0m\u001b[0;34m.\u001b[0m\u001b[0mndim\u001b[0m \u001b[0;34m!=\u001b[0m \u001b[0;36m2\u001b[0m\u001b[0;34m:\u001b[0m\u001b[0;34m\u001b[0m\u001b[0;34m\u001b[0m\u001b[0m\n\u001b[0;32m--> 548\u001b[0;31m         \u001b[0;32mraise\u001b[0m \u001b[0mValueError\u001b[0m\u001b[0;34m(\u001b[0m\u001b[0;34m'blocks must be 2-D'\u001b[0m\u001b[0;34m)\u001b[0m\u001b[0;34m\u001b[0m\u001b[0;34m\u001b[0m\u001b[0m\n\u001b[0m\u001b[1;32m    549\u001b[0m \u001b[0;34m\u001b[0m\u001b[0m\n\u001b[1;32m    550\u001b[0m     \u001b[0mM\u001b[0m\u001b[0;34m,\u001b[0m\u001b[0mN\u001b[0m \u001b[0;34m=\u001b[0m \u001b[0mblocks\u001b[0m\u001b[0;34m.\u001b[0m\u001b[0mshape\u001b[0m\u001b[0;34m\u001b[0m\u001b[0;34m\u001b[0m\u001b[0m\n",
            "\u001b[0;31mValueError\u001b[0m: blocks must be 2-D"
          ]
        }
      ]
    },
    {
      "cell_type": "markdown",
      "metadata": {
        "id": "g1rT1pncykwy"
      },
      "source": [
        "# Model Training\n"
      ]
    },
    {
      "cell_type": "code",
      "metadata": {
        "id": "5VGVhsdJyF4a"
      },
      "source": [
        "from sklearn.model_selection import train_test_split\n",
        "X_train, X_test, y_train, y_test = train_test_split(X, y, test_size=0.33, random_state=42)"
      ],
      "execution_count": 66,
      "outputs": []
    },
    {
      "cell_type": "code",
      "metadata": {
        "id": "xErmtmi3EC4e"
      },
      "source": [
        "from sklearn.neighbors import KNeighborsClassifier"
      ],
      "execution_count": 67,
      "outputs": []
    },
    {
      "cell_type": "code",
      "metadata": {
        "id": "jtPrj_qjyNMT"
      },
      "source": [
        "kc = KNeighborsClassifier()\n"
      ],
      "execution_count": 68,
      "outputs": []
    },
    {
      "cell_type": "code",
      "metadata": {
        "id": "CjIc8KqZEL9g",
        "outputId": "9893110f-1c5a-4d4f-ac11-04740c366aed",
        "colab": {
          "base_uri": "https://localhost:8080/"
        }
      },
      "source": [
        "kc.fit(X_train, y_train)\n"
      ],
      "execution_count": 69,
      "outputs": [
        {
          "output_type": "execute_result",
          "data": {
            "text/plain": [
              "KNeighborsClassifier(algorithm='auto', leaf_size=30, metric='minkowski',\n",
              "                     metric_params=None, n_jobs=None, n_neighbors=5, p=2,\n",
              "                     weights='uniform')"
            ]
          },
          "metadata": {
            "tags": []
          },
          "execution_count": 69
        }
      ]
    },
    {
      "cell_type": "code",
      "metadata": {
        "id": "uQT5LsUBEPsW"
      },
      "source": [
        "kc_predictions = kc.predict(X_test)"
      ],
      "execution_count": null,
      "outputs": []
    },
    {
      "cell_type": "code",
      "metadata": {
        "id": "P3cbotmbF-T7"
      },
      "source": [
        "from sklearn.metrics import mean_absolute_error\n",
        "mae = mean_absolute_error(y_test, kc_predictions)\n",
        "print(f'Mean Absolute Error: {mae} Calls')"
      ],
      "execution_count": null,
      "outputs": []
    },
    {
      "cell_type": "code",
      "metadata": {
        "id": "5ukfdW4NGjH3"
      },
      "source": [
        "from sklearn.metrics import     "
      ],
      "execution_count": null,
      "outputs": []
    },
    {
      "cell_type": "code",
      "metadata": {
        "id": "MGBcawzUvHne"
      },
      "source": [
        "import matplotlib.pyplot as plt"
      ],
      "execution_count": null,
      "outputs": []
    },
    {
      "cell_type": "code",
      "metadata": {
        "id": "kpUnoAASyjim"
      },
      "source": [
        "plt.scatter(y_test, gb_predictions)\n",
        "plt.xlabel(\"True\")\n",
        "plt.ylabel(\"Predicted\")"
      ],
      "execution_count": null,
      "outputs": []
    }
  ]
}